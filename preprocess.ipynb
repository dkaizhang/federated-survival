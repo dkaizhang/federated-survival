{
 "metadata": {
  "language_info": {
   "codemirror_mode": {
    "name": "ipython",
    "version": 3
   },
   "file_extension": ".py",
   "mimetype": "text/x-python",
   "name": "python",
   "nbconvert_exporter": "python",
   "pygments_lexer": "ipython3",
   "version": "3.8.7-final"
  },
  "orig_nbformat": 2,
  "kernelspec": {
   "name": "python3",
   "display_name": "Python 3.8.7 64-bit ('flenv')",
   "metadata": {
    "interpreter": {
     "hash": "f1c13921e8e375de9335a0ccf3b3c47f8dbb15e8689cc78791955ed1115cd503"
    }
   }
  }
 },
 "nbformat": 4,
 "nbformat_minor": 2,
 "cells": [
  {
   "cell_type": "code",
   "execution_count": 1,
   "metadata": {},
   "outputs": [],
   "source": [
    "import numpy as np\n",
    "import pandas as pd\n",
    "\n",
    "from sklearn.preprocessing import MinMaxScaler\n"
   ]
  },
  {
   "cell_type": "code",
   "execution_count": 2,
   "metadata": {},
   "outputs": [
    {
     "output_type": "stream",
     "name": "stdout",
     "text": [
      "44085\n"
     ]
    },
    {
     "output_type": "execute_result",
     "data": {
      "text/plain": [
       "  SITE_ICD10_O2_3CHAR  MORPH_ICD10_O2  BEHAVIOUR_ICD10_O2 STAGE_BEST GRADE  \\\n",
       "0                 C71            9440                   3          U    G4   \n",
       "1                 C71            9440                   3          U    G4   \n",
       "2                 C71            9440                   3          U    G4   \n",
       "3                 C71            9401                   3          U    G4   \n",
       "4                 C71            9440                   3          U    GX   \n",
       "\n",
       "   AGE  SEX CREG_CODE LATERALITY  QUINTILE_2015  ...   SACT REGIMEN_COUNT  \\\n",
       "0   69    1     L0401          R              4  ...  False             0   \n",
       "1   88    1     L1001          R              1  ...   True             5   \n",
       "2   88    1     L1001          R              1  ...   True             5   \n",
       "3   79    1     L1001          R              2  ...  False             0   \n",
       "4   79    2     L1001          R              2  ...  False             0   \n",
       "\n",
       "  CLINICAL_TRIAL_INDICATOR  CHEMO_RADIATION_INDICATOR  NORMALISED_HEIGHT  \\\n",
       "0                    False                      False              0.000   \n",
       "1                    False                      False              1.755   \n",
       "2                    False                      False              1.755   \n",
       "3                    False                      False              0.000   \n",
       "4                    False                      False              0.000   \n",
       "\n",
       "   NORMALISED_WEIGHT  HIGHEST_CYCLE  DAYS_TO_FIRST_SURGERY  \\\n",
       "0               0.00              0                      0   \n",
       "1              71.75              3                      0   \n",
       "2              71.75              3                      0   \n",
       "3               0.00              0                      0   \n",
       "4               0.00              0                     18   \n",
       "\n",
       "   DAYS_SINCE_DIAGNOSIS  DAYS_TO_FIRST_REGIMEN  \n",
       "0                   751                      0  \n",
       "1                    17                     43  \n",
       "2                    17                     43  \n",
       "3                   252                      0  \n",
       "4                   425                      0  \n",
       "\n",
       "[5 rows x 23 columns]"
      ],
      "text/html": "<div>\n<style scoped>\n    .dataframe tbody tr th:only-of-type {\n        vertical-align: middle;\n    }\n\n    .dataframe tbody tr th {\n        vertical-align: top;\n    }\n\n    .dataframe thead th {\n        text-align: right;\n    }\n</style>\n<table border=\"1\" class=\"dataframe\">\n  <thead>\n    <tr style=\"text-align: right;\">\n      <th></th>\n      <th>SITE_ICD10_O2_3CHAR</th>\n      <th>MORPH_ICD10_O2</th>\n      <th>BEHAVIOUR_ICD10_O2</th>\n      <th>STAGE_BEST</th>\n      <th>GRADE</th>\n      <th>AGE</th>\n      <th>SEX</th>\n      <th>CREG_CODE</th>\n      <th>LATERALITY</th>\n      <th>QUINTILE_2015</th>\n      <th>...</th>\n      <th>SACT</th>\n      <th>REGIMEN_COUNT</th>\n      <th>CLINICAL_TRIAL_INDICATOR</th>\n      <th>CHEMO_RADIATION_INDICATOR</th>\n      <th>NORMALISED_HEIGHT</th>\n      <th>NORMALISED_WEIGHT</th>\n      <th>HIGHEST_CYCLE</th>\n      <th>DAYS_TO_FIRST_SURGERY</th>\n      <th>DAYS_SINCE_DIAGNOSIS</th>\n      <th>DAYS_TO_FIRST_REGIMEN</th>\n    </tr>\n  </thead>\n  <tbody>\n    <tr>\n      <th>0</th>\n      <td>C71</td>\n      <td>9440</td>\n      <td>3</td>\n      <td>U</td>\n      <td>G4</td>\n      <td>69</td>\n      <td>1</td>\n      <td>L0401</td>\n      <td>R</td>\n      <td>4</td>\n      <td>...</td>\n      <td>False</td>\n      <td>0</td>\n      <td>False</td>\n      <td>False</td>\n      <td>0.000</td>\n      <td>0.00</td>\n      <td>0</td>\n      <td>0</td>\n      <td>751</td>\n      <td>0</td>\n    </tr>\n    <tr>\n      <th>1</th>\n      <td>C71</td>\n      <td>9440</td>\n      <td>3</td>\n      <td>U</td>\n      <td>G4</td>\n      <td>88</td>\n      <td>1</td>\n      <td>L1001</td>\n      <td>R</td>\n      <td>1</td>\n      <td>...</td>\n      <td>True</td>\n      <td>5</td>\n      <td>False</td>\n      <td>False</td>\n      <td>1.755</td>\n      <td>71.75</td>\n      <td>3</td>\n      <td>0</td>\n      <td>17</td>\n      <td>43</td>\n    </tr>\n    <tr>\n      <th>2</th>\n      <td>C71</td>\n      <td>9440</td>\n      <td>3</td>\n      <td>U</td>\n      <td>G4</td>\n      <td>88</td>\n      <td>1</td>\n      <td>L1001</td>\n      <td>R</td>\n      <td>1</td>\n      <td>...</td>\n      <td>True</td>\n      <td>5</td>\n      <td>False</td>\n      <td>False</td>\n      <td>1.755</td>\n      <td>71.75</td>\n      <td>3</td>\n      <td>0</td>\n      <td>17</td>\n      <td>43</td>\n    </tr>\n    <tr>\n      <th>3</th>\n      <td>C71</td>\n      <td>9401</td>\n      <td>3</td>\n      <td>U</td>\n      <td>G4</td>\n      <td>79</td>\n      <td>1</td>\n      <td>L1001</td>\n      <td>R</td>\n      <td>2</td>\n      <td>...</td>\n      <td>False</td>\n      <td>0</td>\n      <td>False</td>\n      <td>False</td>\n      <td>0.000</td>\n      <td>0.00</td>\n      <td>0</td>\n      <td>0</td>\n      <td>252</td>\n      <td>0</td>\n    </tr>\n    <tr>\n      <th>4</th>\n      <td>C71</td>\n      <td>9440</td>\n      <td>3</td>\n      <td>U</td>\n      <td>GX</td>\n      <td>79</td>\n      <td>2</td>\n      <td>L1001</td>\n      <td>R</td>\n      <td>2</td>\n      <td>...</td>\n      <td>False</td>\n      <td>0</td>\n      <td>False</td>\n      <td>False</td>\n      <td>0.000</td>\n      <td>0.00</td>\n      <td>0</td>\n      <td>18</td>\n      <td>425</td>\n      <td>0</td>\n    </tr>\n  </tbody>\n</table>\n<p>5 rows × 23 columns</p>\n</div>"
     },
     "metadata": {},
     "execution_count": 2
    }
   ],
   "source": [
    "path = './Data/bt-impute.csv'\n",
    "\n",
    "df = pd.read_csv(path)\n",
    "print(len(df))\n",
    "df.head()"
   ]
  },
  {
   "cell_type": "code",
   "execution_count": 3,
   "metadata": {},
   "outputs": [
    {
     "output_type": "execute_result",
     "data": {
      "text/plain": [
       "C71    23010\n",
       "D32    11323\n",
       "D33     4542\n",
       "D35     4111\n",
       "C72      727\n",
       "C70      297\n",
       "Name: SITE_ICD10_O2_3CHAR, dtype: int64"
      ]
     },
     "metadata": {},
     "execution_count": 3
    }
   ],
   "source": [
    "df = df.drop(df[(df.SITE_ICD10_O2_3CHAR != 'C70') & \n",
    "                    (df.SITE_ICD10_O2_3CHAR != 'C71') & \n",
    "                    (df.SITE_ICD10_O2_3CHAR != 'C72') & \n",
    "                    (df.SITE_ICD10_O2_3CHAR != 'D32') &\n",
    "                    (df.SITE_ICD10_O2_3CHAR != 'D33') &\n",
    "                    (df.SITE_ICD10_O2_3CHAR != 'D35')].index)\n",
    "df.SITE_ICD10_O2_3CHAR.value_counts()"
   ]
  },
  {
   "cell_type": "code",
   "execution_count": 4,
   "metadata": {},
   "outputs": [
    {
     "output_type": "execute_result",
     "data": {
      "text/plain": [
       "   MORPH_ICD10_O2  BEHAVIOUR_ICD10_O2 STAGE_BEST GRADE  AGE  SEX CREG_CODE  \\\n",
       "0            9440                   3          U    G4   69    1     L0401   \n",
       "1            9440                   3          U    G4   88    1     L1001   \n",
       "2            9440                   3          U    G4   88    1     L1001   \n",
       "3            9401                   3          U    G4   79    1     L1001   \n",
       "4            9440                   3          U    GX   79    2     L1001   \n",
       "\n",
       "  LATERALITY  QUINTILE_2015  TUMOUR_COUNT  ... HIGHEST_CYCLE  \\\n",
       "0          R              4             2  ...             0   \n",
       "1          R              1             2  ...             3   \n",
       "2          R              1             2  ...             3   \n",
       "3          R              2             2  ...             0   \n",
       "4          R              2             2  ...             0   \n",
       "\n",
       "  DAYS_TO_FIRST_SURGERY  DAYS_SINCE_DIAGNOSIS  DAYS_TO_FIRST_REGIMEN  \\\n",
       "0                     0                   751                      0   \n",
       "1                     0                    17                     43   \n",
       "2                     0                    17                     43   \n",
       "3                     0                   252                      0   \n",
       "4                    18                   425                      0   \n",
       "\n",
       "   SITE_C70  SITE_C71  SITE_C72  SITE_D32  SITE_D33  SITE_D35  \n",
       "0         0         1         0         0         0         0  \n",
       "1         0         1         0         0         0         0  \n",
       "2         0         1         0         0         0         0  \n",
       "3         0         1         0         0         0         0  \n",
       "4         0         1         0         0         0         0  \n",
       "\n",
       "[5 rows x 28 columns]"
      ],
      "text/html": "<div>\n<style scoped>\n    .dataframe tbody tr th:only-of-type {\n        vertical-align: middle;\n    }\n\n    .dataframe tbody tr th {\n        vertical-align: top;\n    }\n\n    .dataframe thead th {\n        text-align: right;\n    }\n</style>\n<table border=\"1\" class=\"dataframe\">\n  <thead>\n    <tr style=\"text-align: right;\">\n      <th></th>\n      <th>MORPH_ICD10_O2</th>\n      <th>BEHAVIOUR_ICD10_O2</th>\n      <th>STAGE_BEST</th>\n      <th>GRADE</th>\n      <th>AGE</th>\n      <th>SEX</th>\n      <th>CREG_CODE</th>\n      <th>LATERALITY</th>\n      <th>QUINTILE_2015</th>\n      <th>TUMOUR_COUNT</th>\n      <th>...</th>\n      <th>HIGHEST_CYCLE</th>\n      <th>DAYS_TO_FIRST_SURGERY</th>\n      <th>DAYS_SINCE_DIAGNOSIS</th>\n      <th>DAYS_TO_FIRST_REGIMEN</th>\n      <th>SITE_C70</th>\n      <th>SITE_C71</th>\n      <th>SITE_C72</th>\n      <th>SITE_D32</th>\n      <th>SITE_D33</th>\n      <th>SITE_D35</th>\n    </tr>\n  </thead>\n  <tbody>\n    <tr>\n      <th>0</th>\n      <td>9440</td>\n      <td>3</td>\n      <td>U</td>\n      <td>G4</td>\n      <td>69</td>\n      <td>1</td>\n      <td>L0401</td>\n      <td>R</td>\n      <td>4</td>\n      <td>2</td>\n      <td>...</td>\n      <td>0</td>\n      <td>0</td>\n      <td>751</td>\n      <td>0</td>\n      <td>0</td>\n      <td>1</td>\n      <td>0</td>\n      <td>0</td>\n      <td>0</td>\n      <td>0</td>\n    </tr>\n    <tr>\n      <th>1</th>\n      <td>9440</td>\n      <td>3</td>\n      <td>U</td>\n      <td>G4</td>\n      <td>88</td>\n      <td>1</td>\n      <td>L1001</td>\n      <td>R</td>\n      <td>1</td>\n      <td>2</td>\n      <td>...</td>\n      <td>3</td>\n      <td>0</td>\n      <td>17</td>\n      <td>43</td>\n      <td>0</td>\n      <td>1</td>\n      <td>0</td>\n      <td>0</td>\n      <td>0</td>\n      <td>0</td>\n    </tr>\n    <tr>\n      <th>2</th>\n      <td>9440</td>\n      <td>3</td>\n      <td>U</td>\n      <td>G4</td>\n      <td>88</td>\n      <td>1</td>\n      <td>L1001</td>\n      <td>R</td>\n      <td>1</td>\n      <td>2</td>\n      <td>...</td>\n      <td>3</td>\n      <td>0</td>\n      <td>17</td>\n      <td>43</td>\n      <td>0</td>\n      <td>1</td>\n      <td>0</td>\n      <td>0</td>\n      <td>0</td>\n      <td>0</td>\n    </tr>\n    <tr>\n      <th>3</th>\n      <td>9401</td>\n      <td>3</td>\n      <td>U</td>\n      <td>G4</td>\n      <td>79</td>\n      <td>1</td>\n      <td>L1001</td>\n      <td>R</td>\n      <td>2</td>\n      <td>2</td>\n      <td>...</td>\n      <td>0</td>\n      <td>0</td>\n      <td>252</td>\n      <td>0</td>\n      <td>0</td>\n      <td>1</td>\n      <td>0</td>\n      <td>0</td>\n      <td>0</td>\n      <td>0</td>\n    </tr>\n    <tr>\n      <th>4</th>\n      <td>9440</td>\n      <td>3</td>\n      <td>U</td>\n      <td>GX</td>\n      <td>79</td>\n      <td>2</td>\n      <td>L1001</td>\n      <td>R</td>\n      <td>2</td>\n      <td>2</td>\n      <td>...</td>\n      <td>0</td>\n      <td>18</td>\n      <td>425</td>\n      <td>0</td>\n      <td>0</td>\n      <td>1</td>\n      <td>0</td>\n      <td>0</td>\n      <td>0</td>\n      <td>0</td>\n    </tr>\n  </tbody>\n</table>\n<p>5 rows × 28 columns</p>\n</div>"
     },
     "metadata": {},
     "execution_count": 4
    }
   ],
   "source": [
    "site_dummies = pd.get_dummies(df.SITE_ICD10_O2_3CHAR, prefix='SITE')\n",
    "df = df.drop(columns = 'SITE_ICD10_O2_3CHAR')\n",
    "df = pd.concat([df, site_dummies], axis=1)\n",
    "df.head()\n"
   ]
  },
  {
   "cell_type": "code",
   "execution_count": 5,
   "metadata": {},
   "outputs": [],
   "source": [
    "df.MORPH_ICD10_O2.value_counts().to_csv('./Data/morph.csv', index=True)\n",
    "# too little variations\n",
    "df = df.drop(columns='MORPH_ICD10_O2')"
   ]
  },
  {
   "cell_type": "code",
   "execution_count": 6,
   "metadata": {},
   "outputs": [
    {
     "output_type": "execute_result",
     "data": {
      "text/plain": [
       "  STAGE_BEST GRADE  AGE  SEX CREG_CODE LATERALITY  QUINTILE_2015  \\\n",
       "0          U    G4   69    1     L0401          R              4   \n",
       "1          U    G4   88    1     L1001          R              1   \n",
       "2          U    G4   88    1     L1001          R              1   \n",
       "3          U    G4   79    1     L1001          R              2   \n",
       "4          U    GX   79    2     L1001          R              2   \n",
       "\n",
       "   TUMOUR_COUNT ETHNICITY NEWVITALSTATUS  ...  DAYS_TO_FIRST_SURGERY  \\\n",
       "0             2         W              A  ...                      0   \n",
       "1             2         W              D  ...                      0   \n",
       "2             2         W              D  ...                      0   \n",
       "3             2         W              D  ...                      0   \n",
       "4             2         U              D  ...                     18   \n",
       "\n",
       "   DAYS_SINCE_DIAGNOSIS  DAYS_TO_FIRST_REGIMEN  SITE_C70  SITE_C71  SITE_C72  \\\n",
       "0                   751                      0         0         1         0   \n",
       "1                    17                     43         0         1         0   \n",
       "2                    17                     43         0         1         0   \n",
       "3                   252                      0         0         1         0   \n",
       "4                   425                      0         0         1         0   \n",
       "\n",
       "   SITE_D32  SITE_D33  SITE_D35  BENIGN_BEHAVIOUR  \n",
       "0         0         0         0                 0  \n",
       "1         0         0         0                 0  \n",
       "2         0         0         0                 0  \n",
       "3         0         0         0                 0  \n",
       "4         0         0         0                 0  \n",
       "\n",
       "[5 rows x 27 columns]"
      ],
      "text/html": "<div>\n<style scoped>\n    .dataframe tbody tr th:only-of-type {\n        vertical-align: middle;\n    }\n\n    .dataframe tbody tr th {\n        vertical-align: top;\n    }\n\n    .dataframe thead th {\n        text-align: right;\n    }\n</style>\n<table border=\"1\" class=\"dataframe\">\n  <thead>\n    <tr style=\"text-align: right;\">\n      <th></th>\n      <th>STAGE_BEST</th>\n      <th>GRADE</th>\n      <th>AGE</th>\n      <th>SEX</th>\n      <th>CREG_CODE</th>\n      <th>LATERALITY</th>\n      <th>QUINTILE_2015</th>\n      <th>TUMOUR_COUNT</th>\n      <th>ETHNICITY</th>\n      <th>NEWVITALSTATUS</th>\n      <th>...</th>\n      <th>DAYS_TO_FIRST_SURGERY</th>\n      <th>DAYS_SINCE_DIAGNOSIS</th>\n      <th>DAYS_TO_FIRST_REGIMEN</th>\n      <th>SITE_C70</th>\n      <th>SITE_C71</th>\n      <th>SITE_C72</th>\n      <th>SITE_D32</th>\n      <th>SITE_D33</th>\n      <th>SITE_D35</th>\n      <th>BENIGN_BEHAVIOUR</th>\n    </tr>\n  </thead>\n  <tbody>\n    <tr>\n      <th>0</th>\n      <td>U</td>\n      <td>G4</td>\n      <td>69</td>\n      <td>1</td>\n      <td>L0401</td>\n      <td>R</td>\n      <td>4</td>\n      <td>2</td>\n      <td>W</td>\n      <td>A</td>\n      <td>...</td>\n      <td>0</td>\n      <td>751</td>\n      <td>0</td>\n      <td>0</td>\n      <td>1</td>\n      <td>0</td>\n      <td>0</td>\n      <td>0</td>\n      <td>0</td>\n      <td>0</td>\n    </tr>\n    <tr>\n      <th>1</th>\n      <td>U</td>\n      <td>G4</td>\n      <td>88</td>\n      <td>1</td>\n      <td>L1001</td>\n      <td>R</td>\n      <td>1</td>\n      <td>2</td>\n      <td>W</td>\n      <td>D</td>\n      <td>...</td>\n      <td>0</td>\n      <td>17</td>\n      <td>43</td>\n      <td>0</td>\n      <td>1</td>\n      <td>0</td>\n      <td>0</td>\n      <td>0</td>\n      <td>0</td>\n      <td>0</td>\n    </tr>\n    <tr>\n      <th>2</th>\n      <td>U</td>\n      <td>G4</td>\n      <td>88</td>\n      <td>1</td>\n      <td>L1001</td>\n      <td>R</td>\n      <td>1</td>\n      <td>2</td>\n      <td>W</td>\n      <td>D</td>\n      <td>...</td>\n      <td>0</td>\n      <td>17</td>\n      <td>43</td>\n      <td>0</td>\n      <td>1</td>\n      <td>0</td>\n      <td>0</td>\n      <td>0</td>\n      <td>0</td>\n      <td>0</td>\n    </tr>\n    <tr>\n      <th>3</th>\n      <td>U</td>\n      <td>G4</td>\n      <td>79</td>\n      <td>1</td>\n      <td>L1001</td>\n      <td>R</td>\n      <td>2</td>\n      <td>2</td>\n      <td>W</td>\n      <td>D</td>\n      <td>...</td>\n      <td>0</td>\n      <td>252</td>\n      <td>0</td>\n      <td>0</td>\n      <td>1</td>\n      <td>0</td>\n      <td>0</td>\n      <td>0</td>\n      <td>0</td>\n      <td>0</td>\n    </tr>\n    <tr>\n      <th>4</th>\n      <td>U</td>\n      <td>GX</td>\n      <td>79</td>\n      <td>2</td>\n      <td>L1001</td>\n      <td>R</td>\n      <td>2</td>\n      <td>2</td>\n      <td>U</td>\n      <td>D</td>\n      <td>...</td>\n      <td>18</td>\n      <td>425</td>\n      <td>0</td>\n      <td>0</td>\n      <td>1</td>\n      <td>0</td>\n      <td>0</td>\n      <td>0</td>\n      <td>0</td>\n      <td>0</td>\n    </tr>\n  </tbody>\n</table>\n<p>5 rows × 27 columns</p>\n</div>"
     },
     "metadata": {},
     "execution_count": 6
    }
   ],
   "source": [
    "df.BEHAVIOUR_ICD10_O2 = df.BEHAVIOUR_ICD10_O2.replace({2: 0, 5: 3, 6: 3, 9: 3})\n",
    "df = df.drop(df[df.BEHAVIOUR_ICD10_O2 == 1].index)\n",
    "df.BEHAVIOUR_ICD10_O2.value_counts()\n",
    "df['BENIGN_BEHAVIOUR'] = (df.BEHAVIOUR_ICD10_O2 == 0).astype(int)\n",
    "df = df.drop(columns= 'BEHAVIOUR_ICD10_O2')\n",
    "df.head()"
   ]
  },
  {
   "cell_type": "code",
   "execution_count": 7,
   "metadata": {},
   "outputs": [
    {
     "output_type": "execute_result",
     "data": {
      "text/plain": [
       "  GRADE  AGE  SEX CREG_CODE LATERALITY  QUINTILE_2015  TUMOUR_COUNT ETHNICITY  \\\n",
       "0    G4   69    1     L0401          R              4             2         W   \n",
       "1    G4   88    1     L1001          R              1             2         W   \n",
       "2    G4   88    1     L1001          R              1             2         W   \n",
       "3    G4   79    1     L1001          R              2             2         W   \n",
       "4    GX   79    2     L1001          R              2             2         U   \n",
       "\n",
       "  NEWVITALSTATUS   SACT  ...  DAYS_TO_FIRST_SURGERY  DAYS_SINCE_DIAGNOSIS  \\\n",
       "0              A  False  ...                      0                   751   \n",
       "1              D   True  ...                      0                    17   \n",
       "2              D   True  ...                      0                    17   \n",
       "3              D  False  ...                      0                   252   \n",
       "4              D  False  ...                     18                   425   \n",
       "\n",
       "   DAYS_TO_FIRST_REGIMEN  SITE_C70  SITE_C71  SITE_C72  SITE_D32  SITE_D33  \\\n",
       "0                      0         0         1         0         0         0   \n",
       "1                     43         0         1         0         0         0   \n",
       "2                     43         0         1         0         0         0   \n",
       "3                      0         0         1         0         0         0   \n",
       "4                      0         0         1         0         0         0   \n",
       "\n",
       "   SITE_D35  BENIGN_BEHAVIOUR  \n",
       "0         0                 0  \n",
       "1         0                 0  \n",
       "2         0                 0  \n",
       "3         0                 0  \n",
       "4         0                 0  \n",
       "\n",
       "[5 rows x 26 columns]"
      ],
      "text/html": "<div>\n<style scoped>\n    .dataframe tbody tr th:only-of-type {\n        vertical-align: middle;\n    }\n\n    .dataframe tbody tr th {\n        vertical-align: top;\n    }\n\n    .dataframe thead th {\n        text-align: right;\n    }\n</style>\n<table border=\"1\" class=\"dataframe\">\n  <thead>\n    <tr style=\"text-align: right;\">\n      <th></th>\n      <th>GRADE</th>\n      <th>AGE</th>\n      <th>SEX</th>\n      <th>CREG_CODE</th>\n      <th>LATERALITY</th>\n      <th>QUINTILE_2015</th>\n      <th>TUMOUR_COUNT</th>\n      <th>ETHNICITY</th>\n      <th>NEWVITALSTATUS</th>\n      <th>SACT</th>\n      <th>...</th>\n      <th>DAYS_TO_FIRST_SURGERY</th>\n      <th>DAYS_SINCE_DIAGNOSIS</th>\n      <th>DAYS_TO_FIRST_REGIMEN</th>\n      <th>SITE_C70</th>\n      <th>SITE_C71</th>\n      <th>SITE_C72</th>\n      <th>SITE_D32</th>\n      <th>SITE_D33</th>\n      <th>SITE_D35</th>\n      <th>BENIGN_BEHAVIOUR</th>\n    </tr>\n  </thead>\n  <tbody>\n    <tr>\n      <th>0</th>\n      <td>G4</td>\n      <td>69</td>\n      <td>1</td>\n      <td>L0401</td>\n      <td>R</td>\n      <td>4</td>\n      <td>2</td>\n      <td>W</td>\n      <td>A</td>\n      <td>False</td>\n      <td>...</td>\n      <td>0</td>\n      <td>751</td>\n      <td>0</td>\n      <td>0</td>\n      <td>1</td>\n      <td>0</td>\n      <td>0</td>\n      <td>0</td>\n      <td>0</td>\n      <td>0</td>\n    </tr>\n    <tr>\n      <th>1</th>\n      <td>G4</td>\n      <td>88</td>\n      <td>1</td>\n      <td>L1001</td>\n      <td>R</td>\n      <td>1</td>\n      <td>2</td>\n      <td>W</td>\n      <td>D</td>\n      <td>True</td>\n      <td>...</td>\n      <td>0</td>\n      <td>17</td>\n      <td>43</td>\n      <td>0</td>\n      <td>1</td>\n      <td>0</td>\n      <td>0</td>\n      <td>0</td>\n      <td>0</td>\n      <td>0</td>\n    </tr>\n    <tr>\n      <th>2</th>\n      <td>G4</td>\n      <td>88</td>\n      <td>1</td>\n      <td>L1001</td>\n      <td>R</td>\n      <td>1</td>\n      <td>2</td>\n      <td>W</td>\n      <td>D</td>\n      <td>True</td>\n      <td>...</td>\n      <td>0</td>\n      <td>17</td>\n      <td>43</td>\n      <td>0</td>\n      <td>1</td>\n      <td>0</td>\n      <td>0</td>\n      <td>0</td>\n      <td>0</td>\n      <td>0</td>\n    </tr>\n    <tr>\n      <th>3</th>\n      <td>G4</td>\n      <td>79</td>\n      <td>1</td>\n      <td>L1001</td>\n      <td>R</td>\n      <td>2</td>\n      <td>2</td>\n      <td>W</td>\n      <td>D</td>\n      <td>False</td>\n      <td>...</td>\n      <td>0</td>\n      <td>252</td>\n      <td>0</td>\n      <td>0</td>\n      <td>1</td>\n      <td>0</td>\n      <td>0</td>\n      <td>0</td>\n      <td>0</td>\n      <td>0</td>\n    </tr>\n    <tr>\n      <th>4</th>\n      <td>GX</td>\n      <td>79</td>\n      <td>2</td>\n      <td>L1001</td>\n      <td>R</td>\n      <td>2</td>\n      <td>2</td>\n      <td>U</td>\n      <td>D</td>\n      <td>False</td>\n      <td>...</td>\n      <td>18</td>\n      <td>425</td>\n      <td>0</td>\n      <td>0</td>\n      <td>1</td>\n      <td>0</td>\n      <td>0</td>\n      <td>0</td>\n      <td>0</td>\n      <td>0</td>\n    </tr>\n  </tbody>\n</table>\n<p>5 rows × 26 columns</p>\n</div>"
     },
     "metadata": {},
     "execution_count": 7
    }
   ],
   "source": [
    "df = df.drop(columns='STAGE_BEST')\n",
    "df.head()"
   ]
  },
  {
   "cell_type": "code",
   "execution_count": 8,
   "metadata": {},
   "outputs": [
    {
     "output_type": "execute_result",
     "data": {
      "text/plain": [
       "   GRADE  AGE  SEX CREG_CODE LATERALITY  QUINTILE_2015  TUMOUR_COUNT  \\\n",
       "0      4   69    1     L0401          R              4             2   \n",
       "1      4   88    1     L1001          R              1             2   \n",
       "2      4   88    1     L1001          R              1             2   \n",
       "3      4   79    1     L1001          R              2             2   \n",
       "4     -1   79    2     L1001          R              2             2   \n",
       "\n",
       "  ETHNICITY NEWVITALSTATUS   SACT  ...  DAYS_TO_FIRST_SURGERY  \\\n",
       "0         W              A  False  ...                      0   \n",
       "1         W              D   True  ...                      0   \n",
       "2         W              D   True  ...                      0   \n",
       "3         W              D  False  ...                      0   \n",
       "4         U              D  False  ...                     18   \n",
       "\n",
       "   DAYS_SINCE_DIAGNOSIS  DAYS_TO_FIRST_REGIMEN  SITE_C70  SITE_C71  SITE_C72  \\\n",
       "0                   751                      0         0         1         0   \n",
       "1                    17                     43         0         1         0   \n",
       "2                    17                     43         0         1         0   \n",
       "3                   252                      0         0         1         0   \n",
       "4                   425                      0         0         1         0   \n",
       "\n",
       "   SITE_D32  SITE_D33  SITE_D35  BENIGN_BEHAVIOUR  \n",
       "0         0         0         0                 0  \n",
       "1         0         0         0                 0  \n",
       "2         0         0         0                 0  \n",
       "3         0         0         0                 0  \n",
       "4         0         0         0                 0  \n",
       "\n",
       "[5 rows x 26 columns]"
      ],
      "text/html": "<div>\n<style scoped>\n    .dataframe tbody tr th:only-of-type {\n        vertical-align: middle;\n    }\n\n    .dataframe tbody tr th {\n        vertical-align: top;\n    }\n\n    .dataframe thead th {\n        text-align: right;\n    }\n</style>\n<table border=\"1\" class=\"dataframe\">\n  <thead>\n    <tr style=\"text-align: right;\">\n      <th></th>\n      <th>GRADE</th>\n      <th>AGE</th>\n      <th>SEX</th>\n      <th>CREG_CODE</th>\n      <th>LATERALITY</th>\n      <th>QUINTILE_2015</th>\n      <th>TUMOUR_COUNT</th>\n      <th>ETHNICITY</th>\n      <th>NEWVITALSTATUS</th>\n      <th>SACT</th>\n      <th>...</th>\n      <th>DAYS_TO_FIRST_SURGERY</th>\n      <th>DAYS_SINCE_DIAGNOSIS</th>\n      <th>DAYS_TO_FIRST_REGIMEN</th>\n      <th>SITE_C70</th>\n      <th>SITE_C71</th>\n      <th>SITE_C72</th>\n      <th>SITE_D32</th>\n      <th>SITE_D33</th>\n      <th>SITE_D35</th>\n      <th>BENIGN_BEHAVIOUR</th>\n    </tr>\n  </thead>\n  <tbody>\n    <tr>\n      <th>0</th>\n      <td>4</td>\n      <td>69</td>\n      <td>1</td>\n      <td>L0401</td>\n      <td>R</td>\n      <td>4</td>\n      <td>2</td>\n      <td>W</td>\n      <td>A</td>\n      <td>False</td>\n      <td>...</td>\n      <td>0</td>\n      <td>751</td>\n      <td>0</td>\n      <td>0</td>\n      <td>1</td>\n      <td>0</td>\n      <td>0</td>\n      <td>0</td>\n      <td>0</td>\n      <td>0</td>\n    </tr>\n    <tr>\n      <th>1</th>\n      <td>4</td>\n      <td>88</td>\n      <td>1</td>\n      <td>L1001</td>\n      <td>R</td>\n      <td>1</td>\n      <td>2</td>\n      <td>W</td>\n      <td>D</td>\n      <td>True</td>\n      <td>...</td>\n      <td>0</td>\n      <td>17</td>\n      <td>43</td>\n      <td>0</td>\n      <td>1</td>\n      <td>0</td>\n      <td>0</td>\n      <td>0</td>\n      <td>0</td>\n      <td>0</td>\n    </tr>\n    <tr>\n      <th>2</th>\n      <td>4</td>\n      <td>88</td>\n      <td>1</td>\n      <td>L1001</td>\n      <td>R</td>\n      <td>1</td>\n      <td>2</td>\n      <td>W</td>\n      <td>D</td>\n      <td>True</td>\n      <td>...</td>\n      <td>0</td>\n      <td>17</td>\n      <td>43</td>\n      <td>0</td>\n      <td>1</td>\n      <td>0</td>\n      <td>0</td>\n      <td>0</td>\n      <td>0</td>\n      <td>0</td>\n    </tr>\n    <tr>\n      <th>3</th>\n      <td>4</td>\n      <td>79</td>\n      <td>1</td>\n      <td>L1001</td>\n      <td>R</td>\n      <td>2</td>\n      <td>2</td>\n      <td>W</td>\n      <td>D</td>\n      <td>False</td>\n      <td>...</td>\n      <td>0</td>\n      <td>252</td>\n      <td>0</td>\n      <td>0</td>\n      <td>1</td>\n      <td>0</td>\n      <td>0</td>\n      <td>0</td>\n      <td>0</td>\n      <td>0</td>\n    </tr>\n    <tr>\n      <th>4</th>\n      <td>-1</td>\n      <td>79</td>\n      <td>2</td>\n      <td>L1001</td>\n      <td>R</td>\n      <td>2</td>\n      <td>2</td>\n      <td>U</td>\n      <td>D</td>\n      <td>False</td>\n      <td>...</td>\n      <td>18</td>\n      <td>425</td>\n      <td>0</td>\n      <td>0</td>\n      <td>1</td>\n      <td>0</td>\n      <td>0</td>\n      <td>0</td>\n      <td>0</td>\n      <td>0</td>\n    </tr>\n  </tbody>\n</table>\n<p>5 rows × 26 columns</p>\n</div>"
     },
     "metadata": {},
     "execution_count": 8
    }
   ],
   "source": [
    "grade_mapper = {'GX' : -1, 'G0' : 0, 'G1' : 1, 'G2' : 2, 'G3' : 3, 'G4' : 4}\n",
    "df.GRADE = df.GRADE.replace(grade_mapper)\n",
    "df.head()"
   ]
  },
  {
   "cell_type": "code",
   "execution_count": 9,
   "metadata": {},
   "outputs": [
    {
     "output_type": "execute_result",
     "data": {
      "text/plain": [
       "   GRADE  AGE  SEX LATERALITY  QUINTILE_2015  TUMOUR_COUNT ETHNICITY  \\\n",
       "0      4   69    1          R              4             2         W   \n",
       "1      4   88    1          R              1             2         W   \n",
       "2      4   88    1          R              1             2         W   \n",
       "3      4   79    1          R              2             2         W   \n",
       "4     -1   79    2          R              2             2         U   \n",
       "\n",
       "  NEWVITALSTATUS   SACT  REGIMEN_COUNT  ...  SITE_D35  BENIGN_BEHAVIOUR  \\\n",
       "0              A  False              0  ...         0                 0   \n",
       "1              D   True              5  ...         0                 0   \n",
       "2              D   True              5  ...         0                 0   \n",
       "3              D  False              0  ...         0                 0   \n",
       "4              D  False              0  ...         0                 0   \n",
       "\n",
       "   CREG_L0201  CREG_L0301  CREG_L0401  CREG_L0801  CREG_L0901  CREG_L1001  \\\n",
       "0           0           0           1           0           0           0   \n",
       "1           0           0           0           0           0           1   \n",
       "2           0           0           0           0           0           1   \n",
       "3           0           0           0           0           0           1   \n",
       "4           0           0           0           0           0           1   \n",
       "\n",
       "   CREG_L1201  CREG_L1701  \n",
       "0           0           0  \n",
       "1           0           0  \n",
       "2           0           0  \n",
       "3           0           0  \n",
       "4           0           0  \n",
       "\n",
       "[5 rows x 33 columns]"
      ],
      "text/html": "<div>\n<style scoped>\n    .dataframe tbody tr th:only-of-type {\n        vertical-align: middle;\n    }\n\n    .dataframe tbody tr th {\n        vertical-align: top;\n    }\n\n    .dataframe thead th {\n        text-align: right;\n    }\n</style>\n<table border=\"1\" class=\"dataframe\">\n  <thead>\n    <tr style=\"text-align: right;\">\n      <th></th>\n      <th>GRADE</th>\n      <th>AGE</th>\n      <th>SEX</th>\n      <th>LATERALITY</th>\n      <th>QUINTILE_2015</th>\n      <th>TUMOUR_COUNT</th>\n      <th>ETHNICITY</th>\n      <th>NEWVITALSTATUS</th>\n      <th>SACT</th>\n      <th>REGIMEN_COUNT</th>\n      <th>...</th>\n      <th>SITE_D35</th>\n      <th>BENIGN_BEHAVIOUR</th>\n      <th>CREG_L0201</th>\n      <th>CREG_L0301</th>\n      <th>CREG_L0401</th>\n      <th>CREG_L0801</th>\n      <th>CREG_L0901</th>\n      <th>CREG_L1001</th>\n      <th>CREG_L1201</th>\n      <th>CREG_L1701</th>\n    </tr>\n  </thead>\n  <tbody>\n    <tr>\n      <th>0</th>\n      <td>4</td>\n      <td>69</td>\n      <td>1</td>\n      <td>R</td>\n      <td>4</td>\n      <td>2</td>\n      <td>W</td>\n      <td>A</td>\n      <td>False</td>\n      <td>0</td>\n      <td>...</td>\n      <td>0</td>\n      <td>0</td>\n      <td>0</td>\n      <td>0</td>\n      <td>1</td>\n      <td>0</td>\n      <td>0</td>\n      <td>0</td>\n      <td>0</td>\n      <td>0</td>\n    </tr>\n    <tr>\n      <th>1</th>\n      <td>4</td>\n      <td>88</td>\n      <td>1</td>\n      <td>R</td>\n      <td>1</td>\n      <td>2</td>\n      <td>W</td>\n      <td>D</td>\n      <td>True</td>\n      <td>5</td>\n      <td>...</td>\n      <td>0</td>\n      <td>0</td>\n      <td>0</td>\n      <td>0</td>\n      <td>0</td>\n      <td>0</td>\n      <td>0</td>\n      <td>1</td>\n      <td>0</td>\n      <td>0</td>\n    </tr>\n    <tr>\n      <th>2</th>\n      <td>4</td>\n      <td>88</td>\n      <td>1</td>\n      <td>R</td>\n      <td>1</td>\n      <td>2</td>\n      <td>W</td>\n      <td>D</td>\n      <td>True</td>\n      <td>5</td>\n      <td>...</td>\n      <td>0</td>\n      <td>0</td>\n      <td>0</td>\n      <td>0</td>\n      <td>0</td>\n      <td>0</td>\n      <td>0</td>\n      <td>1</td>\n      <td>0</td>\n      <td>0</td>\n    </tr>\n    <tr>\n      <th>3</th>\n      <td>4</td>\n      <td>79</td>\n      <td>1</td>\n      <td>R</td>\n      <td>2</td>\n      <td>2</td>\n      <td>W</td>\n      <td>D</td>\n      <td>False</td>\n      <td>0</td>\n      <td>...</td>\n      <td>0</td>\n      <td>0</td>\n      <td>0</td>\n      <td>0</td>\n      <td>0</td>\n      <td>0</td>\n      <td>0</td>\n      <td>1</td>\n      <td>0</td>\n      <td>0</td>\n    </tr>\n    <tr>\n      <th>4</th>\n      <td>-1</td>\n      <td>79</td>\n      <td>2</td>\n      <td>R</td>\n      <td>2</td>\n      <td>2</td>\n      <td>U</td>\n      <td>D</td>\n      <td>False</td>\n      <td>0</td>\n      <td>...</td>\n      <td>0</td>\n      <td>0</td>\n      <td>0</td>\n      <td>0</td>\n      <td>0</td>\n      <td>0</td>\n      <td>0</td>\n      <td>1</td>\n      <td>0</td>\n      <td>0</td>\n    </tr>\n  </tbody>\n</table>\n<p>5 rows × 33 columns</p>\n</div>"
     },
     "metadata": {},
     "execution_count": 9
    }
   ],
   "source": [
    "creg_dummies = pd.get_dummies(df.CREG_CODE, prefix='CREG')\n",
    "df = df.drop(columns = 'CREG_CODE')\n",
    "df = pd.concat([df, creg_dummies], axis=1)\n",
    "df.head()"
   ]
  },
  {
   "cell_type": "code",
   "execution_count": 10,
   "metadata": {},
   "outputs": [],
   "source": [
    "lat_dummies = pd.get_dummies(df.LATERALITY, prefix='LAT')\n",
    "df = df.drop(columns = 'LATERALITY')\n",
    "df = pd.concat([df, lat_dummies], axis=1)"
   ]
  },
  {
   "cell_type": "code",
   "execution_count": 11,
   "metadata": {},
   "outputs": [],
   "source": [
    "eth_dummies = pd.get_dummies(df.ETHNICITY, prefix='ETH')\n",
    "df = df.drop(columns = 'ETHNICITY')\n",
    "df = pd.concat([df, eth_dummies], axis=1)"
   ]
  },
  {
   "cell_type": "code",
   "execution_count": 12,
   "metadata": {},
   "outputs": [],
   "source": [
    "# only 80\n",
    "df = df.drop(df[df.NEWVITALSTATUS == 'X'].index)\n",
    "vital_mapper = {'A' : 1, 'D' : 0}\n",
    "df['ALIVE'] = df.NEWVITALSTATUS.replace(vital_mapper)\n",
    "df = df.drop(columns='NEWVITALSTATUS')\n"
   ]
  },
  {
   "cell_type": "code",
   "execution_count": 13,
   "metadata": {},
   "outputs": [],
   "source": [
    "df.SACT = df.SACT.astype(int)\n",
    "df.CLINICAL_TRIAL_INDICATOR = df.CLINICAL_TRIAL_INDICATOR.astype(int)\n",
    "df.CHEMO_RADIATION_INDICATOR = df.CHEMO_RADIATION_INDICATOR.astype(int)"
   ]
  },
  {
   "cell_type": "code",
   "execution_count": 14,
   "metadata": {},
   "outputs": [
    {
     "output_type": "execute_result",
     "data": {
      "text/plain": [
       "   GRADE  AGE  SEX  QUINTILE_2015  TUMOUR_COUNT  SACT  REGIMEN_COUNT  \\\n",
       "0      4   69    1              4             2     0              0   \n",
       "1      4   88    1              1             2     1              5   \n",
       "2      4   88    1              1             2     1              5   \n",
       "3      4   79    1              2             2     0              0   \n",
       "4     -1   79    2              2             2     0              0   \n",
       "\n",
       "   CLINICAL_TRIAL_INDICATOR  CHEMO_RADIATION_INDICATOR  NORMALISED_HEIGHT  \\\n",
       "0                         0                          0              0.000   \n",
       "1                         0                          0              1.755   \n",
       "2                         0                          0              1.755   \n",
       "3                         0                          0              0.000   \n",
       "4                         0                          0              0.000   \n",
       "\n",
       "   ...  LAT_M  LAT_R  ETH_A  ETH_B  ETH_C  ETH_M  ETH_O  ETH_U  ETH_W  ALIVE  \n",
       "0  ...      0      1      0      0      0      0      0      0      1      1  \n",
       "1  ...      0      1      0      0      0      0      0      0      1      0  \n",
       "2  ...      0      1      0      0      0      0      0      0      1      0  \n",
       "3  ...      0      1      0      0      0      0      0      0      1      0  \n",
       "4  ...      0      1      0      0      0      0      0      1      0      0  \n",
       "\n",
       "[5 rows x 43 columns]"
      ],
      "text/html": "<div>\n<style scoped>\n    .dataframe tbody tr th:only-of-type {\n        vertical-align: middle;\n    }\n\n    .dataframe tbody tr th {\n        vertical-align: top;\n    }\n\n    .dataframe thead th {\n        text-align: right;\n    }\n</style>\n<table border=\"1\" class=\"dataframe\">\n  <thead>\n    <tr style=\"text-align: right;\">\n      <th></th>\n      <th>GRADE</th>\n      <th>AGE</th>\n      <th>SEX</th>\n      <th>QUINTILE_2015</th>\n      <th>TUMOUR_COUNT</th>\n      <th>SACT</th>\n      <th>REGIMEN_COUNT</th>\n      <th>CLINICAL_TRIAL_INDICATOR</th>\n      <th>CHEMO_RADIATION_INDICATOR</th>\n      <th>NORMALISED_HEIGHT</th>\n      <th>...</th>\n      <th>LAT_M</th>\n      <th>LAT_R</th>\n      <th>ETH_A</th>\n      <th>ETH_B</th>\n      <th>ETH_C</th>\n      <th>ETH_M</th>\n      <th>ETH_O</th>\n      <th>ETH_U</th>\n      <th>ETH_W</th>\n      <th>ALIVE</th>\n    </tr>\n  </thead>\n  <tbody>\n    <tr>\n      <th>0</th>\n      <td>4</td>\n      <td>69</td>\n      <td>1</td>\n      <td>4</td>\n      <td>2</td>\n      <td>0</td>\n      <td>0</td>\n      <td>0</td>\n      <td>0</td>\n      <td>0.000</td>\n      <td>...</td>\n      <td>0</td>\n      <td>1</td>\n      <td>0</td>\n      <td>0</td>\n      <td>0</td>\n      <td>0</td>\n      <td>0</td>\n      <td>0</td>\n      <td>1</td>\n      <td>1</td>\n    </tr>\n    <tr>\n      <th>1</th>\n      <td>4</td>\n      <td>88</td>\n      <td>1</td>\n      <td>1</td>\n      <td>2</td>\n      <td>1</td>\n      <td>5</td>\n      <td>0</td>\n      <td>0</td>\n      <td>1.755</td>\n      <td>...</td>\n      <td>0</td>\n      <td>1</td>\n      <td>0</td>\n      <td>0</td>\n      <td>0</td>\n      <td>0</td>\n      <td>0</td>\n      <td>0</td>\n      <td>1</td>\n      <td>0</td>\n    </tr>\n    <tr>\n      <th>2</th>\n      <td>4</td>\n      <td>88</td>\n      <td>1</td>\n      <td>1</td>\n      <td>2</td>\n      <td>1</td>\n      <td>5</td>\n      <td>0</td>\n      <td>0</td>\n      <td>1.755</td>\n      <td>...</td>\n      <td>0</td>\n      <td>1</td>\n      <td>0</td>\n      <td>0</td>\n      <td>0</td>\n      <td>0</td>\n      <td>0</td>\n      <td>0</td>\n      <td>1</td>\n      <td>0</td>\n    </tr>\n    <tr>\n      <th>3</th>\n      <td>4</td>\n      <td>79</td>\n      <td>1</td>\n      <td>2</td>\n      <td>2</td>\n      <td>0</td>\n      <td>0</td>\n      <td>0</td>\n      <td>0</td>\n      <td>0.000</td>\n      <td>...</td>\n      <td>0</td>\n      <td>1</td>\n      <td>0</td>\n      <td>0</td>\n      <td>0</td>\n      <td>0</td>\n      <td>0</td>\n      <td>0</td>\n      <td>1</td>\n      <td>0</td>\n    </tr>\n    <tr>\n      <th>4</th>\n      <td>-1</td>\n      <td>79</td>\n      <td>2</td>\n      <td>2</td>\n      <td>2</td>\n      <td>0</td>\n      <td>0</td>\n      <td>0</td>\n      <td>0</td>\n      <td>0.000</td>\n      <td>...</td>\n      <td>0</td>\n      <td>1</td>\n      <td>0</td>\n      <td>0</td>\n      <td>0</td>\n      <td>0</td>\n      <td>0</td>\n      <td>1</td>\n      <td>0</td>\n      <td>0</td>\n    </tr>\n  </tbody>\n</table>\n<p>5 rows × 43 columns</p>\n</div>"
     },
     "metadata": {},
     "execution_count": 14
    }
   ],
   "source": [
    "df.head()"
   ]
  },
  {
   "cell_type": "code",
   "execution_count": 15,
   "metadata": {},
   "outputs": [],
   "source": [
    "# spits out numpy array\n",
    "def scale(df, method='minmax'):\n",
    "    if method == 'minmax':\n",
    "        scaler = MinMaxScaler()\n",
    "    else:\n",
    "        pass\n",
    "    return scaler.fit_transform(df)"
   ]
  },
  {
   "cell_type": "code",
   "execution_count": 16,
   "metadata": {},
   "outputs": [],
   "source": [
    "data = scale(df)\n",
    "np.savetxt(\"./Data/data.csv\", data, delimiter=\",\")"
   ]
  },
  {
   "cell_type": "code",
   "execution_count": 18,
   "metadata": {},
   "outputs": [
    {
     "output_type": "stream",
     "name": "stdout",
     "text": [
      "GRADE\nAGE\nSEX\nQUINTILE_2015\nTUMOUR_COUNT\nSACT\nREGIMEN_COUNT\nCLINICAL_TRIAL_INDICATOR\nCHEMO_RADIATION_INDICATOR\nNORMALISED_HEIGHT\nNORMALISED_WEIGHT\nHIGHEST_CYCLE\nDAYS_TO_FIRST_SURGERY\nDAYS_SINCE_DIAGNOSIS\nDAYS_TO_FIRST_REGIMEN\nSITE_C70\nSITE_C71\nSITE_C72\nSITE_D32\nSITE_D33\nSITE_D35\nBENIGN_BEHAVIOUR\nCREG_L0201\nCREG_L0301\nCREG_L0401\nCREG_L0801\nCREG_L0901\nCREG_L1001\nCREG_L1201\nCREG_L1701\nLAT_9\nLAT_B\nLAT_L\nLAT_M\nLAT_R\nETH_A\nETH_B\nETH_C\nETH_M\nETH_O\nETH_U\nETH_W\nALIVE\n"
     ]
    }
   ],
   "source": [
    "for f in df.columns:\n",
    "    print(f)"
   ]
  },
  {
   "cell_type": "code",
   "execution_count": null,
   "metadata": {},
   "outputs": [],
   "source": []
  }
 ]
}