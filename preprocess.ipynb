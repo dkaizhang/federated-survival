{
 "metadata": {
  "language_info": {
   "codemirror_mode": {
    "name": "ipython",
    "version": 3
   },
   "file_extension": ".py",
   "mimetype": "text/x-python",
   "name": "python",
   "nbconvert_exporter": "python",
   "pygments_lexer": "ipython3",
   "version": "3.8.7"
  },
  "orig_nbformat": 2,
  "kernelspec": {
   "name": "python387jvsc74a57bd0f1c13921e8e375de9335a0ccf3b3c47f8dbb15e8689cc78791955ed1115cd503",
   "display_name": "Python 3.8.7 64-bit ('flenv': venv)"
  },
  "metadata": {
   "interpreter": {
    "hash": "f1c13921e8e375de9335a0ccf3b3c47f8dbb15e8689cc78791955ed1115cd503"
   }
  }
 },
 "nbformat": 4,
 "nbformat_minor": 2,
 "cells": [
  {
   "cell_type": "code",
   "execution_count": 1,
   "metadata": {},
   "outputs": [],
   "source": [
    "import numpy as np\n",
    "import pandas as pd\n",
    "\n",
    "from load import read_csv, to_csv"
   ]
  },
  {
   "cell_type": "code",
   "execution_count": 2,
   "metadata": {},
   "outputs": [
    {
     "output_type": "stream",
     "name": "stdout",
     "text": [
      "53096\n"
     ]
    },
    {
     "output_type": "execute_result",
     "data": {
      "text/plain": [
       "   TUMOURID  PATIENTID DIAGNOSISDATEBEST SITE_ICD10_O2_3CHAR MORPH_ICD10_O2  \\\n",
       "0  10614165   10501771        2017-01-16                 C71         9440.0   \n",
       "1  10614166   10501772        2015-11-10                 C71         9440.0   \n",
       "2  10614166   10501772        2015-11-10                 C71         9440.0   \n",
       "3  10614166   10501772        2015-11-10                 C71         9440.0   \n",
       "4  10614166   10501772        2015-11-10                 C71         9440.0   \n",
       "\n",
       "   BEHAVIOUR_ICD10_O2 STAGE_BEST GRADE   AGE SEX  ...   SACT  CLINICAL_TRIAL  \\\n",
       "0                   3          U    G4  69.0   1  ...  False           False   \n",
       "1                   3          U    G4  88.0   1  ...   True           False   \n",
       "2                   3          U    G4  88.0   1  ...   True           False   \n",
       "3                   3          U    G4  88.0   1  ...   True           False   \n",
       "4                   3          U    G4  88.0   1  ...   True           False   \n",
       "\n",
       "  CHEMO_RADIATION REGIMEN_COUNT  CLINICAL_TRIAL_INDICATOR  \\\n",
       "0           False           0.0                     False   \n",
       "1           False           1.0                     False   \n",
       "2           False           3.0                     False   \n",
       "3           False           2.0                     False   \n",
       "4           False           4.0                     False   \n",
       "\n",
       "  CHEMO_RADIATION_INDICATOR NORMALISED_HEIGHT  NORMALISED_WEIGHT  \\\n",
       "0                     False             0.000               0.00   \n",
       "1                     False             1.755              71.75   \n",
       "2                     False             1.755              71.75   \n",
       "3                     False             1.755              71.75   \n",
       "4                     False             1.755              71.75   \n",
       "\n",
       "   DAYS_TO_FIRST_SURGERY  DAYS_SINCE_DIAGNOSIS  \n",
       "0                      0                   751  \n",
       "1                      0                    17  \n",
       "2                      0                    17  \n",
       "3                      0                    17  \n",
       "4                      0                    17  \n",
       "\n",
       "[5 rows x 27 columns]"
      ],
      "text/html": "<div>\n<style scoped>\n    .dataframe tbody tr th:only-of-type {\n        vertical-align: middle;\n    }\n\n    .dataframe tbody tr th {\n        vertical-align: top;\n    }\n\n    .dataframe thead th {\n        text-align: right;\n    }\n</style>\n<table border=\"1\" class=\"dataframe\">\n  <thead>\n    <tr style=\"text-align: right;\">\n      <th></th>\n      <th>TUMOURID</th>\n      <th>PATIENTID</th>\n      <th>DIAGNOSISDATEBEST</th>\n      <th>SITE_ICD10_O2_3CHAR</th>\n      <th>MORPH_ICD10_O2</th>\n      <th>BEHAVIOUR_ICD10_O2</th>\n      <th>STAGE_BEST</th>\n      <th>GRADE</th>\n      <th>AGE</th>\n      <th>SEX</th>\n      <th>...</th>\n      <th>SACT</th>\n      <th>CLINICAL_TRIAL</th>\n      <th>CHEMO_RADIATION</th>\n      <th>REGIMEN_COUNT</th>\n      <th>CLINICAL_TRIAL_INDICATOR</th>\n      <th>CHEMO_RADIATION_INDICATOR</th>\n      <th>NORMALISED_HEIGHT</th>\n      <th>NORMALISED_WEIGHT</th>\n      <th>DAYS_TO_FIRST_SURGERY</th>\n      <th>DAYS_SINCE_DIAGNOSIS</th>\n    </tr>\n  </thead>\n  <tbody>\n    <tr>\n      <th>0</th>\n      <td>10614165</td>\n      <td>10501771</td>\n      <td>2017-01-16</td>\n      <td>C71</td>\n      <td>9440.0</td>\n      <td>3</td>\n      <td>U</td>\n      <td>G4</td>\n      <td>69.0</td>\n      <td>1</td>\n      <td>...</td>\n      <td>False</td>\n      <td>False</td>\n      <td>False</td>\n      <td>0.0</td>\n      <td>False</td>\n      <td>False</td>\n      <td>0.000</td>\n      <td>0.00</td>\n      <td>0</td>\n      <td>751</td>\n    </tr>\n    <tr>\n      <th>1</th>\n      <td>10614166</td>\n      <td>10501772</td>\n      <td>2015-11-10</td>\n      <td>C71</td>\n      <td>9440.0</td>\n      <td>3</td>\n      <td>U</td>\n      <td>G4</td>\n      <td>88.0</td>\n      <td>1</td>\n      <td>...</td>\n      <td>True</td>\n      <td>False</td>\n      <td>False</td>\n      <td>1.0</td>\n      <td>False</td>\n      <td>False</td>\n      <td>1.755</td>\n      <td>71.75</td>\n      <td>0</td>\n      <td>17</td>\n    </tr>\n    <tr>\n      <th>2</th>\n      <td>10614166</td>\n      <td>10501772</td>\n      <td>2015-11-10</td>\n      <td>C71</td>\n      <td>9440.0</td>\n      <td>3</td>\n      <td>U</td>\n      <td>G4</td>\n      <td>88.0</td>\n      <td>1</td>\n      <td>...</td>\n      <td>True</td>\n      <td>False</td>\n      <td>False</td>\n      <td>3.0</td>\n      <td>False</td>\n      <td>False</td>\n      <td>1.755</td>\n      <td>71.75</td>\n      <td>0</td>\n      <td>17</td>\n    </tr>\n    <tr>\n      <th>3</th>\n      <td>10614166</td>\n      <td>10501772</td>\n      <td>2015-11-10</td>\n      <td>C71</td>\n      <td>9440.0</td>\n      <td>3</td>\n      <td>U</td>\n      <td>G4</td>\n      <td>88.0</td>\n      <td>1</td>\n      <td>...</td>\n      <td>True</td>\n      <td>False</td>\n      <td>False</td>\n      <td>2.0</td>\n      <td>False</td>\n      <td>False</td>\n      <td>1.755</td>\n      <td>71.75</td>\n      <td>0</td>\n      <td>17</td>\n    </tr>\n    <tr>\n      <th>4</th>\n      <td>10614166</td>\n      <td>10501772</td>\n      <td>2015-11-10</td>\n      <td>C71</td>\n      <td>9440.0</td>\n      <td>3</td>\n      <td>U</td>\n      <td>G4</td>\n      <td>88.0</td>\n      <td>1</td>\n      <td>...</td>\n      <td>True</td>\n      <td>False</td>\n      <td>False</td>\n      <td>4.0</td>\n      <td>False</td>\n      <td>False</td>\n      <td>1.755</td>\n      <td>71.75</td>\n      <td>0</td>\n      <td>17</td>\n    </tr>\n  </tbody>\n</table>\n<p>5 rows × 27 columns</p>\n</div>"
     },
     "metadata": {},
     "execution_count": 2
    }
   ],
   "source": [
    "path = './Data/bt-impute.csv'\n",
    "\n",
    "df = read_csv(path)\n",
    "print(len(df))\n",
    "df.head()"
   ]
  },
  {
   "cell_type": "code",
   "execution_count": 3,
   "metadata": {},
   "outputs": [
    {
     "output_type": "execute_result",
     "data": {
      "text/plain": [
       "C71    31478\n",
       "D32    11606\n",
       "D33     4622\n",
       "D35     4145\n",
       "C72      844\n",
       "C70      306\n",
       "C13        0\n",
       "D41        0\n",
       "D09        0\n",
       "D37        0\n",
       "D43        0\n",
       "C91        0\n",
       "D47        0\n",
       "C44        0\n",
       "C51        0\n",
       "C54        0\n",
       "C67        0\n",
       "C77        0\n",
       "C84        0\n",
       "C92        0\n",
       "D01        0\n",
       "C80        0\n",
       "C82        0\n",
       "C17        0\n",
       "C20        0\n",
       "C21        0\n",
       "C22        0\n",
       "C23        0\n",
       "C24        0\n",
       "C25        0\n",
       "C43        0\n",
       "C48        0\n",
       "C50        0\n",
       "C53        0\n",
       "C64        0\n",
       "C65        0\n",
       "C73        0\n",
       "C78        0\n",
       "C79        0\n",
       "D03        0\n",
       "Name: SITE_ICD10_O2_3CHAR, dtype: int64"
      ]
     },
     "metadata": {},
     "execution_count": 3
    }
   ],
   "source": [
    "df = df.drop(df[(df.SITE_ICD10_O2_3CHAR != 'C70') & \n",
    "                    (df.SITE_ICD10_O2_3CHAR != 'C71') & \n",
    "                    (df.SITE_ICD10_O2_3CHAR != 'C72') & \n",
    "                    (df.SITE_ICD10_O2_3CHAR != 'D32') &\n",
    "                    (df.SITE_ICD10_O2_3CHAR != 'D33') &\n",
    "                    (df.SITE_ICD10_O2_3CHAR != 'D35')].index)\n",
    "df.SITE_ICD10_O2_3CHAR.value_counts()"
   ]
  },
  {
   "cell_type": "code",
   "execution_count": 4,
   "metadata": {},
   "outputs": [],
   "source": [
    "df = df.drop(columns = ['TUMOURID',\t'PATIENTID'\t,'DIAGNOSISDATEBEST','LINKNUMBER'])"
   ]
  },
  {
   "cell_type": "code",
   "execution_count": 5,
   "metadata": {},
   "outputs": [
    {
     "output_type": "execute_result",
     "data": {
      "text/plain": [
       "  MORPH_ICD10_O2  BEHAVIOUR_ICD10_O2 STAGE_BEST GRADE   AGE SEX CREG_CODE  \\\n",
       "0         9440.0                   3          U    G4  69.0   1     L0401   \n",
       "1         9440.0                   3          U    G4  88.0   1     L1001   \n",
       "2         9440.0                   3          U    G4  88.0   1     L1001   \n",
       "3         9440.0                   3          U    G4  88.0   1     L1001   \n",
       "4         9440.0                   3          U    G4  88.0   1     L1001   \n",
       "\n",
       "  LATERALITY QUINTILE_2015  TUMOUR_COUNT  ... SITE_D43 SITE_D47  SITE_C44  \\\n",
       "0          R             4             2  ...        0        0         0   \n",
       "1          R             1             2  ...        0        0         0   \n",
       "2          R             1             2  ...        0        0         0   \n",
       "3          R             1             2  ...        0        0         0   \n",
       "4          R             1             2  ...        0        0         0   \n",
       "\n",
       "   SITE_C51  SITE_C54  SITE_C67  SITE_C77  SITE_C84  SITE_C92  SITE_D03  \n",
       "0         0         0         0         0         0         0         0  \n",
       "1         0         0         0         0         0         0         0  \n",
       "2         0         0         0         0         0         0         0  \n",
       "3         0         0         0         0         0         0         0  \n",
       "4         0         0         0         0         0         0         0  \n",
       "\n",
       "[5 rows x 62 columns]"
      ],
      "text/html": "<div>\n<style scoped>\n    .dataframe tbody tr th:only-of-type {\n        vertical-align: middle;\n    }\n\n    .dataframe tbody tr th {\n        vertical-align: top;\n    }\n\n    .dataframe thead th {\n        text-align: right;\n    }\n</style>\n<table border=\"1\" class=\"dataframe\">\n  <thead>\n    <tr style=\"text-align: right;\">\n      <th></th>\n      <th>MORPH_ICD10_O2</th>\n      <th>BEHAVIOUR_ICD10_O2</th>\n      <th>STAGE_BEST</th>\n      <th>GRADE</th>\n      <th>AGE</th>\n      <th>SEX</th>\n      <th>CREG_CODE</th>\n      <th>LATERALITY</th>\n      <th>QUINTILE_2015</th>\n      <th>TUMOUR_COUNT</th>\n      <th>...</th>\n      <th>SITE_D43</th>\n      <th>SITE_D47</th>\n      <th>SITE_C44</th>\n      <th>SITE_C51</th>\n      <th>SITE_C54</th>\n      <th>SITE_C67</th>\n      <th>SITE_C77</th>\n      <th>SITE_C84</th>\n      <th>SITE_C92</th>\n      <th>SITE_D03</th>\n    </tr>\n  </thead>\n  <tbody>\n    <tr>\n      <th>0</th>\n      <td>9440.0</td>\n      <td>3</td>\n      <td>U</td>\n      <td>G4</td>\n      <td>69.0</td>\n      <td>1</td>\n      <td>L0401</td>\n      <td>R</td>\n      <td>4</td>\n      <td>2</td>\n      <td>...</td>\n      <td>0</td>\n      <td>0</td>\n      <td>0</td>\n      <td>0</td>\n      <td>0</td>\n      <td>0</td>\n      <td>0</td>\n      <td>0</td>\n      <td>0</td>\n      <td>0</td>\n    </tr>\n    <tr>\n      <th>1</th>\n      <td>9440.0</td>\n      <td>3</td>\n      <td>U</td>\n      <td>G4</td>\n      <td>88.0</td>\n      <td>1</td>\n      <td>L1001</td>\n      <td>R</td>\n      <td>1</td>\n      <td>2</td>\n      <td>...</td>\n      <td>0</td>\n      <td>0</td>\n      <td>0</td>\n      <td>0</td>\n      <td>0</td>\n      <td>0</td>\n      <td>0</td>\n      <td>0</td>\n      <td>0</td>\n      <td>0</td>\n    </tr>\n    <tr>\n      <th>2</th>\n      <td>9440.0</td>\n      <td>3</td>\n      <td>U</td>\n      <td>G4</td>\n      <td>88.0</td>\n      <td>1</td>\n      <td>L1001</td>\n      <td>R</td>\n      <td>1</td>\n      <td>2</td>\n      <td>...</td>\n      <td>0</td>\n      <td>0</td>\n      <td>0</td>\n      <td>0</td>\n      <td>0</td>\n      <td>0</td>\n      <td>0</td>\n      <td>0</td>\n      <td>0</td>\n      <td>0</td>\n    </tr>\n    <tr>\n      <th>3</th>\n      <td>9440.0</td>\n      <td>3</td>\n      <td>U</td>\n      <td>G4</td>\n      <td>88.0</td>\n      <td>1</td>\n      <td>L1001</td>\n      <td>R</td>\n      <td>1</td>\n      <td>2</td>\n      <td>...</td>\n      <td>0</td>\n      <td>0</td>\n      <td>0</td>\n      <td>0</td>\n      <td>0</td>\n      <td>0</td>\n      <td>0</td>\n      <td>0</td>\n      <td>0</td>\n      <td>0</td>\n    </tr>\n    <tr>\n      <th>4</th>\n      <td>9440.0</td>\n      <td>3</td>\n      <td>U</td>\n      <td>G4</td>\n      <td>88.0</td>\n      <td>1</td>\n      <td>L1001</td>\n      <td>R</td>\n      <td>1</td>\n      <td>2</td>\n      <td>...</td>\n      <td>0</td>\n      <td>0</td>\n      <td>0</td>\n      <td>0</td>\n      <td>0</td>\n      <td>0</td>\n      <td>0</td>\n      <td>0</td>\n      <td>0</td>\n      <td>0</td>\n    </tr>\n  </tbody>\n</table>\n<p>5 rows × 62 columns</p>\n</div>"
     },
     "metadata": {},
     "execution_count": 5
    }
   ],
   "source": [
    "site_dummies = pd.get_dummies(df.SITE_ICD10_O2_3CHAR, prefix='SITE')\n",
    "df = df.drop(columns = 'SITE_ICD10_O2_3CHAR')\n",
    "df = pd.concat([df, site_dummies], axis=1)\n",
    "df.head()\n"
   ]
  },
  {
   "cell_type": "code",
   "execution_count": 6,
   "metadata": {},
   "outputs": [],
   "source": [
    "df.MORPH_ICD10_O2.value_counts().to_csv('./Data/morph.csv', index=True)\n",
    "# too little variations\n",
    "df = df.drop(columns='MORPH_ICD10_O2')"
   ]
  },
  {
   "cell_type": "code",
   "execution_count": 7,
   "metadata": {},
   "outputs": [
    {
     "output_type": "execute_result",
     "data": {
      "text/plain": [
       "  STAGE_BEST GRADE   AGE SEX CREG_CODE LATERALITY QUINTILE_2015  TUMOUR_COUNT  \\\n",
       "0          U    G4  69.0   1     L0401          R             4             2   \n",
       "1          U    G4  88.0   1     L1001          R             1             2   \n",
       "2          U    G4  88.0   1     L1001          R             1             2   \n",
       "3          U    G4  88.0   1     L1001          R             1             2   \n",
       "4          U    G4  88.0   1     L1001          R             1             2   \n",
       "\n",
       "  ETHNICITY NEWVITALSTATUS  ...  SITE_D47  SITE_C44  SITE_C51  SITE_C54  \\\n",
       "0         W              A  ...         0         0         0         0   \n",
       "1         W              D  ...         0         0         0         0   \n",
       "2         W              D  ...         0         0         0         0   \n",
       "3         W              D  ...         0         0         0         0   \n",
       "4         W              D  ...         0         0         0         0   \n",
       "\n",
       "   SITE_C67  SITE_C77  SITE_C84  SITE_C92  SITE_D03  BENIGN_BEHAVIOUR  \n",
       "0         0         0         0         0         0                 0  \n",
       "1         0         0         0         0         0                 0  \n",
       "2         0         0         0         0         0                 0  \n",
       "3         0         0         0         0         0                 0  \n",
       "4         0         0         0         0         0                 0  \n",
       "\n",
       "[5 rows x 61 columns]"
      ],
      "text/html": "<div>\n<style scoped>\n    .dataframe tbody tr th:only-of-type {\n        vertical-align: middle;\n    }\n\n    .dataframe tbody tr th {\n        vertical-align: top;\n    }\n\n    .dataframe thead th {\n        text-align: right;\n    }\n</style>\n<table border=\"1\" class=\"dataframe\">\n  <thead>\n    <tr style=\"text-align: right;\">\n      <th></th>\n      <th>STAGE_BEST</th>\n      <th>GRADE</th>\n      <th>AGE</th>\n      <th>SEX</th>\n      <th>CREG_CODE</th>\n      <th>LATERALITY</th>\n      <th>QUINTILE_2015</th>\n      <th>TUMOUR_COUNT</th>\n      <th>ETHNICITY</th>\n      <th>NEWVITALSTATUS</th>\n      <th>...</th>\n      <th>SITE_D47</th>\n      <th>SITE_C44</th>\n      <th>SITE_C51</th>\n      <th>SITE_C54</th>\n      <th>SITE_C67</th>\n      <th>SITE_C77</th>\n      <th>SITE_C84</th>\n      <th>SITE_C92</th>\n      <th>SITE_D03</th>\n      <th>BENIGN_BEHAVIOUR</th>\n    </tr>\n  </thead>\n  <tbody>\n    <tr>\n      <th>0</th>\n      <td>U</td>\n      <td>G4</td>\n      <td>69.0</td>\n      <td>1</td>\n      <td>L0401</td>\n      <td>R</td>\n      <td>4</td>\n      <td>2</td>\n      <td>W</td>\n      <td>A</td>\n      <td>...</td>\n      <td>0</td>\n      <td>0</td>\n      <td>0</td>\n      <td>0</td>\n      <td>0</td>\n      <td>0</td>\n      <td>0</td>\n      <td>0</td>\n      <td>0</td>\n      <td>0</td>\n    </tr>\n    <tr>\n      <th>1</th>\n      <td>U</td>\n      <td>G4</td>\n      <td>88.0</td>\n      <td>1</td>\n      <td>L1001</td>\n      <td>R</td>\n      <td>1</td>\n      <td>2</td>\n      <td>W</td>\n      <td>D</td>\n      <td>...</td>\n      <td>0</td>\n      <td>0</td>\n      <td>0</td>\n      <td>0</td>\n      <td>0</td>\n      <td>0</td>\n      <td>0</td>\n      <td>0</td>\n      <td>0</td>\n      <td>0</td>\n    </tr>\n    <tr>\n      <th>2</th>\n      <td>U</td>\n      <td>G4</td>\n      <td>88.0</td>\n      <td>1</td>\n      <td>L1001</td>\n      <td>R</td>\n      <td>1</td>\n      <td>2</td>\n      <td>W</td>\n      <td>D</td>\n      <td>...</td>\n      <td>0</td>\n      <td>0</td>\n      <td>0</td>\n      <td>0</td>\n      <td>0</td>\n      <td>0</td>\n      <td>0</td>\n      <td>0</td>\n      <td>0</td>\n      <td>0</td>\n    </tr>\n    <tr>\n      <th>3</th>\n      <td>U</td>\n      <td>G4</td>\n      <td>88.0</td>\n      <td>1</td>\n      <td>L1001</td>\n      <td>R</td>\n      <td>1</td>\n      <td>2</td>\n      <td>W</td>\n      <td>D</td>\n      <td>...</td>\n      <td>0</td>\n      <td>0</td>\n      <td>0</td>\n      <td>0</td>\n      <td>0</td>\n      <td>0</td>\n      <td>0</td>\n      <td>0</td>\n      <td>0</td>\n      <td>0</td>\n    </tr>\n    <tr>\n      <th>4</th>\n      <td>U</td>\n      <td>G4</td>\n      <td>88.0</td>\n      <td>1</td>\n      <td>L1001</td>\n      <td>R</td>\n      <td>1</td>\n      <td>2</td>\n      <td>W</td>\n      <td>D</td>\n      <td>...</td>\n      <td>0</td>\n      <td>0</td>\n      <td>0</td>\n      <td>0</td>\n      <td>0</td>\n      <td>0</td>\n      <td>0</td>\n      <td>0</td>\n      <td>0</td>\n      <td>0</td>\n    </tr>\n  </tbody>\n</table>\n<p>5 rows × 61 columns</p>\n</div>"
     },
     "metadata": {},
     "execution_count": 7
    }
   ],
   "source": [
    "df.BEHAVIOUR_ICD10_O2 = df.BEHAVIOUR_ICD10_O2.replace({2: 0, 5: 3, 6: 3, 9: 3})\n",
    "df = df.drop(df[df.BEHAVIOUR_ICD10_O2 == 1].index)\n",
    "df.BEHAVIOUR_ICD10_O2.value_counts()\n",
    "\n",
    "# note that pytorch requires float32 instead of int\n",
    "# transform elsewhere\n",
    "df['BENIGN_BEHAVIOUR'] = (df.BEHAVIOUR_ICD10_O2 == 0).astype(int)\n",
    "df = df.drop(columns= 'BEHAVIOUR_ICD10_O2')\n",
    "df.head()"
   ]
  },
  {
   "cell_type": "code",
   "execution_count": 8,
   "metadata": {},
   "outputs": [
    {
     "output_type": "execute_result",
     "data": {
      "text/plain": [
       "  GRADE   AGE SEX CREG_CODE LATERALITY QUINTILE_2015  TUMOUR_COUNT ETHNICITY  \\\n",
       "0    G4  69.0   1     L0401          R             4             2         W   \n",
       "1    G4  88.0   1     L1001          R             1             2         W   \n",
       "2    G4  88.0   1     L1001          R             1             2         W   \n",
       "3    G4  88.0   1     L1001          R             1             2         W   \n",
       "4    G4  88.0   1     L1001          R             1             2         W   \n",
       "\n",
       "  NEWVITALSTATUS   SACT  ...  SITE_D47  SITE_C44  SITE_C51  SITE_C54  \\\n",
       "0              A  False  ...         0         0         0         0   \n",
       "1              D   True  ...         0         0         0         0   \n",
       "2              D   True  ...         0         0         0         0   \n",
       "3              D   True  ...         0         0         0         0   \n",
       "4              D   True  ...         0         0         0         0   \n",
       "\n",
       "   SITE_C67  SITE_C77  SITE_C84  SITE_C92  SITE_D03  BENIGN_BEHAVIOUR  \n",
       "0         0         0         0         0         0                 0  \n",
       "1         0         0         0         0         0                 0  \n",
       "2         0         0         0         0         0                 0  \n",
       "3         0         0         0         0         0                 0  \n",
       "4         0         0         0         0         0                 0  \n",
       "\n",
       "[5 rows x 60 columns]"
      ],
      "text/html": "<div>\n<style scoped>\n    .dataframe tbody tr th:only-of-type {\n        vertical-align: middle;\n    }\n\n    .dataframe tbody tr th {\n        vertical-align: top;\n    }\n\n    .dataframe thead th {\n        text-align: right;\n    }\n</style>\n<table border=\"1\" class=\"dataframe\">\n  <thead>\n    <tr style=\"text-align: right;\">\n      <th></th>\n      <th>GRADE</th>\n      <th>AGE</th>\n      <th>SEX</th>\n      <th>CREG_CODE</th>\n      <th>LATERALITY</th>\n      <th>QUINTILE_2015</th>\n      <th>TUMOUR_COUNT</th>\n      <th>ETHNICITY</th>\n      <th>NEWVITALSTATUS</th>\n      <th>SACT</th>\n      <th>...</th>\n      <th>SITE_D47</th>\n      <th>SITE_C44</th>\n      <th>SITE_C51</th>\n      <th>SITE_C54</th>\n      <th>SITE_C67</th>\n      <th>SITE_C77</th>\n      <th>SITE_C84</th>\n      <th>SITE_C92</th>\n      <th>SITE_D03</th>\n      <th>BENIGN_BEHAVIOUR</th>\n    </tr>\n  </thead>\n  <tbody>\n    <tr>\n      <th>0</th>\n      <td>G4</td>\n      <td>69.0</td>\n      <td>1</td>\n      <td>L0401</td>\n      <td>R</td>\n      <td>4</td>\n      <td>2</td>\n      <td>W</td>\n      <td>A</td>\n      <td>False</td>\n      <td>...</td>\n      <td>0</td>\n      <td>0</td>\n      <td>0</td>\n      <td>0</td>\n      <td>0</td>\n      <td>0</td>\n      <td>0</td>\n      <td>0</td>\n      <td>0</td>\n      <td>0</td>\n    </tr>\n    <tr>\n      <th>1</th>\n      <td>G4</td>\n      <td>88.0</td>\n      <td>1</td>\n      <td>L1001</td>\n      <td>R</td>\n      <td>1</td>\n      <td>2</td>\n      <td>W</td>\n      <td>D</td>\n      <td>True</td>\n      <td>...</td>\n      <td>0</td>\n      <td>0</td>\n      <td>0</td>\n      <td>0</td>\n      <td>0</td>\n      <td>0</td>\n      <td>0</td>\n      <td>0</td>\n      <td>0</td>\n      <td>0</td>\n    </tr>\n    <tr>\n      <th>2</th>\n      <td>G4</td>\n      <td>88.0</td>\n      <td>1</td>\n      <td>L1001</td>\n      <td>R</td>\n      <td>1</td>\n      <td>2</td>\n      <td>W</td>\n      <td>D</td>\n      <td>True</td>\n      <td>...</td>\n      <td>0</td>\n      <td>0</td>\n      <td>0</td>\n      <td>0</td>\n      <td>0</td>\n      <td>0</td>\n      <td>0</td>\n      <td>0</td>\n      <td>0</td>\n      <td>0</td>\n    </tr>\n    <tr>\n      <th>3</th>\n      <td>G4</td>\n      <td>88.0</td>\n      <td>1</td>\n      <td>L1001</td>\n      <td>R</td>\n      <td>1</td>\n      <td>2</td>\n      <td>W</td>\n      <td>D</td>\n      <td>True</td>\n      <td>...</td>\n      <td>0</td>\n      <td>0</td>\n      <td>0</td>\n      <td>0</td>\n      <td>0</td>\n      <td>0</td>\n      <td>0</td>\n      <td>0</td>\n      <td>0</td>\n      <td>0</td>\n    </tr>\n    <tr>\n      <th>4</th>\n      <td>G4</td>\n      <td>88.0</td>\n      <td>1</td>\n      <td>L1001</td>\n      <td>R</td>\n      <td>1</td>\n      <td>2</td>\n      <td>W</td>\n      <td>D</td>\n      <td>True</td>\n      <td>...</td>\n      <td>0</td>\n      <td>0</td>\n      <td>0</td>\n      <td>0</td>\n      <td>0</td>\n      <td>0</td>\n      <td>0</td>\n      <td>0</td>\n      <td>0</td>\n      <td>0</td>\n    </tr>\n  </tbody>\n</table>\n<p>5 rows × 60 columns</p>\n</div>"
     },
     "metadata": {},
     "execution_count": 8
    }
   ],
   "source": [
    "df = df.drop(columns='STAGE_BEST')\n",
    "df.head()"
   ]
  },
  {
   "cell_type": "code",
   "execution_count": 9,
   "metadata": {},
   "outputs": [
    {
     "output_type": "execute_result",
     "data": {
      "text/plain": [
       "   GRADE   AGE SEX CREG_CODE LATERALITY QUINTILE_2015  TUMOUR_COUNT ETHNICITY  \\\n",
       "0      4  69.0   1     L0401          R             4             2         W   \n",
       "1      4  88.0   1     L1001          R             1             2         W   \n",
       "2      4  88.0   1     L1001          R             1             2         W   \n",
       "3      4  88.0   1     L1001          R             1             2         W   \n",
       "4      4  88.0   1     L1001          R             1             2         W   \n",
       "\n",
       "  NEWVITALSTATUS   SACT  ...  SITE_D47  SITE_C44  SITE_C51  SITE_C54  \\\n",
       "0              A  False  ...         0         0         0         0   \n",
       "1              D   True  ...         0         0         0         0   \n",
       "2              D   True  ...         0         0         0         0   \n",
       "3              D   True  ...         0         0         0         0   \n",
       "4              D   True  ...         0         0         0         0   \n",
       "\n",
       "   SITE_C67  SITE_C77  SITE_C84  SITE_C92  SITE_D03  BENIGN_BEHAVIOUR  \n",
       "0         0         0         0         0         0                 0  \n",
       "1         0         0         0         0         0                 0  \n",
       "2         0         0         0         0         0                 0  \n",
       "3         0         0         0         0         0                 0  \n",
       "4         0         0         0         0         0                 0  \n",
       "\n",
       "[5 rows x 60 columns]"
      ],
      "text/html": "<div>\n<style scoped>\n    .dataframe tbody tr th:only-of-type {\n        vertical-align: middle;\n    }\n\n    .dataframe tbody tr th {\n        vertical-align: top;\n    }\n\n    .dataframe thead th {\n        text-align: right;\n    }\n</style>\n<table border=\"1\" class=\"dataframe\">\n  <thead>\n    <tr style=\"text-align: right;\">\n      <th></th>\n      <th>GRADE</th>\n      <th>AGE</th>\n      <th>SEX</th>\n      <th>CREG_CODE</th>\n      <th>LATERALITY</th>\n      <th>QUINTILE_2015</th>\n      <th>TUMOUR_COUNT</th>\n      <th>ETHNICITY</th>\n      <th>NEWVITALSTATUS</th>\n      <th>SACT</th>\n      <th>...</th>\n      <th>SITE_D47</th>\n      <th>SITE_C44</th>\n      <th>SITE_C51</th>\n      <th>SITE_C54</th>\n      <th>SITE_C67</th>\n      <th>SITE_C77</th>\n      <th>SITE_C84</th>\n      <th>SITE_C92</th>\n      <th>SITE_D03</th>\n      <th>BENIGN_BEHAVIOUR</th>\n    </tr>\n  </thead>\n  <tbody>\n    <tr>\n      <th>0</th>\n      <td>4</td>\n      <td>69.0</td>\n      <td>1</td>\n      <td>L0401</td>\n      <td>R</td>\n      <td>4</td>\n      <td>2</td>\n      <td>W</td>\n      <td>A</td>\n      <td>False</td>\n      <td>...</td>\n      <td>0</td>\n      <td>0</td>\n      <td>0</td>\n      <td>0</td>\n      <td>0</td>\n      <td>0</td>\n      <td>0</td>\n      <td>0</td>\n      <td>0</td>\n      <td>0</td>\n    </tr>\n    <tr>\n      <th>1</th>\n      <td>4</td>\n      <td>88.0</td>\n      <td>1</td>\n      <td>L1001</td>\n      <td>R</td>\n      <td>1</td>\n      <td>2</td>\n      <td>W</td>\n      <td>D</td>\n      <td>True</td>\n      <td>...</td>\n      <td>0</td>\n      <td>0</td>\n      <td>0</td>\n      <td>0</td>\n      <td>0</td>\n      <td>0</td>\n      <td>0</td>\n      <td>0</td>\n      <td>0</td>\n      <td>0</td>\n    </tr>\n    <tr>\n      <th>2</th>\n      <td>4</td>\n      <td>88.0</td>\n      <td>1</td>\n      <td>L1001</td>\n      <td>R</td>\n      <td>1</td>\n      <td>2</td>\n      <td>W</td>\n      <td>D</td>\n      <td>True</td>\n      <td>...</td>\n      <td>0</td>\n      <td>0</td>\n      <td>0</td>\n      <td>0</td>\n      <td>0</td>\n      <td>0</td>\n      <td>0</td>\n      <td>0</td>\n      <td>0</td>\n      <td>0</td>\n    </tr>\n    <tr>\n      <th>3</th>\n      <td>4</td>\n      <td>88.0</td>\n      <td>1</td>\n      <td>L1001</td>\n      <td>R</td>\n      <td>1</td>\n      <td>2</td>\n      <td>W</td>\n      <td>D</td>\n      <td>True</td>\n      <td>...</td>\n      <td>0</td>\n      <td>0</td>\n      <td>0</td>\n      <td>0</td>\n      <td>0</td>\n      <td>0</td>\n      <td>0</td>\n      <td>0</td>\n      <td>0</td>\n      <td>0</td>\n    </tr>\n    <tr>\n      <th>4</th>\n      <td>4</td>\n      <td>88.0</td>\n      <td>1</td>\n      <td>L1001</td>\n      <td>R</td>\n      <td>1</td>\n      <td>2</td>\n      <td>W</td>\n      <td>D</td>\n      <td>True</td>\n      <td>...</td>\n      <td>0</td>\n      <td>0</td>\n      <td>0</td>\n      <td>0</td>\n      <td>0</td>\n      <td>0</td>\n      <td>0</td>\n      <td>0</td>\n      <td>0</td>\n      <td>0</td>\n    </tr>\n  </tbody>\n</table>\n<p>5 rows × 60 columns</p>\n</div>"
     },
     "metadata": {},
     "execution_count": 9
    }
   ],
   "source": [
    "grade_mapper = {'GX' : -1, 'G0' : 0, 'G1' : 1, 'G2' : 2, 'G3' : 3, 'G4' : 4}\n",
    "df.GRADE = df.GRADE.replace(grade_mapper)\n",
    "df.head()"
   ]
  },
  {
   "cell_type": "code",
   "execution_count": 10,
   "metadata": {},
   "outputs": [
    {
     "output_type": "execute_result",
     "data": {
      "text/plain": [
       "   GRADE   AGE SEX LATERALITY QUINTILE_2015  TUMOUR_COUNT ETHNICITY  \\\n",
       "0      4  69.0   1          R             4             2         W   \n",
       "1      4  88.0   1          R             1             2         W   \n",
       "2      4  88.0   1          R             1             2         W   \n",
       "3      4  88.0   1          R             1             2         W   \n",
       "4      4  88.0   1          R             1             2         W   \n",
       "\n",
       "  NEWVITALSTATUS   SACT  CLINICAL_TRIAL  ...  SITE_D03  BENIGN_BEHAVIOUR  \\\n",
       "0              A  False           False  ...         0                 0   \n",
       "1              D   True           False  ...         0                 0   \n",
       "2              D   True           False  ...         0                 0   \n",
       "3              D   True           False  ...         0                 0   \n",
       "4              D   True           False  ...         0                 0   \n",
       "\n",
       "   CREG_L0201  CREG_L0301  CREG_L0401  CREG_L0801  CREG_L0901  CREG_L1001  \\\n",
       "0           0           0           1           0           0           0   \n",
       "1           0           0           0           0           0           1   \n",
       "2           0           0           0           0           0           1   \n",
       "3           0           0           0           0           0           1   \n",
       "4           0           0           0           0           0           1   \n",
       "\n",
       "   CREG_L1201  CREG_L1701  \n",
       "0           0           0  \n",
       "1           0           0  \n",
       "2           0           0  \n",
       "3           0           0  \n",
       "4           0           0  \n",
       "\n",
       "[5 rows x 67 columns]"
      ],
      "text/html": "<div>\n<style scoped>\n    .dataframe tbody tr th:only-of-type {\n        vertical-align: middle;\n    }\n\n    .dataframe tbody tr th {\n        vertical-align: top;\n    }\n\n    .dataframe thead th {\n        text-align: right;\n    }\n</style>\n<table border=\"1\" class=\"dataframe\">\n  <thead>\n    <tr style=\"text-align: right;\">\n      <th></th>\n      <th>GRADE</th>\n      <th>AGE</th>\n      <th>SEX</th>\n      <th>LATERALITY</th>\n      <th>QUINTILE_2015</th>\n      <th>TUMOUR_COUNT</th>\n      <th>ETHNICITY</th>\n      <th>NEWVITALSTATUS</th>\n      <th>SACT</th>\n      <th>CLINICAL_TRIAL</th>\n      <th>...</th>\n      <th>SITE_D03</th>\n      <th>BENIGN_BEHAVIOUR</th>\n      <th>CREG_L0201</th>\n      <th>CREG_L0301</th>\n      <th>CREG_L0401</th>\n      <th>CREG_L0801</th>\n      <th>CREG_L0901</th>\n      <th>CREG_L1001</th>\n      <th>CREG_L1201</th>\n      <th>CREG_L1701</th>\n    </tr>\n  </thead>\n  <tbody>\n    <tr>\n      <th>0</th>\n      <td>4</td>\n      <td>69.0</td>\n      <td>1</td>\n      <td>R</td>\n      <td>4</td>\n      <td>2</td>\n      <td>W</td>\n      <td>A</td>\n      <td>False</td>\n      <td>False</td>\n      <td>...</td>\n      <td>0</td>\n      <td>0</td>\n      <td>0</td>\n      <td>0</td>\n      <td>1</td>\n      <td>0</td>\n      <td>0</td>\n      <td>0</td>\n      <td>0</td>\n      <td>0</td>\n    </tr>\n    <tr>\n      <th>1</th>\n      <td>4</td>\n      <td>88.0</td>\n      <td>1</td>\n      <td>R</td>\n      <td>1</td>\n      <td>2</td>\n      <td>W</td>\n      <td>D</td>\n      <td>True</td>\n      <td>False</td>\n      <td>...</td>\n      <td>0</td>\n      <td>0</td>\n      <td>0</td>\n      <td>0</td>\n      <td>0</td>\n      <td>0</td>\n      <td>0</td>\n      <td>1</td>\n      <td>0</td>\n      <td>0</td>\n    </tr>\n    <tr>\n      <th>2</th>\n      <td>4</td>\n      <td>88.0</td>\n      <td>1</td>\n      <td>R</td>\n      <td>1</td>\n      <td>2</td>\n      <td>W</td>\n      <td>D</td>\n      <td>True</td>\n      <td>False</td>\n      <td>...</td>\n      <td>0</td>\n      <td>0</td>\n      <td>0</td>\n      <td>0</td>\n      <td>0</td>\n      <td>0</td>\n      <td>0</td>\n      <td>1</td>\n      <td>0</td>\n      <td>0</td>\n    </tr>\n    <tr>\n      <th>3</th>\n      <td>4</td>\n      <td>88.0</td>\n      <td>1</td>\n      <td>R</td>\n      <td>1</td>\n      <td>2</td>\n      <td>W</td>\n      <td>D</td>\n      <td>True</td>\n      <td>False</td>\n      <td>...</td>\n      <td>0</td>\n      <td>0</td>\n      <td>0</td>\n      <td>0</td>\n      <td>0</td>\n      <td>0</td>\n      <td>0</td>\n      <td>1</td>\n      <td>0</td>\n      <td>0</td>\n    </tr>\n    <tr>\n      <th>4</th>\n      <td>4</td>\n      <td>88.0</td>\n      <td>1</td>\n      <td>R</td>\n      <td>1</td>\n      <td>2</td>\n      <td>W</td>\n      <td>D</td>\n      <td>True</td>\n      <td>False</td>\n      <td>...</td>\n      <td>0</td>\n      <td>0</td>\n      <td>0</td>\n      <td>0</td>\n      <td>0</td>\n      <td>0</td>\n      <td>0</td>\n      <td>1</td>\n      <td>0</td>\n      <td>0</td>\n    </tr>\n  </tbody>\n</table>\n<p>5 rows × 67 columns</p>\n</div>"
     },
     "metadata": {},
     "execution_count": 10
    }
   ],
   "source": [
    "creg_dummies = pd.get_dummies(df.CREG_CODE, prefix='CREG')\n",
    "df = df.drop(columns = 'CREG_CODE')\n",
    "df = pd.concat([df, creg_dummies], axis=1)\n",
    "df.head()"
   ]
  },
  {
   "cell_type": "code",
   "execution_count": 11,
   "metadata": {},
   "outputs": [],
   "source": [
    "lat_dummies = pd.get_dummies(df.LATERALITY, prefix='LAT')\n",
    "df = df.drop(columns = 'LATERALITY')\n",
    "df = pd.concat([df, lat_dummies], axis=1)"
   ]
  },
  {
   "cell_type": "code",
   "execution_count": 12,
   "metadata": {},
   "outputs": [],
   "source": [
    "eth_dummies = pd.get_dummies(df.ETHNICITY, prefix='ETH')\n",
    "df = df.drop(columns = 'ETHNICITY')\n",
    "df = pd.concat([df, eth_dummies], axis=1)"
   ]
  },
  {
   "cell_type": "code",
   "execution_count": 13,
   "metadata": {},
   "outputs": [],
   "source": [
    "# only 80 censored\n",
    "# EVENT means not alive \n",
    "df = df.drop(df[df.NEWVITALSTATUS == 'X'].index)\n",
    "vital_mapper = {'A' : 0, 'D' : 1}\n",
    "df['EVENT'] = df.NEWVITALSTATUS.replace(vital_mapper)\n",
    "df = df.drop(columns='NEWVITALSTATUS')\n"
   ]
  },
  {
   "cell_type": "code",
   "execution_count": 14,
   "metadata": {},
   "outputs": [],
   "source": [
    "df.SACT = df.SACT.astype(int)\n",
    "df.CLINICAL_TRIAL_INDICATOR = df.CLINICAL_TRIAL_INDICATOR.astype(int)\n",
    "df.CHEMO_RADIATION_INDICATOR = df.CHEMO_RADIATION_INDICATOR.astype(int)"
   ]
  },
  {
   "cell_type": "code",
   "execution_count": 15,
   "metadata": {},
   "outputs": [
    {
     "output_type": "execute_result",
     "data": {
      "text/plain": [
       "   GRADE   AGE SEX QUINTILE_2015  TUMOUR_COUNT  SACT  CLINICAL_TRIAL  \\\n",
       "0      4  69.0   1             4             2     0           False   \n",
       "1      4  88.0   1             1             2     1           False   \n",
       "2      4  88.0   1             1             2     1           False   \n",
       "3      4  88.0   1             1             2     1           False   \n",
       "4      4  88.0   1             1             2     1           False   \n",
       "\n",
       "   CHEMO_RADIATION  REGIMEN_COUNT  CLINICAL_TRIAL_INDICATOR  ...  LAT_M  \\\n",
       "0            False            0.0                         0  ...      0   \n",
       "1            False            1.0                         0  ...      0   \n",
       "2            False            3.0                         0  ...      0   \n",
       "3            False            2.0                         0  ...      0   \n",
       "4            False            4.0                         0  ...      0   \n",
       "\n",
       "   LAT_R  ETH_A  ETH_B  ETH_C  ETH_M  ETH_O  ETH_U  ETH_W  EVENT  \n",
       "0      1      0      0      0      0      0      0      1      0  \n",
       "1      1      0      0      0      0      0      0      1      1  \n",
       "2      1      0      0      0      0      0      0      1      1  \n",
       "3      1      0      0      0      0      0      0      1      1  \n",
       "4      1      0      0      0      0      0      0      1      1  \n",
       "\n",
       "[5 rows x 77 columns]"
      ],
      "text/html": "<div>\n<style scoped>\n    .dataframe tbody tr th:only-of-type {\n        vertical-align: middle;\n    }\n\n    .dataframe tbody tr th {\n        vertical-align: top;\n    }\n\n    .dataframe thead th {\n        text-align: right;\n    }\n</style>\n<table border=\"1\" class=\"dataframe\">\n  <thead>\n    <tr style=\"text-align: right;\">\n      <th></th>\n      <th>GRADE</th>\n      <th>AGE</th>\n      <th>SEX</th>\n      <th>QUINTILE_2015</th>\n      <th>TUMOUR_COUNT</th>\n      <th>SACT</th>\n      <th>CLINICAL_TRIAL</th>\n      <th>CHEMO_RADIATION</th>\n      <th>REGIMEN_COUNT</th>\n      <th>CLINICAL_TRIAL_INDICATOR</th>\n      <th>...</th>\n      <th>LAT_M</th>\n      <th>LAT_R</th>\n      <th>ETH_A</th>\n      <th>ETH_B</th>\n      <th>ETH_C</th>\n      <th>ETH_M</th>\n      <th>ETH_O</th>\n      <th>ETH_U</th>\n      <th>ETH_W</th>\n      <th>EVENT</th>\n    </tr>\n  </thead>\n  <tbody>\n    <tr>\n      <th>0</th>\n      <td>4</td>\n      <td>69.0</td>\n      <td>1</td>\n      <td>4</td>\n      <td>2</td>\n      <td>0</td>\n      <td>False</td>\n      <td>False</td>\n      <td>0.0</td>\n      <td>0</td>\n      <td>...</td>\n      <td>0</td>\n      <td>1</td>\n      <td>0</td>\n      <td>0</td>\n      <td>0</td>\n      <td>0</td>\n      <td>0</td>\n      <td>0</td>\n      <td>1</td>\n      <td>0</td>\n    </tr>\n    <tr>\n      <th>1</th>\n      <td>4</td>\n      <td>88.0</td>\n      <td>1</td>\n      <td>1</td>\n      <td>2</td>\n      <td>1</td>\n      <td>False</td>\n      <td>False</td>\n      <td>1.0</td>\n      <td>0</td>\n      <td>...</td>\n      <td>0</td>\n      <td>1</td>\n      <td>0</td>\n      <td>0</td>\n      <td>0</td>\n      <td>0</td>\n      <td>0</td>\n      <td>0</td>\n      <td>1</td>\n      <td>1</td>\n    </tr>\n    <tr>\n      <th>2</th>\n      <td>4</td>\n      <td>88.0</td>\n      <td>1</td>\n      <td>1</td>\n      <td>2</td>\n      <td>1</td>\n      <td>False</td>\n      <td>False</td>\n      <td>3.0</td>\n      <td>0</td>\n      <td>...</td>\n      <td>0</td>\n      <td>1</td>\n      <td>0</td>\n      <td>0</td>\n      <td>0</td>\n      <td>0</td>\n      <td>0</td>\n      <td>0</td>\n      <td>1</td>\n      <td>1</td>\n    </tr>\n    <tr>\n      <th>3</th>\n      <td>4</td>\n      <td>88.0</td>\n      <td>1</td>\n      <td>1</td>\n      <td>2</td>\n      <td>1</td>\n      <td>False</td>\n      <td>False</td>\n      <td>2.0</td>\n      <td>0</td>\n      <td>...</td>\n      <td>0</td>\n      <td>1</td>\n      <td>0</td>\n      <td>0</td>\n      <td>0</td>\n      <td>0</td>\n      <td>0</td>\n      <td>0</td>\n      <td>1</td>\n      <td>1</td>\n    </tr>\n    <tr>\n      <th>4</th>\n      <td>4</td>\n      <td>88.0</td>\n      <td>1</td>\n      <td>1</td>\n      <td>2</td>\n      <td>1</td>\n      <td>False</td>\n      <td>False</td>\n      <td>4.0</td>\n      <td>0</td>\n      <td>...</td>\n      <td>0</td>\n      <td>1</td>\n      <td>0</td>\n      <td>0</td>\n      <td>0</td>\n      <td>0</td>\n      <td>0</td>\n      <td>0</td>\n      <td>1</td>\n      <td>1</td>\n    </tr>\n  </tbody>\n</table>\n<p>5 rows × 77 columns</p>\n</div>"
     },
     "metadata": {},
     "execution_count": 15
    }
   ],
   "source": [
    "df.head()"
   ]
  },
  {
   "cell_type": "code",
   "execution_count": 16,
   "metadata": {},
   "outputs": [],
   "source": [
    "# unscaled pandas \n",
    "to_csv(df, './Data/data.csv', index=False)\n",
    "\n",
    "# this would give headerless numpy \n",
    "# data = scale(df)\n",
    "# np.savetxt(\"./Data/data.csv\", data, delimiter=\",\")"
   ]
  },
  {
   "cell_type": "code",
   "execution_count": 17,
   "metadata": {},
   "outputs": [
    {
     "output_type": "execute_result",
     "data": {
      "text/plain": [
       "GRADE                           int64\n",
       "AGE                           float64\n",
       "SEX                          category\n",
       "QUINTILE_2015                  object\n",
       "TUMOUR_COUNT                    int64\n",
       "SACT                            int64\n",
       "CLINICAL_TRIAL                   bool\n",
       "CHEMO_RADIATION                  bool\n",
       "REGIMEN_COUNT                 float64\n",
       "CLINICAL_TRIAL_INDICATOR        int64\n",
       "CHEMO_RADIATION_INDICATOR       int64\n",
       "NORMALISED_HEIGHT             float64\n",
       "NORMALISED_WEIGHT             float64\n",
       "DAYS_TO_FIRST_SURGERY           int64\n",
       "DAYS_SINCE_DIAGNOSIS            int64\n",
       "SITE_C13                        uint8\n",
       "SITE_C17                        uint8\n",
       "SITE_C20                        uint8\n",
       "SITE_C21                        uint8\n",
       "SITE_C22                        uint8\n",
       "SITE_C23                        uint8\n",
       "SITE_C24                        uint8\n",
       "SITE_C25                        uint8\n",
       "SITE_C43                        uint8\n",
       "SITE_C48                        uint8\n",
       "SITE_C50                        uint8\n",
       "SITE_C53                        uint8\n",
       "SITE_C64                        uint8\n",
       "SITE_C65                        uint8\n",
       "SITE_C70                        uint8\n",
       "SITE_C71                        uint8\n",
       "SITE_C72                        uint8\n",
       "SITE_C73                        uint8\n",
       "SITE_C78                        uint8\n",
       "SITE_C79                        uint8\n",
       "SITE_C80                        uint8\n",
       "SITE_C82                        uint8\n",
       "SITE_C91                        uint8\n",
       "SITE_D01                        uint8\n",
       "SITE_D09                        uint8\n",
       "SITE_D32                        uint8\n",
       "SITE_D33                        uint8\n",
       "SITE_D35                        uint8\n",
       "SITE_D37                        uint8\n",
       "SITE_D41                        uint8\n",
       "SITE_D43                        uint8\n",
       "SITE_D47                        uint8\n",
       "SITE_C44                        uint8\n",
       "SITE_C51                        uint8\n",
       "SITE_C54                        uint8\n",
       "SITE_C67                        uint8\n",
       "SITE_C77                        uint8\n",
       "SITE_C84                        uint8\n",
       "SITE_C92                        uint8\n",
       "SITE_D03                        uint8\n",
       "BENIGN_BEHAVIOUR                int64\n",
       "CREG_L0201                      uint8\n",
       "CREG_L0301                      uint8\n",
       "CREG_L0401                      uint8\n",
       "CREG_L0801                      uint8\n",
       "CREG_L0901                      uint8\n",
       "CREG_L1001                      uint8\n",
       "CREG_L1201                      uint8\n",
       "CREG_L1701                      uint8\n",
       "LAT_9                           uint8\n",
       "LAT_B                           uint8\n",
       "LAT_L                           uint8\n",
       "LAT_M                           uint8\n",
       "LAT_R                           uint8\n",
       "ETH_A                           uint8\n",
       "ETH_B                           uint8\n",
       "ETH_C                           uint8\n",
       "ETH_M                           uint8\n",
       "ETH_O                           uint8\n",
       "ETH_U                           uint8\n",
       "ETH_W                           uint8\n",
       "EVENT                           int64\n",
       "dtype: object"
      ]
     },
     "metadata": {},
     "execution_count": 17
    }
   ],
   "source": [
    "pd.set_option('display.max_rows', None)\n",
    "df.dtypes\n"
   ]
  },
  {
   "cell_type": "code",
   "execution_count": null,
   "metadata": {},
   "outputs": [],
   "source": []
  }
 ]
}