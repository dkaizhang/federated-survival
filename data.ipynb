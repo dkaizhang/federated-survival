{
 "cells": [
  {
   "cell_type": "markdown",
   "metadata": {},
   "source": [
    "This notebook just reads the raw csv files, joins them, drops duplicate columns, performs formatting, creates aggregate features and saves the output as a new csv file \n",
    "\n",
    "Workflow:\n",
    "data -> imputer -> preprocess -> survival"
   ]
  },
  {
   "cell_type": "code",
   "execution_count": 1,
   "metadata": {},
   "outputs": [],
   "source": [
    "import numpy as np\n",
    "import pandas as pd\n",
    "\n",
    "from load import load_table, to_csv\n",
    "\n",
    "from utilities import get_cumulative, get_indicator, merge, add_aggregate"
   ]
  },
  {
   "cell_type": "code",
   "execution_count": 2,
   "metadata": {},
   "outputs": [],
   "source": [
    "path = './Data'"
   ]
  },
  {
   "cell_type": "code",
   "execution_count": 3,
   "metadata": {},
   "outputs": [
    {
     "name": "stdout",
     "output_type": "stream",
     "text": [
      "AV_TUMOUR rows: 2371281\n",
      "AV_PATIENT rows: 2200626\n",
      "SACT_PATIENT rows: 366266\n",
      "SACT_TUMOUR rows: 450072\n",
      "SACT_REGIMEN rows: 730472\n",
      "SACT_CYCLE rows: 2442037\n"
     ]
    }
   ],
   "source": [
    "av_tumour = load_table('av_tumour', path)\n",
    "av_patient = load_table('av_patient', path)\n",
    "sact_patient = load_table('sact_patient', path)\n",
    "sact_tumour = load_table('sact_tumour', path)\n",
    "sact_regimen = load_table('sact_regimen', path)\n",
    "sact_cycle = load_table('sact_cycle', path)\n",
    "\n",
    "print(f'AV_TUMOUR rows: {av_tumour.shape[0]}')\n",
    "print(f'AV_PATIENT rows: {av_patient.shape[0]}')\n",
    "print(f'SACT_PATIENT rows: {sact_patient.shape[0]}')\n",
    "print(f'SACT_TUMOUR rows: {sact_tumour.shape[0]}')\n",
    "print(f'SACT_REGIMEN rows: {sact_regimen.shape[0]}')\n",
    "print(f'SACT_CYCLE rows: {sact_cycle.shape[0]}')"
   ]
  },
  {
   "cell_type": "code",
   "execution_count": 4,
   "metadata": {},
   "outputs": [
    {
     "data": {
      "text/plain": [
       "(41, 8)"
      ]
     },
     "execution_count": 4,
     "metadata": {},
     "output_type": "execute_result"
    }
   ],
   "source": [
    "sact_cycle.loc[sact_cycle.MERGED_PATIENT_ID == 210009833].shape"
   ]
  },
  {
   "cell_type": "code",
   "execution_count": 5,
   "metadata": {},
   "outputs": [
    {
     "data": {
      "text/plain": [
       "(2371281, 34)"
      ]
     },
     "execution_count": 5,
     "metadata": {},
     "output_type": "execute_result"
    }
   ],
   "source": [
    "# perform all operations on a copy of av_tumour\n",
    "df = av_tumour.copy()\n",
    "df.shape"
   ]
  },
  {
   "cell_type": "code",
   "execution_count": 6,
   "metadata": {
    "tags": []
   },
   "outputs": [
    {
     "name": "stdout",
     "output_type": "stream",
     "text": [
      "lost:  0\n"
     ]
    },
    {
     "data": {
      "text/plain": [
       "(2371281, 35)"
      ]
     },
     "execution_count": 6,
     "metadata": {},
     "output_type": "execute_result"
    }
   ],
   "source": [
    "# Count number of tumour occurrences at and before a given diagnosis date for a particular patient\n",
    "df = get_cumulative(df, 'PATIENTID', 'DIAGNOSISDATEBEST', 'TUMOUR_COUNT','TUMOURID')\n",
    "df.shape"
   ]
  },
  {
   "cell_type": "code",
   "execution_count": 7,
   "metadata": {},
   "outputs": [
    {
     "data": {
      "text/plain": [
       "(41369, 35)"
      ]
     },
     "execution_count": 7,
     "metadata": {},
     "output_type": "execute_result"
    }
   ],
   "source": [
    "# brain ICD10 codes as per gliocova - see Kerlann's email from 3/2/21\n",
    "# C34 lung\n",
    "# C50 breast\n",
    "\n",
    "OPTION = 0\n",
    "if OPTION == 0:\n",
    "    df = df.drop(df[(df.SITE_ICD10_O2_3CHAR != 'C70') & \n",
    "                    (df.SITE_ICD10_O2_3CHAR != 'C71') & \n",
    "                    (df.SITE_ICD10_O2_3CHAR != 'C72') & \n",
    "                    (df.SITE_ICD10_O2_3CHAR != 'D32') &\n",
    "                    (df.SITE_ICD10_O2_3CHAR != 'D33') &\n",
    "                    (df.SITE_ICD10_O2 != 'D352') &\n",
    "                    (df.SITE_ICD10_O2 != 'D353') &\n",
    "                    (df.SITE_ICD10_O2 != 'D354')].index)\n",
    "elif OPTION == 1:\n",
    "    df = df.drop(df[(df.SITE_ICD10_O2_3CHAR != 'C34')].index)\n",
    "elif OPTION == 2:\n",
    "    df = df.drop(df[(df.SITE_ICD10_O2_3CHAR != 'C50')].index)\n",
    "df.shape"
   ]
  },
  {
   "cell_type": "code",
   "execution_count": 8,
   "metadata": {},
   "outputs": [
    {
     "data": {
      "text/plain": [
       "C71    20565\n",
       "D32    11162\n",
       "D33     4492\n",
       "D35     4088\n",
       "C72      689\n",
       "       ...  \n",
       "C11        0\n",
       "C10        0\n",
       "C09        0\n",
       "C08        0\n",
       "D13        0\n",
       "Name: SITE_ICD10_O2_3CHAR, Length: 115, dtype: int64"
      ]
     },
     "execution_count": 8,
     "metadata": {},
     "output_type": "execute_result"
    }
   ],
   "source": [
    "# note the mismatch between SITE_ICD10_O2 and SITE_ICD10_O2_3CHAR \n",
    "df.SITE_ICD10_O2_3CHAR.value_counts()\n",
    "# df[(df.SITE_ICD10_O2 == 'D352')]"
   ]
  },
  {
   "cell_type": "code",
   "execution_count": 9,
   "metadata": {},
   "outputs": [
    {
     "data": {
      "text/plain": [
       "(41369, 44)"
      ]
     },
     "execution_count": 9,
     "metadata": {},
     "output_type": "execute_result"
    }
   ],
   "source": [
    "df = merge(df, av_patient, on='PATIENTID', suffixes=(None, '_r'))\n",
    "# list(df.columns) \n",
    "df.shape"
   ]
  },
  {
   "cell_type": "code",
   "execution_count": 10,
   "metadata": {},
   "outputs": [
    {
     "data": {
      "text/plain": [
       "(41369, 46)"
      ]
     },
     "execution_count": 10,
     "metadata": {},
     "output_type": "execute_result"
    }
   ],
   "source": [
    "sact_patient['SACT'] = pd.Series([True] * len(sact_patient.index), dtype='boolean')\n",
    "df = merge(df, sact_patient, how='left', left_on='LINKNUMBER', right_on='LINK_NUMBER', suffixes=(None, '_r'))\n",
    "df = df.drop(columns='LINK_NUMBER')\n",
    "# list(df.columns)\n",
    "df.shape "
   ]
  },
  {
   "cell_type": "code",
   "execution_count": 11,
   "metadata": {},
   "outputs": [
    {
     "data": {
      "text/plain": [
       "(47333, 50)"
      ]
     },
     "execution_count": 11,
     "metadata": {},
     "output_type": "execute_result"
    }
   ],
   "source": [
    "df = merge(df, sact_tumour, how='left', on='MERGED_PATIENT_ID', suffixes=(None, '_r'))\n",
    "# list(df.columns) \n",
    "df.shape"
   ]
  },
  {
   "cell_type": "code",
   "execution_count": 12,
   "metadata": {},
   "outputs": [
    {
     "data": {
      "text/plain": [
       "(59263, 60)"
      ]
     },
     "execution_count": 12,
     "metadata": {},
     "output_type": "execute_result"
    }
   ],
   "source": [
    "df = merge(df, sact_regimen, how='left', on='MERGED_TUMOUR_ID', suffixes=(None, '_r'))\n",
    "df.shape"
   ]
  },
  {
   "cell_type": "code",
   "execution_count": 13,
   "metadata": {},
   "outputs": [
    {
     "name": "stdout",
     "output_type": "stream",
     "text": [
      "rows with Regimen 23345\n"
     ]
    }
   ],
   "source": [
    "# those with multiple regimens\n",
    "# regimen = df.loc[~df.MERGED_REGIMEN_ID.isnull()]\n",
    "# multireg = regimen.loc[regimen.PATIENTID.duplicated()]\n",
    "# multireg\n",
    "\n",
    "# rows with Regimen\n",
    "print('rows with Regimen', df.loc[~df.START_DATE_OF_REGIMEN.isnull()].shape[0])"
   ]
  },
  {
   "cell_type": "code",
   "execution_count": 14,
   "metadata": {},
   "outputs": [
    {
     "name": "stdout",
     "output_type": "stream",
     "text": [
      "lost:  0\n"
     ]
    },
    {
     "data": {
      "text/plain": [
       "(59263, 61)"
      ]
     },
     "execution_count": 14,
     "metadata": {},
     "output_type": "execute_result"
    }
   ],
   "source": [
    "# calculate cumulative count of regimens \n",
    "df = get_cumulative(df, groupby='MERGED_PATIENT_ID', date='START_DATE_OF_REGIMEN', name='REGIMEN_COUNT', key='MERGED_REGIMEN_ID')\n",
    "df.shape"
   ]
  },
  {
   "cell_type": "code",
   "execution_count": 15,
   "metadata": {},
   "outputs": [],
   "source": [
    "### Does this even make sense? Perhaps just days since start of diagnosis \n",
    "# df['DATE_FIRST_REGIMEN'] = df[['START_DATE_OF_REGIMEN','MERGED_PATIENT_ID']][~df.START_DATE_OF_REGIMEN.isnull()].groupby(['MERGED_PATIENT_ID'])['START_DATE_OF_REGIMEN'].transform('min')\n",
    "# df.shape\n"
   ]
  },
  {
   "cell_type": "code",
   "execution_count": 16,
   "metadata": {},
   "outputs": [
    {
     "name": "stdout",
     "output_type": "stream",
     "text": [
      "lost:  0\n"
     ]
    },
    {
     "data": {
      "text/plain": [
       "(59263, 62)"
      ]
     },
     "execution_count": 16,
     "metadata": {},
     "output_type": "execute_result"
    }
   ],
   "source": [
    "# assuming 02, N mean no; 00, 99 and missing are treated as no as well\n",
    "df['CLINICAL_TRIAL'] = (df['CLINICAL_TRIAL'] == '01') | (df['CLINICAL_TRIAL'] == '1') | (df['CLINICAL_TRIAL'] == 'Y') | (df['CLINICAL_TRIAL'] == 'y')\n",
    "\n",
    "df = get_indicator(df,'CLINICAL_TRIAL','PATIENTID','START_DATE_OF_REGIMEN','CLINICAL_TRIAL_INDICATOR','MERGED_REGIMEN_ID') \n",
    "df.shape\n"
   ]
  },
  {
   "cell_type": "code",
   "execution_count": 17,
   "metadata": {},
   "outputs": [
    {
     "name": "stdout",
     "output_type": "stream",
     "text": [
      "lost:  0\n"
     ]
    },
    {
     "data": {
      "text/plain": [
       "(59263, 63)"
      ]
     },
     "execution_count": 17,
     "metadata": {},
     "output_type": "execute_result"
    }
   ],
   "source": [
    "# chemo_radiation from SACT to be kept  \n",
    "# assuming 2, N mean no; 0 and missing are treated as no as well\n",
    "df['CHEMO_RADIATION'] = (df['CHEMO_RADIATION'] == '1') | (df['CHEMO_RADIATION'] == 'Y') | (df['CHEMO_RADIATION'] == 'y')\n",
    "\n",
    "df = get_indicator(df,'CHEMO_RADIATION','PATIENTID','START_DATE_OF_REGIMEN','CHEMO_RADIATION_INDICATOR','MERGED_REGIMEN_ID') \n",
    "df.shape\n",
    "# df['CHEMO_RADIATION_INDICATOR'] = df[['CHEMO_RADIATION_INDICATOR','MERGED_PATIENT_ID', 'MERGED_REGIMEN_ID']][~df.MERGED_REGIMEN_ID.isnull()].groupby(['MERGED_PATIENT_ID'])['CHEMO_RADIATION_INDICATOR'].transform('max')"
   ]
  },
  {
   "cell_type": "code",
   "execution_count": 18,
   "metadata": {},
   "outputs": [
    {
     "name": "stdout",
     "output_type": "stream",
     "text": [
      "lost:  0\n",
      "lost:  0\n"
     ]
    },
    {
     "data": {
      "text/plain": [
       "(59263, 65)"
      ]
     },
     "execution_count": 18,
     "metadata": {},
     "output_type": "execute_result"
    }
   ],
   "source": [
    "# height and weight\n",
    "df = add_aggregate(df,what='median',target='HEIGHT_AT_START_OF_REGIMEN',groupby='MERGED_PATIENT_ID',name='NORMALISED_HEIGHT')\n",
    "df = add_aggregate(df,what='median',target='WEIGHT_AT_START_OF_REGIMEN',groupby='MERGED_PATIENT_ID',name='NORMALISED_WEIGHT')\n",
    "\n",
    "df.shape\n",
    "# median_heights = df[(df['SEX'] == 2) & ~(df['HEIGHT_AT_START_OF_REGIMEN'].isnull())]['HEIGHT_AT_START_OF_REGIMEN'].median()"
   ]
  },
  {
   "cell_type": "code",
   "execution_count": 19,
   "metadata": {},
   "outputs": [
    {
     "data": {
      "text/plain": [
       "(94259, 70)"
      ]
     },
     "execution_count": 19,
     "metadata": {},
     "output_type": "execute_result"
    }
   ],
   "source": [
    "df = merge(df, sact_cycle, how='left', on='MERGED_REGIMEN_ID', suffixes=(None, '_r'))\n",
    "df.shape"
   ]
  },
  {
   "cell_type": "code",
   "execution_count": 20,
   "metadata": {},
   "outputs": [],
   "source": [
    "# get a sensible vital status date that's no earlier than any date in the dataset\n",
    "df['LATESTDATE'] = df[['DIAGNOSISDATEBEST','DATE_FIRST_SURGERY','VITALSTATUSDATE','DATE_DECISION_TO_TREAT','START_DATE_OF_REGIMEN','START_DATE_OF_CYCLE']].max(axis=1) "
   ]
  },
  {
   "cell_type": "code",
   "execution_count": 21,
   "metadata": {},
   "outputs": [
    {
     "name": "stdout",
     "output_type": "stream",
     "text": [
      "(94259, 60)\n",
      "(94259, 60)\n"
     ]
    }
   ],
   "source": [
    "df = df.drop(columns=['CONSULTANT_SPECIALITY_CODE','PRIMARY_DIAGNOSIS','MORPHOLOGY_CLEAN','MERGED_REGIMEN_ID'])\n",
    "df = df.drop(columns=['HEIGHT_AT_START_OF_REGIMEN','WEIGHT_AT_START_OF_REGIMEN','INTENT_OF_TREATMENT'])\n",
    "df = df.drop(columns=['MAPPED_REGIMEN','BENCHMARK_GROUP'])\n",
    "# df = df.drop(columns=['DATE_DECISION_TO_TREAT','START_DATE_OF_REGIMEN','START_DATE_OF_CYCLE'])\n",
    "# df = df.drop(columns=['CLINICAL_TRIAL','CHEMO_RADIATION'])\n",
    "# df = df.drop(columns=['MERGED_CYCLE_ID','CYCLE_NUMBER'])\n",
    "df = df.drop(columns=['OPCS_PROCUREMENT_CODE','PERF_STATUS_START_OF_CYCLE'])\n",
    "print(df.shape)\n",
    "df = df.drop_duplicates()\n",
    "print(df.shape)"
   ]
  },
  {
   "cell_type": "code",
   "execution_count": 22,
   "metadata": {},
   "outputs": [
    {
     "data": {
      "text/plain": [
       "TUMOURID                              int64\n",
       "PATIENTID                             int64\n",
       "DIAGNOSISDATEBEST            datetime64[ns]\n",
       "SITE_ICD10_O2                      category\n",
       "SITE_ICD10_O2_3CHAR                category\n",
       "MORPH_ICD10_O2                     category\n",
       "BEHAVIOUR_ICD10_O2                 category\n",
       "T_BEST                             category\n",
       "N_BEST                             category\n",
       "M_BEST                             category\n",
       "STAGE_BEST                         category\n",
       "STAGE_BEST_SYSTEM                  category\n",
       "GRADE                              category\n",
       "AGE                                 float64\n",
       "SEX                                category\n",
       "CREG_CODE                          category\n",
       "LINKNUMBER                            int64\n",
       "SCREENINGSTATUSFULL_CODE           category\n",
       "ER_STATUS                          category\n",
       "ER_SCORE                           category\n",
       "PR_STATUS                          category\n",
       "PR_SCORE                           category\n",
       "HER2_STATUS                        category\n",
       "CANCERCAREPLANINTENT               category\n",
       "PERFORMANCESTATUS                  category\n",
       "CNS                                category\n",
       "ACE27                              category\n",
       "GLEASON_PRIMARY                    category\n",
       "GLEASON_SECONDARY                  category\n",
       "GLEASON_TERTIARY                   category\n",
       "GLEASON_COMBINED                   category\n",
       "DATE_FIRST_SURGERY           datetime64[ns]\n",
       "LATERALITY                         category\n",
       "QUINTILE_2015                      category\n",
       "TUMOUR_COUNT                          int64\n",
       "ETHNICITY                          category\n",
       "DEATHCAUSECODE_1A                    object\n",
       "DEATHCAUSECODE_1B                    object\n",
       "DEATHCAUSECODE_1C                    object\n",
       "DEATHCAUSECODE_2                     object\n",
       "DEATHCAUSECODE_UNDERLYING            object\n",
       "DEATHLOCATIONCODE                  category\n",
       "NEWVITALSTATUS                     category\n",
       "VITALSTATUSDATE              datetime64[ns]\n",
       "MERGED_PATIENT_ID                   float64\n",
       "SACT                                boolean\n",
       "MERGED_TUMOUR_ID                    float64\n",
       "DATE_DECISION_TO_TREAT       datetime64[ns]\n",
       "START_DATE_OF_REGIMEN        datetime64[ns]\n",
       "CLINICAL_TRIAL                         bool\n",
       "CHEMO_RADIATION                        bool\n",
       "REGIMEN_COUNT                       float64\n",
       "CLINICAL_TRIAL_INDICATOR             object\n",
       "CHEMO_RADIATION_INDICATOR            object\n",
       "NORMALISED_HEIGHT                   float64\n",
       "NORMALISED_WEIGHT                   float64\n",
       "MERGED_CYCLE_ID                     float64\n",
       "CYCLE_NUMBER                        float64\n",
       "START_DATE_OF_CYCLE          datetime64[ns]\n",
       "LATESTDATE                   datetime64[ns]\n",
       "dtype: object"
      ]
     },
     "execution_count": 22,
     "metadata": {},
     "output_type": "execute_result"
    }
   ],
   "source": [
    "if OPTION == 0:\n",
    "    to_csv(df, f'{path}/bt.csv')\n",
    "elif OPTION == 1:\n",
    "    to_csv(df, f'{path}/lung.csv')\n",
    "elif OPTION == 2:\n",
    "    to_csv(df, f'{path}/breast.csv')\n",
    "df.dtypes\n"
   ]
  },
  {
   "cell_type": "code",
   "execution_count": null,
   "metadata": {},
   "outputs": [],
   "source": []
  }
 ],
 "metadata": {
  "interpreter": {
   "hash": "f1c13921e8e375de9335a0ccf3b3c47f8dbb15e8689cc78791955ed1115cd503"
  },
  "kernelspec": {
   "display_name": "Python 3.8.7 64-bit ('flenv': venv)",
   "name": "python3"
  },
  "language_info": {
   "codemirror_mode": {
    "name": "ipython",
    "version": 3
   },
   "file_extension": ".py",
   "mimetype": "text/x-python",
   "name": "python",
   "nbconvert_exporter": "python",
   "pygments_lexer": "ipython3",
   "version": "3.8.7"
  },
  "metadata": {
   "interpreter": {
    "hash": "f1c13921e8e375de9335a0ccf3b3c47f8dbb15e8689cc78791955ed1115cd503"
   }
  }
 },
 "nbformat": 4,
 "nbformat_minor": 5
}