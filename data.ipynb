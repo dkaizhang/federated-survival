{
 "cells": [
  {
   "source": [
    "This notebook just reads the raw csv files, joins them, drops duplicate columns, performs formatting, creates aggregate features and saves the output as a new csv file \n",
    "\n",
    "Workflow:\n",
    "data -> imputer -> preprocess -> survival"
   ],
   "cell_type": "markdown",
   "metadata": {}
  },
  {
   "cell_type": "code",
   "execution_count": 1,
   "id": "greatest-foundation",
   "metadata": {},
   "outputs": [],
   "source": [
    "import numpy as np\n",
    "import pandas as pd\n",
    "\n",
    "from load import load_table, to_csv\n",
    "\n",
    "from utilities import get_cumulative, get_indicator, merge, add_aggregate"
   ]
  },
  {
   "cell_type": "code",
   "execution_count": 2,
   "id": "opened-content",
   "metadata": {},
   "outputs": [],
   "source": [
    "path = './Data'"
   ]
  },
  {
   "cell_type": "code",
   "execution_count": 3,
   "id": "median-president",
   "metadata": {},
   "outputs": [
    {
     "output_type": "stream",
     "name": "stdout",
     "text": [
      "AV_TUMOUR rows: 2371281\nAV_PATIENT rows: 2200626\nSACT_PATIENT rows: 366266\nSACT_TUMOUR rows: 450072\nSACT_REGIMEN rows: 730472\nSACT_CYCLE rows: 2442037\n"
     ]
    }
   ],
   "source": [
    "av_tumour = load_table('av_tumour', path)\n",
    "av_patient = load_table('av_patient', path)\n",
    "sact_patient = load_table('sact_patient', path)\n",
    "sact_tumour = load_table('sact_tumour', path)\n",
    "sact_regimen = load_table('sact_regimen', path)\n",
    "sact_cycle = load_table('sact_cycle', path)\n",
    "\n",
    "print(f'AV_TUMOUR rows: {av_tumour.shape[0]}')\n",
    "print(f'AV_PATIENT rows: {av_patient.shape[0]}')\n",
    "print(f'SACT_PATIENT rows: {sact_patient.shape[0]}')\n",
    "print(f'SACT_TUMOUR rows: {sact_tumour.shape[0]}')\n",
    "print(f'SACT_REGIMEN rows: {sact_regimen.shape[0]}')\n",
    "print(f'SACT_CYCLE rows: {sact_cycle.shape[0]}')"
   ]
  },
  {
   "cell_type": "code",
   "execution_count": 5,
   "metadata": {},
   "outputs": [
    {
     "output_type": "execute_result",
     "data": {
      "text/plain": [
       "(2371281, 34)"
      ]
     },
     "metadata": {},
     "execution_count": 5
    }
   ],
   "source": [
    "# perform all operations on a copy of av_tumour\n",
    "df = av_tumour.copy()\n",
    "df.shape"
   ]
  },
  {
   "cell_type": "code",
   "execution_count": 6,
   "metadata": {
    "tags": []
   },
   "outputs": [
    {
     "output_type": "stream",
     "name": "stdout",
     "text": [
      "lost:  0\n"
     ]
    },
    {
     "output_type": "execute_result",
     "data": {
      "text/plain": [
       "(2371281, 35)"
      ]
     },
     "metadata": {},
     "execution_count": 6
    }
   ],
   "source": [
    "# Count number of tumour occurrences at and before a given diagnosis date for a particular patient\n",
    "df = get_cumulative(df, 'PATIENTID', 'DIAGNOSISDATEBEST', 'TUMOUR_COUNT','TUMOURID')\n",
    "df.shape"
   ]
  },
  {
   "cell_type": "code",
   "execution_count": 7,
   "metadata": {},
   "outputs": [
    {
     "output_type": "execute_result",
     "data": {
      "text/plain": [
       "(41369, 35)"
      ]
     },
     "metadata": {},
     "execution_count": 7
    }
   ],
   "source": [
    "# brain ICD10 codes as per gliocova - see Kerlann's email from 3/2/21\n",
    "# C34 lung\n",
    "# C50 breast\n",
    "\n",
    "OPTION = 0\n",
    "if OPTION == 0:\n",
    "    df = df.drop(df[(df.SITE_ICD10_O2_3CHAR != 'C70') & \n",
    "                    (df.SITE_ICD10_O2_3CHAR != 'C71') & \n",
    "                    (df.SITE_ICD10_O2_3CHAR != 'C72') & \n",
    "                    (df.SITE_ICD10_O2_3CHAR != 'D32') &\n",
    "                    (df.SITE_ICD10_O2_3CHAR != 'D33') &\n",
    "                    (df.SITE_ICD10_O2 != 'D352') &\n",
    "                    (df.SITE_ICD10_O2 != 'D353') &\n",
    "                    (df.SITE_ICD10_O2 != 'D354')].index)\n",
    "elif OPTION == 1:\n",
    "    df = df.drop(df[(df.SITE_ICD10_O2_3CHAR != 'C34')].index)\n",
    "elif OPTION == 2:\n",
    "    df = df.drop(df[(df.SITE_ICD10_O2_3CHAR != 'C50')].index)\n",
    "df.shape"
   ]
  },
  {
   "cell_type": "code",
   "execution_count": 8,
   "metadata": {},
   "outputs": [
    {
     "output_type": "execute_result",
     "data": {
      "text/plain": [
       "C71    20565\n",
       "D32    11162\n",
       "D33     4492\n",
       "D35     4088\n",
       "C72      689\n",
       "       ...  \n",
       "C11        0\n",
       "C10        0\n",
       "C09        0\n",
       "C08        0\n",
       "D13        0\n",
       "Name: SITE_ICD10_O2_3CHAR, Length: 115, dtype: int64"
      ]
     },
     "metadata": {},
     "execution_count": 8
    }
   ],
   "source": [
    "# note the mismatch between SITE_ICD10_O2 and SITE_ICD10_O2_3CHAR \n",
    "df.SITE_ICD10_O2_3CHAR.value_counts()\n",
    "# df[(df.SITE_ICD10_O2 == 'D352')]"
   ]
  },
  {
   "cell_type": "code",
   "execution_count": 9,
   "id": "wooden-orange",
   "metadata": {},
   "outputs": [
    {
     "output_type": "execute_result",
     "data": {
      "text/plain": [
       "(41369, 44)"
      ]
     },
     "metadata": {},
     "execution_count": 9
    }
   ],
   "source": [
    "df = merge(df, av_patient, on='PATIENTID', suffixes=(None, '_r'))\n",
    "# list(df.columns) \n",
    "df.shape"
   ]
  },
  {
   "cell_type": "code",
   "execution_count": 10,
   "id": "fatty-painting",
   "metadata": {},
   "outputs": [
    {
     "output_type": "execute_result",
     "data": {
      "text/plain": [
       "(41369, 46)"
      ]
     },
     "metadata": {},
     "execution_count": 10
    }
   ],
   "source": [
    "sact_patient['SACT'] = pd.Series([True] * len(sact_patient.index), dtype='boolean')\n",
    "df = merge(df, sact_patient, how='left', left_on='LINKNUMBER', right_on='LINK_NUMBER', suffixes=(None, '_r'))\n",
    "df = df.drop(columns='LINK_NUMBER')\n",
    "# list(df.columns)\n",
    "df.shape "
   ]
  },
  {
   "cell_type": "code",
   "execution_count": 11,
   "metadata": {},
   "outputs": [
    {
     "output_type": "execute_result",
     "data": {
      "text/plain": [
       "(47333, 50)"
      ]
     },
     "metadata": {},
     "execution_count": 11
    }
   ],
   "source": [
    "df = merge(df, sact_tumour, how='left', on='MERGED_PATIENT_ID', suffixes=(None, '_r'))\n",
    "# list(df.columns) \n",
    "df.shape"
   ]
  },
  {
   "cell_type": "code",
   "execution_count": 12,
   "metadata": {},
   "outputs": [
    {
     "output_type": "execute_result",
     "data": {
      "text/plain": [
       "(59263, 60)"
      ]
     },
     "metadata": {},
     "execution_count": 12
    }
   ],
   "source": [
    "df = merge(df, sact_regimen, how='left', on='MERGED_TUMOUR_ID', suffixes=(None, '_r'))\n",
    "df.shape"
   ]
  },
  {
   "cell_type": "code",
   "execution_count": 13,
   "metadata": {},
   "outputs": [
    {
     "output_type": "stream",
     "name": "stdout",
     "text": [
      "rows with Regimen 23345\n"
     ]
    }
   ],
   "source": [
    "# those with multiple regimens\n",
    "# regimen = df.loc[~df.MERGED_REGIMEN_ID.isnull()]\n",
    "# multireg = regimen.loc[regimen.PATIENTID.duplicated()]\n",
    "# multireg\n",
    "\n",
    "# rows with Regimen\n",
    "print('rows with Regimen', df.loc[~df.START_DATE_OF_REGIMEN.isnull()].shape[0])"
   ]
  },
  {
   "cell_type": "code",
   "execution_count": 14,
   "metadata": {},
   "outputs": [
    {
     "output_type": "stream",
     "name": "stdout",
     "text": [
      "lost:  0\n"
     ]
    },
    {
     "output_type": "execute_result",
     "data": {
      "text/plain": [
       "(59263, 61)"
      ]
     },
     "metadata": {},
     "execution_count": 14
    }
   ],
   "source": [
    "# calculate cumulative count of regimens \n",
    "df = get_cumulative(df, groupby='MERGED_PATIENT_ID', date='START_DATE_OF_REGIMEN', name='REGIMEN_COUNT', key='MERGED_REGIMEN_ID')\n",
    "df.shape"
   ]
  },
  {
   "cell_type": "code",
   "execution_count": 15,
   "metadata": {},
   "outputs": [],
   "source": [
    "### Does this even make sense? Perhaps just days since start of diagnosis \n",
    "# df['DATE_FIRST_REGIMEN'] = df[['START_DATE_OF_REGIMEN','MERGED_PATIENT_ID']][~df.START_DATE_OF_REGIMEN.isnull()].groupby(['MERGED_PATIENT_ID'])['START_DATE_OF_REGIMEN'].transform('min')\n",
    "# df.shape\n"
   ]
  },
  {
   "cell_type": "code",
   "execution_count": 16,
   "metadata": {},
   "outputs": [
    {
     "output_type": "stream",
     "name": "stdout",
     "text": [
      "lost:  0\n"
     ]
    },
    {
     "output_type": "execute_result",
     "data": {
      "text/plain": [
       "(59263, 62)"
      ]
     },
     "metadata": {},
     "execution_count": 16
    }
   ],
   "source": [
    "# assuming 02, N mean no; 00, 99 and missing are treated as no as well\n",
    "df['CLINICAL_TRIAL'] = (df['CLINICAL_TRIAL'] == '01') | (df['CLINICAL_TRIAL'] == '1') | (df['CLINICAL_TRIAL'] == 'Y') | (df['CLINICAL_TRIAL'] == 'y')\n",
    "\n",
    "df = get_indicator(df,'CLINICAL_TRIAL','PATIENTID','START_DATE_OF_REGIMEN','CLINICAL_TRIAL_INDICATOR','MERGED_REGIMEN_ID') \n",
    "df.shape\n"
   ]
  },
  {
   "cell_type": "code",
   "execution_count": 17,
   "metadata": {},
   "outputs": [],
   "source": [
    "# patientid 250012125 became duplicated after getting an indicator on clinical trial enrolment \n",
    "# df.loc[df.PATIENTID.isin([250012125])]\n",
    "# to_csv(df.loc[df.PATIENTID.isin([250012125])] ,f'{path}/toy2.csv')"
   ]
  },
  {
   "cell_type": "code",
   "execution_count": 18,
   "metadata": {},
   "outputs": [
    {
     "output_type": "stream",
     "name": "stdout",
     "text": [
      "lost:  0\n"
     ]
    },
    {
     "output_type": "execute_result",
     "data": {
      "text/plain": [
       "(59263, 63)"
      ]
     },
     "metadata": {},
     "execution_count": 18
    }
   ],
   "source": [
    "# chemo_radiation from SACT to be kept  \n",
    "# assuming 2, N mean no; 0 and missing are treated as no as well\n",
    "df['CHEMO_RADIATION'] = (df['CHEMO_RADIATION'] == '1') | (df['CHEMO_RADIATION'] == 'Y') | (df['CHEMO_RADIATION'] == 'y')\n",
    "\n",
    "df = get_indicator(df,'CHEMO_RADIATION','PATIENTID','START_DATE_OF_REGIMEN','CHEMO_RADIATION_INDICATOR','MERGED_REGIMEN_ID') \n",
    "df.shape\n",
    "# df['CHEMO_RADIATION_INDICATOR'] = df[['CHEMO_RADIATION_INDICATOR','MERGED_PATIENT_ID', 'MERGED_REGIMEN_ID']][~df.MERGED_REGIMEN_ID.isnull()].groupby(['MERGED_PATIENT_ID'])['CHEMO_RADIATION_INDICATOR'].transform('max')"
   ]
  },
  {
   "cell_type": "code",
   "execution_count": 19,
   "metadata": {},
   "outputs": [
    {
     "output_type": "stream",
     "name": "stdout",
     "text": [
      "lost:  0\n",
      "lost:  0\n"
     ]
    },
    {
     "output_type": "execute_result",
     "data": {
      "text/plain": [
       "(59263, 65)"
      ]
     },
     "metadata": {},
     "execution_count": 19
    }
   ],
   "source": [
    "# height and weight\n",
    "df = add_aggregate(df,what='median',target='HEIGHT_AT_START_OF_REGIMEN',groupby='MERGED_PATIENT_ID',name='NORMALISED_HEIGHT')\n",
    "df = add_aggregate(df,what='median',target='WEIGHT_AT_START_OF_REGIMEN',groupby='MERGED_PATIENT_ID',name='NORMALISED_WEIGHT')\n",
    "\n",
    "df.shape\n",
    "# median_heights = df[(df['SEX'] == 2) & ~(df['HEIGHT_AT_START_OF_REGIMEN'].isnull())]['HEIGHT_AT_START_OF_REGIMEN'].median()"
   ]
  },
  {
   "cell_type": "code",
   "execution_count": 20,
   "metadata": {},
   "outputs": [
    {
     "output_type": "execute_result",
     "data": {
      "text/plain": [
       "(94259, 70)"
      ]
     },
     "metadata": {},
     "execution_count": 20
    }
   ],
   "source": [
    "df = merge(df, sact_cycle, how='left', on='MERGED_REGIMEN_ID', suffixes=(None, '_r'))\n",
    "df.shape"
   ]
  },
  {
   "cell_type": "code",
   "execution_count": 21,
   "metadata": {},
   "outputs": [
    {
     "output_type": "stream",
     "name": "stdout",
     "text": [
      "(94259, 56)\n(59263, 56)\n"
     ]
    }
   ],
   "source": [
    "df = df.drop(columns=['CONSULTANT_SPECIALITY_CODE','PRIMARY_DIAGNOSIS','MORPHOLOGY_CLEAN','MERGED_REGIMEN_ID'])\n",
    "df = df.drop(columns=['HEIGHT_AT_START_OF_REGIMEN','WEIGHT_AT_START_OF_REGIMEN','INTENT_OF_TREATMENT'])\n",
    "df = df.drop(columns=['MAPPED_REGIMEN','BENCHMARK_GROUP'])\n",
    "# df = df.drop(columns=['DATE_DECISION_TO_TREAT','START_DATE_OF_REGIMEN','START_DATE_OF_CYCLE'])\n",
    "# df = df.drop(columns=['CLINICAL_TRIAL','CHEMO_RADIATION'])\n",
    "df = df.drop(columns=['MERGED_CYCLE_ID','CYCLE_NUMBER','OPCS_PROCUREMENT_CODE','PERF_STATUS_START_OF_CYCLE'])\n",
    "print(df.shape)\n",
    "df = df.drop_duplicates()\n",
    "print(df.shape)"
   ]
  },
  {
   "cell_type": "code",
   "execution_count": 22,
   "metadata": {},
   "outputs": [
    {
     "output_type": "execute_result",
     "data": {
      "text/plain": [
       "TUMOURID                              int64\n",
       "PATIENTID                             int64\n",
       "DIAGNOSISDATEBEST            datetime64[ns]\n",
       "SITE_ICD10_O2                      category\n",
       "SITE_ICD10_O2_3CHAR                category\n",
       "MORPH_ICD10_O2                     category\n",
       "BEHAVIOUR_ICD10_O2                 category\n",
       "T_BEST                             category\n",
       "N_BEST                             category\n",
       "M_BEST                             category\n",
       "STAGE_BEST                         category\n",
       "STAGE_BEST_SYSTEM                  category\n",
       "GRADE                              category\n",
       "AGE                                 float64\n",
       "SEX                                category\n",
       "CREG_CODE                          category\n",
       "LINKNUMBER                            int64\n",
       "SCREENINGSTATUSFULL_CODE           category\n",
       "ER_STATUS                          category\n",
       "ER_SCORE                           category\n",
       "PR_STATUS                          category\n",
       "PR_SCORE                           category\n",
       "HER2_STATUS                        category\n",
       "CANCERCAREPLANINTENT               category\n",
       "PERFORMANCESTATUS                  category\n",
       "CNS                                category\n",
       "ACE27                              category\n",
       "GLEASON_PRIMARY                    category\n",
       "GLEASON_SECONDARY                  category\n",
       "GLEASON_TERTIARY                   category\n",
       "GLEASON_COMBINED                   category\n",
       "DATE_FIRST_SURGERY           datetime64[ns]\n",
       "LATERALITY                         category\n",
       "QUINTILE_2015                      category\n",
       "TUMOUR_COUNT                          int64\n",
       "ETHNICITY                          category\n",
       "DEATHCAUSECODE_1A                    object\n",
       "DEATHCAUSECODE_1B                    object\n",
       "DEATHCAUSECODE_1C                    object\n",
       "DEATHCAUSECODE_2                     object\n",
       "DEATHCAUSECODE_UNDERLYING            object\n",
       "DEATHLOCATIONCODE                  category\n",
       "NEWVITALSTATUS                     category\n",
       "VITALSTATUSDATE              datetime64[ns]\n",
       "MERGED_PATIENT_ID                   float64\n",
       "SACT                                boolean\n",
       "MERGED_TUMOUR_ID                    float64\n",
       "DATE_DECISION_TO_TREAT       datetime64[ns]\n",
       "START_DATE_OF_REGIMEN        datetime64[ns]\n",
       "CLINICAL_TRIAL                         bool\n",
       "CHEMO_RADIATION                        bool\n",
       "REGIMEN_COUNT                       float64\n",
       "CLINICAL_TRIAL_INDICATOR            boolean\n",
       "CHEMO_RADIATION_INDICATOR           boolean\n",
       "NORMALISED_HEIGHT                   float64\n",
       "NORMALISED_WEIGHT                   float64\n",
       "dtype: object"
      ]
     },
     "metadata": {},
     "execution_count": 22
    }
   ],
   "source": [
    "if OPTION == 0:\n",
    "    to_csv(df, f'{path}/bt.csv')\n",
    "elif OPTION == 1:\n",
    "    to_csv(df, f'{path}/lung.csv')\n",
    "elif OPTION == 2:\n",
    "    to_csv(df, f'{path}/breast.csv')\n",
    "df.dtypes\n"
   ]
  },
  {
   "cell_type": "code",
   "execution_count": 25,
   "metadata": {},
   "outputs": [
    {
     "output_type": "execute_result",
     "data": {
      "text/plain": [
       "         C712   \n",
       "34172  210009833  210009833        2015-09-02          C712   \n",
       "34179  210009833  210009833        2015-09-02          C712   \n",
       "34181  210009833  210009833        2015-09-02          C712   \n",
       "34182  210009833  210009833        2015-09-02          C712   \n",
       "34183  210009833  210009833        2015-09-02          C712   \n",
       "34184  210009833  210009833        2015-09-02          C712   \n",
       "34185  210009833  210009833        2015-09-02          C712   \n",
       "34186  210009833  210009833        2015-09-02          C712   \n",
       "34188  210009833  210009833        2015-09-02          C712   \n",
       "34192  210009833  210009833        2015-09-02          C712   \n",
       "34193  210009833  210009833        2015-09-02          C712   \n",
       "34194  210009833  210009833        2015-09-02          C712   \n",
       "34195  210009833  210009833        2015-09-02          C712   \n",
       "34198  210009833  210009833        2015-09-02          C712   \n",
       "34199  210009833  210009833        2015-09-02          C712   \n",
       "34200  210009833  210009833        2015-09-02          C712   \n",
       "34203  210009833  210009833        2015-09-02          C712   \n",
       "34206  210009833  210009833        2015-09-02          C712   \n",
       "\n",
       "      SITE_ICD10_O2_3CHAR MORPH_ICD10_O2 BEHAVIOUR_ICD10_O2 T_BEST N_BEST  \\\n",
       "34170                 C71           9440                  3    NaN    NaN   \n",
       "34171                 C71           9440                  3    NaN    NaN   \n",
       "34172                 C71           9440                  3    NaN    NaN   \n",
       "34179                 C71           9440                  3    NaN    NaN   \n",
       "34181                 C71           9440                  3    NaN    NaN   \n",
       "34182                 C71           9440                  3    NaN    NaN   \n",
       "34183                 C71           9440                  3    NaN    NaN   \n",
       "34184                 C71           9440                  3    NaN    NaN   \n",
       "34185                 C71           9440                  3    NaN    NaN   \n",
       "34186                 C71           9440                  3    NaN    NaN   \n",
       "34188                 C71           9440                  3    NaN    NaN   \n",
       "34192                 C71           9440                  3    NaN    NaN   \n",
       "34193                 C71           9440                  3    NaN    NaN   \n",
       "34194                 C71           9440                  3    NaN    NaN   \n",
       "34195                 C71           9440                  3    NaN    NaN   \n",
       "34198                 C71           9440                  3    NaN    NaN   \n",
       "34199                 C71           9440                  3    NaN    NaN   \n",
       "34200                 C71           9440                  3    NaN    NaN   \n",
       "34203                 C71           9440                  3    NaN    NaN   \n",
       "34206                 C71           9440                  3    NaN    NaN   \n",
       "\n",
       "      M_BEST STAGE_BEST STAGE_BEST_SYSTEM GRADE   AGE SEX CREG_CODE  \\\n",
       "34170    NaN          U               NaN    G4  36.0   2     L0301   \n",
       "34171    NaN          U               NaN    G4  36.0   2     L0301   \n",
       "34172    NaN          U               NaN    G4  36.0   2     L0301   \n",
       "34179    NaN          U               NaN    G4  36.0   2     L0301   \n",
       "34181    NaN          U               NaN    G4  36.0   2     L0301   \n",
       "34182    NaN          U               NaN    G4  36.0   2     L0301   \n",
       "34183    NaN          U               NaN    G4  36.0   2     L0301   \n",
       "34184    NaN          U               NaN    G4  36.0   2     L0301   \n",
       "34185    NaN          U               NaN    G4  36.0   2     L0301   \n",
       "34186    NaN          U               NaN    G4  36.0   2     L0301   \n",
       "34188    NaN          U               NaN    G4  36.0   2     L0301   \n",
       "34192    NaN          U               NaN    G4  36.0   2     L0301   \n",
       "34193    NaN          U               NaN    G4  36.0   2     L0301   \n",
       "34194    NaN          U               NaN    G4  36.0   2     L0301   \n",
       "34195    NaN          U               NaN    G4  36.0   2     L0301   \n",
       "34198    NaN          U               NaN    G4  36.0   2     L0301   \n",
       "34199    NaN          U               NaN    G4  36.0   2     L0301   \n",
       "34200    NaN          U               NaN    G4  36.0   2     L0301   \n",
       "34203    NaN          U               NaN    G4  36.0   2     L0301   \n",
       "34206    NaN          U               NaN    G4  36.0   2     L0301   \n",
       "\n",
       "       LINKNUMBER SCREENINGSTATUSFULL_CODE ER_STATUS ER_SCORE PR_STATUS  \\\n",
       "34170  1010009833                      NaN       NaN      NaN       NaN   \n",
       "34171  1010009833                      NaN       NaN      NaN       NaN   \n",
       "34172  1010009833                      NaN       NaN      NaN       NaN   \n",
       "34179  1010009833                      NaN       NaN      NaN       NaN   \n",
       "34181  1010009833                      NaN       NaN      NaN       NaN   \n",
       "34182  1010009833                      NaN       NaN      NaN       NaN   \n",
       "34183  1010009833                      NaN       NaN      NaN       NaN   \n",
       "34184  1010009833                      NaN       NaN      NaN       NaN   \n",
       "34185  1010009833                      NaN       NaN      NaN       NaN   \n",
       "34186  1010009833                      NaN       NaN      NaN       NaN   \n",
       "34188  1010009833                      NaN       NaN      NaN       NaN   \n",
       "34192  1010009833                      NaN       NaN      NaN       NaN   \n",
       "34193  1010009833                      NaN       NaN      NaN       NaN   \n",
       "34194  1010009833                      NaN       NaN      NaN       NaN   \n",
       "34195  1010009833                      NaN       NaN      NaN       NaN   \n",
       "34198  1010009833                      NaN       NaN      NaN       NaN   \n",
       "34199  1010009833                      NaN       NaN      NaN       NaN   \n",
       "34200  1010009833                      NaN       NaN      NaN       NaN   \n",
       "34203  1010009833                      NaN       NaN      NaN       NaN   \n",
       "34206  1010009833                      NaN       NaN      NaN       NaN   \n",
       "\n",
       "      PR_SCORE HER2_STATUS CANCERCAREPLANINTENT PERFORMANCESTATUS  CNS ACE27  \\\n",
       "34170      NaN         NaN                  NaN               NaN  NaN   NaN   \n",
       "34171      NaN         NaN                  NaN               NaN  NaN   NaN   \n",
       "34172      NaN         NaN                  NaN               NaN  NaN   NaN   \n",
       "34179      NaN         NaN                  NaN               NaN  NaN   NaN   \n",
       "34181      NaN         NaN                  NaN               NaN  NaN   NaN   \n",
       "34182      NaN         NaN                  NaN               NaN  NaN   NaN   \n",
       "34183      NaN         NaN                  NaN               NaN  NaN   NaN   \n",
       "34184      NaN         NaN                  NaN               NaN  NaN   NaN   \n",
       "34185      NaN         NaN                  NaN               NaN  NaN   NaN   \n",
       "34186      NaN         NaN                  NaN               NaN  NaN   NaN   \n",
       "34188      NaN         NaN                  NaN               NaN  NaN   NaN   \n",
       "34192      NaN         NaN                  NaN               NaN  NaN   NaN   \n",
       "34193      NaN         NaN                  NaN               NaN  NaN   NaN   \n",
       "34194      NaN         NaN                  NaN               NaN  NaN   NaN   \n",
       "34195      NaN         NaN                  NaN               NaN  NaN   NaN   \n",
       "34198      NaN         NaN                  NaN               NaN  NaN   NaN   \n",
       "34199      NaN         NaN                  NaN               NaN  NaN   NaN   \n",
       "34200      NaN         NaN                  NaN               NaN  NaN   NaN   \n",
       "34203      NaN         NaN                  NaN               NaN  NaN   NaN   \n",
       "34206      NaN         NaN                  NaN               NaN  NaN   NaN   \n",
       "\n",
       "      GLEASON_PRIMARY GLEASON_SECONDARY GLEASON_TERTIARY GLEASON_COMBINED  \\\n",
       "34170             NaN               NaN              NaN              NaN   \n",
       "34171             NaN               NaN              NaN              NaN   \n",
       "34172             NaN               NaN              NaN              NaN   \n",
       "34179             NaN               NaN              NaN              NaN   \n",
       "34181             NaN               NaN              NaN              NaN   \n",
       "34182             NaN               NaN              NaN              NaN   \n",
       "34183             NaN               NaN              NaN              NaN   \n",
       "34184             NaN               NaN              NaN              NaN   \n",
       "34185             NaN               NaN              NaN              NaN   \n",
       "34186             NaN               NaN              NaN              NaN   \n",
       "34188             NaN               NaN              NaN              NaN   \n",
       "34192             NaN               NaN              NaN              NaN   \n",
       "34193             NaN               NaN              NaN              NaN   \n",
       "34194             NaN               NaN              NaN              NaN   \n",
       "34195             NaN               NaN              NaN              NaN   \n",
       "34198             NaN               NaN              NaN              NaN   \n",
       "34199             NaN               NaN              NaN              NaN   \n",
       "34200             NaN               NaN              NaN              NaN   \n",
       "34203             NaN               NaN              NaN              NaN   \n",
       "34206             NaN               NaN              NaN              NaN   \n",
       "\n",
       "      DATE_FIRST_SURGERY LATERALITY      QUINTILE_2015  TUMOUR_COUNT  \\\n",
       "34170         2015-09-02          L  5 - most deprived             1   \n",
       "34171         2015-09-02          L  5 - most deprived             1   \n",
       "34172         2015-09-02          L  5 - most deprived             1   \n",
       "34179         2015-09-02          L  5 - most deprived             1   \n",
       "34181         2015-09-02          L  5 - most deprived             1   \n",
       "34182         2015-09-02          L  5 - most deprived             1   \n",
       "34183         2015-09-02          L  5 - most deprived             1   \n",
       "34184         2015-09-02          L  5 - most deprived             1   \n",
       "34185         2015-09-02          L  5 - most deprived             1   \n",
       "34186         2015-09-02          L  5 - most deprived             1   \n",
       "34188         2015-09-02          L  5 - most deprived             1   \n",
       "34192         2015-09-02          L  5 - most deprived             1   \n",
       "34193         2015-09-02          L  5 - most deprived             1   \n",
       "34194         2015-09-02          L  5 - most deprived             1   \n",
       "34195         2015-09-02          L  5 - most deprived             1   \n",
       "34198         2015-09-02          L  5 - most deprived             1   \n",
       "34199         2015-09-02          L  5 - most deprived             1   \n",
       "34200         2015-09-02          L  5 - most deprived             1   \n",
       "34203         2015-09-02          L  5 - most deprived             1   \n",
       "34206         2015-09-02          L  5 - most deprived             1   \n",
       "\n",
       "      ETHNICITY DEATHCAUSECODE_1A DEATHCAUSECODE_1B DEATHCAUSECODE_1C  \\\n",
       "34170         A               NaN               NaN               NaN   \n",
       "34171         A               NaN               NaN               NaN   \n",
       "34172         A               NaN               NaN               NaN   \n",
       "34179         A               NaN               NaN               NaN   \n",
       "34181         A               NaN               NaN               NaN   \n",
       "34182         A               NaN               NaN               NaN   \n",
       "34183         A               NaN               NaN               NaN   \n",
       "34184         A               NaN               NaN               NaN   \n",
       "34185         A               NaN               NaN               NaN   \n",
       "34186         A               NaN               NaN               NaN   \n",
       "34188         A               NaN               NaN               NaN   \n",
       "34192         A               NaN               NaN               NaN   \n",
       "34193         A               NaN               NaN               NaN   \n",
       "34194         A               NaN               NaN               NaN   \n",
       "34195         A               NaN               NaN               NaN   \n",
       "34198         A               NaN               NaN               NaN   \n",
       "34199         A               NaN               NaN               NaN   \n",
       "34200         A               NaN               NaN               NaN   \n",
       "34203         A               NaN               NaN               NaN   \n",
       "34206         A               NaN               NaN               NaN   \n",
       "\n",
       "      DEATHCAUSECODE_2 DEATHCAUSECODE_UNDERLYING DEATHLOCATIONCODE  \\\n",
       "34170              NaN                       NaN               NaN   \n",
       "34171              NaN                       NaN               NaN   \n",
       "34172              NaN                       NaN               NaN   \n",
       "34179              NaN                       NaN               NaN   \n",
       "34181              NaN                       NaN               NaN   \n",
       "34182              NaN                       NaN               NaN   \n",
       "34183              NaN                       NaN               NaN   \n",
       "34184              NaN                       NaN               NaN   \n",
       "34185              NaN                       NaN               NaN   \n",
       "34186              NaN                       NaN               NaN   \n",
       "34188              NaN                       NaN               NaN   \n",
       "34192              NaN                       NaN               NaN   \n",
       "34193              NaN                       NaN               NaN   \n",
       "34194              NaN                       NaN               NaN   \n",
       "34195              NaN                       NaN               NaN   \n",
       "34198              NaN                       NaN               NaN   \n",
       "34199              NaN                       NaN               NaN   \n",
       "34200              NaN                       NaN               NaN   \n",
       "34203              NaN                       NaN               NaN   \n",
       "34206              NaN                       NaN               NaN   \n",
       "\n",
       "      NEWVITALSTATUS VITALSTATUSDATE  MERGED_PATIENT_ID  SACT  \\\n",
       "34170              D      2015-09-05        210009833.0  True   \n",
       "34171              D      2015-09-05        210009833.0  True   \n",
       "34172              D      2015-09-05        210009833.0  True   \n",
       "34179              D      2015-09-05        210009833.0  True   \n",
       "34181              D      2015-09-05        210009833.0  True   \n",
       "34182              D      2015-09-05        210009833.0  True   \n",
       "34183              D      2015-09-05        210009833.0  True   \n",
       "34184              D      2015-09-05        210009833.0  True   \n",
       "34185              D      2015-09-05        210009833.0  True   \n",
       "34186              D      2015-09-05        210009833.0  True   \n",
       "34188              D      2015-09-05        210009833.0  True   \n",
       "34192              D      2015-09-05        210009833.0  True   \n",
       "34193              D      2015-09-05        210009833.0  True   \n",
       "34194              D      2015-09-05        210009833.0  True   \n",
       "34195              D      2015-09-05        210009833.0  True   \n",
       "34198              D      2015-09-05        210009833.0  True   \n",
       "34199              D      2015-09-05        210009833.0  True   \n",
       "34200              D      2015-09-05        210009833.0  True   \n",
       "34203              D      2015-09-05        210009833.0  True   \n",
       "34206              D      2015-09-05        210009833.0  True   \n",
       "\n",
       "       MERGED_TUMOUR_ID DATE_DECISION_TO_TREAT START_DATE_OF_REGIMEN  \\\n",
       "34170       210006340.0                    NaT            2015-11-19   \n",
       "34171       210006341.0             2015-11-19            2015-11-20   \n",
       "34172       210006341.0             2015-06-12            2016-01-29   \n",
       "34179       210006342.0                    NaT            2016-02-01   \n",
       "34181       210006342.0             2016-01-25            2016-03-28   \n",
       "34182       210006342.0             2016-02-25            2016-04-25   \n",
       "34183       210006342.0             2014-12-01            2016-06-29   \n",
       "34184       210006342.0             2016-06-04            2016-08-01   \n",
       "34185       210006343.0             2016-09-06            2016-09-06   \n",
       "34186       210006344.0             2016-02-03            2016-10-12   \n",
       "34188       210006345.0             2016-12-01            2016-12-04   \n",
       "34192       210006345.0             2016-10-23            2016-12-16   \n",
       "34193       210006346.0             2014-02-14            2016-12-16   \n",
       "34194       210006347.0             2016-07-25            2016-10-10   \n",
       "34195       210006347.0             2016-05-06            2016-12-16   \n",
       "34198       210006347.0             2016-11-18            2016-12-16   \n",
       "34199       210006347.0             2016-12-30            2017-01-06   \n",
       "34200       210006347.0             2016-09-01            2016-09-01   \n",
       "34203       210028568.0             2015-09-24            2015-10-21   \n",
       "34206       210028568.0             2013-08-12            2013-08-15   \n",
       "\n",
       "       CLINICAL_TRIAL  CHEMO_RADIATION  REGIMEN_COUNT  \\\n",
       "34170           False            False            3.0   \n",
       "34171           False            False            4.0   \n",
       "34172            True            False            5.0   \n",
       "34179            True            False            6.0   \n",
       "34181           False            False            7.0   \n",
       "34182            True            False            8.0   \n",
       "34183           False            False            9.0   \n",
       "34184           False            False           10.0   \n",
       "34185            True            False           12.0   \n",
       "34186            True            False           14.0   \n",
       "34188            True            False           15.0   \n",
       "34192            True            False           17.0   \n",
       "34193           False            False           16.0   \n",
       "34194           False            False           13.0   \n",
       "34195            True             True           18.0   \n",
       "34198            True            False           19.0   \n",
       "34199           False            False           20.0   \n",
       "34200           False            False           11.0   \n",
       "34203           False             True            2.0   \n",
       "34206           False            False            1.0   \n",
       "\n",
       "       CLINICAL_TRIAL_INDICATOR  CHEMO_RADIATION_INDICATOR  NORMALISED_HEIGHT  \\\n",
       "34170                     False                       True              1.055   \n",
       "34171                     False                       True              1.055   \n",
       "34172                      True                       True              1.055   \n",
       "34179                      True                       True              1.055   \n",
       "34181                      True                       True              1.055   \n",
       "34182                      True                       True              1.055   \n",
       "34183                      True                       True              1.055   \n",
       "34184                      True                       True              1.055   \n",
       "34185                      True                       True              1.055   \n",
       "34186                      True                       True              1.055   \n",
       "34188                      True                       True              1.055   \n",
       "34192                      True                       True              1.055   \n",
       "34193                      True                       True              1.055   \n",
       "34194                      True                       True              1.055   \n",
       "34195                      True                       True              1.055   \n",
       "34198                      True                       True              1.055   \n",
       "34199                      True                       True              1.055   \n",
       "34200                      True                       True              1.055   \n",
       "34203                     False                       True              1.055   \n",
       "34206                     False                      False              1.055   \n",
       "\n",
       "       NORMALISED_WEIGHT  \n",
       "34170               51.6  \n",
       "34171               51.6  \n",
       "34172               51.6  \n",
       "34179               51.6  \n",
       "34181               51.6  \n",
       "34182               51.6  \n",
       "34183               51.6  \n",
       "34184               51.6  \n",
       "34185               51.6  \n",
       "34186               51.6  \n",
       "34188               51.6  \n",
       "34192               51.6  \n",
       "34193               51.6  \n",
       "34194               51.6  \n",
       "34195               51.6  \n",
       "34198               51.6  \n",
       "34199               51.6  \n",
       "34200               51.6  \n",
       "34203               51.6  \n",
       "34206               51.6  "
      ],
      "text/html": "<div>\n<style scoped>\n    .dataframe tbody tr th:only-of-type {\n        vertical-align: middle;\n    }\n\n    .dataframe tbody tr th {\n        vertical-align: top;\n    }\n\n    .dataframe thead th {\n        text-align: right;\n    }\n</style>\n<table border=\"1\" class=\"dataframe\">\n  <thead>\n    <tr style=\"text-align: right;\">\n      <th></th>\n      <th>TUMOURID</th>\n      <th>PATIENTID</th>\n      <th>DIAGNOSISDATEBEST</th>\n      <th>SITE_ICD10_O2</th>\n      <th>SITE_ICD10_O2_3CHAR</th>\n      <th>MORPH_ICD10_O2</th>\n      <th>BEHAVIOUR_ICD10_O2</th>\n      <th>T_BEST</th>\n      <th>N_BEST</th>\n      <th>M_BEST</th>\n      <th>STAGE_BEST</th>\n      <th>STAGE_BEST_SYSTEM</th>\n      <th>GRADE</th>\n      <th>AGE</th>\n      <th>SEX</th>\n      <th>CREG_CODE</th>\n      <th>LINKNUMBER</th>\n      <th>SCREENINGSTATUSFULL_CODE</th>\n      <th>ER_STATUS</th>\n      <th>ER_SCORE</th>\n      <th>PR_STATUS</th>\n      <th>PR_SCORE</th>\n      <th>HER2_STATUS</th>\n      <th>CANCERCAREPLANINTENT</th>\n      <th>PERFORMANCESTATUS</th>\n      <th>CNS</th>\n      <th>ACE27</th>\n      <th>GLEASON_PRIMARY</th>\n      <th>GLEASON_SECONDARY</th>\n      <th>GLEASON_TERTIARY</th>\n      <th>GLEASON_COMBINED</th>\n      <th>DATE_FIRST_SURGERY</th>\n      <th>LATERALITY</th>\n      <th>QUINTILE_2015</th>\n      <th>TUMOUR_COUNT</th>\n      <th>ETHNICITY</th>\n      <th>DEATHCAUSECODE_1A</th>\n      <th>DEATHCAUSECODE_1B</th>\n      <th>DEATHCAUSECODE_1C</th>\n      <th>DEATHCAUSECODE_2</th>\n      <th>DEATHCAUSECODE_UNDERLYING</th>\n      <th>DEATHLOCATIONCODE</th>\n      <th>NEWVITALSTATUS</th>\n      <th>VITALSTATUSDATE</th>\n      <th>MERGED_PATIENT_ID</th>\n      <th>SACT</th>\n      <th>MERGED_TUMOUR_ID</th>\n      <th>DATE_DECISION_TO_TREAT</th>\n      <th>START_DATE_OF_REGIMEN</th>\n      <th>CLINICAL_TRIAL</th>\n      <th>CHEMO_RADIATION</th>\n      <th>REGIMEN_COUNT</th>\n      <th>CLINICAL_TRIAL_INDICATOR</th>\n      <th>CHEMO_RADIATION_INDICATOR</th>\n      <th>NORMALISED_HEIGHT</th>\n      <th>NORMALISED_WEIGHT</th>\n    </tr>\n  </thead>\n  <tbody>\n    <tr>\n      <th>34170</th>\n      <td>210009833</td>\n      <td>210009833</td>\n      <td>2015-09-02</td>\n      <td>C712</td>\n      <td>C71</td>\n      <td>9440</td>\n      <td>3</td>\n      <td>NaN</td>\n      <td>NaN</td>\n      <td>NaN</td>\n      <td>U</td>\n      <td>NaN</td>\n      <td>G4</td>\n      <td>36.0</td>\n      <td>2</td>\n      <td>L0301</td>\n      <td>1010009833</td>\n      <td>NaN</td>\n      <td>NaN</td>\n      <td>NaN</td>\n      <td>NaN</td>\n      <td>NaN</td>\n      <td>NaN</td>\n      <td>NaN</td>\n      <td>NaN</td>\n      <td>NaN</td>\n      <td>NaN</td>\n      <td>NaN</td>\n      <td>NaN</td>\n      <td>NaN</td>\n      <td>NaN</td>\n      <td>2015-09-02</td>\n      <td>L</td>\n      <td>5 - most deprived</td>\n      <td>1</td>\n      <td>A</td>\n      <td>NaN</td>\n      <td>NaN</td>\n      <td>NaN</td>\n      <td>NaN</td>\n      <td>NaN</td>\n      <td>NaN</td>\n      <td>D</td>\n      <td>2015-09-05</td>\n      <td>210009833.0</td>\n      <td>True</td>\n      <td>210006340.0</td>\n      <td>NaT</td>\n      <td>2015-11-19</td>\n      <td>False</td>\n      <td>False</td>\n      <td>3.0</td>\n      <td>False</td>\n      <td>True</td>\n      <td>1.055</td>\n      <td>51.6</td>\n    </tr>\n    <tr>\n      <th>34171</th>\n      <td>210009833</td>\n      <td>210009833</td>\n      <td>2015-09-02</td>\n      <td>C712</td>\n      <td>C71</td>\n      <td>9440</td>\n      <td>3</td>\n      <td>NaN</td>\n      <td>NaN</td>\n      <td>NaN</td>\n      <td>U</td>\n      <td>NaN</td>\n      <td>G4</td>\n      <td>36.0</td>\n      <td>2</td>\n      <td>L0301</td>\n      <td>1010009833</td>\n      <td>NaN</td>\n      <td>NaN</td>\n      <td>NaN</td>\n      <td>NaN</td>\n      <td>NaN</td>\n      <td>NaN</td>\n      <td>NaN</td>\n      <td>NaN</td>\n      <td>NaN</td>\n      <td>NaN</td>\n      <td>NaN</td>\n      <td>NaN</td>\n      <td>NaN</td>\n      <td>NaN</td>\n      <td>2015-09-02</td>\n      <td>L</td>\n      <td>5 - most deprived</td>\n      <td>1</td>\n      <td>A</td>\n      <td>NaN</td>\n      <td>NaN</td>\n      <td>NaN</td>\n      <td>NaN</td>\n      <td>NaN</td>\n      <td>NaN</td>\n      <td>D</td>\n      <td>2015-09-05</td>\n      <td>210009833.0</td>\n      <td>True</td>\n      <td>210006341.0</td>\n      <td>2015-11-19</td>\n      <td>2015-11-20</td>\n      <td>False</td>\n      <td>False</td>\n      <td>4.0</td>\n      <td>False</td>\n      <td>True</td>\n      <td>1.055</td>\n      <td>51.6</td>\n    </tr>\n    <tr>\n      <th>34172</th>\n      <td>210009833</td>\n      <td>210009833</td>\n      <td>2015-09-02</td>\n      <td>C712</td>\n      <td>C71</td>\n      <td>9440</td>\n      <td>3</td>\n      <td>NaN</td>\n      <td>NaN</td>\n      <td>NaN</td>\n      <td>U</td>\n      <td>NaN</td>\n      <td>G4</td>\n      <td>36.0</td>\n      <td>2</td>\n      <td>L0301</td>\n      <td>1010009833</td>\n      <td>NaN</td>\n      <td>NaN</td>\n      <td>NaN</td>\n      <td>NaN</td>\n      <td>NaN</td>\n      <td>NaN</td>\n      <td>NaN</td>\n      <td>NaN</td>\n      <td>NaN</td>\n      <td>NaN</td>\n      <td>NaN</td>\n      <td>NaN</td>\n      <td>NaN</td>\n      <td>NaN</td>\n      <td>2015-09-02</td>\n      <td>L</td>\n      <td>5 - most deprived</td>\n      <td>1</td>\n      <td>A</td>\n      <td>NaN</td>\n      <td>NaN</td>\n      <td>NaN</td>\n      <td>NaN</td>\n      <td>NaN</td>\n      <td>NaN</td>\n      <td>D</td>\n      <td>2015-09-05</td>\n      <td>210009833.0</td>\n      <td>True</td>\n      <td>210006341.0</td>\n      <td>2015-06-12</td>\n      <td>2016-01-29</td>\n      <td>True</td>\n      <td>False</td>\n      <td>5.0</td>\n      <td>True</td>\n      <td>True</td>\n      <td>1.055</td>\n      <td>51.6</td>\n    </tr>\n    <tr>\n      <th>34179</th>\n      <td>210009833</td>\n      <td>210009833</td>\n      <td>2015-09-02</td>\n      <td>C712</td>\n      <td>C71</td>\n      <td>9440</td>\n      <td>3</td>\n      <td>NaN</td>\n      <td>NaN</td>\n      <td>NaN</td>\n      <td>U</td>\n      <td>NaN</td>\n      <td>G4</td>\n      <td>36.0</td>\n      <td>2</td>\n      <td>L0301</td>\n      <td>1010009833</td>\n      <td>NaN</td>\n      <td>NaN</td>\n      <td>NaN</td>\n      <td>NaN</td>\n      <td>NaN</td>\n      <td>NaN</td>\n      <td>NaN</td>\n      <td>NaN</td>\n      <td>NaN</td>\n      <td>NaN</td>\n      <td>NaN</td>\n      <td>NaN</td>\n      <td>NaN</td>\n      <td>NaN</td>\n      <td>2015-09-02</td>\n      <td>L</td>\n      <td>5 - most deprived</td>\n      <td>1</td>\n      <td>A</td>\n      <td>NaN</td>\n      <td>NaN</td>\n      <td>NaN</td>\n      <td>NaN</td>\n      <td>NaN</td>\n      <td>NaN</td>\n      <td>D</td>\n      <td>2015-09-05</td>\n      <td>210009833.0</td>\n      <td>True</td>\n      <td>210006342.0</td>\n      <td>NaT</td>\n      <td>2016-02-01</td>\n      <td>True</td>\n      <td>False</td>\n      <td>6.0</td>\n      <td>True</td>\n      <td>True</td>\n      <td>1.055</td>\n      <td>51.6</td>\n    </tr>\n    <tr>\n      <th>34181</th>\n      <td>210009833</td>\n      <td>210009833</td>\n      <td>2015-09-02</td>\n      <td>C712</td>\n      <td>C71</td>\n      <td>9440</td>\n      <td>3</td>\n      <td>NaN</td>\n      <td>NaN</td>\n      <td>NaN</td>\n      <td>U</td>\n      <td>NaN</td>\n      <td>G4</td>\n      <td>36.0</td>\n      <td>2</td>\n      <td>L0301</td>\n      <td>1010009833</td>\n      <td>NaN</td>\n      <td>NaN</td>\n      <td>NaN</td>\n      <td>NaN</td>\n      <td>NaN</td>\n      <td>NaN</td>\n      <td>NaN</td>\n      <td>NaN</td>\n      <td>NaN</td>\n      <td>NaN</td>\n      <td>NaN</td>\n      <td>NaN</td>\n      <td>NaN</td>\n      <td>NaN</td>\n      <td>2015-09-02</td>\n      <td>L</td>\n      <td>5 - most deprived</td>\n      <td>1</td>\n      <td>A</td>\n      <td>NaN</td>\n      <td>NaN</td>\n      <td>NaN</td>\n      <td>NaN</td>\n      <td>NaN</td>\n      <td>NaN</td>\n      <td>D</td>\n      <td>2015-09-05</td>\n      <td>210009833.0</td>\n      <td>True</td>\n      <td>210006342.0</td>\n      <td>2016-01-25</td>\n      <td>2016-03-28</td>\n      <td>False</td>\n      <td>False</td>\n      <td>7.0</td>\n      <td>True</td>\n      <td>True</td>\n      <td>1.055</td>\n      <td>51.6</td>\n    </tr>\n    <tr>\n      <th>34182</th>\n      <td>210009833</td>\n      <td>210009833</td>\n      <td>2015-09-02</td>\n      <td>C712</td>\n      <td>C71</td>\n      <td>9440</td>\n      <td>3</td>\n      <td>NaN</td>\n      <td>NaN</td>\n      <td>NaN</td>\n      <td>U</td>\n      <td>NaN</td>\n      <td>G4</td>\n      <td>36.0</td>\n      <td>2</td>\n      <td>L0301</td>\n      <td>1010009833</td>\n      <td>NaN</td>\n      <td>NaN</td>\n      <td>NaN</td>\n      <td>NaN</td>\n      <td>NaN</td>\n      <td>NaN</td>\n      <td>NaN</td>\n      <td>NaN</td>\n      <td>NaN</td>\n      <td>NaN</td>\n      <td>NaN</td>\n      <td>NaN</td>\n      <td>NaN</td>\n      <td>NaN</td>\n      <td>2015-09-02</td>\n      <td>L</td>\n      <td>5 - most deprived</td>\n      <td>1</td>\n      <td>A</td>\n      <td>NaN</td>\n      <td>NaN</td>\n      <td>NaN</td>\n      <td>NaN</td>\n      <td>NaN</td>\n      <td>NaN</td>\n      <td>D</td>\n      <td>2015-09-05</td>\n      <td>210009833.0</td>\n      <td>True</td>\n      <td>210006342.0</td>\n      <td>2016-02-25</td>\n      <td>2016-04-25</td>\n      <td>True</td>\n      <td>False</td>\n      <td>8.0</td>\n      <td>True</td>\n      <td>True</td>\n      <td>1.055</td>\n      <td>51.6</td>\n    </tr>\n    <tr>\n      <th>34183</th>\n      <td>210009833</td>\n      <td>210009833</td>\n      <td>2015-09-02</td>\n      <td>C712</td>\n      <td>C71</td>\n      <td>9440</td>\n      <td>3</td>\n      <td>NaN</td>\n      <td>NaN</td>\n      <td>NaN</td>\n      <td>U</td>\n      <td>NaN</td>\n      <td>G4</td>\n      <td>36.0</td>\n      <td>2</td>\n      <td>L0301</td>\n      <td>1010009833</td>\n      <td>NaN</td>\n      <td>NaN</td>\n      <td>NaN</td>\n      <td>NaN</td>\n      <td>NaN</td>\n      <td>NaN</td>\n      <td>NaN</td>\n      <td>NaN</td>\n      <td>NaN</td>\n      <td>NaN</td>\n      <td>NaN</td>\n      <td>NaN</td>\n      <td>NaN</td>\n      <td>NaN</td>\n      <td>2015-09-02</td>\n      <td>L</td>\n      <td>5 - most deprived</td>\n      <td>1</td>\n      <td>A</td>\n      <td>NaN</td>\n      <td>NaN</td>\n      <td>NaN</td>\n      <td>NaN</td>\n      <td>NaN</td>\n      <td>NaN</td>\n      <td>D</td>\n      <td>2015-09-05</td>\n      <td>210009833.0</td>\n      <td>True</td>\n      <td>210006342.0</td>\n      <td>2014-12-01</td>\n      <td>2016-06-29</td>\n      <td>False</td>\n      <td>False</td>\n      <td>9.0</td>\n      <td>True</td>\n      <td>True</td>\n      <td>1.055</td>\n      <td>51.6</td>\n    </tr>\n    <tr>\n      <th>34184</th>\n      <td>210009833</td>\n      <td>210009833</td>\n      <td>2015-09-02</td>\n      <td>C712</td>\n      <td>C71</td>\n      <td>9440</td>\n      <td>3</td>\n      <td>NaN</td>\n      <td>NaN</td>\n      <td>NaN</td>\n      <td>U</td>\n      <td>NaN</td>\n      <td>G4</td>\n      <td>36.0</td>\n      <td>2</td>\n      <td>L0301</td>\n      <td>1010009833</td>\n      <td>NaN</td>\n      <td>NaN</td>\n      <td>NaN</td>\n      <td>NaN</td>\n      <td>NaN</td>\n      <td>NaN</td>\n      <td>NaN</td>\n      <td>NaN</td>\n      <td>NaN</td>\n      <td>NaN</td>\n      <td>NaN</td>\n      <td>NaN</td>\n      <td>NaN</td>\n      <td>NaN</td>\n      <td>2015-09-02</td>\n      <td>L</td>\n      <td>5 - most deprived</td>\n      <td>1</td>\n      <td>A</td>\n      <td>NaN</td>\n      <td>NaN</td>\n      <td>NaN</td>\n      <td>NaN</td>\n      <td>NaN</td>\n      <td>NaN</td>\n      <td>D</td>\n      <td>2015-09-05</td>\n      <td>210009833.0</td>\n      <td>True</td>\n      <td>210006342.0</td>\n      <td>2016-06-04</td>\n      <td>2016-08-01</td>\n      <td>False</td>\n      <td>False</td>\n      <td>10.0</td>\n      <td>True</td>\n      <td>True</td>\n      <td>1.055</td>\n      <td>51.6</td>\n    </tr>\n    <tr>\n      <th>34185</th>\n      <td>210009833</td>\n      <td>210009833</td>\n      <td>2015-09-02</td>\n      <td>C712</td>\n      <td>C71</td>\n      <td>9440</td>\n      <td>3</td>\n      <td>NaN</td>\n      <td>NaN</td>\n      <td>NaN</td>\n      <td>U</td>\n      <td>NaN</td>\n      <td>G4</td>\n      <td>36.0</td>\n      <td>2</td>\n      <td>L0301</td>\n      <td>1010009833</td>\n      <td>NaN</td>\n      <td>NaN</td>\n      <td>NaN</td>\n      <td>NaN</td>\n      <td>NaN</td>\n      <td>NaN</td>\n      <td>NaN</td>\n      <td>NaN</td>\n      <td>NaN</td>\n      <td>NaN</td>\n      <td>NaN</td>\n      <td>NaN</td>\n      <td>NaN</td>\n      <td>NaN</td>\n      <td>2015-09-02</td>\n      <td>L</td>\n      <td>5 - most deprived</td>\n      <td>1</td>\n      <td>A</td>\n      <td>NaN</td>\n      <td>NaN</td>\n      <td>NaN</td>\n      <td>NaN</td>\n      <td>NaN</td>\n      <td>NaN</td>\n      <td>D</td>\n      <td>2015-09-05</td>\n      <td>210009833.0</td>\n      <td>True</td>\n      <td>210006343.0</td>\n      <td>2016-09-06</td>\n      <td>2016-09-06</td>\n      <td>True</td>\n      <td>False</td>\n      <td>12.0</td>\n      <td>True</td>\n      <td>True</td>\n      <td>1.055</td>\n      <td>51.6</td>\n    </tr>\n    <tr>\n      <th>34186</th>\n      <td>210009833</td>\n      <td>210009833</td>\n      <td>2015-09-02</td>\n      <td>C712</td>\n      <td>C71</td>\n      <td>9440</td>\n      <td>3</td>\n      <td>NaN</td>\n      <td>NaN</td>\n      <td>NaN</td>\n      <td>U</td>\n      <td>NaN</td>\n      <td>G4</td>\n      <td>36.0</td>\n      <td>2</td>\n      <td>L0301</td>\n      <td>1010009833</td>\n      <td>NaN</td>\n      <td>NaN</td>\n      <td>NaN</td>\n      <td>NaN</td>\n      <td>NaN</td>\n      <td>NaN</td>\n      <td>NaN</td>\n      <td>NaN</td>\n      <td>NaN</td>\n      <td>NaN</td>\n      <td>NaN</td>\n      <td>NaN</td>\n      <td>NaN</td>\n      <td>NaN</td>\n      <td>2015-09-02</td>\n      <td>L</td>\n      <td>5 - most deprived</td>\n      <td>1</td>\n      <td>A</td>\n      <td>NaN</td>\n      <td>NaN</td>\n      <td>NaN</td>\n      <td>NaN</td>\n      <td>NaN</td>\n      <td>NaN</td>\n      <td>D</td>\n      <td>2015-09-05</td>\n      <td>210009833.0</td>\n      <td>True</td>\n      <td>210006344.0</td>\n      <td>2016-02-03</td>\n      <td>2016-10-12</td>\n      <td>True</td>\n      <td>False</td>\n      <td>14.0</td>\n      <td>True</td>\n      <td>True</td>\n      <td>1.055</td>\n      <td>51.6</td>\n    </tr>\n    <tr>\n      <th>34188</th>\n      <td>210009833</td>\n      <td>210009833</td>\n      <td>2015-09-02</td>\n      <td>C712</td>\n      <td>C71</td>\n      <td>9440</td>\n      <td>3</td>\n      <td>NaN</td>\n      <td>NaN</td>\n      <td>NaN</td>\n      <td>U</td>\n      <td>NaN</td>\n      <td>G4</td>\n      <td>36.0</td>\n      <td>2</td>\n      <td>L0301</td>\n      <td>1010009833</td>\n      <td>NaN</td>\n      <td>NaN</td>\n      <td>NaN</td>\n      <td>NaN</td>\n      <td>NaN</td>\n      <td>NaN</td>\n      <td>NaN</td>\n      <td>NaN</td>\n      <td>NaN</td>\n      <td>NaN</td>\n      <td>NaN</td>\n      <td>NaN</td>\n      <td>NaN</td>\n      <td>NaN</td>\n      <td>2015-09-02</td>\n      <td>L</td>\n      <td>5 - most deprived</td>\n      <td>1</td>\n      <td>A</td>\n      <td>NaN</td>\n      <td>NaN</td>\n      <td>NaN</td>\n      <td>NaN</td>\n      <td>NaN</td>\n      <td>NaN</td>\n      <td>D</td>\n      <td>2015-09-05</td>\n      <td>210009833.0</td>\n      <td>True</td>\n      <td>210006345.0</td>\n      <td>2016-12-01</td>\n      <td>2016-12-04</td>\n      <td>True</td>\n      <td>False</td>\n      <td>15.0</td>\n      <td>True</td>\n      <td>True</td>\n      <td>1.055</td>\n      <td>51.6</td>\n    </tr>\n    <tr>\n      <th>34192</th>\n      <td>210009833</td>\n      <td>210009833</td>\n      <td>2015-09-02</td>\n      <td>C712</td>\n      <td>C71</td>\n      <td>9440</td>\n      <td>3</td>\n      <td>NaN</td>\n      <td>NaN</td>\n      <td>NaN</td>\n      <td>U</td>\n      <td>NaN</td>\n      <td>G4</td>\n      <td>36.0</td>\n      <td>2</td>\n      <td>L0301</td>\n      <td>1010009833</td>\n      <td>NaN</td>\n      <td>NaN</td>\n      <td>NaN</td>\n      <td>NaN</td>\n      <td>NaN</td>\n      <td>NaN</td>\n      <td>NaN</td>\n      <td>NaN</td>\n      <td>NaN</td>\n      <td>NaN</td>\n      <td>NaN</td>\n      <td>NaN</td>\n      <td>NaN</td>\n      <td>NaN</td>\n      <td>2015-09-02</td>\n      <td>L</td>\n      <td>5 - most deprived</td>\n      <td>1</td>\n      <td>A</td>\n      <td>NaN</td>\n      <td>NaN</td>\n      <td>NaN</td>\n      <td>NaN</td>\n      <td>NaN</td>\n      <td>NaN</td>\n      <td>D</td>\n      <td>2015-09-05</td>\n      <td>210009833.0</td>\n      <td>True</td>\n      <td>210006345.0</td>\n      <td>2016-10-23</td>\n      <td>2016-12-16</td>\n      <td>True</td>\n      <td>False</td>\n      <td>17.0</td>\n      <td>True</td>\n      <td>True</td>\n      <td>1.055</td>\n      <td>51.6</td>\n    </tr>\n    <tr>\n      <th>34193</th>\n      <td>210009833</td>\n      <td>210009833</td>\n      <td>2015-09-02</td>\n      <td>C712</td>\n      <td>C71</td>\n      <td>9440</td>\n      <td>3</td>\n      <td>NaN</td>\n      <td>NaN</td>\n      <td>NaN</td>\n      <td>U</td>\n      <td>NaN</td>\n      <td>G4</td>\n      <td>36.0</td>\n      <td>2</td>\n      <td>L0301</td>\n      <td>1010009833</td>\n      <td>NaN</td>\n      <td>NaN</td>\n      <td>NaN</td>\n      <td>NaN</td>\n      <td>NaN</td>\n      <td>NaN</td>\n      <td>NaN</td>\n      <td>NaN</td>\n      <td>NaN</td>\n      <td>NaN</td>\n      <td>NaN</td>\n      <td>NaN</td>\n      <td>NaN</td>\n      <td>NaN</td>\n      <td>2015-09-02</td>\n      <td>L</td>\n      <td>5 - most deprived</td>\n      <td>1</td>\n      <td>A</td>\n      <td>NaN</td>\n      <td>NaN</td>\n      <td>NaN</td>\n      <td>NaN</td>\n      <td>NaN</td>\n      <td>NaN</td>\n      <td>D</td>\n      <td>2015-09-05</td>\n      <td>210009833.0</td>\n      <td>True</td>\n      <td>210006346.0</td>\n      <td>2014-02-14</td>\n      <td>2016-12-16</td>\n      <td>False</td>\n      <td>False</td>\n      <td>16.0</td>\n      <td>True</td>\n      <td>True</td>\n      <td>1.055</td>\n      <td>51.6</td>\n    </tr>\n    <tr>\n      <th>34194</th>\n      <td>210009833</td>\n      <td>210009833</td>\n      <td>2015-09-02</td>\n      <td>C712</td>\n      <td>C71</td>\n      <td>9440</td>\n      <td>3</td>\n      <td>NaN</td>\n      <td>NaN</td>\n      <td>NaN</td>\n      <td>U</td>\n      <td>NaN</td>\n      <td>G4</td>\n      <td>36.0</td>\n      <td>2</td>\n      <td>L0301</td>\n      <td>1010009833</td>\n      <td>NaN</td>\n      <td>NaN</td>\n      <td>NaN</td>\n      <td>NaN</td>\n      <td>NaN</td>\n      <td>NaN</td>\n      <td>NaN</td>\n      <td>NaN</td>\n      <td>NaN</td>\n      <td>NaN</td>\n      <td>NaN</td>\n      <td>NaN</td>\n      <td>NaN</td>\n      <td>NaN</td>\n      <td>2015-09-02</td>\n      <td>L</td>\n      <td>5 - most deprived</td>\n      <td>1</td>\n      <td>A</td>\n      <td>NaN</td>\n      <td>NaN</td>\n      <td>NaN</td>\n      <td>NaN</td>\n      <td>NaN</td>\n      <td>NaN</td>\n      <td>D</td>\n      <td>2015-09-05</td>\n      <td>210009833.0</td>\n      <td>True</td>\n      <td>210006347.0</td>\n      <td>2016-07-25</td>\n      <td>2016-10-10</td>\n      <td>False</td>\n      <td>False</td>\n      <td>13.0</td>\n      <td>True</td>\n      <td>True</td>\n      <td>1.055</td>\n      <td>51.6</td>\n    </tr>\n    <tr>\n      <th>34195</th>\n      <td>210009833</td>\n      <td>210009833</td>\n      <td>2015-09-02</td>\n      <td>C712</td>\n      <td>C71</td>\n      <td>9440</td>\n      <td>3</td>\n      <td>NaN</td>\n      <td>NaN</td>\n      <td>NaN</td>\n      <td>U</td>\n      <td>NaN</td>\n      <td>G4</td>\n      <td>36.0</td>\n      <td>2</td>\n      <td>L0301</td>\n      <td>1010009833</td>\n      <td>NaN</td>\n      <td>NaN</td>\n      <td>NaN</td>\n      <td>NaN</td>\n      <td>NaN</td>\n      <td>NaN</td>\n      <td>NaN</td>\n      <td>NaN</td>\n      <td>NaN</td>\n      <td>NaN</td>\n      <td>NaN</td>\n      <td>NaN</td>\n      <td>NaN</td>\n      <td>NaN</td>\n      <td>2015-09-02</td>\n      <td>L</td>\n      <td>5 - most deprived</td>\n      <td>1</td>\n      <td>A</td>\n      <td>NaN</td>\n      <td>NaN</td>\n      <td>NaN</td>\n      <td>NaN</td>\n      <td>NaN</td>\n      <td>NaN</td>\n      <td>D</td>\n      <td>2015-09-05</td>\n      <td>210009833.0</td>\n      <td>True</td>\n      <td>210006347.0</td>\n      <td>2016-05-06</td>\n      <td>2016-12-16</td>\n      <td>True</td>\n      <td>True</td>\n      <td>18.0</td>\n      <td>True</td>\n      <td>True</td>\n      <td>1.055</td>\n      <td>51.6</td>\n    </tr>\n    <tr>\n      <th>34198</th>\n      <td>210009833</td>\n      <td>210009833</td>\n      <td>2015-09-02</td>\n      <td>C712</td>\n      <td>C71</td>\n      <td>9440</td>\n      <td>3</td>\n      <td>NaN</td>\n      <td>NaN</td>\n      <td>NaN</td>\n      <td>U</td>\n      <td>NaN</td>\n      <td>G4</td>\n      <td>36.0</td>\n      <td>2</td>\n      <td>L0301</td>\n      <td>1010009833</td>\n      <td>NaN</td>\n      <td>NaN</td>\n      <td>NaN</td>\n      <td>NaN</td>\n      <td>NaN</td>\n      <td>NaN</td>\n      <td>NaN</td>\n      <td>NaN</td>\n      <td>NaN</td>\n      <td>NaN</td>\n      <td>NaN</td>\n      <td>NaN</td>\n      <td>NaN</td>\n      <td>NaN</td>\n      <td>2015-09-02</td>\n      <td>L</td>\n      <td>5 - most deprived</td>\n      <td>1</td>\n      <td>A</td>\n      <td>NaN</td>\n      <td>NaN</td>\n      <td>NaN</td>\n      <td>NaN</td>\n      <td>NaN</td>\n      <td>NaN</td>\n      <td>D</td>\n      <td>2015-09-05</td>\n      <td>210009833.0</td>\n      <td>True</td>\n      <td>210006347.0</td>\n      <td>2016-11-18</td>\n      <td>2016-12-16</td>\n      <td>True</td>\n      <td>False</td>\n      <td>19.0</td>\n      <td>True</td>\n      <td>True</td>\n      <td>1.055</td>\n      <td>51.6</td>\n    </tr>\n    <tr>\n      <th>34199</th>\n      <td>210009833</td>\n      <td>210009833</td>\n      <td>2015-09-02</td>\n      <td>C712</td>\n      <td>C71</td>\n      <td>9440</td>\n      <td>3</td>\n      <td>NaN</td>\n      <td>NaN</td>\n      <td>NaN</td>\n      <td>U</td>\n      <td>NaN</td>\n      <td>G4</td>\n      <td>36.0</td>\n      <td>2</td>\n      <td>L0301</td>\n      <td>1010009833</td>\n      <td>NaN</td>\n      <td>NaN</td>\n      <td>NaN</td>\n      <td>NaN</td>\n      <td>NaN</td>\n      <td>NaN</td>\n      <td>NaN</td>\n      <td>NaN</td>\n      <td>NaN</td>\n      <td>NaN</td>\n      <td>NaN</td>\n      <td>NaN</td>\n      <td>NaN</td>\n      <td>NaN</td>\n      <td>2015-09-02</td>\n      <td>L</td>\n      <td>5 - most deprived</td>\n      <td>1</td>\n      <td>A</td>\n      <td>NaN</td>\n      <td>NaN</td>\n      <td>NaN</td>\n      <td>NaN</td>\n      <td>NaN</td>\n      <td>NaN</td>\n      <td>D</td>\n      <td>2015-09-05</td>\n      <td>210009833.0</td>\n      <td>True</td>\n      <td>210006347.0</td>\n      <td>2016-12-30</td>\n      <td>2017-01-06</td>\n      <td>False</td>\n      <td>False</td>\n      <td>20.0</td>\n      <td>True</td>\n      <td>True</td>\n      <td>1.055</td>\n      <td>51.6</td>\n    </tr>\n    <tr>\n      <th>34200</th>\n      <td>210009833</td>\n      <td>210009833</td>\n      <td>2015-09-02</td>\n      <td>C712</td>\n      <td>C71</td>\n      <td>9440</td>\n      <td>3</td>\n      <td>NaN</td>\n      <td>NaN</td>\n      <td>NaN</td>\n      <td>U</td>\n      <td>NaN</td>\n      <td>G4</td>\n      <td>36.0</td>\n      <td>2</td>\n      <td>L0301</td>\n      <td>1010009833</td>\n      <td>NaN</td>\n      <td>NaN</td>\n      <td>NaN</td>\n      <td>NaN</td>\n      <td>NaN</td>\n      <td>NaN</td>\n      <td>NaN</td>\n      <td>NaN</td>\n      <td>NaN</td>\n      <td>NaN</td>\n      <td>NaN</td>\n      <td>NaN</td>\n      <td>NaN</td>\n      <td>NaN</td>\n      <td>2015-09-02</td>\n      <td>L</td>\n      <td>5 - most deprived</td>\n      <td>1</td>\n      <td>A</td>\n      <td>NaN</td>\n      <td>NaN</td>\n      <td>NaN</td>\n      <td>NaN</td>\n      <td>NaN</td>\n      <td>NaN</td>\n      <td>D</td>\n      <td>2015-09-05</td>\n      <td>210009833.0</td>\n      <td>True</td>\n      <td>210006347.0</td>\n      <td>2016-09-01</td>\n      <td>2016-09-01</td>\n      <td>False</td>\n      <td>False</td>\n      <td>11.0</td>\n      <td>True</td>\n      <td>True</td>\n      <td>1.055</td>\n      <td>51.6</td>\n    </tr>\n    <tr>\n      <th>34203</th>\n      <td>210009833</td>\n      <td>210009833</td>\n      <td>2015-09-02</td>\n      <td>C712</td>\n      <td>C71</td>\n      <td>9440</td>\n      <td>3</td>\n      <td>NaN</td>\n      <td>NaN</td>\n      <td>NaN</td>\n      <td>U</td>\n      <td>NaN</td>\n      <td>G4</td>\n      <td>36.0</td>\n      <td>2</td>\n      <td>L0301</td>\n      <td>1010009833</td>\n      <td>NaN</td>\n      <td>NaN</td>\n      <td>NaN</td>\n      <td>NaN</td>\n      <td>NaN</td>\n      <td>NaN</td>\n      <td>NaN</td>\n      <td>NaN</td>\n      <td>NaN</td>\n      <td>NaN</td>\n      <td>NaN</td>\n      <td>NaN</td>\n      <td>NaN</td>\n      <td>NaN</td>\n      <td>2015-09-02</td>\n      <td>L</td>\n      <td>5 - most deprived</td>\n      <td>1</td>\n      <td>A</td>\n      <td>NaN</td>\n      <td>NaN</td>\n      <td>NaN</td>\n      <td>NaN</td>\n      <td>NaN</td>\n      <td>NaN</td>\n      <td>D</td>\n      <td>2015-09-05</td>\n      <td>210009833.0</td>\n      <td>True</td>\n      <td>210028568.0</td>\n      <td>2015-09-24</td>\n      <td>2015-10-21</td>\n      <td>False</td>\n      <td>True</td>\n      <td>2.0</td>\n      <td>False</td>\n      <td>True</td>\n      <td>1.055</td>\n      <td>51.6</td>\n    </tr>\n    <tr>\n      <th>34206</th>\n      <td>210009833</td>\n      <td>210009833</td>\n      <td>2015-09-02</td>\n      <td>C712</td>\n      <td>C71</td>\n      <td>9440</td>\n      <td>3</td>\n      <td>NaN</td>\n      <td>NaN</td>\n      <td>NaN</td>\n      <td>U</td>\n      <td>NaN</td>\n      <td>G4</td>\n      <td>36.0</td>\n      <td>2</td>\n      <td>L0301</td>\n      <td>1010009833</td>\n      <td>NaN</td>\n      <td>NaN</td>\n      <td>NaN</td>\n      <td>NaN</td>\n      <td>NaN</td>\n      <td>NaN</td>\n      <td>NaN</td>\n      <td>NaN</td>\n      <td>NaN</td>\n      <td>NaN</td>\n      <td>NaN</td>\n      <td>NaN</td>\n      <td>NaN</td>\n      <td>NaN</td>\n      <td>2015-09-02</td>\n      <td>L</td>\n      <td>5 - most deprived</td>\n      <td>1</td>\n      <td>A</td>\n      <td>NaN</td>\n      <td>NaN</td>\n      <td>NaN</td>\n      <td>NaN</td>\n      <td>NaN</td>\n      <td>NaN</td>\n      <td>D</td>\n      <td>2015-09-05</td>\n      <td>210009833.0</td>\n      <td>True</td>\n      <td>210028568.0</td>\n      <td>2013-08-12</td>\n      <td>2013-08-15</td>\n      <td>False</td>\n      <td>False</td>\n      <td>1.0</td>\n      <td>False</td>\n      <td>False</td>\n      <td>1.055</td>\n      <td>51.6</td>\n    </tr>\n  </tbody>\n</table>\n</div>"
     },
     "metadata": {},
     "execution_count": 25
    }
   ],
   "source": [
    "pd.set_option('display.max_columns', None)\n",
    "\n",
    "df.loc[df.PATIENTID==210009833]"
   ]
  },
  {
   "cell_type": "code",
   "execution_count": null,
   "metadata": {},
   "outputs": [],
   "source": []
  }
 ],
 "metadata": {
  "kernelspec": {
   "name": "pythonjvsc74a57bd0f1c13921e8e375de9335a0ccf3b3c47f8dbb15e8689cc78791955ed1115cd503",
   "display_name": "Python 3.8.7 64-bit ('flenv': venv)"
  },
  "language_info": {
   "codemirror_mode": {
    "name": "ipython",
    "version": 3
   },
   "file_extension": ".py",
   "mimetype": "text/x-python",
   "name": "python",
   "nbconvert_exporter": "python",
   "pygments_lexer": "ipython3",
   "version": "3.8.7"
  },
  "metadata": {
   "interpreter": {
    "hash": "f1c13921e8e375de9335a0ccf3b3c47f8dbb15e8689cc78791955ed1115cd503"
   }
  }
 },
 "nbformat": 4,
 "nbformat_minor": 5
}