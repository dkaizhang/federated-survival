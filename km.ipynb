{
 "cells": [
  {
   "cell_type": "code",
   "execution_count": null,
   "source": [
    "import matplotlib.pyplot as plt\n",
    "import numpy as np\n",
    "import pandas as pd\n",
    "import torch\n",
    "\n",
    "from load import read_csv\n",
    "\n",
    "from lifelines import KaplanMeierFitter\n",
    "\n",
    "from tabulate import tabulate"
   ],
   "outputs": [],
   "metadata": {}
  },
  {
   "cell_type": "code",
   "execution_count": null,
   "source": [
    "np.random.seed(1234)\n",
    "_ = torch.manual_seed(123)"
   ],
   "outputs": [],
   "metadata": {}
  },
  {
   "cell_type": "code",
   "execution_count": null,
   "source": [
    "datapath = './Data/data.csv'\n",
    "data = read_csv(datapath)\n",
    "print(len(data))"
   ],
   "outputs": [],
   "metadata": {}
  },
  {
   "cell_type": "code",
   "execution_count": null,
   "source": [
    "T = data['DAYS_SINCE_DIAGNOSIS']\n",
    "sites = data.columns[data.columns.str.contains('SITE_')]\n",
    "median = []\n",
    "for i, site in enumerate(sites):\n",
    "    ix = data[site] == 1\n",
    "    median.append(T[ix].median()/365*12)\n",
    "to_tab = np.stack((sites, np.round(median,1)), axis=1)\n",
    "print(tabulate(to_tab, headers=['Site', 'Months']))"
   ],
   "outputs": [],
   "metadata": {}
  },
  {
   "cell_type": "code",
   "execution_count": null,
   "source": [
    "T = data['DAYS_SINCE_DIAGNOSIS']\n",
    "E = data['EVENT']\n",
    "kmf = KaplanMeierFitter()\n",
    "\n",
    "sites = data.columns[data.columns.str.contains('SITE_')]\n",
    "for i, site in enumerate(sites):\n",
    "    ax = plt.subplot(2, 3, i + 1)\n",
    "    \n",
    "    ix = data[site] == 1\n",
    "    kmf.fit(T[ix], E[ix], label=site)\n",
    "    kmf.plot_survival_function(ax=ax, legend=False)\n",
    "\n",
    "    plt.title(site)\n",
    "    plt.xlabel('Days')\n",
    "    plt.ylim(0.0, 1.0)\n",
    "    if i==0:\n",
    "        plt.ylabel('Fraction alive after x days')    \n",
    "plt.tight_layout()\n",
    "plt.savefig('KMcurves.svg', dpi=600,format='svg')\n",
    "# C70 Malignant neoplasm of meninges\n",
    "# C71 Malignant neoplasm of brain\n",
    "# C72 Malignant neoplasm of spinal cord, cranial nerves and other parts of central nervous system\n",
    "\n",
    "# D32 Benign neoplasm of meninges\n",
    "# D33 Benign neoplasm of brain and other parts of central nervous system\n",
    "# D35 Benign neoplasm of other and unspecified endocrine glands"
   ],
   "outputs": [],
   "metadata": {}
  }
 ],
 "metadata": {
  "orig_nbformat": 4,
  "language_info": {
   "name": "python"
  }
 },
 "nbformat": 4,
 "nbformat_minor": 2
}