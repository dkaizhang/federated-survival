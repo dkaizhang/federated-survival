{
 "cells": [
  {
   "cell_type": "code",
   "execution_count": 33,
   "source": [
    "import matplotlib.pyplot as plt\n",
    "import numpy as np\n",
    "\n",
    "from matplotlib.ticker import FormatStrFormatter\n",
    "from result_utilities import get_filepath, extract_figures, extract_stats, extract_lr"
   ],
   "outputs": [],
   "metadata": {}
  },
  {
   "cell_type": "code",
   "execution_count": 34,
   "source": [
    "plt.rcParams.update({\n",
    "    \"text.usetex\": True,\n",
    "    \"font.family\": \"serif\",\n",
    "    \"font.serif\": [\"cm\"],\n",
    "})\n"
   ],
   "outputs": [],
   "metadata": {}
  },
  {
   "cell_type": "code",
   "execution_count": 35,
   "source": [
    "dura = 'longest'\n",
    "files = get_filepath(dura)\n",
    "print(files)\n"
   ],
   "outputs": [
    {
     "output_type": "stream",
     "name": "stdout",
     "text": [
      "['./longest/coxph-longest/training_log_McoxphCcentralSNoneC1L1.txt', './longest/coxph-longest/training_log_McoxphCiidSNoneC4L1.txt', './longest/coxph-longest/training_log_McoxphCiidSNoneC4L5.txt', './longest/coxph-longest/training_log_McoxphCiidSNoneC4L20.txt', './longest/coxph-longest/training_log_McoxphCiidSNoneC4L100.txt', './longest/coxph-longest/training_log_McoxphCnoniidS0C4L1.txt', './longest/coxph-longest/training_log_McoxphCnoniidS0C4L5.txt', './longest/coxph-longest/training_log_McoxphCnoniidS0C4L20.txt', './longest/coxph-longest/training_log_McoxphCnoniidS0C4L100.txt', './longest/nnph-longest/training_log_MNNphCcentralSNoneC1L1.txt', './longest/nnph-longest/training_log_MNNphCiidSNoneC4L1.txt', './longest/nnph-longest/training_log_MNNphCiidSNoneC4L5.txt', './longest/nnph-longest/training_log_MNNphCiidSNoneC4L20.txt', './longest/nnph-longest/training_log_MNNphCiidSNoneC4L100.txt', './longest/nnph-longest/training_log_MNNphCnoniidS0C4L1.txt', './longest/nnph-longest/training_log_MNNphCnoniidS0C4L5.txt', './longest/nnph-longest/training_log_MNNphCnoniidS0C4L20.txt', './longest/nnph-longest/training_log_MNNphCnoniidS0C4L100.txt', './longest/nnnph-longest/training_log_MNNnphCcentralSNoneC1L1.txt', './longest/nnnph-longest/training_log_MNNnphCiidSNoneC4L1.txt', './longest/nnnph-longest/training_log_MNNnphCiidSNoneC4L5.txt', './longest/nnnph-longest/training_log_MNNnphCiidSNoneC4L20.txt', './longest/nnnph-longest/training_log_MNNnphCiidSNoneC4L100.txt', './longest/nnnph-longest/training_log_MNNnphCnoniidS0C4L1.txt', './longest/nnnph-longest/training_log_MNNnphCnoniidS0C4L5.txt', './longest/nnnph-longest/training_log_MNNnphCnoniidS0C4L20.txt', './longest/nnnph-longest/training_log_MNNnphCnoniidS0C4L100.txt']\n"
     ]
    }
   ],
   "metadata": {}
  },
  {
   "cell_type": "code",
   "execution_count": null,
   "source": [],
   "outputs": [],
   "metadata": {}
  },
  {
   "cell_type": "code",
   "execution_count": 36,
   "source": [
    "lrs = extract_lr(files)\n",
    "for i, l in enumerate(lrs):\n",
    "    if i % 9 in [0,1,5]:\n",
    "        print(i, l)"
   ],
   "outputs": [
    {
     "output_type": "stream",
     "name": "stdout",
     "text": [
      "0 0.01\n",
      "1 0.01\n",
      "5 0.01\n",
      "9 0.01\n",
      "10 0.01\n",
      "14 0.01\n",
      "18 0.01\n",
      "19 0.01\n",
      "23 0.1\n"
     ]
    }
   ],
   "metadata": {}
  },
  {
   "cell_type": "code",
   "execution_count": 37,
   "source": [
    "concordances, briers = extract_figures(files)\n",
    "# for file in files:\n",
    "#     with open(file, 'r') as f:\n",
    "#         # print(file)\n",
    "#         lines = f.read().splitlines()\n",
    "#         last_line = lines[-1]\n",
    "#         # print(last_line)\n",
    "#         start = last_line.find('concordance: ') + len('concordance: ') \n",
    "#         end = 10        \n",
    "#         concordance = float(last_line[start:start+end])\n",
    "#         concordances.append(concordance)\n",
    "#         # print(round(concordance * 100, 2))\n",
    "#         start = last_line.find('Brier: ') + len('Brier: ') \n",
    "#         end = 10     \n",
    "#         brier = float(last_line[start:start+end])\n",
    "#         briers.append(brier)\n",
    "#         # print(round(brier * 100, 2))\n"
   ],
   "outputs": [],
   "metadata": {}
  },
  {
   "cell_type": "code",
   "execution_count": 38,
   "source": [
    "indiv_rounds, avg_rounds, std_rounds, indiv_concordances, avg_concordances, std_concordances, indiv_briers, avg_briers, std_briers = extract_stats(files)\n",
    "dec = 2\n",
    "# for i in range(len(avg_concordances)):\n",
    "    # print(concs)\n",
    "    # print(f'{round(100*avg_concordances[i],dec):.2f} +- {round(100*std_concordances[i],dec):.2f}' )\n",
    "    # print(brs)\n",
    "    # print(f'{round(100*avg_briers[i],dec):.2f} +- {round(100*std_briers[i],dec):.2f}' )        \n",
    "    # print(';')  "
   ],
   "outputs": [],
   "metadata": {}
  },
  {
   "cell_type": "code",
   "execution_count": 39,
   "source": [
    "indiv_concordances"
   ],
   "outputs": [
    {
     "output_type": "execute_result",
     "data": {
      "text/plain": [
       "[[0.74791521, 0.7421371, 0.73928984, 0.74258989, 0.74511639],\n",
       " [0.74528403, 0.74082428, 0.74525331, 0.74326896, 0.75025651],\n",
       " [0.74706444, 0.74438305, 0.73532064, 0.74494333, 0.74851981],\n",
       " [0.75044893, 0.74513203, 0.7460451, 0.73902875, 0.74150241],\n",
       " [0.74220439, 0.74353403, 0.74597326, 0.74636599, 0.73882878],\n",
       " [0.73376133, 0.72764949, 0.74096059, 0.72641655, 0.73007684],\n",
       " [0.73141235, 0.73496779, 0.72387316, 0.73114074, 0.73283105],\n",
       " [0.74196167, 0.73495756, 0.73659917, 0.73186923, 0.73548346],\n",
       " [0.72376703, 0.73931442, 0.72493269, 0.71627344, 0.73963239],\n",
       " [0.74905147, 0.74628591, 0.74109402, 0.74471498, 0.74751633],\n",
       " [0.74620023, 0.74380343, 0.74835595, 0.74010268, 0.7544996],\n",
       " [0.75052138, 0.74620688, 0.73785421, 0.74495006, 0.74804664],\n",
       " [0.7506102, 0.74462048, 0.74700994, 0.74065891, 0.74235377],\n",
       " [0.73457664, 0.70813336, 0.74232751, 0.73855008, 0.73826247],\n",
       " [0.73641387, 0.72474646, 0.73823909, 0.72948488, 0.73417473],\n",
       " [0.72584353, 0.6641009, 0.73375839, 0.73725157, 0.73142145],\n",
       " [0.68578068, 0.70510245, 0.71124985, 0.72631174, 0.70253803],\n",
       " [0.70232983, 0.575226, 0.55436854, 0.62455868, 0.67563511],\n",
       " [0.75222636, 0.74626131, 0.74323246, 0.7464554, 0.74399802],\n",
       " [0.74899877, 0.74682537, 0.74271348, 0.746586, 0.74640457],\n",
       " [0.74487309, 0.74229335, 0.74855155, 0.74214188, 0.74817871],\n",
       " [0.74874621, 0.74333799, 0.73640997, 0.74503677, 0.7478614],\n",
       " [0.72687482, 0.73350044, 0.72897776, 0.7374909, 0.7249824],\n",
       " [0.72084136, 0.7188183, 0.67142835, 0.7102572, 0.72414306],\n",
       " [0.70179712, 0.61858962, 0.68270969, 0.6302331, 0.70237343],\n",
       " [0.62649851, 0.67345846, 0.68284785, 0.58127941, 0.71431002],\n",
       " [0.38038895, 0.53236159, 0.71800397, 0.66838762, 0.67360804]]"
      ]
     },
     "metadata": {},
     "execution_count": 39
    }
   ],
   "metadata": {}
  },
  {
   "cell_type": "code",
   "execution_count": 40,
   "source": [
    "fig = plt.figure(1, figsize=(12, 7))\n",
    "\n",
    "duras = ['shorter', 'short','longest','shorter', 'short','longest']\n",
    "lab = ['(a)','(b)','(c)']\n",
    "for idx in range(6):\n",
    "\n",
    "    dura = duras[idx]\n",
    "    files = get_filepath(dura)\n",
    "    indiv_rounds, avg_rounds, std_rounds, indiv_concordances, avg_concordances, std_concordances, indiv_briers, avg_briers, std_briers = extract_stats(files)\n",
    "\n",
    "    if idx < 3:\n",
    "        nums = indiv_concordances\n",
    "    else:\n",
    "        nums = indiv_briers\n",
    "\n",
    "    # Create an axes instance\n",
    "    ax = fig.add_subplot(2,3,1+idx)\n",
    "    for axis in ['top','bottom','left','right']:\n",
    "        ax.spines[axis].set_linewidth(2)\n",
    "    # Create the boxplot\n",
    "    # base= 1 \n",
    "    adj = 9\n",
    "    colors = ['goldenrod','royalblue','lightsteelblue']\n",
    "    bps = []\n",
    "    for i,base in enumerate([0,1,5]):\n",
    "        gap = 3.5\n",
    "        base_pos = [1.2, 2, 2.8]\n",
    "        positions = [base_pos[0] + gap*i, base_pos[1] + gap*i, base_pos[2] + gap*i]\n",
    "        bp = ax.boxplot([nums[i] for i in [base,base+adj,base+2*adj]], whis=999, patch_artist=True, positions = positions, widths = 0.6)\n",
    "        bps.append(bp)\n",
    "        for j, box in enumerate(bp['boxes']):\n",
    "            # change outline color\n",
    "            box.set( color=colors[j], linewidth=2)\n",
    "            # change fill color\n",
    "            box.set( facecolor = colors[j] )\n",
    "\n",
    "        for j, whisker in enumerate(bp['whiskers']):\n",
    "            whisker.set(color=colors[j//2], linewidth=2)\n",
    "        for j,cap in enumerate(bp['caps']):\n",
    "            cap.set(color=colors[j//2], linewidth=2)\n",
    "\n",
    "        for median in bp['medians']:\n",
    "            median.set(color='black', linewidth=2)\n",
    "\n",
    "        for flier in bp['fliers']:\n",
    "            flier.set(marker='D', color='black', alpha=0.5)\n",
    "    if idx < 3:\n",
    "        plt.xticks([base_pos[1], base_pos[1]+gap, base_pos[1]+2*gap],['Pooled', 'IID','Non-IID'])\n",
    "    else:\n",
    "        plt.xticks([base_pos[1], base_pos[1]+gap, base_pos[1]+2*gap],['Pooled', f'IID \\n \\n {lab[idx-3]}','Non-IID'])\n",
    "    plt.tick_params(axis='x',labelsize=16, width=2)\n",
    "    plt.tick_params(axis='y',labelsize=14,width=2)\n",
    "    ax.yaxis.set_major_formatter(FormatStrFormatter('%.2f'))\n",
    "    # ax.set_xticklabels(['A', 'B', 'C'])\n",
    "    # ax.set_xticks([2, 2+4, 2+2*4])\n",
    "    if idx < 3:\n",
    "        x1,x2,y1,y2 = ax.axis()  \n",
    "        ax.axis((x1,x2,0.7,0.76))\n",
    "    else:\n",
    "        x1,x2,y1,y2 = ax.axis()  \n",
    "        ax.axis((x1,x2,0.15,0.27))    \n",
    "        ax.set_yticks(np.arange(0.15,0.27,0.04))\n",
    "    \n",
    "    if idx == 0:\n",
    "        plt.ylabel(ylabel='C-index', fontsize=16)\n",
    "    if idx == 2:\n",
    "        ax.legend([bps[0][\"boxes\"][0], bps[0][\"boxes\"][1], bps[0][\"boxes\"][2]],['Linear CoxPH', 'NN CoxPH', 'NN LogHaz'], loc='lower left',fontsize=14)\n",
    "    if idx == 3:\n",
    "        ax.legend([bps[0][\"boxes\"][0], bps[0][\"boxes\"][1], bps[0][\"boxes\"][2]],['Linear CoxPH', 'NN CoxPH', 'NN LogHaz'], loc='upper left',fontsize=14)\n",
    "        plt.ylabel(ylabel='Integrated Brier score', fontsize=16)\n",
    "fig.savefig('./figs/duration_flex.eps', bbox_inches='tight')\n",
    "\n"
   ],
   "outputs": [],
   "metadata": {}
  }
 ],
 "metadata": {
  "orig_nbformat": 4,
  "language_info": {
   "name": "python",
   "version": "3.8.7",
   "mimetype": "text/x-python",
   "codemirror_mode": {
    "name": "ipython",
    "version": 3
   },
   "pygments_lexer": "ipython3",
   "nbconvert_exporter": "python",
   "file_extension": ".py"
  },
  "kernelspec": {
   "name": "python3",
   "display_name": "Python 3.8.7 64-bit ('flenv': venv)"
  },
  "interpreter": {
   "hash": "f1c13921e8e375de9335a0ccf3b3c47f8dbb15e8689cc78791955ed1115cd503"
  }
 },
 "nbformat": 4,
 "nbformat_minor": 2
}