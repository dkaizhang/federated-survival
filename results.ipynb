{
 "cells": [
  {
   "cell_type": "code",
   "execution_count": 301,
   "source": [
    "import matplotlib.pyplot as plt\n",
    "import numpy as np\n",
    "\n",
    "from result_utilities import get_filepath, extract_figures, extract_stats"
   ],
   "outputs": [],
   "metadata": {}
  },
  {
   "cell_type": "code",
   "execution_count": 302,
   "source": [
    "dura = 'shorter'\n"
   ],
   "outputs": [],
   "metadata": {}
  },
  {
   "cell_type": "code",
   "execution_count": 304,
   "source": [
    "files = get_filepath(dura)\n",
    "print(files)\n",
    "# model = ['coxph', 'NNph', 'NNnph']\n",
    "# files = []\n",
    "# for i, path in enumerate(paths):\n",
    "#     cases = ['central','iid','noniid']\n",
    "#     strats = [None, None, 0]\n",
    "#     centers = [1,4,4]\n",
    "#     rounds = [[1], [1,5,20,100], [1,5,20,100]]\n",
    "#     for j, case in enumerate(cases):  \n",
    "#         for rnd in rounds[j]:\n",
    "#             file = f'{path}/training_log_M{model[i]}C{case}S{strats[j]}C{centers[j]}L{rnd}.txt'\n",
    "#             files.append(file)\n",
    "#             print(file)"
   ],
   "outputs": [
    {
     "output_type": "stream",
     "name": "stdout",
     "text": [
      "['./shorter/coxph-shorter/training_log_McoxphCcentralSNoneC1L1.txt', './shorter/coxph-shorter/training_log_McoxphCiidSNoneC4L1.txt', './shorter/coxph-shorter/training_log_McoxphCiidSNoneC4L5.txt', './shorter/coxph-shorter/training_log_McoxphCiidSNoneC4L20.txt', './shorter/coxph-shorter/training_log_McoxphCiidSNoneC4L100.txt', './shorter/coxph-shorter/training_log_McoxphCnoniidS0C4L1.txt', './shorter/coxph-shorter/training_log_McoxphCnoniidS0C4L5.txt', './shorter/coxph-shorter/training_log_McoxphCnoniidS0C4L20.txt', './shorter/coxph-shorter/training_log_McoxphCnoniidS0C4L100.txt', './shorter/nnph-shorter/training_log_MNNphCcentralSNoneC1L1.txt', './shorter/nnph-shorter/training_log_MNNphCiidSNoneC4L1.txt', './shorter/nnph-shorter/training_log_MNNphCiidSNoneC4L5.txt', './shorter/nnph-shorter/training_log_MNNphCiidSNoneC4L20.txt', './shorter/nnph-shorter/training_log_MNNphCiidSNoneC4L100.txt', './shorter/nnph-shorter/training_log_MNNphCnoniidS0C4L1.txt', './shorter/nnph-shorter/training_log_MNNphCnoniidS0C4L5.txt', './shorter/nnph-shorter/training_log_MNNphCnoniidS0C4L20.txt', './shorter/nnph-shorter/training_log_MNNphCnoniidS0C4L100.txt', './shorter/nnnph-shorter/training_log_MNNnphCcentralSNoneC1L1.txt', './shorter/nnnph-shorter/training_log_MNNnphCiidSNoneC4L1.txt', './shorter/nnnph-shorter/training_log_MNNnphCiidSNoneC4L5.txt', './shorter/nnnph-shorter/training_log_MNNnphCiidSNoneC4L20.txt', './shorter/nnnph-shorter/training_log_MNNnphCiidSNoneC4L100.txt', './shorter/nnnph-shorter/training_log_MNNnphCnoniidS0C4L1.txt', './shorter/nnnph-shorter/training_log_MNNnphCnoniidS0C4L5.txt', './shorter/nnnph-shorter/training_log_MNNnphCnoniidS0C4L20.txt', './shorter/nnnph-shorter/training_log_MNNnphCnoniidS0C4L100.txt']\n"
     ]
    }
   ],
   "metadata": {}
  },
  {
   "cell_type": "code",
   "execution_count": 306,
   "source": [
    "concordances, briers = extract_figures(files)\n",
    "# for file in files:\n",
    "#     with open(file, 'r') as f:\n",
    "#         # print(file)\n",
    "#         lines = f.read().splitlines()\n",
    "#         last_line = lines[-1]\n",
    "#         # print(last_line)\n",
    "#         start = last_line.find('concordance: ') + len('concordance: ') \n",
    "#         end = 10        \n",
    "#         concordance = float(last_line[start:start+end])\n",
    "#         concordances.append(concordance)\n",
    "#         # print(round(concordance * 100, 2))\n",
    "#         start = last_line.find('Brier: ') + len('Brier: ') \n",
    "#         end = 10     \n",
    "#         brier = float(last_line[start:start+end])\n",
    "#         briers.append(brier)\n",
    "#         # print(round(brier * 100, 2))\n"
   ],
   "outputs": [],
   "metadata": {}
  },
  {
   "cell_type": "code",
   "execution_count": 308,
   "source": [
    "indiv_rounds, avg_rounds, std_rounds, indiv_concordances, avg_concordances, std_concordances, indiv_briers, avg_briers, std_briers = extract_stats(files)\n",
    "dec = 2\n",
    "for i in range(len(avg_concordances)):\n",
    "    # print(concs)\n",
    "    print(f'{round(100*avg_concordances[i],dec):.2f} +- {round(100*std_concordances[i],dec):.2f}' )\n",
    "    # print(brs)\n",
    "    # print(f'{round(100*avg_briers[i],dec):.2f} +- {round(100*std_briers[i],dec):.2f}' )        \n",
    "    print(';')  "
   ],
   "outputs": [
    {
     "output_type": "stream",
     "name": "stdout",
     "text": [
      "74.51 +- 0.19\n",
      ";\n",
      "74.53 +- 0.29\n",
      ";\n",
      "74.50 +- 0.49\n",
      ";\n",
      "74.45 +- 0.36\n",
      ";\n",
      "74.43 +- 0.15\n",
      ";\n",
      "74.28 +- 0.41\n",
      ";\n",
      "74.22 +- 0.24\n",
      ";\n",
      "73.19 +- 0.51\n",
      ";\n",
      "74.39 +- 0.26\n",
      ";\n",
      "74.67 +- 0.19\n",
      ";\n",
      "74.57 +- 0.35\n",
      ";\n",
      "74.49 +- 0.50\n",
      ";\n",
      "74.53 +- 0.34\n",
      ";\n",
      "73.73 +- 0.83\n",
      ";\n",
      "74.11 +- 0.29\n",
      ";\n",
      "73.65 +- 0.58\n",
      ";\n",
      "72.65 +- 1.55\n",
      ";\n",
      "67.33 +- 4.75\n",
      ";\n",
      "74.52 +- 0.23\n",
      ";\n",
      "74.70 +- 0.45\n",
      ";\n",
      "74.70 +- 0.41\n",
      ";\n",
      "74.39 +- 0.46\n",
      ";\n",
      "73.15 +- 0.70\n",
      ";\n",
      "70.44 +- 3.66\n",
      ";\n",
      "71.30 +- 2.99\n",
      ";\n",
      "53.66 +- 9.77\n",
      ";\n",
      "53.40 +- 9.24\n",
      ";\n"
     ]
    }
   ],
   "metadata": {}
  },
  {
   "cell_type": "code",
   "execution_count": 309,
   "source": [
    "fig = plt.figure(1, figsize=(9, 6))\n",
    "\n",
    "# Create an axes instance\n",
    "ax = fig.add_subplot(111)\n",
    "\n",
    "# Create the boxplot\n",
    "# base= 1 \n",
    "adj = 9\n",
    "for i,base in enumerate([0,1,5]):\n",
    "    bp = ax.boxplot([indiv_concordances[i] for i in [base,base+adj,base+2*adj]], patch_artist=True, positions = [1+4*i,2+4*i,3+4*i])\n",
    "    for box in bp['boxes']:\n",
    "        # change outline color\n",
    "        box.set( color='lightsteelblue', linewidth=2)\n",
    "        # change fill color\n",
    "        box.set( facecolor = 'lightsteelblue' )\n",
    "\n",
    "    for whisker in bp['whiskers']:\n",
    "        whisker.set(color='lightsteelblue', linewidth=2)\n",
    "    for cap in bp['caps']:\n",
    "        cap.set(color='lightsteelblue', linewidth=2)\n",
    "\n",
    "    for median in bp['medians']:\n",
    "        median.set(color='royalblue', linewidth=2)\n",
    "\n",
    "    for flier in bp['fliers']:\n",
    "        flier.set(marker='o', color='#e7298a', alpha=0.5)\n",
    "# fig.savefig('fig1.png', bbox_inches='tight')\n",
    "x1,x2,y1,y2 = ax.axis()  \n",
    "ax.axis((x1,x2,0.7,0.76))"
   ],
   "outputs": [
    {
     "output_type": "execute_result",
     "data": {
      "text/plain": [
       "(0.5, 11.5, 0.7, 0.76)"
      ]
     },
     "metadata": {},
     "execution_count": 309
    },
    {
     "output_type": "display_data",
     "data": {
      "text/plain": [
       "<Figure size 648x432 with 1 Axes>"
      ],
      "image/png": "[encoded data removed]"
     },
     "metadata": {
      "needs_background": "light"
     }
    }
   ],
   "metadata": {}
  }
 ],
 "metadata": {
  "orig_nbformat": 4,
  "language_info": {
   "name": "python",
   "version": "3.8.7",
   "mimetype": "text/x-python",
   "codemirror_mode": {
    "name": "ipython",
    "version": 3
   },
   "pygments_lexer": "ipython3",
   "nbconvert_exporter": "python",
   "file_extension": ".py"
  },
  "kernelspec": {
   "name": "python3",
   "display_name": "Python 3.8.7 64-bit ('flenv': venv)"
  },
  "interpreter": {
   "hash": "f1c13921e8e375de9335a0ccf3b3c47f8dbb15e8689cc78791955ed1115cd503"
  }
 },
 "nbformat": 4,
 "nbformat_minor": 2
}