{
 "metadata": {
  "language_info": {
   "codemirror_mode": {
    "name": "ipython",
    "version": 3
   },
   "file_extension": ".py",
   "mimetype": "text/x-python",
   "name": "python",
   "nbconvert_exporter": "python",
   "pygments_lexer": "ipython3",
   "version": "3.8.7"
  },
  "orig_nbformat": 2,
  "kernelspec": {
   "name": "python387jvsc74a57bd0f1c13921e8e375de9335a0ccf3b3c47f8dbb15e8689cc78791955ed1115cd503",
   "display_name": "Python 3.8.7 64-bit ('flenv': venv)"
  }
 },
 "nbformat": 4,
 "nbformat_minor": 2,
 "cells": [
  {
   "cell_type": "code",
   "execution_count": 1,
   "metadata": {},
   "outputs": [],
   "source": [
    "import pandas as pd\n",
    "\n",
    "from load import read_csv"
   ]
  },
  {
   "cell_type": "code",
   "execution_count": 2,
   "metadata": {},
   "outputs": [],
   "source": [
    "path = './Data/bt-impute.csv'\n",
    "df = read_csv(path)"
   ]
  },
  {
   "cell_type": "code",
   "execution_count": 18,
   "metadata": {},
   "outputs": [
    {
     "output_type": "execute_result",
     "data": {
      "text/plain": [
       "1     36865\n",
       "2       834\n",
       "3       624\n",
       "4       479\n",
       "5       352\n",
       "6       239\n",
       "7       211\n",
       "8       147\n",
       "9       106\n",
       "10       65\n",
       "11       63\n",
       "12       41\n",
       "13       37\n",
       "15       22\n",
       "14       22\n",
       "16       19\n",
       "17       13\n",
       "18        5\n",
       "19        3\n",
       "20        3\n",
       "22        3\n",
       "24        3\n",
       "26        3\n",
       "21        1\n",
       "23        1\n",
       "28        1\n",
       "dtype: int64"
      ]
     },
     "metadata": {},
     "execution_count": 18
    }
   ],
   "source": [
    "df.groupby('PATIENTID').size().value_counts()"
   ]
  },
  {
   "cell_type": "code",
   "execution_count": 14,
   "metadata": {},
   "outputs": [
    {
     "output_type": "execute_result",
     "data": {
      "text/plain": [
       "        TUMOURID  PATIENTID DIAGNOSISDATEBEST SITE_ICD10_O2_3CHAR  \\\n",
       "0       10614165   10501771        2017-01-16                 C71   \n",
       "1       10614166   10501772        2015-11-10                 C71   \n",
       "2       10614166   10501772        2015-11-10                 C71   \n",
       "3       10614166   10501772        2015-11-10                 C71   \n",
       "4       10614166   10501772        2015-11-10                 C71   \n",
       "...          ...        ...               ...                 ...   \n",
       "53091  330026843  330024623        2017-09-10                 C70   \n",
       "53092  330026843  330024623        2017-09-10                 C70   \n",
       "53093  330026843  330024623        2017-09-10                 C70   \n",
       "53094  330026843  330024623        2017-09-10                 C70   \n",
       "53095  330026843  330024623        2017-09-10                 C70   \n",
       "\n",
       "      MORPH_ICD10_O2  BEHAVIOUR_ICD10_O2 STAGE_BEST GRADE   AGE SEX  ...  \\\n",
       "0             9440.0                   3          U    G4  69.0   1  ...   \n",
       "1             9440.0                   3          U    G4  88.0   1  ...   \n",
       "2             9440.0                   3          U    G4  88.0   1  ...   \n",
       "3             9440.0                   3          U    G4  88.0   1  ...   \n",
       "4             9440.0                   3          U    G4  88.0   1  ...   \n",
       "...              ...                 ...        ...   ...   ...  ..  ...   \n",
       "53091         9440.0                   3          ?    GX  88.0   1  ...   \n",
       "53092         9440.0                   3          ?    GX  88.0   1  ...   \n",
       "53093         9440.0                   3          ?    GX  88.0   1  ...   \n",
       "53094         9440.0                   3          ?    GX  88.0   1  ...   \n",
       "53095         9440.0                   3          ?    GX  88.0   1  ...   \n",
       "\n",
       "      CLINICAL_TRIAL  CHEMO_RADIATION REGIMEN_COUNT CLINICAL_TRIAL_INDICATOR  \\\n",
       "0              False            False           0.0                    False   \n",
       "1              False            False           1.0                    False   \n",
       "2              False            False           3.0                    False   \n",
       "3              False            False           2.0                    False   \n",
       "4              False            False           4.0                    False   \n",
       "...              ...              ...           ...                      ...   \n",
       "53091          False            False           4.0                     True   \n",
       "53092          False             True           5.0                     True   \n",
       "53093          False            False           6.0                     True   \n",
       "53094          False            False           7.0                     True   \n",
       "53095          False            False           8.0                     True   \n",
       "\n",
       "       CHEMO_RADIATION_INDICATOR NORMALISED_HEIGHT NORMALISED_WEIGHT  \\\n",
       "0                          False             0.000              0.00   \n",
       "1                          False             1.755             71.75   \n",
       "2                          False             1.755             71.75   \n",
       "3                          False             1.755             71.75   \n",
       "4                          False             1.755             71.75   \n",
       "...                          ...               ...               ...   \n",
       "53091                      False             1.750             55.60   \n",
       "53092                       True             1.750             55.60   \n",
       "53093                       True             1.750             55.60   \n",
       "53094                       True             1.750             55.60   \n",
       "53095                       True             1.750             55.60   \n",
       "\n",
       "       DAYS_TO_FIRST_SURGERY  DAYS_SINCE_DIAGNOSIS  count  \n",
       "0                          0                   751    NaN  \n",
       "1                          0                    17    NaN  \n",
       "2                          0                    17    NaN  \n",
       "3                          0                    17    NaN  \n",
       "4                          0                    17    NaN  \n",
       "...                      ...                   ...    ...  \n",
       "53091                     15                   517    NaN  \n",
       "53092                     15                   517    NaN  \n",
       "53093                     15                   517    NaN  \n",
       "53094                     15                   517    NaN  \n",
       "53095                     15                   517    NaN  \n",
       "\n",
       "[53096 rows x 28 columns]"
      ],
      "text/html": "<div>\n<style scoped>\n    .dataframe tbody tr th:only-of-type {\n        vertical-align: middle;\n    }\n\n    .dataframe tbody tr th {\n        vertical-align: top;\n    }\n\n    .dataframe thead th {\n        text-align: right;\n    }\n</style>\n<table border=\"1\" class=\"dataframe\">\n  <thead>\n    <tr style=\"text-align: right;\">\n      <th></th>\n      <th>TUMOURID</th>\n      <th>PATIENTID</th>\n      <th>DIAGNOSISDATEBEST</th>\n      <th>SITE_ICD10_O2_3CHAR</th>\n      <th>MORPH_ICD10_O2</th>\n      <th>BEHAVIOUR_ICD10_O2</th>\n      <th>STAGE_BEST</th>\n      <th>GRADE</th>\n      <th>AGE</th>\n      <th>SEX</th>\n      <th>...</th>\n      <th>CLINICAL_TRIAL</th>\n      <th>CHEMO_RADIATION</th>\n      <th>REGIMEN_COUNT</th>\n      <th>CLINICAL_TRIAL_INDICATOR</th>\n      <th>CHEMO_RADIATION_INDICATOR</th>\n      <th>NORMALISED_HEIGHT</th>\n      <th>NORMALISED_WEIGHT</th>\n      <th>DAYS_TO_FIRST_SURGERY</th>\n      <th>DAYS_SINCE_DIAGNOSIS</th>\n      <th>count</th>\n    </tr>\n  </thead>\n  <tbody>\n    <tr>\n      <th>0</th>\n      <td>10614165</td>\n      <td>10501771</td>\n      <td>2017-01-16</td>\n      <td>C71</td>\n      <td>9440.0</td>\n      <td>3</td>\n      <td>U</td>\n      <td>G4</td>\n      <td>69.0</td>\n      <td>1</td>\n      <td>...</td>\n      <td>False</td>\n      <td>False</td>\n      <td>0.0</td>\n      <td>False</td>\n      <td>False</td>\n      <td>0.000</td>\n      <td>0.00</td>\n      <td>0</td>\n      <td>751</td>\n      <td>NaN</td>\n    </tr>\n    <tr>\n      <th>1</th>\n      <td>10614166</td>\n      <td>10501772</td>\n      <td>2015-11-10</td>\n      <td>C71</td>\n      <td>9440.0</td>\n      <td>3</td>\n      <td>U</td>\n      <td>G4</td>\n      <td>88.0</td>\n      <td>1</td>\n      <td>...</td>\n      <td>False</td>\n      <td>False</td>\n      <td>1.0</td>\n      <td>False</td>\n      <td>False</td>\n      <td>1.755</td>\n      <td>71.75</td>\n      <td>0</td>\n      <td>17</td>\n      <td>NaN</td>\n    </tr>\n    <tr>\n      <th>2</th>\n      <td>10614166</td>\n      <td>10501772</td>\n      <td>2015-11-10</td>\n      <td>C71</td>\n      <td>9440.0</td>\n      <td>3</td>\n      <td>U</td>\n      <td>G4</td>\n      <td>88.0</td>\n      <td>1</td>\n      <td>...</td>\n      <td>False</td>\n      <td>False</td>\n      <td>3.0</td>\n      <td>False</td>\n      <td>False</td>\n      <td>1.755</td>\n      <td>71.75</td>\n      <td>0</td>\n      <td>17</td>\n      <td>NaN</td>\n    </tr>\n    <tr>\n      <th>3</th>\n      <td>10614166</td>\n      <td>10501772</td>\n      <td>2015-11-10</td>\n      <td>C71</td>\n      <td>9440.0</td>\n      <td>3</td>\n      <td>U</td>\n      <td>G4</td>\n      <td>88.0</td>\n      <td>1</td>\n      <td>...</td>\n      <td>False</td>\n      <td>False</td>\n      <td>2.0</td>\n      <td>False</td>\n      <td>False</td>\n      <td>1.755</td>\n      <td>71.75</td>\n      <td>0</td>\n      <td>17</td>\n      <td>NaN</td>\n    </tr>\n    <tr>\n      <th>4</th>\n      <td>10614166</td>\n      <td>10501772</td>\n      <td>2015-11-10</td>\n      <td>C71</td>\n      <td>9440.0</td>\n      <td>3</td>\n      <td>U</td>\n      <td>G4</td>\n      <td>88.0</td>\n      <td>1</td>\n      <td>...</td>\n      <td>False</td>\n      <td>False</td>\n      <td>4.0</td>\n      <td>False</td>\n      <td>False</td>\n      <td>1.755</td>\n      <td>71.75</td>\n      <td>0</td>\n      <td>17</td>\n      <td>NaN</td>\n    </tr>\n    <tr>\n      <th>...</th>\n      <td>...</td>\n      <td>...</td>\n      <td>...</td>\n      <td>...</td>\n      <td>...</td>\n      <td>...</td>\n      <td>...</td>\n      <td>...</td>\n      <td>...</td>\n      <td>...</td>\n      <td>...</td>\n      <td>...</td>\n      <td>...</td>\n      <td>...</td>\n      <td>...</td>\n      <td>...</td>\n      <td>...</td>\n      <td>...</td>\n      <td>...</td>\n      <td>...</td>\n      <td>...</td>\n    </tr>\n    <tr>\n      <th>53091</th>\n      <td>330026843</td>\n      <td>330024623</td>\n      <td>2017-09-10</td>\n      <td>C70</td>\n      <td>9440.0</td>\n      <td>3</td>\n      <td>?</td>\n      <td>GX</td>\n      <td>88.0</td>\n      <td>1</td>\n      <td>...</td>\n      <td>False</td>\n      <td>False</td>\n      <td>4.0</td>\n      <td>True</td>\n      <td>False</td>\n      <td>1.750</td>\n      <td>55.60</td>\n      <td>15</td>\n      <td>517</td>\n      <td>NaN</td>\n    </tr>\n    <tr>\n      <th>53092</th>\n      <td>330026843</td>\n      <td>330024623</td>\n      <td>2017-09-10</td>\n      <td>C70</td>\n      <td>9440.0</td>\n      <td>3</td>\n      <td>?</td>\n      <td>GX</td>\n      <td>88.0</td>\n      <td>1</td>\n      <td>...</td>\n      <td>False</td>\n      <td>True</td>\n      <td>5.0</td>\n      <td>True</td>\n      <td>True</td>\n      <td>1.750</td>\n      <td>55.60</td>\n      <td>15</td>\n      <td>517</td>\n      <td>NaN</td>\n    </tr>\n    <tr>\n      <th>53093</th>\n      <td>330026843</td>\n      <td>330024623</td>\n      <td>2017-09-10</td>\n      <td>C70</td>\n      <td>9440.0</td>\n      <td>3</td>\n      <td>?</td>\n      <td>GX</td>\n      <td>88.0</td>\n      <td>1</td>\n      <td>...</td>\n      <td>False</td>\n      <td>False</td>\n      <td>6.0</td>\n      <td>True</td>\n      <td>True</td>\n      <td>1.750</td>\n      <td>55.60</td>\n      <td>15</td>\n      <td>517</td>\n      <td>NaN</td>\n    </tr>\n    <tr>\n      <th>53094</th>\n      <td>330026843</td>\n      <td>330024623</td>\n      <td>2017-09-10</td>\n      <td>C70</td>\n      <td>9440.0</td>\n      <td>3</td>\n      <td>?</td>\n      <td>GX</td>\n      <td>88.0</td>\n      <td>1</td>\n      <td>...</td>\n      <td>False</td>\n      <td>False</td>\n      <td>7.0</td>\n      <td>True</td>\n      <td>True</td>\n      <td>1.750</td>\n      <td>55.60</td>\n      <td>15</td>\n      <td>517</td>\n      <td>NaN</td>\n    </tr>\n    <tr>\n      <th>53095</th>\n      <td>330026843</td>\n      <td>330024623</td>\n      <td>2017-09-10</td>\n      <td>C70</td>\n      <td>9440.0</td>\n      <td>3</td>\n      <td>?</td>\n      <td>GX</td>\n      <td>88.0</td>\n      <td>1</td>\n      <td>...</td>\n      <td>False</td>\n      <td>False</td>\n      <td>8.0</td>\n      <td>True</td>\n      <td>True</td>\n      <td>1.750</td>\n      <td>55.60</td>\n      <td>15</td>\n      <td>517</td>\n      <td>NaN</td>\n    </tr>\n  </tbody>\n</table>\n<p>53096 rows × 28 columns</p>\n</div>"
     },
     "metadata": {},
     "execution_count": 14
    }
   ],
   "source": []
  },
  {
   "cell_type": "code",
   "execution_count": null,
   "metadata": {},
   "outputs": [],
   "source": []
  }
 ]
}