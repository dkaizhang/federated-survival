{
 "metadata": {
  "language_info": {
   "codemirror_mode": {
    "name": "ipython",
    "version": 3
   },
   "file_extension": ".py",
   "mimetype": "text/x-python",
   "name": "python",
   "nbconvert_exporter": "python",
   "pygments_lexer": "ipython3",
   "version": "3.8.7"
  },
  "orig_nbformat": 2,
  "kernelspec": {
   "name": "pythonjvsc74a57bd0f1c13921e8e375de9335a0ccf3b3c47f8dbb15e8689cc78791955ed1115cd503",
   "display_name": "Python 3.8.7 64-bit ('flenv': venv)"
  },
  "metadata": {
   "interpreter": {
    "hash": "f1c13921e8e375de9335a0ccf3b3c47f8dbb15e8689cc78791955ed1115cd503"
   }
  }
 },
 "nbformat": 4,
 "nbformat_minor": 2,
 "cells": [
  {
   "source": [
    "Takes csv file created by data notebook to drop instances, drop features if too much missing, checks and fixes formatting"
   ],
   "cell_type": "markdown",
   "metadata": {}
  },
  {
   "cell_type": "code",
   "execution_count": 160,
   "metadata": {},
   "outputs": [],
   "source": [
    "import numpy as np\n",
    "import pandas as pd\n",
    "from sklearn.impute import SimpleImputer\n",
    "\n",
    "from load import read_csv, to_csv\n",
    "from utilities import replace, mean_impute"
   ]
  },
  {
   "cell_type": "code",
   "execution_count": 161,
   "metadata": {},
   "outputs": [],
   "source": [
    "path = './Data/bt.csv'"
   ]
  },
  {
   "cell_type": "code",
   "execution_count": 162,
   "metadata": {},
   "outputs": [
    {
     "output_type": "stream",
     "name": "stdout",
     "text": [
      "94259\n"
     ]
    },
    {
     "output_type": "execute_result",
     "data": {
      "text/plain": [
       "   TUMOURID  PATIENTID DIAGNOSISDATEBEST SITE_ICD10_O2 SITE_ICD10_O2_3CHAR  \\\n",
       "0  10614165   10501771        2017-01-16          C719                 C71   \n",
       "1  10614166   10501772        2015-11-10          C712                 C71   \n",
       "2  10614166   10501772        2015-11-10          C712                 C71   \n",
       "3  10614166   10501772        2015-11-10          C712                 C71   \n",
       "4  10614166   10501772        2015-11-10          C712                 C71   \n",
       "\n",
       "  MORPH_ICD10_O2 BEHAVIOUR_ICD10_O2 T_BEST N_BEST M_BEST STAGE_BEST  \\\n",
       "0           9440                  3    NaN    NaN    NaN          U   \n",
       "1           9440                  3    NaN    NaN    NaN          U   \n",
       "2           9440                  3    NaN    NaN    NaN          U   \n",
       "3           9440                  3    NaN    NaN    NaN          U   \n",
       "4           9440                  3    NaN    NaN    NaN          U   \n",
       "\n",
       "  STAGE_BEST_SYSTEM GRADE   AGE SEX CREG_CODE  LINKNUMBER  \\\n",
       "0               NaN    G4  69.0   1     L0401   810501771   \n",
       "1               NaN    G4  88.0   1     L1001   810501772   \n",
       "2               NaN    G4  88.0   1     L1001   810501772   \n",
       "3               NaN    G4  88.0   1     L1001   810501772   \n",
       "4               NaN    G4  88.0   1     L1001   810501772   \n",
       "\n",
       "  SCREENINGSTATUSFULL_CODE ER_STATUS ER_SCORE PR_STATUS PR_SCORE HER2_STATUS  \\\n",
       "0                      NaN       NaN      NaN       NaN      NaN         NaN   \n",
       "1                      NaN       NaN      NaN       NaN      NaN         NaN   \n",
       "2                      NaN       NaN      NaN       NaN      NaN         NaN   \n",
       "3                      NaN       NaN      NaN       NaN      NaN         NaN   \n",
       "4                      NaN       NaN      NaN       NaN      NaN         NaN   \n",
       "\n",
       "  CANCERCAREPLANINTENT PERFORMANCESTATUS  CNS ACE27 GLEASON_PRIMARY  \\\n",
       "0                  NaN               NaN  NaN   NaN             NaN   \n",
       "1                  NaN                 9  NaN   NaN             NaN   \n",
       "2                  NaN                 9  NaN   NaN             NaN   \n",
       "3                  NaN                 9  NaN   NaN             NaN   \n",
       "4                  NaN                 9  NaN   NaN             NaN   \n",
       "\n",
       "  GLEASON_SECONDARY GLEASON_TERTIARY GLEASON_COMBINED DATE_FIRST_SURGERY  \\\n",
       "0               NaN              NaN              NaN         2017-01-16   \n",
       "1               NaN              NaN              NaN         2015-11-10   \n",
       "2               NaN              NaN              NaN         2015-11-10   \n",
       "3               NaN              NaN              NaN         2015-11-10   \n",
       "4               NaN              NaN              NaN         2015-11-10   \n",
       "\n",
       "  LATERALITY       QUINTILE_2015  TUMOUR_COUNT ETHNICITY DEATHCAUSECODE_1A  \\\n",
       "0          R                   4             2         A               NaN   \n",
       "1          R  1 - least deprived             2         A         C719,D432   \n",
       "2          R  1 - least deprived             2         A         C719,D432   \n",
       "3          R  1 - least deprived             2         A         C719,D432   \n",
       "4          R  1 - least deprived             2         A         C719,D432   \n",
       "\n",
       "  DEATHCAUSECODE_1B DEATHCAUSECODE_1C DEATHCAUSECODE_2  \\\n",
       "0               NaN               NaN              NaN   \n",
       "1               NaN               NaN              NaN   \n",
       "2               NaN               NaN              NaN   \n",
       "3               NaN               NaN              NaN   \n",
       "4               NaN               NaN              NaN   \n",
       "\n",
       "  DEATHCAUSECODE_UNDERLYING DEATHLOCATIONCODE NEWVITALSTATUS VITALSTATUSDATE  \\\n",
       "0                       NaN               NaN              A      2019-02-06   \n",
       "1                      C719               NaN              D      2015-11-27   \n",
       "2                      C719               NaN              D      2015-11-27   \n",
       "3                      C719               NaN              D      2015-11-27   \n",
       "4                      C719               NaN              D      2015-11-27   \n",
       "\n",
       "   MERGED_PATIENT_ID  SACT  MERGED_TUMOUR_ID DATE_DECISION_TO_TREAT  \\\n",
       "0                NaN  <NA>               NaN                    NaT   \n",
       "1         10501772.0  True        10002483.0             2015-12-15   \n",
       "2         10501772.0  True        10002483.0             2015-12-15   \n",
       "3         10501772.0  True        10002483.0             2015-12-15   \n",
       "4         10501772.0  True        10002483.0             2015-12-15   \n",
       "\n",
       "  START_DATE_OF_REGIMEN  CLINICAL_TRIAL  CHEMO_RADIATION  REGIMEN_COUNT  \\\n",
       "0                   NaT           False            False            NaN   \n",
       "1            2015-12-23           False            False            1.0   \n",
       "2            2015-12-23           False            False            1.0   \n",
       "3            2015-12-23           False            False            1.0   \n",
       "4            2015-12-23           False            False            1.0   \n",
       "\n",
       "   CLINICAL_TRIAL_INDICATOR  CHEMO_RADIATION_INDICATOR  NORMALISED_HEIGHT  \\\n",
       "0                      <NA>                       <NA>                NaN   \n",
       "1                     False                      False              1.755   \n",
       "2                     False                      False              1.755   \n",
       "3                     False                      False              1.755   \n",
       "4                     False                      False              1.755   \n",
       "\n",
       "   NORMALISED_WEIGHT  MERGED_CYCLE_ID  CYCLE_NUMBER START_DATE_OF_CYCLE  \\\n",
       "0                NaN              NaN           NaN                 NaT   \n",
       "1              71.75       10003933.0           1.0          2016-06-15   \n",
       "2              71.75       10012207.0           2.0          2016-07-06   \n",
       "3              71.75       10017672.0           2.0          2016-08-03   \n",
       "4              71.75       10021647.0           3.0          2016-08-31   \n",
       "\n",
       "  NEWVITALSTATUSDATE  \n",
       "0         2019-02-06  \n",
       "1         2016-06-15  \n",
       "2         2016-07-06  \n",
       "3         2016-08-03  \n",
       "4         2016-08-31  "
      ],
      "text/html": "<div>\n<style scoped>\n    .dataframe tbody tr th:only-of-type {\n        vertical-align: middle;\n    }\n\n    .dataframe tbody tr th {\n        vertical-align: top;\n    }\n\n    .dataframe thead th {\n        text-align: right;\n    }\n</style>\n<table border=\"1\" class=\"dataframe\">\n  <thead>\n    <tr style=\"text-align: right;\">\n      <th></th>\n      <th>TUMOURID</th>\n      <th>PATIENTID</th>\n      <th>DIAGNOSISDATEBEST</th>\n      <th>SITE_ICD10_O2</th>\n      <th>SITE_ICD10_O2_3CHAR</th>\n      <th>MORPH_ICD10_O2</th>\n      <th>BEHAVIOUR_ICD10_O2</th>\n      <th>T_BEST</th>\n      <th>N_BEST</th>\n      <th>M_BEST</th>\n      <th>STAGE_BEST</th>\n      <th>STAGE_BEST_SYSTEM</th>\n      <th>GRADE</th>\n      <th>AGE</th>\n      <th>SEX</th>\n      <th>CREG_CODE</th>\n      <th>LINKNUMBER</th>\n      <th>SCREENINGSTATUSFULL_CODE</th>\n      <th>ER_STATUS</th>\n      <th>ER_SCORE</th>\n      <th>PR_STATUS</th>\n      <th>PR_SCORE</th>\n      <th>HER2_STATUS</th>\n      <th>CANCERCAREPLANINTENT</th>\n      <th>PERFORMANCESTATUS</th>\n      <th>CNS</th>\n      <th>ACE27</th>\n      <th>GLEASON_PRIMARY</th>\n      <th>GLEASON_SECONDARY</th>\n      <th>GLEASON_TERTIARY</th>\n      <th>GLEASON_COMBINED</th>\n      <th>DATE_FIRST_SURGERY</th>\n      <th>LATERALITY</th>\n      <th>QUINTILE_2015</th>\n      <th>TUMOUR_COUNT</th>\n      <th>ETHNICITY</th>\n      <th>DEATHCAUSECODE_1A</th>\n      <th>DEATHCAUSECODE_1B</th>\n      <th>DEATHCAUSECODE_1C</th>\n      <th>DEATHCAUSECODE_2</th>\n      <th>DEATHCAUSECODE_UNDERLYING</th>\n      <th>DEATHLOCATIONCODE</th>\n      <th>NEWVITALSTATUS</th>\n      <th>VITALSTATUSDATE</th>\n      <th>MERGED_PATIENT_ID</th>\n      <th>SACT</th>\n      <th>MERGED_TUMOUR_ID</th>\n      <th>DATE_DECISION_TO_TREAT</th>\n      <th>START_DATE_OF_REGIMEN</th>\n      <th>CLINICAL_TRIAL</th>\n      <th>CHEMO_RADIATION</th>\n      <th>REGIMEN_COUNT</th>\n      <th>CLINICAL_TRIAL_INDICATOR</th>\n      <th>CHEMO_RADIATION_INDICATOR</th>\n      <th>NORMALISED_HEIGHT</th>\n      <th>NORMALISED_WEIGHT</th>\n      <th>MERGED_CYCLE_ID</th>\n      <th>CYCLE_NUMBER</th>\n      <th>START_DATE_OF_CYCLE</th>\n      <th>NEWVITALSTATUSDATE</th>\n    </tr>\n  </thead>\n  <tbody>\n    <tr>\n      <th>0</th>\n      <td>10614165</td>\n      <td>10501771</td>\n      <td>2017-01-16</td>\n      <td>C719</td>\n      <td>C71</td>\n      <td>9440</td>\n      <td>3</td>\n      <td>NaN</td>\n      <td>NaN</td>\n      <td>NaN</td>\n      <td>U</td>\n      <td>NaN</td>\n      <td>G4</td>\n      <td>69.0</td>\n      <td>1</td>\n      <td>L0401</td>\n      <td>810501771</td>\n      <td>NaN</td>\n      <td>NaN</td>\n      <td>NaN</td>\n      <td>NaN</td>\n      <td>NaN</td>\n      <td>NaN</td>\n      <td>NaN</td>\n      <td>NaN</td>\n      <td>NaN</td>\n      <td>NaN</td>\n      <td>NaN</td>\n      <td>NaN</td>\n      <td>NaN</td>\n      <td>NaN</td>\n      <td>2017-01-16</td>\n      <td>R</td>\n      <td>4</td>\n      <td>2</td>\n      <td>A</td>\n      <td>NaN</td>\n      <td>NaN</td>\n      <td>NaN</td>\n      <td>NaN</td>\n      <td>NaN</td>\n      <td>NaN</td>\n      <td>A</td>\n      <td>2019-02-06</td>\n      <td>NaN</td>\n      <td>&lt;NA&gt;</td>\n      <td>NaN</td>\n      <td>NaT</td>\n      <td>NaT</td>\n      <td>False</td>\n      <td>False</td>\n      <td>NaN</td>\n      <td>&lt;NA&gt;</td>\n      <td>&lt;NA&gt;</td>\n      <td>NaN</td>\n      <td>NaN</td>\n      <td>NaN</td>\n      <td>NaN</td>\n      <td>NaT</td>\n      <td>2019-02-06</td>\n    </tr>\n    <tr>\n      <th>1</th>\n      <td>10614166</td>\n      <td>10501772</td>\n      <td>2015-11-10</td>\n      <td>C712</td>\n      <td>C71</td>\n      <td>9440</td>\n      <td>3</td>\n      <td>NaN</td>\n      <td>NaN</td>\n      <td>NaN</td>\n      <td>U</td>\n      <td>NaN</td>\n      <td>G4</td>\n      <td>88.0</td>\n      <td>1</td>\n      <td>L1001</td>\n      <td>810501772</td>\n      <td>NaN</td>\n      <td>NaN</td>\n      <td>NaN</td>\n      <td>NaN</td>\n      <td>NaN</td>\n      <td>NaN</td>\n      <td>NaN</td>\n      <td>9</td>\n      <td>NaN</td>\n      <td>NaN</td>\n      <td>NaN</td>\n      <td>NaN</td>\n      <td>NaN</td>\n      <td>NaN</td>\n      <td>2015-11-10</td>\n      <td>R</td>\n      <td>1 - least deprived</td>\n      <td>2</td>\n      <td>A</td>\n      <td>C719,D432</td>\n      <td>NaN</td>\n      <td>NaN</td>\n      <td>NaN</td>\n      <td>C719</td>\n      <td>NaN</td>\n      <td>D</td>\n      <td>2015-11-27</td>\n      <td>10501772.0</td>\n      <td>True</td>\n      <td>10002483.0</td>\n      <td>2015-12-15</td>\n      <td>2015-12-23</td>\n      <td>False</td>\n      <td>False</td>\n      <td>1.0</td>\n      <td>False</td>\n      <td>False</td>\n      <td>1.755</td>\n      <td>71.75</td>\n      <td>10003933.0</td>\n      <td>1.0</td>\n      <td>2016-06-15</td>\n      <td>2016-06-15</td>\n    </tr>\n    <tr>\n      <th>2</th>\n      <td>10614166</td>\n      <td>10501772</td>\n      <td>2015-11-10</td>\n      <td>C712</td>\n      <td>C71</td>\n      <td>9440</td>\n      <td>3</td>\n      <td>NaN</td>\n      <td>NaN</td>\n      <td>NaN</td>\n      <td>U</td>\n      <td>NaN</td>\n      <td>G4</td>\n      <td>88.0</td>\n      <td>1</td>\n      <td>L1001</td>\n      <td>810501772</td>\n      <td>NaN</td>\n      <td>NaN</td>\n      <td>NaN</td>\n      <td>NaN</td>\n      <td>NaN</td>\n      <td>NaN</td>\n      <td>NaN</td>\n      <td>9</td>\n      <td>NaN</td>\n      <td>NaN</td>\n      <td>NaN</td>\n      <td>NaN</td>\n      <td>NaN</td>\n      <td>NaN</td>\n      <td>2015-11-10</td>\n      <td>R</td>\n      <td>1 - least deprived</td>\n      <td>2</td>\n      <td>A</td>\n      <td>C719,D432</td>\n      <td>NaN</td>\n      <td>NaN</td>\n      <td>NaN</td>\n      <td>C719</td>\n      <td>NaN</td>\n      <td>D</td>\n      <td>2015-11-27</td>\n      <td>10501772.0</td>\n      <td>True</td>\n      <td>10002483.0</td>\n      <td>2015-12-15</td>\n      <td>2015-12-23</td>\n      <td>False</td>\n      <td>False</td>\n      <td>1.0</td>\n      <td>False</td>\n      <td>False</td>\n      <td>1.755</td>\n      <td>71.75</td>\n      <td>10012207.0</td>\n      <td>2.0</td>\n      <td>2016-07-06</td>\n      <td>2016-07-06</td>\n    </tr>\n    <tr>\n      <th>3</th>\n      <td>10614166</td>\n      <td>10501772</td>\n      <td>2015-11-10</td>\n      <td>C712</td>\n      <td>C71</td>\n      <td>9440</td>\n      <td>3</td>\n      <td>NaN</td>\n      <td>NaN</td>\n      <td>NaN</td>\n      <td>U</td>\n      <td>NaN</td>\n      <td>G4</td>\n      <td>88.0</td>\n      <td>1</td>\n      <td>L1001</td>\n      <td>810501772</td>\n      <td>NaN</td>\n      <td>NaN</td>\n      <td>NaN</td>\n      <td>NaN</td>\n      <td>NaN</td>\n      <td>NaN</td>\n      <td>NaN</td>\n      <td>9</td>\n      <td>NaN</td>\n      <td>NaN</td>\n      <td>NaN</td>\n      <td>NaN</td>\n      <td>NaN</td>\n      <td>NaN</td>\n      <td>2015-11-10</td>\n      <td>R</td>\n      <td>1 - least deprived</td>\n      <td>2</td>\n      <td>A</td>\n      <td>C719,D432</td>\n      <td>NaN</td>\n      <td>NaN</td>\n      <td>NaN</td>\n      <td>C719</td>\n      <td>NaN</td>\n      <td>D</td>\n      <td>2015-11-27</td>\n      <td>10501772.0</td>\n      <td>True</td>\n      <td>10002483.0</td>\n      <td>2015-12-15</td>\n      <td>2015-12-23</td>\n      <td>False</td>\n      <td>False</td>\n      <td>1.0</td>\n      <td>False</td>\n      <td>False</td>\n      <td>1.755</td>\n      <td>71.75</td>\n      <td>10017672.0</td>\n      <td>2.0</td>\n      <td>2016-08-03</td>\n      <td>2016-08-03</td>\n    </tr>\n    <tr>\n      <th>4</th>\n      <td>10614166</td>\n      <td>10501772</td>\n      <td>2015-11-10</td>\n      <td>C712</td>\n      <td>C71</td>\n      <td>9440</td>\n      <td>3</td>\n      <td>NaN</td>\n      <td>NaN</td>\n      <td>NaN</td>\n      <td>U</td>\n      <td>NaN</td>\n      <td>G4</td>\n      <td>88.0</td>\n      <td>1</td>\n      <td>L1001</td>\n      <td>810501772</td>\n      <td>NaN</td>\n      <td>NaN</td>\n      <td>NaN</td>\n      <td>NaN</td>\n      <td>NaN</td>\n      <td>NaN</td>\n      <td>NaN</td>\n      <td>9</td>\n      <td>NaN</td>\n      <td>NaN</td>\n      <td>NaN</td>\n      <td>NaN</td>\n      <td>NaN</td>\n      <td>NaN</td>\n      <td>2015-11-10</td>\n      <td>R</td>\n      <td>1 - least deprived</td>\n      <td>2</td>\n      <td>A</td>\n      <td>C719,D432</td>\n      <td>NaN</td>\n      <td>NaN</td>\n      <td>NaN</td>\n      <td>C719</td>\n      <td>NaN</td>\n      <td>D</td>\n      <td>2015-11-27</td>\n      <td>10501772.0</td>\n      <td>True</td>\n      <td>10002483.0</td>\n      <td>2015-12-15</td>\n      <td>2015-12-23</td>\n      <td>False</td>\n      <td>False</td>\n      <td>1.0</td>\n      <td>False</td>\n      <td>False</td>\n      <td>1.755</td>\n      <td>71.75</td>\n      <td>10021647.0</td>\n      <td>3.0</td>\n      <td>2016-08-31</td>\n      <td>2016-08-31</td>\n    </tr>\n  </tbody>\n</table>\n</div>"
     },
     "metadata": {},
     "execution_count": 162
    }
   ],
   "source": [
    "df = read_csv(path)\n",
    "print(len(df))\n",
    "pd.set_option('display.max_columns', None)\n",
    "df.head()"
   ]
  },
  {
   "cell_type": "code",
   "execution_count": 163,
   "metadata": {},
   "outputs": [],
   "source": [
    "# to show discrepancy between the 3CHAR code and the regular one \n",
    "\n",
    "# df.SITE_ICD10_O2_3CHAR.value_counts()\n",
    "# df['Reconstructed_3CHAR'] = df['SITE_ICD10_O2'].str[0:3]\n",
    "# df['Match'] = df['Reconstructed_3CHAR'].isin(df['SITE_ICD10_O2_3CHAR'])\n",
    "# df['Match'].value_counts()"
   ]
  },
  {
   "cell_type": "code",
   "execution_count": 164,
   "metadata": {},
   "outputs": [
    {
     "output_type": "stream",
     "name": "stdout",
     "text": [
      "Drop low height:  5768\nDropped:  5768\n"
     ]
    },
    {
     "output_type": "execute_result",
     "data": {
      "text/plain": [
       "array([[<AxesSubplot:title={'center':'NORMALISED_HEIGHT'}>]], dtype=object)"
      ]
     },
     "metadata": {},
     "execution_count": 164
    },
    {
     "output_type": "display_data",
     "data": {
      "text/plain": "<Figure size 432x288 with 1 Axes>",
      "image/svg+xml": "<?xml version=\"1.0\" encoding=\"utf-8\" standalone=\"no\"?>\n<!DOCTYPE svg PUBLIC \"-//W3C//DTD SVG 1.1//EN\"\n  \"http://www.w3.org/Graphics/SVG/1.1/DTD/svg11.dtd\">\n<!-- Created with matplotlib (https://matplotlib.org/) -->\n<svg height=\"263.424375pt\" version=\"1.1\" viewBox=\"0 0 388.0125 263.424375\" width=\"388.0125pt\" xmlns=\"http://www.w3.org/2000/svg\" xmlns:xlink=\"http://www.w3.org/1999/xlink\">\n <metadata>\n  <rdf:RDF xmlns:cc=\"http://creativecommons.org/ns#\" xmlns:dc=\"http://purl.org/dc/elements/1.1/\" xmlns:rdf=\"http://www.w3.org/1999/02/22-rdf-syntax-ns#\">\n   <cc:Work>\n    <dc:type rdf:resource=\"http://purl.org/dc/dcmitype/StillImage\"/>\n    <dc:date>2021-06-02T18:11:59.721547</dc:date>\n    <dc:format>image/svg+xml</dc:format>\n    <dc:creator>\n     <cc:Agent>\n      <dc:title>Matplotlib v3.3.4, https://matplotlib.org/</dc:title>\n     </cc:Agent>\n    </dc:creator>\n   </cc:Work>\n  </rdf:RDF>\n </metadata>\n <defs>\n  <style type=\"text/css\">*{stroke-linecap:butt;stroke-linejoin:round;}</style>\n </defs>\n <g id=\"figure_1\">\n  <g id=\"patch_1\">\n   <path d=\"M 0 263.424375 \nL 388.0125 263.424375 \nL 388.0125 0 \nL 0 0 \nz\n\" style=\"fill:none;\"/>\n  </g>\n  <g id=\"axes_1\">\n   <g id=\"patch_2\">\n    <path d=\"M 46.0125 239.54625 \nL 380.8125 239.54625 \nL 380.8125 22.10625 \nL 46.0125 22.10625 \nz\n\" style=\"fill:#ffffff;\"/>\n   </g>\n   <g id=\"patch_3\">\n    <path clip-path=\"url(#pd8d4552447)\" d=\"M 61.230682 239.54625 \nL 91.667045 239.54625 \nL 91.667045 239.54625 \nL 61.230682 239.54625 \nz\n\" style=\"fill:#1f77b4;\"/>\n   </g>\n   <g id=\"patch_4\">\n    <path clip-path=\"url(#pd8d4552447)\" d=\"M 91.667045 239.54625 \nL 122.103409 239.54625 \nL 122.103409 239.54625 \nL 91.667045 239.54625 \nz\n\" style=\"fill:#1f77b4;\"/>\n   </g>\n   <g id=\"patch_5\">\n    <path clip-path=\"url(#pd8d4552447)\" d=\"M 122.103409 239.54625 \nL 152.539773 239.54625 \nL 152.539773 239.54625 \nL 122.103409 239.54625 \nz\n\" style=\"fill:#1f77b4;\"/>\n   </g>\n   <g id=\"patch_6\">\n    <path clip-path=\"url(#pd8d4552447)\" d=\"M 152.539773 239.54625 \nL 182.976136 239.54625 \nL 182.976136 239.54625 \nL 152.539773 239.54625 \nz\n\" style=\"fill:#1f77b4;\"/>\n   </g>\n   <g id=\"patch_7\">\n    <path clip-path=\"url(#pd8d4552447)\" d=\"M 182.976136 239.54625 \nL 213.4125 239.54625 \nL 213.4125 215.951504 \nL 182.976136 215.951504 \nz\n\" style=\"fill:#1f77b4;\"/>\n   </g>\n   <g id=\"patch_8\">\n    <path clip-path=\"url(#pd8d4552447)\" d=\"M 213.4125 239.54625 \nL 243.848864 239.54625 \nL 243.848864 214.806761 \nL 213.4125 214.806761 \nz\n\" style=\"fill:#1f77b4;\"/>\n   </g>\n   <g id=\"patch_9\">\n    <path clip-path=\"url(#pd8d4552447)\" d=\"M 243.848864 239.54625 \nL 274.285227 239.54625 \nL 274.285227 32.460536 \nL 243.848864 32.460536 \nz\n\" style=\"fill:#1f77b4;\"/>\n   </g>\n   <g id=\"patch_10\">\n    <path clip-path=\"url(#pd8d4552447)\" d=\"M 274.285227 239.54625 \nL 304.721591 239.54625 \nL 304.721591 187.676955 \nL 274.285227 187.676955 \nz\n\" style=\"fill:#1f77b4;\"/>\n   </g>\n   <g id=\"patch_11\">\n    <path clip-path=\"url(#pd8d4552447)\" d=\"M 304.721591 239.54625 \nL 335.157955 239.54625 \nL 335.157955 239.54625 \nL 304.721591 239.54625 \nz\n\" style=\"fill:#1f77b4;\"/>\n   </g>\n   <g id=\"patch_12\">\n    <path clip-path=\"url(#pd8d4552447)\" d=\"M 335.157955 239.54625 \nL 365.594318 239.54625 \nL 365.594318 239.54625 \nL 335.157955 239.54625 \nz\n\" style=\"fill:#1f77b4;\"/>\n   </g>\n   <g id=\"matplotlib.axis_1\">\n    <g id=\"xtick_1\">\n     <g id=\"line2d_1\">\n      <path clip-path=\"url(#pd8d4552447)\" d=\"M 61.230682 239.54625 \nL 61.230682 22.10625 \n\" style=\"fill:none;stroke:#b0b0b0;stroke-linecap:square;stroke-width:0.8;\"/>\n     </g>\n     <g id=\"line2d_2\">\n      <defs>\n       <path d=\"M 0 0 \nL 0 3.5 \n\" id=\"me6f56ddbc7\" style=\"stroke:#000000;stroke-width:0.8;\"/>\n      </defs>\n      <g>\n       <use style=\"stroke:#000000;stroke-width:0.8;\" x=\"61.230682\" xlink:href=\"#me6f56ddbc7\" y=\"239.54625\"/>\n      </g>\n     </g>\n     <g id=\"text_1\">\n      <!-- 0.0 -->\n      <g transform=\"translate(53.279119 254.144687)scale(0.1 -0.1)\">\n       <defs>\n        <path d=\"M 31.78125 66.40625 \nQ 24.171875 66.40625 20.328125 58.90625 \nQ 16.5 51.421875 16.5 36.375 \nQ 16.5 21.390625 20.328125 13.890625 \nQ 24.171875 6.390625 31.78125 6.390625 \nQ 39.453125 6.390625 43.28125 13.890625 \nQ 47.125 21.390625 47.125 36.375 \nQ 47.125 51.421875 43.28125 58.90625 \nQ 39.453125 66.40625 31.78125 66.40625 \nz\nM 31.78125 74.21875 \nQ 44.046875 74.21875 50.515625 64.515625 \nQ 56.984375 54.828125 56.984375 36.375 \nQ 56.984375 17.96875 50.515625 8.265625 \nQ 44.046875 -1.421875 31.78125 -1.421875 \nQ 19.53125 -1.421875 13.0625 8.265625 \nQ 6.59375 17.96875 6.59375 36.375 \nQ 6.59375 54.828125 13.0625 64.515625 \nQ 19.53125 74.21875 31.78125 74.21875 \nz\n\" id=\"DejaVuSans-48\"/>\n        <path d=\"M 10.6875 12.40625 \nL 21 12.40625 \nL 21 0 \nL 10.6875 0 \nz\n\" id=\"DejaVuSans-46\"/>\n       </defs>\n       <use xlink:href=\"#DejaVuSans-48\"/>\n       <use x=\"63.623047\" xlink:href=\"#DejaVuSans-46\"/>\n       <use x=\"95.410156\" xlink:href=\"#DejaVuSans-48\"/>\n      </g>\n     </g>\n    </g>\n    <g id=\"xtick_2\">\n     <g id=\"line2d_3\">\n      <path clip-path=\"url(#pd8d4552447)\" d=\"M 122.103409 239.54625 \nL 122.103409 22.10625 \n\" style=\"fill:none;stroke:#b0b0b0;stroke-linecap:square;stroke-width:0.8;\"/>\n     </g>\n     <g id=\"line2d_4\">\n      <g>\n       <use style=\"stroke:#000000;stroke-width:0.8;\" x=\"122.103409\" xlink:href=\"#me6f56ddbc7\" y=\"239.54625\"/>\n      </g>\n     </g>\n     <g id=\"text_2\">\n      <!-- 0.5 -->\n      <g transform=\"translate(114.151847 254.144687)scale(0.1 -0.1)\">\n       <defs>\n        <path d=\"M 10.796875 72.90625 \nL 49.515625 72.90625 \nL 49.515625 64.59375 \nL 19.828125 64.59375 \nL 19.828125 46.734375 \nQ 21.96875 47.46875 24.109375 47.828125 \nQ 26.265625 48.1875 28.421875 48.1875 \nQ 40.625 48.1875 47.75 41.5 \nQ 54.890625 34.8125 54.890625 23.390625 \nQ 54.890625 11.625 47.5625 5.09375 \nQ 40.234375 -1.421875 26.90625 -1.421875 \nQ 22.3125 -1.421875 17.546875 -0.640625 \nQ 12.796875 0.140625 7.71875 1.703125 \nL 7.71875 11.625 \nQ 12.109375 9.234375 16.796875 8.0625 \nQ 21.484375 6.890625 26.703125 6.890625 \nQ 35.15625 6.890625 40.078125 11.328125 \nQ 45.015625 15.765625 45.015625 23.390625 \nQ 45.015625 31 40.078125 35.4375 \nQ 35.15625 39.890625 26.703125 39.890625 \nQ 22.75 39.890625 18.8125 39.015625 \nQ 14.890625 38.140625 10.796875 36.28125 \nz\n\" id=\"DejaVuSans-53\"/>\n       </defs>\n       <use xlink:href=\"#DejaVuSans-48\"/>\n       <use x=\"63.623047\" xlink:href=\"#DejaVuSans-46\"/>\n       <use x=\"95.410156\" xlink:href=\"#DejaVuSans-53\"/>\n      </g>\n     </g>\n    </g>\n    <g id=\"xtick_3\">\n     <g id=\"line2d_5\">\n      <path clip-path=\"url(#pd8d4552447)\" d=\"M 182.976136 239.54625 \nL 182.976136 22.10625 \n\" style=\"fill:none;stroke:#b0b0b0;stroke-linecap:square;stroke-width:0.8;\"/>\n     </g>\n     <g id=\"line2d_6\">\n      <g>\n       <use style=\"stroke:#000000;stroke-width:0.8;\" x=\"182.976136\" xlink:href=\"#me6f56ddbc7\" y=\"239.54625\"/>\n      </g>\n     </g>\n     <g id=\"text_3\">\n      <!-- 1.0 -->\n      <g transform=\"translate(175.024574 254.144687)scale(0.1 -0.1)\">\n       <defs>\n        <path d=\"M 12.40625 8.296875 \nL 28.515625 8.296875 \nL 28.515625 63.921875 \nL 10.984375 60.40625 \nL 10.984375 69.390625 \nL 28.421875 72.90625 \nL 38.28125 72.90625 \nL 38.28125 8.296875 \nL 54.390625 8.296875 \nL 54.390625 0 \nL 12.40625 0 \nz\n\" id=\"DejaVuSans-49\"/>\n       </defs>\n       <use xlink:href=\"#DejaVuSans-49\"/>\n       <use x=\"63.623047\" xlink:href=\"#DejaVuSans-46\"/>\n       <use x=\"95.410156\" xlink:href=\"#DejaVuSans-48\"/>\n      </g>\n     </g>\n    </g>\n    <g id=\"xtick_4\">\n     <g id=\"line2d_7\">\n      <path clip-path=\"url(#pd8d4552447)\" d=\"M 243.848864 239.54625 \nL 243.848864 22.10625 \n\" style=\"fill:none;stroke:#b0b0b0;stroke-linecap:square;stroke-width:0.8;\"/>\n     </g>\n     <g id=\"line2d_8\">\n      <g>\n       <use style=\"stroke:#000000;stroke-width:0.8;\" x=\"243.848864\" xlink:href=\"#me6f56ddbc7\" y=\"239.54625\"/>\n      </g>\n     </g>\n     <g id=\"text_4\">\n      <!-- 1.5 -->\n      <g transform=\"translate(235.897301 254.144687)scale(0.1 -0.1)\">\n       <use xlink:href=\"#DejaVuSans-49\"/>\n       <use x=\"63.623047\" xlink:href=\"#DejaVuSans-46\"/>\n       <use x=\"95.410156\" xlink:href=\"#DejaVuSans-53\"/>\n      </g>\n     </g>\n    </g>\n    <g id=\"xtick_5\">\n     <g id=\"line2d_9\">\n      <path clip-path=\"url(#pd8d4552447)\" d=\"M 304.721591 239.54625 \nL 304.721591 22.10625 \n\" style=\"fill:none;stroke:#b0b0b0;stroke-linecap:square;stroke-width:0.8;\"/>\n     </g>\n     <g id=\"line2d_10\">\n      <g>\n       <use style=\"stroke:#000000;stroke-width:0.8;\" x=\"304.721591\" xlink:href=\"#me6f56ddbc7\" y=\"239.54625\"/>\n      </g>\n     </g>\n     <g id=\"text_5\">\n      <!-- 2.0 -->\n      <g transform=\"translate(296.770028 254.144687)scale(0.1 -0.1)\">\n       <defs>\n        <path d=\"M 19.1875 8.296875 \nL 53.609375 8.296875 \nL 53.609375 0 \nL 7.328125 0 \nL 7.328125 8.296875 \nQ 12.9375 14.109375 22.625 23.890625 \nQ 32.328125 33.6875 34.8125 36.53125 \nQ 39.546875 41.84375 41.421875 45.53125 \nQ 43.3125 49.21875 43.3125 52.78125 \nQ 43.3125 58.59375 39.234375 62.25 \nQ 35.15625 65.921875 28.609375 65.921875 \nQ 23.96875 65.921875 18.8125 64.3125 \nQ 13.671875 62.703125 7.8125 59.421875 \nL 7.8125 69.390625 \nQ 13.765625 71.78125 18.9375 73 \nQ 24.125 74.21875 28.421875 74.21875 \nQ 39.75 74.21875 46.484375 68.546875 \nQ 53.21875 62.890625 53.21875 53.421875 \nQ 53.21875 48.921875 51.53125 44.890625 \nQ 49.859375 40.875 45.40625 35.40625 \nQ 44.1875 33.984375 37.640625 27.21875 \nQ 31.109375 20.453125 19.1875 8.296875 \nz\n\" id=\"DejaVuSans-50\"/>\n       </defs>\n       <use xlink:href=\"#DejaVuSans-50\"/>\n       <use x=\"63.623047\" xlink:href=\"#DejaVuSans-46\"/>\n       <use x=\"95.410156\" xlink:href=\"#DejaVuSans-48\"/>\n      </g>\n     </g>\n    </g>\n    <g id=\"xtick_6\">\n     <g id=\"line2d_11\">\n      <path clip-path=\"url(#pd8d4552447)\" d=\"M 365.594318 239.54625 \nL 365.594318 22.10625 \n\" style=\"fill:none;stroke:#b0b0b0;stroke-linecap:square;stroke-width:0.8;\"/>\n     </g>\n     <g id=\"line2d_12\">\n      <g>\n       <use style=\"stroke:#000000;stroke-width:0.8;\" x=\"365.594318\" xlink:href=\"#me6f56ddbc7\" y=\"239.54625\"/>\n      </g>\n     </g>\n     <g id=\"text_6\">\n      <!-- 2.5 -->\n      <g transform=\"translate(357.642756 254.144687)scale(0.1 -0.1)\">\n       <use xlink:href=\"#DejaVuSans-50\"/>\n       <use x=\"63.623047\" xlink:href=\"#DejaVuSans-46\"/>\n       <use x=\"95.410156\" xlink:href=\"#DejaVuSans-53\"/>\n      </g>\n     </g>\n    </g>\n   </g>\n   <g id=\"matplotlib.axis_2\">\n    <g id=\"ytick_1\">\n     <g id=\"line2d_13\">\n      <path clip-path=\"url(#pd8d4552447)\" d=\"M 46.0125 239.54625 \nL 380.8125 239.54625 \n\" style=\"fill:none;stroke:#b0b0b0;stroke-linecap:square;stroke-width:0.8;\"/>\n     </g>\n     <g id=\"line2d_14\">\n      <defs>\n       <path d=\"M 0 0 \nL -3.5 0 \n\" id=\"m8b2ef25554\" style=\"stroke:#000000;stroke-width:0.8;\"/>\n      </defs>\n      <g>\n       <use style=\"stroke:#000000;stroke-width:0.8;\" x=\"46.0125\" xlink:href=\"#m8b2ef25554\" y=\"239.54625\"/>\n      </g>\n     </g>\n     <g id=\"text_7\">\n      <!-- 0 -->\n      <g transform=\"translate(32.65 243.345469)scale(0.1 -0.1)\">\n       <use xlink:href=\"#DejaVuSans-48\"/>\n      </g>\n     </g>\n    </g>\n    <g id=\"ytick_2\">\n     <g id=\"line2d_15\">\n      <path clip-path=\"url(#pd8d4552447)\" d=\"M 46.0125 209.889706 \nL 380.8125 209.889706 \n\" style=\"fill:none;stroke:#b0b0b0;stroke-linecap:square;stroke-width:0.8;\"/>\n     </g>\n     <g id=\"line2d_16\">\n      <g>\n       <use style=\"stroke:#000000;stroke-width:0.8;\" x=\"46.0125\" xlink:href=\"#m8b2ef25554\" y=\"209.889706\"/>\n      </g>\n     </g>\n     <g id=\"text_8\">\n      <!-- 5000 -->\n      <g transform=\"translate(13.5625 213.688925)scale(0.1 -0.1)\">\n       <use xlink:href=\"#DejaVuSans-53\"/>\n       <use x=\"63.623047\" xlink:href=\"#DejaVuSans-48\"/>\n       <use x=\"127.246094\" xlink:href=\"#DejaVuSans-48\"/>\n       <use x=\"190.869141\" xlink:href=\"#DejaVuSans-48\"/>\n      </g>\n     </g>\n    </g>\n    <g id=\"ytick_3\">\n     <g id=\"line2d_17\">\n      <path clip-path=\"url(#pd8d4552447)\" d=\"M 46.0125 180.233162 \nL 380.8125 180.233162 \n\" style=\"fill:none;stroke:#b0b0b0;stroke-linecap:square;stroke-width:0.8;\"/>\n     </g>\n     <g id=\"line2d_18\">\n      <g>\n       <use style=\"stroke:#000000;stroke-width:0.8;\" x=\"46.0125\" xlink:href=\"#m8b2ef25554\" y=\"180.233162\"/>\n      </g>\n     </g>\n     <g id=\"text_9\">\n      <!-- 10000 -->\n      <g transform=\"translate(7.2 184.032381)scale(0.1 -0.1)\">\n       <use xlink:href=\"#DejaVuSans-49\"/>\n       <use x=\"63.623047\" xlink:href=\"#DejaVuSans-48\"/>\n       <use x=\"127.246094\" xlink:href=\"#DejaVuSans-48\"/>\n       <use x=\"190.869141\" xlink:href=\"#DejaVuSans-48\"/>\n       <use x=\"254.492188\" xlink:href=\"#DejaVuSans-48\"/>\n      </g>\n     </g>\n    </g>\n    <g id=\"ytick_4\">\n     <g id=\"line2d_19\">\n      <path clip-path=\"url(#pd8d4552447)\" d=\"M 46.0125 150.576618 \nL 380.8125 150.576618 \n\" style=\"fill:none;stroke:#b0b0b0;stroke-linecap:square;stroke-width:0.8;\"/>\n     </g>\n     <g id=\"line2d_20\">\n      <g>\n       <use style=\"stroke:#000000;stroke-width:0.8;\" x=\"46.0125\" xlink:href=\"#m8b2ef25554\" y=\"150.576618\"/>\n      </g>\n     </g>\n     <g id=\"text_10\">\n      <!-- 15000 -->\n      <g transform=\"translate(7.2 154.375837)scale(0.1 -0.1)\">\n       <use xlink:href=\"#DejaVuSans-49\"/>\n       <use x=\"63.623047\" xlink:href=\"#DejaVuSans-53\"/>\n       <use x=\"127.246094\" xlink:href=\"#DejaVuSans-48\"/>\n       <use x=\"190.869141\" xlink:href=\"#DejaVuSans-48\"/>\n       <use x=\"254.492188\" xlink:href=\"#DejaVuSans-48\"/>\n      </g>\n     </g>\n    </g>\n    <g id=\"ytick_5\">\n     <g id=\"line2d_21\">\n      <path clip-path=\"url(#pd8d4552447)\" d=\"M 46.0125 120.920075 \nL 380.8125 120.920075 \n\" style=\"fill:none;stroke:#b0b0b0;stroke-linecap:square;stroke-width:0.8;\"/>\n     </g>\n     <g id=\"line2d_22\">\n      <g>\n       <use style=\"stroke:#000000;stroke-width:0.8;\" x=\"46.0125\" xlink:href=\"#m8b2ef25554\" y=\"120.920075\"/>\n      </g>\n     </g>\n     <g id=\"text_11\">\n      <!-- 20000 -->\n      <g transform=\"translate(7.2 124.719293)scale(0.1 -0.1)\">\n       <use xlink:href=\"#DejaVuSans-50\"/>\n       <use x=\"63.623047\" xlink:href=\"#DejaVuSans-48\"/>\n       <use x=\"127.246094\" xlink:href=\"#DejaVuSans-48\"/>\n       <use x=\"190.869141\" xlink:href=\"#DejaVuSans-48\"/>\n       <use x=\"254.492188\" xlink:href=\"#DejaVuSans-48\"/>\n      </g>\n     </g>\n    </g>\n    <g id=\"ytick_6\">\n     <g id=\"line2d_23\">\n      <path clip-path=\"url(#pd8d4552447)\" d=\"M 46.0125 91.263531 \nL 380.8125 91.263531 \n\" style=\"fill:none;stroke:#b0b0b0;stroke-linecap:square;stroke-width:0.8;\"/>\n     </g>\n     <g id=\"line2d_24\">\n      <g>\n       <use style=\"stroke:#000000;stroke-width:0.8;\" x=\"46.0125\" xlink:href=\"#m8b2ef25554\" y=\"91.263531\"/>\n      </g>\n     </g>\n     <g id=\"text_12\">\n      <!-- 25000 -->\n      <g transform=\"translate(7.2 95.06275)scale(0.1 -0.1)\">\n       <use xlink:href=\"#DejaVuSans-50\"/>\n       <use x=\"63.623047\" xlink:href=\"#DejaVuSans-53\"/>\n       <use x=\"127.246094\" xlink:href=\"#DejaVuSans-48\"/>\n       <use x=\"190.869141\" xlink:href=\"#DejaVuSans-48\"/>\n       <use x=\"254.492188\" xlink:href=\"#DejaVuSans-48\"/>\n      </g>\n     </g>\n    </g>\n    <g id=\"ytick_7\">\n     <g id=\"line2d_25\">\n      <path clip-path=\"url(#pd8d4552447)\" d=\"M 46.0125 61.606987 \nL 380.8125 61.606987 \n\" style=\"fill:none;stroke:#b0b0b0;stroke-linecap:square;stroke-width:0.8;\"/>\n     </g>\n     <g id=\"line2d_26\">\n      <g>\n       <use style=\"stroke:#000000;stroke-width:0.8;\" x=\"46.0125\" xlink:href=\"#m8b2ef25554\" y=\"61.606987\"/>\n      </g>\n     </g>\n     <g id=\"text_13\">\n      <!-- 30000 -->\n      <g transform=\"translate(7.2 65.406206)scale(0.1 -0.1)\">\n       <defs>\n        <path d=\"M 40.578125 39.3125 \nQ 47.65625 37.796875 51.625 33 \nQ 55.609375 28.21875 55.609375 21.1875 \nQ 55.609375 10.40625 48.1875 4.484375 \nQ 40.765625 -1.421875 27.09375 -1.421875 \nQ 22.515625 -1.421875 17.65625 -0.515625 \nQ 12.796875 0.390625 7.625 2.203125 \nL 7.625 11.71875 \nQ 11.71875 9.328125 16.59375 8.109375 \nQ 21.484375 6.890625 26.8125 6.890625 \nQ 36.078125 6.890625 40.9375 10.546875 \nQ 45.796875 14.203125 45.796875 21.1875 \nQ 45.796875 27.640625 41.28125 31.265625 \nQ 36.765625 34.90625 28.71875 34.90625 \nL 20.21875 34.90625 \nL 20.21875 43.015625 \nL 29.109375 43.015625 \nQ 36.375 43.015625 40.234375 45.921875 \nQ 44.09375 48.828125 44.09375 54.296875 \nQ 44.09375 59.90625 40.109375 62.90625 \nQ 36.140625 65.921875 28.71875 65.921875 \nQ 24.65625 65.921875 20.015625 65.03125 \nQ 15.375 64.15625 9.8125 62.3125 \nL 9.8125 71.09375 \nQ 15.4375 72.65625 20.34375 73.4375 \nQ 25.25 74.21875 29.59375 74.21875 \nQ 40.828125 74.21875 47.359375 69.109375 \nQ 53.90625 64.015625 53.90625 55.328125 \nQ 53.90625 49.265625 50.4375 45.09375 \nQ 46.96875 40.921875 40.578125 39.3125 \nz\n\" id=\"DejaVuSans-51\"/>\n       </defs>\n       <use xlink:href=\"#DejaVuSans-51\"/>\n       <use x=\"63.623047\" xlink:href=\"#DejaVuSans-48\"/>\n       <use x=\"127.246094\" xlink:href=\"#DejaVuSans-48\"/>\n       <use x=\"190.869141\" xlink:href=\"#DejaVuSans-48\"/>\n       <use x=\"254.492188\" xlink:href=\"#DejaVuSans-48\"/>\n      </g>\n     </g>\n    </g>\n    <g id=\"ytick_8\">\n     <g id=\"line2d_27\">\n      <path clip-path=\"url(#pd8d4552447)\" d=\"M 46.0125 31.950443 \nL 380.8125 31.950443 \n\" style=\"fill:none;stroke:#b0b0b0;stroke-linecap:square;stroke-width:0.8;\"/>\n     </g>\n     <g id=\"line2d_28\">\n      <g>\n       <use style=\"stroke:#000000;stroke-width:0.8;\" x=\"46.0125\" xlink:href=\"#m8b2ef25554\" y=\"31.950443\"/>\n      </g>\n     </g>\n     <g id=\"text_14\">\n      <!-- 35000 -->\n      <g transform=\"translate(7.2 35.749662)scale(0.1 -0.1)\">\n       <use xlink:href=\"#DejaVuSans-51\"/>\n       <use x=\"63.623047\" xlink:href=\"#DejaVuSans-53\"/>\n       <use x=\"127.246094\" xlink:href=\"#DejaVuSans-48\"/>\n       <use x=\"190.869141\" xlink:href=\"#DejaVuSans-48\"/>\n       <use x=\"254.492188\" xlink:href=\"#DejaVuSans-48\"/>\n      </g>\n     </g>\n    </g>\n   </g>\n   <g id=\"patch_13\">\n    <path d=\"M 46.0125 239.54625 \nL 46.0125 22.10625 \n\" style=\"fill:none;stroke:#000000;stroke-linecap:square;stroke-linejoin:miter;stroke-width:0.8;\"/>\n   </g>\n   <g id=\"patch_14\">\n    <path d=\"M 380.8125 239.54625 \nL 380.8125 22.10625 \n\" style=\"fill:none;stroke:#000000;stroke-linecap:square;stroke-linejoin:miter;stroke-width:0.8;\"/>\n   </g>\n   <g id=\"patch_15\">\n    <path d=\"M 46.0125 239.54625 \nL 380.8125 239.54625 \n\" style=\"fill:none;stroke:#000000;stroke-linecap:square;stroke-linejoin:miter;stroke-width:0.8;\"/>\n   </g>\n   <g id=\"patch_16\">\n    <path d=\"M 46.0125 22.10625 \nL 380.8125 22.10625 \n\" style=\"fill:none;stroke:#000000;stroke-linecap:square;stroke-linejoin:miter;stroke-width:0.8;\"/>\n   </g>\n   <g id=\"text_15\">\n    <!-- NORMALISED_HEIGHT -->\n    <g transform=\"translate(147.5175 16.10625)scale(0.12 -0.12)\">\n     <defs>\n      <path d=\"M 9.8125 72.90625 \nL 23.09375 72.90625 \nL 55.421875 11.921875 \nL 55.421875 72.90625 \nL 64.984375 72.90625 \nL 64.984375 0 \nL 51.703125 0 \nL 19.390625 60.984375 \nL 19.390625 0 \nL 9.8125 0 \nz\n\" id=\"DejaVuSans-78\"/>\n      <path d=\"M 39.40625 66.21875 \nQ 28.65625 66.21875 22.328125 58.203125 \nQ 16.015625 50.203125 16.015625 36.375 \nQ 16.015625 22.609375 22.328125 14.59375 \nQ 28.65625 6.59375 39.40625 6.59375 \nQ 50.140625 6.59375 56.421875 14.59375 \nQ 62.703125 22.609375 62.703125 36.375 \nQ 62.703125 50.203125 56.421875 58.203125 \nQ 50.140625 66.21875 39.40625 66.21875 \nz\nM 39.40625 74.21875 \nQ 54.734375 74.21875 63.90625 63.9375 \nQ 73.09375 53.65625 73.09375 36.375 \nQ 73.09375 19.140625 63.90625 8.859375 \nQ 54.734375 -1.421875 39.40625 -1.421875 \nQ 24.03125 -1.421875 14.8125 8.828125 \nQ 5.609375 19.09375 5.609375 36.375 \nQ 5.609375 53.65625 14.8125 63.9375 \nQ 24.03125 74.21875 39.40625 74.21875 \nz\n\" id=\"DejaVuSans-79\"/>\n      <path d=\"M 44.390625 34.1875 \nQ 47.5625 33.109375 50.5625 29.59375 \nQ 53.5625 26.078125 56.59375 19.921875 \nL 66.609375 0 \nL 56 0 \nL 46.6875 18.703125 \nQ 43.0625 26.03125 39.671875 28.421875 \nQ 36.28125 30.8125 30.421875 30.8125 \nL 19.671875 30.8125 \nL 19.671875 0 \nL 9.8125 0 \nL 9.8125 72.90625 \nL 32.078125 72.90625 \nQ 44.578125 72.90625 50.734375 67.671875 \nQ 56.890625 62.453125 56.890625 51.90625 \nQ 56.890625 45.015625 53.6875 40.46875 \nQ 50.484375 35.9375 44.390625 34.1875 \nz\nM 19.671875 64.796875 \nL 19.671875 38.921875 \nL 32.078125 38.921875 \nQ 39.203125 38.921875 42.84375 42.21875 \nQ 46.484375 45.515625 46.484375 51.90625 \nQ 46.484375 58.296875 42.84375 61.546875 \nQ 39.203125 64.796875 32.078125 64.796875 \nz\n\" id=\"DejaVuSans-82\"/>\n      <path d=\"M 9.8125 72.90625 \nL 24.515625 72.90625 \nL 43.109375 23.296875 \nL 61.8125 72.90625 \nL 76.515625 72.90625 \nL 76.515625 0 \nL 66.890625 0 \nL 66.890625 64.015625 \nL 48.09375 14.015625 \nL 38.1875 14.015625 \nL 19.390625 64.015625 \nL 19.390625 0 \nL 9.8125 0 \nz\n\" id=\"DejaVuSans-77\"/>\n      <path d=\"M 34.1875 63.1875 \nL 20.796875 26.90625 \nL 47.609375 26.90625 \nz\nM 28.609375 72.90625 \nL 39.796875 72.90625 \nL 67.578125 0 \nL 57.328125 0 \nL 50.6875 18.703125 \nL 17.828125 18.703125 \nL 11.1875 0 \nL 0.78125 0 \nz\n\" id=\"DejaVuSans-65\"/>\n      <path d=\"M 9.8125 72.90625 \nL 19.671875 72.90625 \nL 19.671875 8.296875 \nL 55.171875 8.296875 \nL 55.171875 0 \nL 9.8125 0 \nz\n\" id=\"DejaVuSans-76\"/>\n      <path d=\"M 9.8125 72.90625 \nL 19.671875 72.90625 \nL 19.671875 0 \nL 9.8125 0 \nz\n\" id=\"DejaVuSans-73\"/>\n      <path d=\"M 53.515625 70.515625 \nL 53.515625 60.890625 \nQ 47.90625 63.578125 42.921875 64.890625 \nQ 37.9375 66.21875 33.296875 66.21875 \nQ 25.25 66.21875 20.875 63.09375 \nQ 16.5 59.96875 16.5 54.203125 \nQ 16.5 49.359375 19.40625 46.890625 \nQ 22.3125 44.4375 30.421875 42.921875 \nL 36.375 41.703125 \nQ 47.40625 39.59375 52.65625 34.296875 \nQ 57.90625 29 57.90625 20.125 \nQ 57.90625 9.515625 50.796875 4.046875 \nQ 43.703125 -1.421875 29.984375 -1.421875 \nQ 24.8125 -1.421875 18.96875 -0.25 \nQ 13.140625 0.921875 6.890625 3.21875 \nL 6.890625 13.375 \nQ 12.890625 10.015625 18.65625 8.296875 \nQ 24.421875 6.59375 29.984375 6.59375 \nQ 38.421875 6.59375 43.015625 9.90625 \nQ 47.609375 13.234375 47.609375 19.390625 \nQ 47.609375 24.75 44.3125 27.78125 \nQ 41.015625 30.8125 33.5 32.328125 \nL 27.484375 33.5 \nQ 16.453125 35.6875 11.515625 40.375 \nQ 6.59375 45.0625 6.59375 53.421875 \nQ 6.59375 63.09375 13.40625 68.65625 \nQ 20.21875 74.21875 32.171875 74.21875 \nQ 37.3125 74.21875 42.625 73.28125 \nQ 47.953125 72.359375 53.515625 70.515625 \nz\n\" id=\"DejaVuSans-83\"/>\n      <path d=\"M 9.8125 72.90625 \nL 55.90625 72.90625 \nL 55.90625 64.59375 \nL 19.671875 64.59375 \nL 19.671875 43.015625 \nL 54.390625 43.015625 \nL 54.390625 34.71875 \nL 19.671875 34.71875 \nL 19.671875 8.296875 \nL 56.78125 8.296875 \nL 56.78125 0 \nL 9.8125 0 \nz\n\" id=\"DejaVuSans-69\"/>\n      <path d=\"M 19.671875 64.796875 \nL 19.671875 8.109375 \nL 31.59375 8.109375 \nQ 46.6875 8.109375 53.6875 14.9375 \nQ 60.6875 21.78125 60.6875 36.53125 \nQ 60.6875 51.171875 53.6875 57.984375 \nQ 46.6875 64.796875 31.59375 64.796875 \nz\nM 9.8125 72.90625 \nL 30.078125 72.90625 \nQ 51.265625 72.90625 61.171875 64.09375 \nQ 71.09375 55.28125 71.09375 36.53125 \nQ 71.09375 17.671875 61.125 8.828125 \nQ 51.171875 0 30.078125 0 \nL 9.8125 0 \nz\n\" id=\"DejaVuSans-68\"/>\n      <path d=\"M 50.984375 -16.609375 \nL 50.984375 -23.578125 \nL -0.984375 -23.578125 \nL -0.984375 -16.609375 \nz\n\" id=\"DejaVuSans-95\"/>\n      <path d=\"M 9.8125 72.90625 \nL 19.671875 72.90625 \nL 19.671875 43.015625 \nL 55.515625 43.015625 \nL 55.515625 72.90625 \nL 65.375 72.90625 \nL 65.375 0 \nL 55.515625 0 \nL 55.515625 34.71875 \nL 19.671875 34.71875 \nL 19.671875 0 \nL 9.8125 0 \nz\n\" id=\"DejaVuSans-72\"/>\n      <path d=\"M 59.515625 10.40625 \nL 59.515625 29.984375 \nL 43.40625 29.984375 \nL 43.40625 38.09375 \nL 69.28125 38.09375 \nL 69.28125 6.78125 \nQ 63.578125 2.734375 56.6875 0.65625 \nQ 49.8125 -1.421875 42 -1.421875 \nQ 24.90625 -1.421875 15.25 8.5625 \nQ 5.609375 18.5625 5.609375 36.375 \nQ 5.609375 54.25 15.25 64.234375 \nQ 24.90625 74.21875 42 74.21875 \nQ 49.125 74.21875 55.546875 72.453125 \nQ 61.96875 70.703125 67.390625 67.28125 \nL 67.390625 56.78125 \nQ 61.921875 61.421875 55.765625 63.765625 \nQ 49.609375 66.109375 42.828125 66.109375 \nQ 29.4375 66.109375 22.71875 58.640625 \nQ 16.015625 51.171875 16.015625 36.375 \nQ 16.015625 21.625 22.71875 14.15625 \nQ 29.4375 6.6875 42.828125 6.6875 \nQ 48.046875 6.6875 52.140625 7.59375 \nQ 56.25 8.5 59.515625 10.40625 \nz\n\" id=\"DejaVuSans-71\"/>\n      <path d=\"M -0.296875 72.90625 \nL 61.375 72.90625 \nL 61.375 64.59375 \nL 35.5 64.59375 \nL 35.5 0 \nL 25.59375 0 \nL 25.59375 64.59375 \nL -0.296875 64.59375 \nz\n\" id=\"DejaVuSans-84\"/>\n     </defs>\n     <use xlink:href=\"#DejaVuSans-78\"/>\n     <use x=\"74.804688\" xlink:href=\"#DejaVuSans-79\"/>\n     <use x=\"153.515625\" xlink:href=\"#DejaVuSans-82\"/>\n     <use x=\"222.998047\" xlink:href=\"#DejaVuSans-77\"/>\n     <use x=\"309.277344\" xlink:href=\"#DejaVuSans-65\"/>\n     <use x=\"377.685547\" xlink:href=\"#DejaVuSans-76\"/>\n     <use x=\"433.398438\" xlink:href=\"#DejaVuSans-73\"/>\n     <use x=\"462.890625\" xlink:href=\"#DejaVuSans-83\"/>\n     <use x=\"526.367188\" xlink:href=\"#DejaVuSans-69\"/>\n     <use x=\"589.550781\" xlink:href=\"#DejaVuSans-68\"/>\n     <use x=\"666.552734\" xlink:href=\"#DejaVuSans-95\"/>\n     <use x=\"716.552734\" xlink:href=\"#DejaVuSans-72\"/>\n     <use x=\"791.748047\" xlink:href=\"#DejaVuSans-69\"/>\n     <use x=\"854.931641\" xlink:href=\"#DejaVuSans-73\"/>\n     <use x=\"884.423828\" xlink:href=\"#DejaVuSans-71\"/>\n     <use x=\"961.914062\" xlink:href=\"#DejaVuSans-72\"/>\n     <use x=\"1037.109375\" xlink:href=\"#DejaVuSans-84\"/>\n    </g>\n   </g>\n  </g>\n </g>\n <defs>\n  <clipPath id=\"pd8d4552447\">\n   <rect height=\"217.44\" width=\"334.8\" x=\"46.0125\" y=\"22.10625\"/>\n  </clipPath>\n </defs>\n</svg>\n",
      "image/png": "[encoded data removed]"
     },
     "metadata": {
      "needs_background": "light"
     }
    }
   ],
   "source": [
    "threshold = 1.0\n",
    "\n",
    "print('Drop low height: ',(df.NORMALISED_HEIGHT < threshold).sum())\n",
    "len_before = len(df)\n",
    "df = df.drop(df[df.NORMALISED_HEIGHT < threshold].index)\n",
    "len_after = len(df)\n",
    "print('Dropped: ', len_before - len_after)\n",
    "df.hist(column='NORMALISED_HEIGHT',bins=[0,0.25,0.5,0.75,1.0,1.25,1.5,1.75,2.0,2.25,2.5])\n"
   ]
  },
  {
   "cell_type": "code",
   "execution_count": 165,
   "metadata": {},
   "outputs": [
    {
     "output_type": "stream",
     "name": "stdout",
     "text": [
      "Drop low height:  9074\nDropped:  9074\n"
     ]
    },
    {
     "output_type": "execute_result",
     "data": {
      "text/plain": [
       "array([[<AxesSubplot:title={'center':'NORMALISED_WEIGHT'}>]], dtype=object)"
      ]
     },
     "metadata": {},
     "execution_count": 165
    },
    {
     "output_type": "display_data",
     "data": {
      "text/plain": "<Figure size 432x288 with 1 Axes>",
      "image/svg+xml": "<?xml version=\"1.0\" encoding=\"utf-8\" standalone=\"no\"?>\n<!DOCTYPE svg PUBLIC \"-//W3C//DTD SVG 1.1//EN\"\n  \"http://www.w3.org/Graphics/SVG/1.1/DTD/svg11.dtd\">\n<!-- Created with matplotlib (https://matplotlib.org/) -->\n<svg height=\"263.424375pt\" version=\"1.1\" viewBox=\"0 0 388.0125 263.424375\" width=\"388.0125pt\" xmlns=\"http://www.w3.org/2000/svg\" xmlns:xlink=\"http://www.w3.org/1999/xlink\">\n <metadata>\n  <rdf:RDF xmlns:cc=\"http://creativecommons.org/ns#\" xmlns:dc=\"http://purl.org/dc/elements/1.1/\" xmlns:rdf=\"http://www.w3.org/1999/02/22-rdf-syntax-ns#\">\n   <cc:Work>\n    <dc:type rdf:resource=\"http://purl.org/dc/dcmitype/StillImage\"/>\n    <dc:date>2021-06-02T18:12:00.052807</dc:date>\n    <dc:format>image/svg+xml</dc:format>\n    <dc:creator>\n     <cc:Agent>\n      <dc:title>Matplotlib v3.3.4, https://matplotlib.org/</dc:title>\n     </cc:Agent>\n    </dc:creator>\n   </cc:Work>\n  </rdf:RDF>\n </metadata>\n <defs>\n  <style type=\"text/css\">*{stroke-linecap:butt;stroke-linejoin:round;}</style>\n </defs>\n <g id=\"figure_1\">\n  <g id=\"patch_1\">\n   <path d=\"M 0 263.424375 \nL 388.0125 263.424375 \nL 388.0125 0 \nL 0 0 \nz\n\" style=\"fill:none;\"/>\n  </g>\n  <g id=\"axes_1\">\n   <g id=\"patch_2\">\n    <path d=\"M 46.0125 239.54625 \nL 380.8125 239.54625 \nL 380.8125 22.10625 \nL 46.0125 22.10625 \nz\n\" style=\"fill:#ffffff;\"/>\n   </g>\n   <g id=\"patch_3\">\n    <path clip-path=\"url(#p5781216db9)\" d=\"M 61.230682 239.54625 \nL 91.667045 239.54625 \nL 91.667045 239.54625 \nL 61.230682 239.54625 \nz\n\" style=\"fill:#1f77b4;\"/>\n   </g>\n   <g id=\"patch_4\">\n    <path clip-path=\"url(#p5781216db9)\" d=\"M 91.667045 239.54625 \nL 122.103409 239.54625 \nL 122.103409 239.54625 \nL 91.667045 239.54625 \nz\n\" style=\"fill:#1f77b4;\"/>\n   </g>\n   <g id=\"patch_5\">\n    <path clip-path=\"url(#p5781216db9)\" d=\"M 122.103409 239.54625 \nL 152.539773 239.54625 \nL 152.539773 152.150673 \nL 122.103409 152.150673 \nz\n\" style=\"fill:#1f77b4;\"/>\n   </g>\n   <g id=\"patch_6\">\n    <path clip-path=\"url(#p5781216db9)\" d=\"M 152.539773 239.54625 \nL 182.976136 239.54625 \nL 182.976136 32.460536 \nL 152.539773 32.460536 \nz\n\" style=\"fill:#1f77b4;\"/>\n   </g>\n   <g id=\"patch_7\">\n    <path clip-path=\"url(#p5781216db9)\" d=\"M 182.976136 239.54625 \nL 213.4125 239.54625 \nL 213.4125 128.080435 \nL 182.976136 128.080435 \nz\n\" style=\"fill:#1f77b4;\"/>\n   </g>\n   <g id=\"patch_8\">\n    <path clip-path=\"url(#p5781216db9)\" d=\"M 213.4125 239.54625 \nL 243.848864 239.54625 \nL 243.848864 229.69845 \nL 213.4125 229.69845 \nz\n\" style=\"fill:#1f77b4;\"/>\n   </g>\n   <g id=\"patch_9\">\n    <path clip-path=\"url(#p5781216db9)\" d=\"M 243.848864 239.54625 \nL 274.285227 239.54625 \nL 274.285227 238.807422 \nL 243.848864 238.807422 \nz\n\" style=\"fill:#1f77b4;\"/>\n   </g>\n   <g id=\"patch_10\">\n    <path clip-path=\"url(#p5781216db9)\" d=\"M 274.285227 239.54625 \nL 304.721591 239.54625 \nL 304.721591 239.507364 \nL 274.285227 239.507364 \nz\n\" style=\"fill:#1f77b4;\"/>\n   </g>\n   <g id=\"patch_11\">\n    <path clip-path=\"url(#p5781216db9)\" d=\"M 304.721591 239.54625 \nL 335.157955 239.54625 \nL 335.157955 239.54625 \nL 304.721591 239.54625 \nz\n\" style=\"fill:#1f77b4;\"/>\n   </g>\n   <g id=\"patch_12\">\n    <path clip-path=\"url(#p5781216db9)\" d=\"M 335.157955 239.54625 \nL 365.594318 239.54625 \nL 365.594318 239.54625 \nL 335.157955 239.54625 \nz\n\" style=\"fill:#1f77b4;\"/>\n   </g>\n   <g id=\"matplotlib.axis_1\">\n    <g id=\"xtick_1\">\n     <g id=\"line2d_1\">\n      <path clip-path=\"url(#p5781216db9)\" d=\"M 61.230682 239.54625 \nL 61.230682 22.10625 \n\" style=\"fill:none;stroke:#b0b0b0;stroke-linecap:square;stroke-width:0.8;\"/>\n     </g>\n     <g id=\"line2d_2\">\n      <defs>\n       <path d=\"M 0 0 \nL 0 3.5 \n\" id=\"m48f5737c3b\" style=\"stroke:#000000;stroke-width:0.8;\"/>\n      </defs>\n      <g>\n       <use style=\"stroke:#000000;stroke-width:0.8;\" x=\"61.230682\" xlink:href=\"#m48f5737c3b\" y=\"239.54625\"/>\n      </g>\n     </g>\n     <g id=\"text_1\">\n      <!-- 0 -->\n      <g transform=\"translate(58.049432 254.144687)scale(0.1 -0.1)\">\n       <defs>\n        <path d=\"M 31.78125 66.40625 \nQ 24.171875 66.40625 20.328125 58.90625 \nQ 16.5 51.421875 16.5 36.375 \nQ 16.5 21.390625 20.328125 13.890625 \nQ 24.171875 6.390625 31.78125 6.390625 \nQ 39.453125 6.390625 43.28125 13.890625 \nQ 47.125 21.390625 47.125 36.375 \nQ 47.125 51.421875 43.28125 58.90625 \nQ 39.453125 66.40625 31.78125 66.40625 \nz\nM 31.78125 74.21875 \nQ 44.046875 74.21875 50.515625 64.515625 \nQ 56.984375 54.828125 56.984375 36.375 \nQ 56.984375 17.96875 50.515625 8.265625 \nQ 44.046875 -1.421875 31.78125 -1.421875 \nQ 19.53125 -1.421875 13.0625 8.265625 \nQ 6.59375 17.96875 6.59375 36.375 \nQ 6.59375 54.828125 13.0625 64.515625 \nQ 19.53125 74.21875 31.78125 74.21875 \nz\n\" id=\"DejaVuSans-48\"/>\n       </defs>\n       <use xlink:href=\"#DejaVuSans-48\"/>\n      </g>\n     </g>\n    </g>\n    <g id=\"xtick_2\">\n     <g id=\"line2d_3\">\n      <path clip-path=\"url(#p5781216db9)\" d=\"M 99.276136 239.54625 \nL 99.276136 22.10625 \n\" style=\"fill:none;stroke:#b0b0b0;stroke-linecap:square;stroke-width:0.8;\"/>\n     </g>\n     <g id=\"line2d_4\">\n      <g>\n       <use style=\"stroke:#000000;stroke-width:0.8;\" x=\"99.276136\" xlink:href=\"#m48f5737c3b\" y=\"239.54625\"/>\n      </g>\n     </g>\n     <g id=\"text_2\">\n      <!-- 25 -->\n      <g transform=\"translate(92.913636 254.144687)scale(0.1 -0.1)\">\n       <defs>\n        <path d=\"M 19.1875 8.296875 \nL 53.609375 8.296875 \nL 53.609375 0 \nL 7.328125 0 \nL 7.328125 8.296875 \nQ 12.9375 14.109375 22.625 23.890625 \nQ 32.328125 33.6875 34.8125 36.53125 \nQ 39.546875 41.84375 41.421875 45.53125 \nQ 43.3125 49.21875 43.3125 52.78125 \nQ 43.3125 58.59375 39.234375 62.25 \nQ 35.15625 65.921875 28.609375 65.921875 \nQ 23.96875 65.921875 18.8125 64.3125 \nQ 13.671875 62.703125 7.8125 59.421875 \nL 7.8125 69.390625 \nQ 13.765625 71.78125 18.9375 73 \nQ 24.125 74.21875 28.421875 74.21875 \nQ 39.75 74.21875 46.484375 68.546875 \nQ 53.21875 62.890625 53.21875 53.421875 \nQ 53.21875 48.921875 51.53125 44.890625 \nQ 49.859375 40.875 45.40625 35.40625 \nQ 44.1875 33.984375 37.640625 27.21875 \nQ 31.109375 20.453125 19.1875 8.296875 \nz\n\" id=\"DejaVuSans-50\"/>\n        <path d=\"M 10.796875 72.90625 \nL 49.515625 72.90625 \nL 49.515625 64.59375 \nL 19.828125 64.59375 \nL 19.828125 46.734375 \nQ 21.96875 47.46875 24.109375 47.828125 \nQ 26.265625 48.1875 28.421875 48.1875 \nQ 40.625 48.1875 47.75 41.5 \nQ 54.890625 34.8125 54.890625 23.390625 \nQ 54.890625 11.625 47.5625 5.09375 \nQ 40.234375 -1.421875 26.90625 -1.421875 \nQ 22.3125 -1.421875 17.546875 -0.640625 \nQ 12.796875 0.140625 7.71875 1.703125 \nL 7.71875 11.625 \nQ 12.109375 9.234375 16.796875 8.0625 \nQ 21.484375 6.890625 26.703125 6.890625 \nQ 35.15625 6.890625 40.078125 11.328125 \nQ 45.015625 15.765625 45.015625 23.390625 \nQ 45.015625 31 40.078125 35.4375 \nQ 35.15625 39.890625 26.703125 39.890625 \nQ 22.75 39.890625 18.8125 39.015625 \nQ 14.890625 38.140625 10.796875 36.28125 \nz\n\" id=\"DejaVuSans-53\"/>\n       </defs>\n       <use xlink:href=\"#DejaVuSans-50\"/>\n       <use x=\"63.623047\" xlink:href=\"#DejaVuSans-53\"/>\n      </g>\n     </g>\n    </g>\n    <g id=\"xtick_3\">\n     <g id=\"line2d_5\">\n      <path clip-path=\"url(#p5781216db9)\" d=\"M 137.321591 239.54625 \nL 137.321591 22.10625 \n\" style=\"fill:none;stroke:#b0b0b0;stroke-linecap:square;stroke-width:0.8;\"/>\n     </g>\n     <g id=\"line2d_6\">\n      <g>\n       <use style=\"stroke:#000000;stroke-width:0.8;\" x=\"137.321591\" xlink:href=\"#m48f5737c3b\" y=\"239.54625\"/>\n      </g>\n     </g>\n     <g id=\"text_3\">\n      <!-- 50 -->\n      <g transform=\"translate(130.959091 254.144687)scale(0.1 -0.1)\">\n       <use xlink:href=\"#DejaVuSans-53\"/>\n       <use x=\"63.623047\" xlink:href=\"#DejaVuSans-48\"/>\n      </g>\n     </g>\n    </g>\n    <g id=\"xtick_4\">\n     <g id=\"line2d_7\">\n      <path clip-path=\"url(#p5781216db9)\" d=\"M 175.367045 239.54625 \nL 175.367045 22.10625 \n\" style=\"fill:none;stroke:#b0b0b0;stroke-linecap:square;stroke-width:0.8;\"/>\n     </g>\n     <g id=\"line2d_8\">\n      <g>\n       <use style=\"stroke:#000000;stroke-width:0.8;\" x=\"175.367045\" xlink:href=\"#m48f5737c3b\" y=\"239.54625\"/>\n      </g>\n     </g>\n     <g id=\"text_4\">\n      <!-- 75 -->\n      <g transform=\"translate(169.004545 254.144687)scale(0.1 -0.1)\">\n       <defs>\n        <path d=\"M 8.203125 72.90625 \nL 55.078125 72.90625 \nL 55.078125 68.703125 \nL 28.609375 0 \nL 18.3125 0 \nL 43.21875 64.59375 \nL 8.203125 64.59375 \nz\n\" id=\"DejaVuSans-55\"/>\n       </defs>\n       <use xlink:href=\"#DejaVuSans-55\"/>\n       <use x=\"63.623047\" xlink:href=\"#DejaVuSans-53\"/>\n      </g>\n     </g>\n    </g>\n    <g id=\"xtick_5\">\n     <g id=\"line2d_9\">\n      <path clip-path=\"url(#p5781216db9)\" d=\"M 213.4125 239.54625 \nL 213.4125 22.10625 \n\" style=\"fill:none;stroke:#b0b0b0;stroke-linecap:square;stroke-width:0.8;\"/>\n     </g>\n     <g id=\"line2d_10\">\n      <g>\n       <use style=\"stroke:#000000;stroke-width:0.8;\" x=\"213.4125\" xlink:href=\"#m48f5737c3b\" y=\"239.54625\"/>\n      </g>\n     </g>\n     <g id=\"text_5\">\n      <!-- 100 -->\n      <g transform=\"translate(203.86875 254.144687)scale(0.1 -0.1)\">\n       <defs>\n        <path d=\"M 12.40625 8.296875 \nL 28.515625 8.296875 \nL 28.515625 63.921875 \nL 10.984375 60.40625 \nL 10.984375 69.390625 \nL 28.421875 72.90625 \nL 38.28125 72.90625 \nL 38.28125 8.296875 \nL 54.390625 8.296875 \nL 54.390625 0 \nL 12.40625 0 \nz\n\" id=\"DejaVuSans-49\"/>\n       </defs>\n       <use xlink:href=\"#DejaVuSans-49\"/>\n       <use x=\"63.623047\" xlink:href=\"#DejaVuSans-48\"/>\n       <use x=\"127.246094\" xlink:href=\"#DejaVuSans-48\"/>\n      </g>\n     </g>\n    </g>\n    <g id=\"xtick_6\">\n     <g id=\"line2d_11\">\n      <path clip-path=\"url(#p5781216db9)\" d=\"M 251.457955 239.54625 \nL 251.457955 22.10625 \n\" style=\"fill:none;stroke:#b0b0b0;stroke-linecap:square;stroke-width:0.8;\"/>\n     </g>\n     <g id=\"line2d_12\">\n      <g>\n       <use style=\"stroke:#000000;stroke-width:0.8;\" x=\"251.457955\" xlink:href=\"#m48f5737c3b\" y=\"239.54625\"/>\n      </g>\n     </g>\n     <g id=\"text_6\">\n      <!-- 125 -->\n      <g transform=\"translate(241.914205 254.144687)scale(0.1 -0.1)\">\n       <use xlink:href=\"#DejaVuSans-49\"/>\n       <use x=\"63.623047\" xlink:href=\"#DejaVuSans-50\"/>\n       <use x=\"127.246094\" xlink:href=\"#DejaVuSans-53\"/>\n      </g>\n     </g>\n    </g>\n    <g id=\"xtick_7\">\n     <g id=\"line2d_13\">\n      <path clip-path=\"url(#p5781216db9)\" d=\"M 289.503409 239.54625 \nL 289.503409 22.10625 \n\" style=\"fill:none;stroke:#b0b0b0;stroke-linecap:square;stroke-width:0.8;\"/>\n     </g>\n     <g id=\"line2d_14\">\n      <g>\n       <use style=\"stroke:#000000;stroke-width:0.8;\" x=\"289.503409\" xlink:href=\"#m48f5737c3b\" y=\"239.54625\"/>\n      </g>\n     </g>\n     <g id=\"text_7\">\n      <!-- 150 -->\n      <g transform=\"translate(279.959659 254.144687)scale(0.1 -0.1)\">\n       <use xlink:href=\"#DejaVuSans-49\"/>\n       <use x=\"63.623047\" xlink:href=\"#DejaVuSans-53\"/>\n       <use x=\"127.246094\" xlink:href=\"#DejaVuSans-48\"/>\n      </g>\n     </g>\n    </g>\n    <g id=\"xtick_8\">\n     <g id=\"line2d_15\">\n      <path clip-path=\"url(#p5781216db9)\" d=\"M 327.548864 239.54625 \nL 327.548864 22.10625 \n\" style=\"fill:none;stroke:#b0b0b0;stroke-linecap:square;stroke-width:0.8;\"/>\n     </g>\n     <g id=\"line2d_16\">\n      <g>\n       <use style=\"stroke:#000000;stroke-width:0.8;\" x=\"327.548864\" xlink:href=\"#m48f5737c3b\" y=\"239.54625\"/>\n      </g>\n     </g>\n     <g id=\"text_8\">\n      <!-- 175 -->\n      <g transform=\"translate(318.005114 254.144687)scale(0.1 -0.1)\">\n       <use xlink:href=\"#DejaVuSans-49\"/>\n       <use x=\"63.623047\" xlink:href=\"#DejaVuSans-55\"/>\n       <use x=\"127.246094\" xlink:href=\"#DejaVuSans-53\"/>\n      </g>\n     </g>\n    </g>\n    <g id=\"xtick_9\">\n     <g id=\"line2d_17\">\n      <path clip-path=\"url(#p5781216db9)\" d=\"M 365.594318 239.54625 \nL 365.594318 22.10625 \n\" style=\"fill:none;stroke:#b0b0b0;stroke-linecap:square;stroke-width:0.8;\"/>\n     </g>\n     <g id=\"line2d_18\">\n      <g>\n       <use style=\"stroke:#000000;stroke-width:0.8;\" x=\"365.594318\" xlink:href=\"#m48f5737c3b\" y=\"239.54625\"/>\n      </g>\n     </g>\n     <g id=\"text_9\">\n      <!-- 200 -->\n      <g transform=\"translate(356.050568 254.144687)scale(0.1 -0.1)\">\n       <use xlink:href=\"#DejaVuSans-50\"/>\n       <use x=\"63.623047\" xlink:href=\"#DejaVuSans-48\"/>\n       <use x=\"127.246094\" xlink:href=\"#DejaVuSans-48\"/>\n      </g>\n     </g>\n    </g>\n   </g>\n   <g id=\"matplotlib.axis_2\">\n    <g id=\"ytick_1\">\n     <g id=\"line2d_19\">\n      <path clip-path=\"url(#p5781216db9)\" d=\"M 46.0125 239.54625 \nL 380.8125 239.54625 \n\" style=\"fill:none;stroke:#b0b0b0;stroke-linecap:square;stroke-width:0.8;\"/>\n     </g>\n     <g id=\"line2d_20\">\n      <defs>\n       <path d=\"M 0 0 \nL -3.5 0 \n\" id=\"m329781e155\" style=\"stroke:#000000;stroke-width:0.8;\"/>\n      </defs>\n      <g>\n       <use style=\"stroke:#000000;stroke-width:0.8;\" x=\"46.0125\" xlink:href=\"#m329781e155\" y=\"239.54625\"/>\n      </g>\n     </g>\n     <g id=\"text_10\">\n      <!-- 0 -->\n      <g transform=\"translate(32.65 243.345469)scale(0.1 -0.1)\">\n       <use xlink:href=\"#DejaVuSans-48\"/>\n      </g>\n     </g>\n    </g>\n    <g id=\"ytick_2\">\n     <g id=\"line2d_21\">\n      <path clip-path=\"url(#p5781216db9)\" d=\"M 46.0125 215.242697 \nL 380.8125 215.242697 \n\" style=\"fill:none;stroke:#b0b0b0;stroke-linecap:square;stroke-width:0.8;\"/>\n     </g>\n     <g id=\"line2d_22\">\n      <g>\n       <use style=\"stroke:#000000;stroke-width:0.8;\" x=\"46.0125\" xlink:href=\"#m329781e155\" y=\"215.242697\"/>\n      </g>\n     </g>\n     <g id=\"text_11\">\n      <!-- 2500 -->\n      <g transform=\"translate(13.5625 219.041916)scale(0.1 -0.1)\">\n       <use xlink:href=\"#DejaVuSans-50\"/>\n       <use x=\"63.623047\" xlink:href=\"#DejaVuSans-53\"/>\n       <use x=\"127.246094\" xlink:href=\"#DejaVuSans-48\"/>\n       <use x=\"190.869141\" xlink:href=\"#DejaVuSans-48\"/>\n      </g>\n     </g>\n    </g>\n    <g id=\"ytick_3\">\n     <g id=\"line2d_23\">\n      <path clip-path=\"url(#p5781216db9)\" d=\"M 46.0125 190.939144 \nL 380.8125 190.939144 \n\" style=\"fill:none;stroke:#b0b0b0;stroke-linecap:square;stroke-width:0.8;\"/>\n     </g>\n     <g id=\"line2d_24\">\n      <g>\n       <use style=\"stroke:#000000;stroke-width:0.8;\" x=\"46.0125\" xlink:href=\"#m329781e155\" y=\"190.939144\"/>\n      </g>\n     </g>\n     <g id=\"text_12\">\n      <!-- 5000 -->\n      <g transform=\"translate(13.5625 194.738363)scale(0.1 -0.1)\">\n       <use xlink:href=\"#DejaVuSans-53\"/>\n       <use x=\"63.623047\" xlink:href=\"#DejaVuSans-48\"/>\n       <use x=\"127.246094\" xlink:href=\"#DejaVuSans-48\"/>\n       <use x=\"190.869141\" xlink:href=\"#DejaVuSans-48\"/>\n      </g>\n     </g>\n    </g>\n    <g id=\"ytick_4\">\n     <g id=\"line2d_25\">\n      <path clip-path=\"url(#p5781216db9)\" d=\"M 46.0125 166.635591 \nL 380.8125 166.635591 \n\" style=\"fill:none;stroke:#b0b0b0;stroke-linecap:square;stroke-width:0.8;\"/>\n     </g>\n     <g id=\"line2d_26\">\n      <g>\n       <use style=\"stroke:#000000;stroke-width:0.8;\" x=\"46.0125\" xlink:href=\"#m329781e155\" y=\"166.635591\"/>\n      </g>\n     </g>\n     <g id=\"text_13\">\n      <!-- 7500 -->\n      <g transform=\"translate(13.5625 170.43481)scale(0.1 -0.1)\">\n       <use xlink:href=\"#DejaVuSans-55\"/>\n       <use x=\"63.623047\" xlink:href=\"#DejaVuSans-53\"/>\n       <use x=\"127.246094\" xlink:href=\"#DejaVuSans-48\"/>\n       <use x=\"190.869141\" xlink:href=\"#DejaVuSans-48\"/>\n      </g>\n     </g>\n    </g>\n    <g id=\"ytick_5\">\n     <g id=\"line2d_27\">\n      <path clip-path=\"url(#p5781216db9)\" d=\"M 46.0125 142.332038 \nL 380.8125 142.332038 \n\" style=\"fill:none;stroke:#b0b0b0;stroke-linecap:square;stroke-width:0.8;\"/>\n     </g>\n     <g id=\"line2d_28\">\n      <g>\n       <use style=\"stroke:#000000;stroke-width:0.8;\" x=\"46.0125\" xlink:href=\"#m329781e155\" y=\"142.332038\"/>\n      </g>\n     </g>\n     <g id=\"text_14\">\n      <!-- 10000 -->\n      <g transform=\"translate(7.2 146.131257)scale(0.1 -0.1)\">\n       <use xlink:href=\"#DejaVuSans-49\"/>\n       <use x=\"63.623047\" xlink:href=\"#DejaVuSans-48\"/>\n       <use x=\"127.246094\" xlink:href=\"#DejaVuSans-48\"/>\n       <use x=\"190.869141\" xlink:href=\"#DejaVuSans-48\"/>\n       <use x=\"254.492188\" xlink:href=\"#DejaVuSans-48\"/>\n      </g>\n     </g>\n    </g>\n    <g id=\"ytick_6\">\n     <g id=\"line2d_29\">\n      <path clip-path=\"url(#p5781216db9)\" d=\"M 46.0125 118.028485 \nL 380.8125 118.028485 \n\" style=\"fill:none;stroke:#b0b0b0;stroke-linecap:square;stroke-width:0.8;\"/>\n     </g>\n     <g id=\"line2d_30\">\n      <g>\n       <use style=\"stroke:#000000;stroke-width:0.8;\" x=\"46.0125\" xlink:href=\"#m329781e155\" y=\"118.028485\"/>\n      </g>\n     </g>\n     <g id=\"text_15\">\n      <!-- 12500 -->\n      <g transform=\"translate(7.2 121.827704)scale(0.1 -0.1)\">\n       <use xlink:href=\"#DejaVuSans-49\"/>\n       <use x=\"63.623047\" xlink:href=\"#DejaVuSans-50\"/>\n       <use x=\"127.246094\" xlink:href=\"#DejaVuSans-53\"/>\n       <use x=\"190.869141\" xlink:href=\"#DejaVuSans-48\"/>\n       <use x=\"254.492188\" xlink:href=\"#DejaVuSans-48\"/>\n      </g>\n     </g>\n    </g>\n    <g id=\"ytick_7\">\n     <g id=\"line2d_31\">\n      <path clip-path=\"url(#p5781216db9)\" d=\"M 46.0125 93.724932 \nL 380.8125 93.724932 \n\" style=\"fill:none;stroke:#b0b0b0;stroke-linecap:square;stroke-width:0.8;\"/>\n     </g>\n     <g id=\"line2d_32\">\n      <g>\n       <use style=\"stroke:#000000;stroke-width:0.8;\" x=\"46.0125\" xlink:href=\"#m329781e155\" y=\"93.724932\"/>\n      </g>\n     </g>\n     <g id=\"text_16\">\n      <!-- 15000 -->\n      <g transform=\"translate(7.2 97.524151)scale(0.1 -0.1)\">\n       <use xlink:href=\"#DejaVuSans-49\"/>\n       <use x=\"63.623047\" xlink:href=\"#DejaVuSans-53\"/>\n       <use x=\"127.246094\" xlink:href=\"#DejaVuSans-48\"/>\n       <use x=\"190.869141\" xlink:href=\"#DejaVuSans-48\"/>\n       <use x=\"254.492188\" xlink:href=\"#DejaVuSans-48\"/>\n      </g>\n     </g>\n    </g>\n    <g id=\"ytick_8\">\n     <g id=\"line2d_33\">\n      <path clip-path=\"url(#p5781216db9)\" d=\"M 46.0125 69.421379 \nL 380.8125 69.421379 \n\" style=\"fill:none;stroke:#b0b0b0;stroke-linecap:square;stroke-width:0.8;\"/>\n     </g>\n     <g id=\"line2d_34\">\n      <g>\n       <use style=\"stroke:#000000;stroke-width:0.8;\" x=\"46.0125\" xlink:href=\"#m329781e155\" y=\"69.421379\"/>\n      </g>\n     </g>\n     <g id=\"text_17\">\n      <!-- 17500 -->\n      <g transform=\"translate(7.2 73.220598)scale(0.1 -0.1)\">\n       <use xlink:href=\"#DejaVuSans-49\"/>\n       <use x=\"63.623047\" xlink:href=\"#DejaVuSans-55\"/>\n       <use x=\"127.246094\" xlink:href=\"#DejaVuSans-53\"/>\n       <use x=\"190.869141\" xlink:href=\"#DejaVuSans-48\"/>\n       <use x=\"254.492188\" xlink:href=\"#DejaVuSans-48\"/>\n      </g>\n     </g>\n    </g>\n    <g id=\"ytick_9\">\n     <g id=\"line2d_35\">\n      <path clip-path=\"url(#p5781216db9)\" d=\"M 46.0125 45.117826 \nL 380.8125 45.117826 \n\" style=\"fill:none;stroke:#b0b0b0;stroke-linecap:square;stroke-width:0.8;\"/>\n     </g>\n     <g id=\"line2d_36\">\n      <g>\n       <use style=\"stroke:#000000;stroke-width:0.8;\" x=\"46.0125\" xlink:href=\"#m329781e155\" y=\"45.117826\"/>\n      </g>\n     </g>\n     <g id=\"text_18\">\n      <!-- 20000 -->\n      <g transform=\"translate(7.2 48.917045)scale(0.1 -0.1)\">\n       <use xlink:href=\"#DejaVuSans-50\"/>\n       <use x=\"63.623047\" xlink:href=\"#DejaVuSans-48\"/>\n       <use x=\"127.246094\" xlink:href=\"#DejaVuSans-48\"/>\n       <use x=\"190.869141\" xlink:href=\"#DejaVuSans-48\"/>\n       <use x=\"254.492188\" xlink:href=\"#DejaVuSans-48\"/>\n      </g>\n     </g>\n    </g>\n   </g>\n   <g id=\"patch_13\">\n    <path d=\"M 46.0125 239.54625 \nL 46.0125 22.10625 \n\" style=\"fill:none;stroke:#000000;stroke-linecap:square;stroke-linejoin:miter;stroke-width:0.8;\"/>\n   </g>\n   <g id=\"patch_14\">\n    <path d=\"M 380.8125 239.54625 \nL 380.8125 22.10625 \n\" style=\"fill:none;stroke:#000000;stroke-linecap:square;stroke-linejoin:miter;stroke-width:0.8;\"/>\n   </g>\n   <g id=\"patch_15\">\n    <path d=\"M 46.0125 239.54625 \nL 380.8125 239.54625 \n\" style=\"fill:none;stroke:#000000;stroke-linecap:square;stroke-linejoin:miter;stroke-width:0.8;\"/>\n   </g>\n   <g id=\"patch_16\">\n    <path d=\"M 46.0125 22.10625 \nL 380.8125 22.10625 \n\" style=\"fill:none;stroke:#000000;stroke-linecap:square;stroke-linejoin:miter;stroke-width:0.8;\"/>\n   </g>\n   <g id=\"text_19\">\n    <!-- NORMALISED_WEIGHT -->\n    <g transform=\"translate(146.097188 16.10625)scale(0.12 -0.12)\">\n     <defs>\n      <path d=\"M 9.8125 72.90625 \nL 23.09375 72.90625 \nL 55.421875 11.921875 \nL 55.421875 72.90625 \nL 64.984375 72.90625 \nL 64.984375 0 \nL 51.703125 0 \nL 19.390625 60.984375 \nL 19.390625 0 \nL 9.8125 0 \nz\n\" id=\"DejaVuSans-78\"/>\n      <path d=\"M 39.40625 66.21875 \nQ 28.65625 66.21875 22.328125 58.203125 \nQ 16.015625 50.203125 16.015625 36.375 \nQ 16.015625 22.609375 22.328125 14.59375 \nQ 28.65625 6.59375 39.40625 6.59375 \nQ 50.140625 6.59375 56.421875 14.59375 \nQ 62.703125 22.609375 62.703125 36.375 \nQ 62.703125 50.203125 56.421875 58.203125 \nQ 50.140625 66.21875 39.40625 66.21875 \nz\nM 39.40625 74.21875 \nQ 54.734375 74.21875 63.90625 63.9375 \nQ 73.09375 53.65625 73.09375 36.375 \nQ 73.09375 19.140625 63.90625 8.859375 \nQ 54.734375 -1.421875 39.40625 -1.421875 \nQ 24.03125 -1.421875 14.8125 8.828125 \nQ 5.609375 19.09375 5.609375 36.375 \nQ 5.609375 53.65625 14.8125 63.9375 \nQ 24.03125 74.21875 39.40625 74.21875 \nz\n\" id=\"DejaVuSans-79\"/>\n      <path d=\"M 44.390625 34.1875 \nQ 47.5625 33.109375 50.5625 29.59375 \nQ 53.5625 26.078125 56.59375 19.921875 \nL 66.609375 0 \nL 56 0 \nL 46.6875 18.703125 \nQ 43.0625 26.03125 39.671875 28.421875 \nQ 36.28125 30.8125 30.421875 30.8125 \nL 19.671875 30.8125 \nL 19.671875 0 \nL 9.8125 0 \nL 9.8125 72.90625 \nL 32.078125 72.90625 \nQ 44.578125 72.90625 50.734375 67.671875 \nQ 56.890625 62.453125 56.890625 51.90625 \nQ 56.890625 45.015625 53.6875 40.46875 \nQ 50.484375 35.9375 44.390625 34.1875 \nz\nM 19.671875 64.796875 \nL 19.671875 38.921875 \nL 32.078125 38.921875 \nQ 39.203125 38.921875 42.84375 42.21875 \nQ 46.484375 45.515625 46.484375 51.90625 \nQ 46.484375 58.296875 42.84375 61.546875 \nQ 39.203125 64.796875 32.078125 64.796875 \nz\n\" id=\"DejaVuSans-82\"/>\n      <path d=\"M 9.8125 72.90625 \nL 24.515625 72.90625 \nL 43.109375 23.296875 \nL 61.8125 72.90625 \nL 76.515625 72.90625 \nL 76.515625 0 \nL 66.890625 0 \nL 66.890625 64.015625 \nL 48.09375 14.015625 \nL 38.1875 14.015625 \nL 19.390625 64.015625 \nL 19.390625 0 \nL 9.8125 0 \nz\n\" id=\"DejaVuSans-77\"/>\n      <path d=\"M 34.1875 63.1875 \nL 20.796875 26.90625 \nL 47.609375 26.90625 \nz\nM 28.609375 72.90625 \nL 39.796875 72.90625 \nL 67.578125 0 \nL 57.328125 0 \nL 50.6875 18.703125 \nL 17.828125 18.703125 \nL 11.1875 0 \nL 0.78125 0 \nz\n\" id=\"DejaVuSans-65\"/>\n      <path d=\"M 9.8125 72.90625 \nL 19.671875 72.90625 \nL 19.671875 8.296875 \nL 55.171875 8.296875 \nL 55.171875 0 \nL 9.8125 0 \nz\n\" id=\"DejaVuSans-76\"/>\n      <path d=\"M 9.8125 72.90625 \nL 19.671875 72.90625 \nL 19.671875 0 \nL 9.8125 0 \nz\n\" id=\"DejaVuSans-73\"/>\n      <path d=\"M 53.515625 70.515625 \nL 53.515625 60.890625 \nQ 47.90625 63.578125 42.921875 64.890625 \nQ 37.9375 66.21875 33.296875 66.21875 \nQ 25.25 66.21875 20.875 63.09375 \nQ 16.5 59.96875 16.5 54.203125 \nQ 16.5 49.359375 19.40625 46.890625 \nQ 22.3125 44.4375 30.421875 42.921875 \nL 36.375 41.703125 \nQ 47.40625 39.59375 52.65625 34.296875 \nQ 57.90625 29 57.90625 20.125 \nQ 57.90625 9.515625 50.796875 4.046875 \nQ 43.703125 -1.421875 29.984375 -1.421875 \nQ 24.8125 -1.421875 18.96875 -0.25 \nQ 13.140625 0.921875 6.890625 3.21875 \nL 6.890625 13.375 \nQ 12.890625 10.015625 18.65625 8.296875 \nQ 24.421875 6.59375 29.984375 6.59375 \nQ 38.421875 6.59375 43.015625 9.90625 \nQ 47.609375 13.234375 47.609375 19.390625 \nQ 47.609375 24.75 44.3125 27.78125 \nQ 41.015625 30.8125 33.5 32.328125 \nL 27.484375 33.5 \nQ 16.453125 35.6875 11.515625 40.375 \nQ 6.59375 45.0625 6.59375 53.421875 \nQ 6.59375 63.09375 13.40625 68.65625 \nQ 20.21875 74.21875 32.171875 74.21875 \nQ 37.3125 74.21875 42.625 73.28125 \nQ 47.953125 72.359375 53.515625 70.515625 \nz\n\" id=\"DejaVuSans-83\"/>\n      <path d=\"M 9.8125 72.90625 \nL 55.90625 72.90625 \nL 55.90625 64.59375 \nL 19.671875 64.59375 \nL 19.671875 43.015625 \nL 54.390625 43.015625 \nL 54.390625 34.71875 \nL 19.671875 34.71875 \nL 19.671875 8.296875 \nL 56.78125 8.296875 \nL 56.78125 0 \nL 9.8125 0 \nz\n\" id=\"DejaVuSans-69\"/>\n      <path d=\"M 19.671875 64.796875 \nL 19.671875 8.109375 \nL 31.59375 8.109375 \nQ 46.6875 8.109375 53.6875 14.9375 \nQ 60.6875 21.78125 60.6875 36.53125 \nQ 60.6875 51.171875 53.6875 57.984375 \nQ 46.6875 64.796875 31.59375 64.796875 \nz\nM 9.8125 72.90625 \nL 30.078125 72.90625 \nQ 51.265625 72.90625 61.171875 64.09375 \nQ 71.09375 55.28125 71.09375 36.53125 \nQ 71.09375 17.671875 61.125 8.828125 \nQ 51.171875 0 30.078125 0 \nL 9.8125 0 \nz\n\" id=\"DejaVuSans-68\"/>\n      <path d=\"M 50.984375 -16.609375 \nL 50.984375 -23.578125 \nL -0.984375 -23.578125 \nL -0.984375 -16.609375 \nz\n\" id=\"DejaVuSans-95\"/>\n      <path d=\"M 3.328125 72.90625 \nL 13.28125 72.90625 \nL 28.609375 11.28125 \nL 43.890625 72.90625 \nL 54.984375 72.90625 \nL 70.3125 11.28125 \nL 85.59375 72.90625 \nL 95.609375 72.90625 \nL 77.296875 0 \nL 64.890625 0 \nL 49.515625 63.28125 \nL 33.984375 0 \nL 21.578125 0 \nz\n\" id=\"DejaVuSans-87\"/>\n      <path d=\"M 59.515625 10.40625 \nL 59.515625 29.984375 \nL 43.40625 29.984375 \nL 43.40625 38.09375 \nL 69.28125 38.09375 \nL 69.28125 6.78125 \nQ 63.578125 2.734375 56.6875 0.65625 \nQ 49.8125 -1.421875 42 -1.421875 \nQ 24.90625 -1.421875 15.25 8.5625 \nQ 5.609375 18.5625 5.609375 36.375 \nQ 5.609375 54.25 15.25 64.234375 \nQ 24.90625 74.21875 42 74.21875 \nQ 49.125 74.21875 55.546875 72.453125 \nQ 61.96875 70.703125 67.390625 67.28125 \nL 67.390625 56.78125 \nQ 61.921875 61.421875 55.765625 63.765625 \nQ 49.609375 66.109375 42.828125 66.109375 \nQ 29.4375 66.109375 22.71875 58.640625 \nQ 16.015625 51.171875 16.015625 36.375 \nQ 16.015625 21.625 22.71875 14.15625 \nQ 29.4375 6.6875 42.828125 6.6875 \nQ 48.046875 6.6875 52.140625 7.59375 \nQ 56.25 8.5 59.515625 10.40625 \nz\n\" id=\"DejaVuSans-71\"/>\n      <path d=\"M 9.8125 72.90625 \nL 19.671875 72.90625 \nL 19.671875 43.015625 \nL 55.515625 43.015625 \nL 55.515625 72.90625 \nL 65.375 72.90625 \nL 65.375 0 \nL 55.515625 0 \nL 55.515625 34.71875 \nL 19.671875 34.71875 \nL 19.671875 0 \nL 9.8125 0 \nz\n\" id=\"DejaVuSans-72\"/>\n      <path d=\"M -0.296875 72.90625 \nL 61.375 72.90625 \nL 61.375 64.59375 \nL 35.5 64.59375 \nL 35.5 0 \nL 25.59375 0 \nL 25.59375 64.59375 \nL -0.296875 64.59375 \nz\n\" id=\"DejaVuSans-84\"/>\n     </defs>\n     <use xlink:href=\"#DejaVuSans-78\"/>\n     <use x=\"74.804688\" xlink:href=\"#DejaVuSans-79\"/>\n     <use x=\"153.515625\" xlink:href=\"#DejaVuSans-82\"/>\n     <use x=\"222.998047\" xlink:href=\"#DejaVuSans-77\"/>\n     <use x=\"309.277344\" xlink:href=\"#DejaVuSans-65\"/>\n     <use x=\"377.685547\" xlink:href=\"#DejaVuSans-76\"/>\n     <use x=\"433.398438\" xlink:href=\"#DejaVuSans-73\"/>\n     <use x=\"462.890625\" xlink:href=\"#DejaVuSans-83\"/>\n     <use x=\"526.367188\" xlink:href=\"#DejaVuSans-69\"/>\n     <use x=\"589.550781\" xlink:href=\"#DejaVuSans-68\"/>\n     <use x=\"666.552734\" xlink:href=\"#DejaVuSans-95\"/>\n     <use x=\"716.552734\" xlink:href=\"#DejaVuSans-87\"/>\n     <use x=\"815.429688\" xlink:href=\"#DejaVuSans-69\"/>\n     <use x=\"878.613281\" xlink:href=\"#DejaVuSans-73\"/>\n     <use x=\"908.105469\" xlink:href=\"#DejaVuSans-71\"/>\n     <use x=\"985.595703\" xlink:href=\"#DejaVuSans-72\"/>\n     <use x=\"1060.791016\" xlink:href=\"#DejaVuSans-84\"/>\n    </g>\n   </g>\n  </g>\n </g>\n <defs>\n  <clipPath id=\"p5781216db9\">\n   <rect height=\"217.44\" width=\"334.8\" x=\"46.0125\" y=\"22.10625\"/>\n  </clipPath>\n </defs>\n</svg>\n",
      "image/png": "[encoded data removed]"
     },
     "metadata": {
      "needs_background": "light"
     }
    }
   ],
   "source": [
    "threshold = 40\n",
    "\n",
    "print('Drop low height: ',(df.NORMALISED_WEIGHT < threshold).sum())\n",
    "len_before = len(df)\n",
    "df = df.drop(df[df.NORMALISED_WEIGHT < threshold].index)\n",
    "len_after = len(df)\n",
    "print('Dropped: ', len_before - len_after)\n",
    "df.hist(column='NORMALISED_WEIGHT',bins=[0,20,40,60,80,100,120,140,160,180,200])"
   ]
  },
  {
   "cell_type": "code",
   "execution_count": 166,
   "metadata": {},
   "outputs": [
    {
     "output_type": "stream",
     "name": "stdout",
     "text": [
      "                     Death      No death   Total\nAlive                16712      20837      37549\nDead                 31149      10719      41868\n"
     ]
    }
   ],
   "source": [
    "vital_alive = df[(df.NEWVITALSTATUS == 'A') | (df.NEWVITALSTATUS == 'X')] \n",
    "vital_dead = df[(df.NEWVITALSTATUS == 'D')]\n",
    "no_death = df[(df.DEATHCAUSECODE_1A.isnull()) &\n",
    "                (df.DEATHCAUSECODE_1B.isnull()) & \n",
    "                (df.DEATHCAUSECODE_1C.isnull()) &\n",
    "                (df.DEATHCAUSECODE_2.isnull()) &\n",
    "                (df.DEATHCAUSECODE_UNDERLYING.isnull()) &\n",
    "                (df.DEATHLOCATIONCODE.isnull())]  \n",
    "death = df[~df.index.isin(no_death.index)]\n",
    "\n",
    "alive_but_death = vital_alive[vital_alive.index.isin(death.index)]\n",
    "dead_but_no_death = vital_dead[vital_dead.index.isin(no_death.index)]\n",
    "\n",
    "print(\"\".ljust(20), \"Death\".ljust(10), \"No death\".ljust(10), \"Total\")\n",
    "print(\"Alive\".ljust(20), str(len(alive_but_death)).ljust(10), str(len(vital_alive)-len(alive_but_death)).ljust(10), len(vital_alive))\n",
    "print(\"Dead\".ljust(20), str(len(vital_dead)-len(dead_but_no_death)).ljust(10), str(len(dead_but_no_death)).ljust(10), len(vital_dead))\n"
   ]
  },
  {
   "cell_type": "code",
   "execution_count": 167,
   "metadata": {},
   "outputs": [
    {
     "output_type": "stream",
     "name": "stdout",
     "text": [
      "60\nFeature                        NaNs       Pct        Drop?\nTUMOURID                       0          0%         False\nPATIENTID                      0          0%         False\nDIAGNOSISDATEBEST              0          0%         False\nSITE_ICD10_O2                  24         0%         False\nSITE_ICD10_O2_3CHAR            30         0%         False\nMORPH_ICD10_O2                 73         0%         False\nBEHAVIOUR_ICD10_O2             34         0%         False\nT_BEST                         77685      98%        True\nN_BEST                         77784      98%        True\nM_BEST                         77749      98%        True\nSTAGE_BEST                     0          0%         False\nSTAGE_BEST_SYSTEM              72358      91%        True\nGRADE                          2900       4%         False\nAGE                            0          0%         False\nSEX                            0          0%         False\nCREG_CODE                      0          0%         False\nLINKNUMBER                     0          0%         False\nSCREENINGSTATUSFULL_CODE       79146      100%       True\nER_STATUS                      79263      100%       True\nER_SCORE                       79401      100%       True\nPR_STATUS                      79316      100%       True\nPR_SCORE                       79417      100%       True\nHER2_STATUS                    79291      100%       True\nCANCERCAREPLANINTENT           59029      74%        False\nPERFORMANCESTATUS              59664      75%        False\nCNS                            69570      88%        True\nACE27                          72523      91%        True\nGLEASON_PRIMARY                79318      100%       True\nGLEASON_SECONDARY              79321      100%       True\nGLEASON_TERTIARY               79388      100%       True\nGLEASON_COMBINED               79323      100%       True\nDATE_FIRST_SURGERY             26468      33%        False\nLATERALITY                     0          0%         False\nQUINTILE_2015                  0          0%         False\nTUMOUR_COUNT                   0          0%         False\nETHNICITY                      2397       3%         False\nDEATHCAUSECODE_1A              35092      44%        False\nDEATHCAUSECODE_1B              72399      91%        True\nDEATHCAUSECODE_1C              78118      98%        True\nDEATHCAUSECODE_2               66980      84%        False\nDEATHCAUSECODE_UNDERLYING      35074      44%        False\nDEATHLOCATIONCODE              35366      45%        False\nNEWVITALSTATUS                 0          0%         False\nVITALSTATUSDATE                0          0%         False\nMERGED_PATIENT_ID              33762      43%        False\nSACT                           33762      43%        False\nMERGED_TUMOUR_ID               35918      45%        False\nDATE_DECISION_TO_TREAT         41142      52%        False\nSTART_DATE_OF_REGIMEN          35918      45%        False\nCLINICAL_TRIAL                 0          0%         False\nCHEMO_RADIATION                0          0%         False\nREGIMEN_COUNT                  35918      45%        False\nCLINICAL_TRIAL_INDICATOR       35918      45%        False\nCHEMO_RADIATION_INDICATOR      35918      45%        False\nNORMALISED_HEIGHT              36548      46%        False\nNORMALISED_WEIGHT              36566      46%        False\nMERGED_CYCLE_ID                35922      45%        False\nCYCLE_NUMBER                   35922      45%        False\nSTART_DATE_OF_CYCLE            40136      51%        False\nNEWVITALSTATUSDATE             0          0%         False\n"
     ]
    }
   ],
   "source": [
    "threshold = 0.15\n",
    "thresh = round(threshold * len(df))\n",
    "print(len(df.columns))\n",
    "print(\"Feature\".ljust(30), \"NaNs\".ljust(10), \"Pct\".ljust(10), \"Drop?\")\n",
    "for k, v in df.isna().sum(axis = 0).items():\n",
    "    print(k.ljust(30), str(v).ljust(10), \"{:.0%}\".format(v/len(df)).ljust(10), v > len(df) - thresh)"
   ]
  },
  {
   "cell_type": "code",
   "execution_count": 168,
   "metadata": {},
   "outputs": [
    {
     "output_type": "stream",
     "name": "stdout",
     "text": [
      "35\n"
     ]
    }
   ],
   "source": [
    "# dropping very sparse features  \n",
    "df = df.dropna(axis=1, thresh=thresh)\n",
    "# dropping non-informative features\n",
    "df = df.drop(columns=['DEATHCAUSECODE_1A','DEATHCAUSECODE_UNDERLYING','DEATHLOCATIONCODE'])\n",
    "df = df.drop(columns=['CANCERCAREPLANINTENT','PERFORMANCESTATUS'])\n",
    "df = df.drop(columns=['MERGED_PATIENT_ID','MERGED_TUMOUR_ID'])\n",
    "\n",
    "print(len(df.columns))"
   ]
  },
  {
   "cell_type": "code",
   "execution_count": 169,
   "metadata": {},
   "outputs": [
    {
     "output_type": "stream",
     "name": "stdout",
     "text": [
      "Feature                        NaNs       Percentage of all\nTUMOURID                       0          0%\nPATIENTID                      0          0%\nDIAGNOSISDATEBEST              0          0%\nSITE_ICD10_O2                  24         0%\nSITE_ICD10_O2_3CHAR            30         0%\nMORPH_ICD10_O2                 73         0%\nBEHAVIOUR_ICD10_O2             34         0%\nSTAGE_BEST                     0          0%\nGRADE                          2900       4%\nAGE                            0          0%\nSEX                            0          0%\nCREG_CODE                      0          0%\nLINKNUMBER                     0          0%\nDATE_FIRST_SURGERY             26468      33%\nLATERALITY                     0          0%\nQUINTILE_2015                  0          0%\nTUMOUR_COUNT                   0          0%\nETHNICITY                      2397       3%\nDEATHCAUSECODE_2               66980      84%\nNEWVITALSTATUS                 0          0%\nVITALSTATUSDATE                0          0%\nSACT                           33762      43%\nDATE_DECISION_TO_TREAT         41142      52%\nSTART_DATE_OF_REGIMEN          35918      45%\nCLINICAL_TRIAL                 0          0%\nCHEMO_RADIATION                0          0%\nREGIMEN_COUNT                  35918      45%\nCLINICAL_TRIAL_INDICATOR       35918      45%\nCHEMO_RADIATION_INDICATOR      35918      45%\nNORMALISED_HEIGHT              36548      46%\nNORMALISED_WEIGHT              36566      46%\nMERGED_CYCLE_ID                35922      45%\nCYCLE_NUMBER                   35922      45%\nSTART_DATE_OF_CYCLE            40136      51%\nNEWVITALSTATUSDATE             0          0%\n"
     ]
    }
   ],
   "source": [
    "print(\"Feature\".ljust(30), \"NaNs\".ljust(10), \"Percentage of all\")\n",
    "for k, v in df.isna().sum(axis = 0).items():\n",
    "    print(k.ljust(30), str(v).ljust(10), \"{:.0%}\".format(v/len(df)))"
   ]
  },
  {
   "cell_type": "code",
   "execution_count": 170,
   "metadata": {},
   "outputs": [],
   "source": [
    "# convert to string to avoid issues with pandas dtype=category\n",
    "df['SITE_ICD10_O2_3CHAR'] = df['SITE_ICD10_O2_3CHAR'].astype('string')\n",
    "df['SITE_ICD10_O2_3CHAR'] = df['SITE_ICD10_O2_3CHAR'].fillna(df['SITE_ICD10_O2'].str[0:3]).astype('category')\n",
    "df = df.drop(columns=['SITE_ICD10_O2'])"
   ]
  },
  {
   "cell_type": "code",
   "execution_count": 171,
   "metadata": {},
   "outputs": [
    {
     "output_type": "stream",
     "name": "stdout",
     "text": [
      "{'0', nan, '2', 'X', '9', '1', '3', '6', '5'}\n",
      "{'0', nan, '2', '9', '1', '3', '6', '5'}\n",
      "Replaced: 25\n",
      "BEHAVIOUR_ICD10_O2 all ints:  True\n"
     ]
    },
    {
     "output_type": "execute_result",
     "data": {
      "text/plain": [
       "{0, 1, 2, 3, 5, 6, 9}"
      ]
     },
     "metadata": {},
     "execution_count": 171
    }
   ],
   "source": [
    "column = 'BEHAVIOUR_ICD10_O2'\n",
    "markers = ['X']\n",
    "target = '1'\n",
    "\n",
    "print(set(df[column]))\n",
    "df[column], replaced  = replace(df, column, markers, target)\n",
    "print(set(df[column]))\n",
    "print(f'Replaced: {replaced}')\n",
    "\n",
    "df[column] = df[column].astype(float)\n",
    "print(f'{column} all ints: ',(df[column].fillna(-9999) % 1  == 0).all())\n",
    "\n",
    "df[column] = mean_impute(df, column).astype(int)\n",
    "set(df[column])"
   ]
  },
  {
   "cell_type": "code",
   "execution_count": 172,
   "metadata": {},
   "outputs": [
    {
     "output_type": "stream",
     "name": "stdout",
     "text": [
      "MORPH_ICD10_O2 all ints:  True\n"
     ]
    }
   ],
   "source": [
    "column = 'MORPH_ICD10_O2'\n",
    "\n",
    "# convert to float first to not deal with dtype=category \n",
    "df['temp'] = df[column].astype(float)\n",
    "print(f'{column} all ints: ',(df['temp'].fillna(-9999) % 1  == 0).all())\n",
    "df[column] = mean_impute(df, 'temp').astype('category')\n",
    "df = df.drop(columns=['temp'])"
   ]
  },
  {
   "cell_type": "code",
   "execution_count": 173,
   "metadata": {},
   "outputs": [
    {
     "output_type": "stream",
     "name": "stdout",
     "text": [
      "U      76969\n?       1025\n4        279\n1        214\n3        150\n0        124\n2        124\n1A1       71\n4B        68\n2B        66\n1A        63\n3A        56\n4A        53\n1B        50\n2A        44\n3B        32\n1A2       16\n3C         4\n2C         3\n1E         2\n2A1        1\n4C         1\n1B1        1\n0A         1\n1C         0\nName: STAGE_BEST, dtype: int64\n"
     ]
    }
   ],
   "source": [
    "column = 'STAGE_BEST'\n",
    "print(df[column].value_counts())\n",
    "\n",
    "keep = False\n",
    "if keep:\n",
    "    print(set(df[column]))\n",
    "    df[column] = df[column].replace({'U' : '?'})\n",
    "    print(set(df[column]))\n",
    "\n",
    "    values = list(set(df[column]))\n",
    "    replace_values = []\n",
    "\n",
    "    for v in values:\n",
    "        std_value = ''\n",
    "        for ch in v:\n",
    "            # print(ch, std_value)\n",
    "            num = ord(ch) - 48\n",
    "            if not ch.isdigit():\n",
    "                num =  num + 48 - 64 \n",
    "            std_value += str(num)\n",
    "        for _ in range(len(std_value), 3): \n",
    "            std_value += '0'\n",
    "        replace_values.append(std_value)\n",
    "\n",
    "    print(replace_values)\n",
    "\n",
    "    replace_dict = dict(zip(values, replace_values))\n",
    "\n",
    "    df[column] = df[column].replace(replace_dict)\n",
    "    print(set(df[column]))\n",
    "else:\n",
    "    df.drop(columns=column)\n"
   ]
  },
  {
   "cell_type": "code",
   "execution_count": 174,
   "metadata": {},
   "outputs": [
    {
     "output_type": "stream",
     "name": "stdout",
     "text": [
      "{nan, 'G1', 'GX', 'G4', 'G2', 'G3'}\n{'G1', 'GX', 'G4', 'G2', 'G3'}\nReplaced: 2900\n"
     ]
    }
   ],
   "source": [
    "column = 'GRADE'\n",
    "target ='GX'\n",
    "\n",
    "print(set(df[column]))\n",
    "replaced = df[column].isna().sum()\n",
    "df[column] = df[column].fillna(target)\n",
    "print(set(df[column]))\n",
    "print(f'Replaced: {replaced}')\n"
   ]
  },
  {
   "cell_type": "code",
   "execution_count": 175,
   "metadata": {},
   "outputs": [],
   "source": [
    "# convert surgery date to an offset from diagnosis date - floored / clipped at 0\n",
    "df['DAYS_TO_FIRST_SURGERY'] = (df['DATE_FIRST_SURGERY'] - df['DIAGNOSISDATEBEST']).dt.days.clip(0)\n",
    "\n",
    "column = 'DAYS_TO_FIRST_SURGERY'\n",
    "df[column] = mean_impute(df, column).astype(int)\n",
    "df = df.drop(columns='DATE_FIRST_SURGERY')\n"
   ]
  },
  {
   "cell_type": "code",
   "execution_count": 176,
   "metadata": {},
   "outputs": [
    {
     "output_type": "execute_result",
     "data": {
      "text/plain": [
       "9    29005\n",
       "R    25337\n",
       "L    23595\n",
       "M      918\n",
       "B      562\n",
       "Name: LATERALITY, dtype: int64"
      ]
     },
     "metadata": {},
     "execution_count": 176
    }
   ],
   "source": [
    "# 9 - not known\n",
    "df['LATERALITY'].value_counts(dropna=False)"
   ]
  },
  {
   "cell_type": "code",
   "execution_count": 177,
   "metadata": {},
   "outputs": [
    {
     "output_type": "execute_result",
     "data": {
      "text/plain": [
       "1    18484\n",
       "2    17629\n",
       "3    16483\n",
       "4    13607\n",
       "5    13214\n",
       "Name: QUINTILE_2015, dtype: int64"
      ]
     },
     "metadata": {},
     "execution_count": 177
    }
   ],
   "source": [
    "# 1 - least, 5 - most deprived\n",
    "df['QUINTILE_2015'] = df['QUINTILE_2015'].replace({'1 - least deprived' : 1, '5 - most deprived': 5}).astype(int)\n",
    "df['QUINTILE_2015'].value_counts(dropna=False)"
   ]
  },
  {
   "cell_type": "code",
   "execution_count": 178,
   "metadata": {},
   "outputs": [
    {
     "output_type": "execute_result",
     "data": {
      "text/plain": [
       "W    68250\n",
       "U     5701\n",
       "A     2491\n",
       "B     1302\n",
       "O     1027\n",
       "M      508\n",
       "C      138\n",
       "Name: ETHNICITY, dtype: int64"
      ]
     },
     "metadata": {},
     "execution_count": 178
    }
   ],
   "source": [
    "# low concentration of non-white people\n",
    "df['ETHNICITY'].value_counts(dropna=False)\n",
    "replace_dict = {'A' : 'W', 'B' : 'W', 'C' : 'W',\n",
    "                'D' : 'M', 'E' : 'M', 'F' : 'M', 'G' : 'M',\n",
    "                'H' : 'A', 'J' : 'A', 'K' : 'A', 'L' : 'A',\n",
    "                'M' : 'B', 'N' : 'B', 'P' : 'B',\n",
    "                'R' : 'C',\n",
    "                'S' : 'O',\n",
    "                'X' : 'U', 'Z' : 'U', '0' : 'U', '8' : 'U'}\n",
    "df['ETHNICITY'] = df['ETHNICITY'].replace(replace_dict)\n",
    "df['ETHNICITY'].value_counts(dropna=False)\n",
    "df['ETHNICITY'] = df['ETHNICITY'].fillna('U')\n",
    "df['ETHNICITY'].value_counts(dropna=False)\n",
    "\n"
   ]
  },
  {
   "cell_type": "code",
   "execution_count": 179,
   "metadata": {},
   "outputs": [
    {
     "output_type": "stream",
     "name": "stdout",
     "text": [
      "Cases with negative days since diagnosis 0\n"
     ]
    }
   ],
   "source": [
    "# Not clipped\n",
    "df['DAYS_SINCE_DIAGNOSIS'] = (df['NEWVITALSTATUSDATE'] - df['DIAGNOSISDATEBEST']).dt.days\n",
    "df = df.drop(columns = ['NEWVITALSTATUSDATE','VITALSTATUSDATE'])\n",
    "print('Cases with negative days since diagnosis', (df['DAYS_SINCE_DIAGNOSIS'] < 0).sum())"
   ]
  },
  {
   "cell_type": "code",
   "execution_count": 180,
   "metadata": {},
   "outputs": [],
   "source": [
    "df['SACT'] = df['SACT'].fillna(False)\n",
    "\n",
    "# Replace those places where there is no regimen info with SACT = False\n",
    "df.loc[df.REGIMEN_COUNT.isna() & \n",
    "        df.CLINICAL_TRIAL_INDICATOR.isna() & \n",
    "        df.CHEMO_RADIATION_INDICATOR.isna() & \n",
    "        df.CHEMO_RADIATION_INDICATOR.isna() & \n",
    "        df.NORMALISED_HEIGHT.isna() & \n",
    "        df.NORMALISED_WEIGHT.isna(), \n",
    "        'SACT'] = False\n",
    "\n",
    "# These are cases which appeared in SACT but do not have regimen info - should be empty\n",
    "assert(df[(df['SACT'] == True) & (df['REGIMEN_COUNT'].isna())].shape[0] == 0)"
   ]
  },
  {
   "cell_type": "code",
   "execution_count": 181,
   "metadata": {},
   "outputs": [
    {
     "output_type": "stream",
     "name": "stdout",
     "text": [
      "35918\n36548\n36566\n"
     ]
    }
   ],
   "source": [
    "print(df.REGIMEN_COUNT.isna().sum())\n",
    "print(df.NORMALISED_HEIGHT.isna().sum())\n",
    "print(df.NORMALISED_WEIGHT.isna().sum())\n",
    "# fill unavailable data with 0\n",
    "df.REGIMEN_COUNT = df.REGIMEN_COUNT.fillna(0)\n",
    "df.NORMALISED_HEIGHT = df.NORMALISED_HEIGHT.fillna(0)\n",
    "df.NORMALISED_WEIGHT = df.NORMALISED_WEIGHT.fillna(0)"
   ]
  },
  {
   "cell_type": "code",
   "execution_count": 182,
   "metadata": {},
   "outputs": [],
   "source": [
    "df['CLINICAL_TRIAL_INDICATOR'] = df['CLINICAL_TRIAL_INDICATOR'].fillna(False)\n",
    "df['CHEMO_RADIATION_INDICATOR'] = df['CHEMO_RADIATION_INDICATOR'].fillna(False)\n",
    "# df['CLINICAL_TRIAL_INDICATOR'].dtypes"
   ]
  },
  {
   "cell_type": "code",
   "execution_count": 187,
   "metadata": {},
   "outputs": [
    {
     "output_type": "stream",
     "name": "stdout",
     "text": [
      "79417\n"
     ]
    }
   ],
   "source": [
    "print(len(df))\n",
    "to_csv(df, './Data/bt-impute.csv', index=False)"
   ]
  },
  {
   "cell_type": "code",
   "execution_count": 184,
   "metadata": {},
   "outputs": [
    {
     "output_type": "stream",
     "name": "stdout",
     "text": [
      "Feature                        NaNs       Percentage of all\nTUMOURID                       0          0%\nPATIENTID                      0          0%\nDIAGNOSISDATEBEST              0          0%\nSITE_ICD10_O2_3CHAR            0          0%\nMORPH_ICD10_O2                 0          0%\nBEHAVIOUR_ICD10_O2             0          0%\nSTAGE_BEST                     0          0%\nGRADE                          0          0%\nAGE                            0          0%\nSEX                            0          0%\nCREG_CODE                      0          0%\nLINKNUMBER                     0          0%\nLATERALITY                     0          0%\nQUINTILE_2015                  0          0%\nTUMOUR_COUNT                   0          0%\nETHNICITY                      0          0%\nDEATHCAUSECODE_2               66980      84%\nNEWVITALSTATUS                 0          0%\nSACT                           0          0%\nDATE_DECISION_TO_TREAT         41142      52%\nSTART_DATE_OF_REGIMEN          35918      45%\nCLINICAL_TRIAL                 0          0%\nCHEMO_RADIATION                0          0%\nREGIMEN_COUNT                  0          0%\nCLINICAL_TRIAL_INDICATOR       0          0%\nCHEMO_RADIATION_INDICATOR      0          0%\nNORMALISED_HEIGHT              0          0%\nNORMALISED_WEIGHT              0          0%\nMERGED_CYCLE_ID                35922      45%\nCYCLE_NUMBER                   35922      45%\nSTART_DATE_OF_CYCLE            40136      51%\nDAYS_TO_FIRST_SURGERY          0          0%\nDAYS_SINCE_DIAGNOSIS           0          0%\n"
     ]
    }
   ],
   "source": [
    "print(\"Feature\".ljust(30), \"NaNs\".ljust(10), \"Percentage of all\")\n",
    "for k, v in df.isna().sum(axis = 0).items():\n",
    "    print(k.ljust(30), str(v).ljust(10), \"{:.0%}\".format(v/len(df)))"
   ]
  },
  {
   "cell_type": "code",
   "execution_count": 185,
   "metadata": {},
   "outputs": [
    {
     "output_type": "execute_result",
     "data": {
      "text/plain": [
       "TUMOURID                              int64\n",
       "PATIENTID                             int64\n",
       "DIAGNOSISDATEBEST            datetime64[ns]\n",
       "SITE_ICD10_O2_3CHAR                category\n",
       "MORPH_ICD10_O2                     category\n",
       "BEHAVIOUR_ICD10_O2                    int64\n",
       "STAGE_BEST                         category\n",
       "GRADE                              category\n",
       "AGE                                 float64\n",
       "SEX                                category\n",
       "CREG_CODE                          category\n",
       "LINKNUMBER                            int64\n",
       "LATERALITY                         category\n",
       "QUINTILE_2015                         int64\n",
       "TUMOUR_COUNT                          int64\n",
       "ETHNICITY                            object\n",
       "DEATHCAUSECODE_2                     object\n",
       "NEWVITALSTATUS                     category\n",
       "SACT                                boolean\n",
       "DATE_DECISION_TO_TREAT       datetime64[ns]\n",
       "START_DATE_OF_REGIMEN        datetime64[ns]\n",
       "CLINICAL_TRIAL                         bool\n",
       "CHEMO_RADIATION                        bool\n",
       "REGIMEN_COUNT                       float64\n",
       "CLINICAL_TRIAL_INDICATOR            boolean\n",
       "CHEMO_RADIATION_INDICATOR           boolean\n",
       "NORMALISED_HEIGHT                   float64\n",
       "NORMALISED_WEIGHT                   float64\n",
       "MERGED_CYCLE_ID                     float64\n",
       "CYCLE_NUMBER                        float64\n",
       "START_DATE_OF_CYCLE          datetime64[ns]\n",
       "DAYS_TO_FIRST_SURGERY                 int64\n",
       "DAYS_SINCE_DIAGNOSIS                  int64\n",
       "dtype: object"
      ]
     },
     "metadata": {},
     "execution_count": 185
    }
   ],
   "source": [
    "df.dtypes"
   ]
  },
  {
   "cell_type": "code",
   "execution_count": 186,
   "metadata": {},
   "outputs": [
    {
     "output_type": "execute_result",
     "data": {
      "text/plain": [
       " G4  36.0   2     L0301   \n",
       "34189         9440.0                   3          U    G4  36.0   2     L0301   \n",
       "34190         9440.0                   3          U    G4  36.0   2     L0301   \n",
       "34191         9440.0                   3          U    G4  36.0   2     L0301   \n",
       "34192         9440.0                   3          U    G4  36.0   2     L0301   \n",
       "34193         9440.0                   3          U    G4  36.0   2     L0301   \n",
       "34194         9440.0                   3          U    G4  36.0   2     L0301   \n",
       "34195         9440.0                   3          U    G4  36.0   2     L0301   \n",
       "34196         9440.0                   3          U    G4  36.0   2     L0301   \n",
       "34197         9440.0                   3          U    G4  36.0   2     L0301   \n",
       "34198         9440.0                   3          U    G4  36.0   2     L0301   \n",
       "34199         9440.0                   3          U    G4  36.0   2     L0301   \n",
       "34200         9440.0                   3          U    G4  36.0   2     L0301   \n",
       "34201         9440.0                   3          U    G4  36.0   2     L0301   \n",
       "34202         9440.0                   3          U    G4  36.0   2     L0301   \n",
       "34203         9440.0                   3          U    G4  36.0   2     L0301   \n",
       "34204         9440.0                   3          U    G4  36.0   2     L0301   \n",
       "34205         9440.0                   3          U    G4  36.0   2     L0301   \n",
       "34206         9440.0                   3          U    G4  36.0   2     L0301   \n",
       "34207         9440.0                   3          U    G4  36.0   2     L0301   \n",
       "34208         9440.0                   3          U    G4  36.0   2     L0301   \n",
       "34209         9440.0                   3          U    G4  36.0   2     L0301   \n",
       "34210         9440.0                   3          U    G4  36.0   2     L0301   \n",
       "\n",
       "       LINKNUMBER LATERALITY  QUINTILE_2015  TUMOUR_COUNT ETHNICITY  \\\n",
       "34170  1010009833          L              5             1         W   \n",
       "34171  1010009833          L              5             1         W   \n",
       "34172  1010009833          L              5             1         W   \n",
       "34173  1010009833          L              5             1         W   \n",
       "34174  1010009833          L              5             1         W   \n",
       "34175  1010009833          L              5             1         W   \n",
       "34176  1010009833          L              5             1         W   \n",
       "34177  1010009833          L              5             1         W   \n",
       "34178  1010009833          L              5             1         W   \n",
       "34179  1010009833          L              5             1         W   \n",
       "34180  1010009833          L              5             1         W   \n",
       "34181  1010009833          L              5             1         W   \n",
       "34182  1010009833          L              5             1         W   \n",
       "34183  1010009833          L              5             1         W   \n",
       "34184  1010009833          L              5             1         W   \n",
       "34185  1010009833          L              5             1         W   \n",
       "34186  1010009833          L              5             1         W   \n",
       "34187  1010009833          L              5             1         W   \n",
       "34188  1010009833          L              5             1         W   \n",
       "34189  1010009833          L              5             1         W   \n",
       "34190  1010009833          L              5             1         W   \n",
       "34191  1010009833          L              5             1         W   \n",
       "34192  1010009833          L              5             1         W   \n",
       "34193  1010009833          L              5             1         W   \n",
       "34194  1010009833          L              5             1         W   \n",
       "34195  1010009833          L              5             1         W   \n",
       "34196  1010009833          L              5             1         W   \n",
       "34197  1010009833          L              5             1         W   \n",
       "34198  1010009833          L              5             1         W   \n",
       "34199  1010009833          L              5             1         W   \n",
       "34200  1010009833          L              5             1         W   \n",
       "34201  1010009833          L              5             1         W   \n",
       "34202  1010009833          L              5             1         W   \n",
       "34203  1010009833          L              5             1         W   \n",
       "34204  1010009833          L              5             1         W   \n",
       "34205  1010009833          L              5             1         W   \n",
       "34206  1010009833          L              5             1         W   \n",
       "34207  1010009833          L              5             1         W   \n",
       "34208  1010009833          L              5             1         W   \n",
       "34209  1010009833          L              5             1         W   \n",
       "34210  1010009833          L              5             1         W   \n",
       "\n",
       "      DEATHCAUSECODE_2 NEWVITALSTATUS  SACT DATE_DECISION_TO_TREAT  \\\n",
       "34170              NaN              D  True                    NaT   \n",
       "34171              NaN              D  True             2015-11-19   \n",
       "34172              NaN              D  True             2015-06-12   \n",
       "34173              NaN              D  True             2015-06-12   \n",
       "34174              NaN              D  True             2015-06-12   \n",
       "34175              NaN              D  True             2015-06-12   \n",
       "34176              NaN              D  True             2015-06-12   \n",
       "34177              NaN              D  True             2015-06-12   \n",
       "34178              NaN              D  True             2015-06-12   \n",
       "34179              NaN              D  True                    NaT   \n",
       "34180              NaN              D  True                    NaT   \n",
       "34181              NaN              D  True             2016-01-25   \n",
       "34182              NaN              D  True             2016-02-25   \n",
       "34183              NaN              D  True             2014-12-01   \n",
       "34184              NaN              D  True             2016-06-04   \n",
       "34185              NaN              D  True             2016-09-06   \n",
       "34186              NaN              D  True             2016-02-03   \n",
       "34187              NaN              D  True             2016-02-03   \n",
       "34188              NaN              D  True             2016-12-01   \n",
       "34189              NaN              D  True             2016-12-01   \n",
       "34190              NaN              D  True             2016-12-01   \n",
       "34191              NaN              D  True             2016-12-01   \n",
       "34192              NaN              D  True             2016-10-23   \n",
       "34193              NaN              D  True             2014-02-14   \n",
       "34194              NaN              D  True             2016-07-25   \n",
       "34195              NaN              D  True             2016-05-06   \n",
       "34196              NaN              D  True             2016-05-06   \n",
       "34197              NaN              D  True             2016-05-06   \n",
       "34198              NaN              D  True             2016-11-18   \n",
       "34199              NaN              D  True             2016-12-30   \n",
       "34200              NaN              D  True             2016-09-01   \n",
       "34201              NaN              D  True             2016-09-01   \n",
       "34202              NaN              D  True             2016-09-01   \n",
       "34203              NaN              D  True             2015-09-24   \n",
       "34204              NaN              D  True             2015-09-24   \n",
       "34205              NaN              D  True             2015-09-24   \n",
       "34206              NaN              D  True             2013-08-12   \n",
       "34207              NaN              D  True             2013-08-12   \n",
       "34208              NaN              D  True             2013-08-12   \n",
       "34209              NaN              D  True             2013-08-12   \n",
       "34210              NaN              D  True             2013-08-12   \n",
       "\n",
       "      START_DATE_OF_REGIMEN  CLINICAL_TRIAL  CHEMO_RADIATION  REGIMEN_COUNT  \\\n",
       "34170            2015-11-19           False            False            3.0   \n",
       "34171            2015-11-20           False            False            4.0   \n",
       "34172            2016-01-29            True            False            5.0   \n",
       "34173            2016-01-29            True            False            5.0   \n",
       "34174            2016-01-29            True            False            5.0   \n",
       "34175            2016-01-29            True            False            5.0   \n",
       "34176            2016-01-29            True            False            5.0   \n",
       "34177            2016-01-29            True            False            5.0   \n",
       "34178            2016-01-29            True            False            5.0   \n",
       "34179            2016-02-01            True            False            6.0   \n",
       "34180            2016-02-01            True            False            6.0   \n",
       "34181            2016-03-28           False            False            7.0   \n",
       "34182            2016-04-25            True            False            8.0   \n",
       "34183            2016-06-29           False            False            9.0   \n",
       "34184            2016-08-01           False            False           10.0   \n",
       "34185            2016-09-06            True            False           12.0   \n",
       "34186            2016-10-12            True            False           14.0   \n",
       "34187            2016-10-12            True            False           14.0   \n",
       "34188            2016-12-04            True            False           15.0   \n",
       "34189            2016-12-04            True            False           15.0   \n",
       "34190            2016-12-04            True            False           15.0   \n",
       "34191            2016-12-04            True            False           15.0   \n",
       "34192            2016-12-16            True            False           17.0   \n",
       "34193            2016-12-16           False            False           16.0   \n",
       "34194            2016-10-10           False            False           13.0   \n",
       "34195            2016-12-16            True             True           18.0   \n",
       "34196            2016-12-16            True             True           18.0   \n",
       "34197            2016-12-16            True             True           18.0   \n",
       "34198            2016-12-16            True            False           19.0   \n",
       "34199            2017-01-06           False            False           20.0   \n",
       "34200            2016-09-01           False            False           11.0   \n",
       "34201            2016-09-01           False            False           11.0   \n",
       "34202            2016-09-01           False            False           11.0   \n",
       "34203            2015-10-21           False             True            2.0   \n",
       "34204            2015-10-21           False             True            2.0   \n",
       "34205            2015-10-21           False             True            2.0   \n",
       "34206            2013-08-15           False            False            1.0   \n",
       "34207            2013-08-15           False            False            1.0   \n",
       "34208            2013-08-15           False            False            1.0   \n",
       "34209            2013-08-15           False            False            1.0   \n",
       "34210            2013-08-15           False            False            1.0   \n",
       "\n",
       "       CLINICAL_TRIAL_INDICATOR  CHEMO_RADIATION_INDICATOR  NORMALISED_HEIGHT  \\\n",
       "34170                     False                       True              1.055   \n",
       "34171                     False                       True              1.055   \n",
       "34172                      True                       True              1.055   \n",
       "34173                      True                       True              1.055   \n",
       "34174                      True                       True              1.055   \n",
       "34175                      True                       True              1.055   \n",
       "34176                      True                       True              1.055   \n",
       "34177                      True                       True              1.055   \n",
       "34178                      True                       True              1.055   \n",
       "34179                      True                       True              1.055   \n",
       "34180                      True                       True              1.055   \n",
       "34181                      True                       True              1.055   \n",
       "34182                      True                       True              1.055   \n",
       "34183                      True                       True              1.055   \n",
       "34184                      True                       True              1.055   \n",
       "34185                      True                       True              1.055   \n",
       "34186                      True                       True              1.055   \n",
       "34187                      True                       True              1.055   \n",
       "34188                      True                       True              1.055   \n",
       "34189                      True                       True              1.055   \n",
       "34190                      True                       True              1.055   \n",
       "34191                      True                       True              1.055   \n",
       "34192                      True                       True              1.055   \n",
       "34193                      True                       True              1.055   \n",
       "34194                      True                       True              1.055   \n",
       "34195                      True                       True              1.055   \n",
       "34196                      True                       True              1.055   \n",
       "34197                      True                       True              1.055   \n",
       "34198                      True                       True              1.055   \n",
       "34199                      True                       True              1.055   \n",
       "34200                      True                       True              1.055   \n",
       "34201                      True                       True              1.055   \n",
       "34202                      True                       True              1.055   \n",
       "34203                     False                       True              1.055   \n",
       "34204                     False                       True              1.055   \n",
       "34205                     False                       True              1.055   \n",
       "34206                     False                      False              1.055   \n",
       "34207                     False                      False              1.055   \n",
       "34208                     False                      False              1.055   \n",
       "34209                     False                      False              1.055   \n",
       "34210                     False                      False              1.055   \n",
       "\n",
       "       NORMALISED_WEIGHT  MERGED_CYCLE_ID  CYCLE_NUMBER START_DATE_OF_CYCLE  \\\n",
       "34170               51.6      210016560.0           1.0          2015-11-19   \n",
       "34171               51.6      210024279.0           1.0          2016-05-07   \n",
       "34172               51.6      210029062.0           0.0          2016-01-29   \n",
       "34173               51.6      210051865.0           1.0          2016-07-23   \n",
       "34174               51.6      210065666.0           0.0          2016-07-30   \n",
       "34175               51.6      210075277.0           4.0                 NaT   \n",
       "34176               51.6      210081920.0           4.0                 NaT   \n",
       "34177               51.6      210086200.0          18.0                 NaT   \n",
       "34178               51.6      210088839.0           9.0                 NaT   \n",
       "34179               51.6      210032107.0           1.0          2016-02-01   \n",
       "34180               51.6      210053538.0           1.0          2016-03-07   \n",
       "34181               51.6      210034078.0           1.0          2016-07-19   \n",
       "34182               51.6      210035437.0           1.0          2016-04-25   \n",
       "34183               51.6      210036402.0           1.0          2016-06-29   \n",
       "34184               51.6      210037092.0           1.0          2016-08-01   \n",
       "34185               51.6      210037599.0           4.0          2016-11-30   \n",
       "34186               51.6      210037963.0           1.0          2016-10-12   \n",
       "34187               51.6      210056347.0           2.0          2016-10-26   \n",
       "34188               51.6      210038227.0           4.0          2016-12-04   \n",
       "34189               51.6      210056479.0           2.0          2017-01-03   \n",
       "34190               51.6      210068952.0          10.0          2017-01-24   \n",
       "34191               51.6      210077630.0           4.0          2017-02-28   \n",
       "34192               51.6      210038428.0           1.0          2016-12-16   \n",
       "34193               51.6      210038583.0           6.0          2017-04-25   \n",
       "34194               51.6      210016561.0           2.0          2016-10-10   \n",
       "34195               51.6      210038693.0           5.0          2017-06-13   \n",
       "34196               51.6      210056720.0           1.0          2017-07-11   \n",
       "34197               51.6      210069109.0           3.0          2017-07-25   \n",
       "34198               51.6      210038769.0           1.0          2016-12-16   \n",
       "34199               51.6      210038831.0           1.0          2017-01-06   \n",
       "34200               51.6      210038874.0           1.0          2016-09-01   \n",
       "34201               51.6      210056805.0           1.0          2016-10-27   \n",
       "34202               51.6      210069164.0           3.0          2016-11-10   \n",
       "34203               51.6      210003193.0           1.0          2015-10-21   \n",
       "34204               51.6      210040807.0           3.0          2015-11-18   \n",
       "34205               51.6      210058264.0           4.0          2015-12-17   \n",
       "34206               51.6      210003194.0           1.0          2013-08-15   \n",
       "34207               51.6      210040808.0           2.0                 NaT   \n",
       "34208               51.6      210058265.0           4.0                 NaT   \n",
       "34209               51.6      210070295.0           5.0                 NaT   \n",
       "34210               51.6      210078576.0           6.0                 NaT   \n",
       "\n",
       "       DAYS_TO_FIRST_SURGERY  DAYS_SINCE_DIAGNOSIS  \n",
       "34170                      0                    78  \n",
       "34171                      0                   248  \n",
       "34172                      0                   149  \n",
       "34173                      0                   325  \n",
       "34174                      0                   332  \n",
       "34175                      0                   149  \n",
       "34176                      0                   149  \n",
       "34177                      0                   149  \n",
       "34178                      0                   149  \n",
       "34179                      0                   152  \n",
       "34180                      0                   187  \n",
       "34181                      0                   321  \n",
       "34182                      0                   236  \n",
       "34183                      0                   301  \n",
       "34184                      0                   334  \n",
       "34185                      0                   455  \n",
       "34186                      0                   406  \n",
       "34187                      0                   420  \n",
       "34188                      0                   459  \n",
       "34189                      0                   489  \n",
       "34190                      0                   510  \n",
       "34191                      0                   545  \n",
       "34192                      0                   471  \n",
       "34193                      0                   601  \n",
       "34194                      0                   404  \n",
       "34195                      0                   650  \n",
       "34196                      0                   678  \n",
       "34197                      0                   692  \n",
       "34198                      0                   471  \n",
       "34199                      0                   492  \n",
       "34200                      0                   365  \n",
       "34201                      0                   421  \n",
       "34202                      0                   435  \n",
       "34203                      0                    49  \n",
       "34204                      0                    77  \n",
       "34205                      0                   106  \n",
       "34206                      0                     3  \n",
       "34207                      0                     3  \n",
       "34208                      0                     3  \n",
       "34209                      0                     3  \n",
       "34210                      0                     3  "
      ],
      "text/html": "<div>\n<style scoped>\n    .dataframe tbody tr th:only-of-type {\n        vertical-align: middle;\n    }\n\n    .dataframe tbody tr th {\n        vertical-align: top;\n    }\n\n    .dataframe thead th {\n        text-align: right;\n    }\n</style>\n<table border=\"1\" class=\"dataframe\">\n  <thead>\n    <tr style=\"text-align: right;\">\n      <th></th>\n      <th>TUMOURID</th>\n      <th>PATIENTID</th>\n      <th>DIAGNOSISDATEBEST</th>\n      <th>SITE_ICD10_O2_3CHAR</th>\n      <th>MORPH_ICD10_O2</th>\n      <th>BEHAVIOUR_ICD10_O2</th>\n      <th>STAGE_BEST</th>\n      <th>GRADE</th>\n      <th>AGE</th>\n      <th>SEX</th>\n      <th>CREG_CODE</th>\n      <th>LINKNUMBER</th>\n      <th>LATERALITY</th>\n      <th>QUINTILE_2015</th>\n      <th>TUMOUR_COUNT</th>\n      <th>ETHNICITY</th>\n      <th>DEATHCAUSECODE_2</th>\n      <th>NEWVITALSTATUS</th>\n      <th>SACT</th>\n      <th>DATE_DECISION_TO_TREAT</th>\n      <th>START_DATE_OF_REGIMEN</th>\n      <th>CLINICAL_TRIAL</th>\n      <th>CHEMO_RADIATION</th>\n      <th>REGIMEN_COUNT</th>\n      <th>CLINICAL_TRIAL_INDICATOR</th>\n      <th>CHEMO_RADIATION_INDICATOR</th>\n      <th>NORMALISED_HEIGHT</th>\n      <th>NORMALISED_WEIGHT</th>\n      <th>MERGED_CYCLE_ID</th>\n      <th>CYCLE_NUMBER</th>\n      <th>START_DATE_OF_CYCLE</th>\n      <th>DAYS_TO_FIRST_SURGERY</th>\n      <th>DAYS_SINCE_DIAGNOSIS</th>\n    </tr>\n  </thead>\n  <tbody>\n    <tr>\n      <th>34170</th>\n      <td>210009833</td>\n      <td>210009833</td>\n      <td>2015-09-02</td>\n      <td>C71</td>\n      <td>9440.0</td>\n      <td>3</td>\n      <td>U</td>\n      <td>G4</td>\n      <td>36.0</td>\n      <td>2</td>\n      <td>L0301</td>\n      <td>1010009833</td>\n      <td>L</td>\n      <td>5</td>\n      <td>1</td>\n      <td>W</td>\n      <td>NaN</td>\n      <td>D</td>\n      <td>True</td>\n      <td>NaT</td>\n      <td>2015-11-19</td>\n      <td>False</td>\n      <td>False</td>\n      <td>3.0</td>\n      <td>False</td>\n      <td>True</td>\n      <td>1.055</td>\n      <td>51.6</td>\n      <td>210016560.0</td>\n      <td>1.0</td>\n      <td>2015-11-19</td>\n      <td>0</td>\n      <td>78</td>\n    </tr>\n    <tr>\n      <th>34171</th>\n      <td>210009833</td>\n      <td>210009833</td>\n      <td>2015-09-02</td>\n      <td>C71</td>\n      <td>9440.0</td>\n      <td>3</td>\n      <td>U</td>\n      <td>G4</td>\n      <td>36.0</td>\n      <td>2</td>\n      <td>L0301</td>\n      <td>1010009833</td>\n      <td>L</td>\n      <td>5</td>\n      <td>1</td>\n      <td>W</td>\n      <td>NaN</td>\n      <td>D</td>\n      <td>True</td>\n      <td>2015-11-19</td>\n      <td>2015-11-20</td>\n      <td>False</td>\n      <td>False</td>\n      <td>4.0</td>\n      <td>False</td>\n      <td>True</td>\n      <td>1.055</td>\n      <td>51.6</td>\n      <td>210024279.0</td>\n      <td>1.0</td>\n      <td>2016-05-07</td>\n      <td>0</td>\n      <td>248</td>\n    </tr>\n    <tr>\n      <th>34172</th>\n      <td>210009833</td>\n      <td>210009833</td>\n      <td>2015-09-02</td>\n      <td>C71</td>\n      <td>9440.0</td>\n      <td>3</td>\n      <td>U</td>\n      <td>G4</td>\n      <td>36.0</td>\n      <td>2</td>\n      <td>L0301</td>\n      <td>1010009833</td>\n      <td>L</td>\n      <td>5</td>\n      <td>1</td>\n      <td>W</td>\n      <td>NaN</td>\n      <td>D</td>\n      <td>True</td>\n      <td>2015-06-12</td>\n      <td>2016-01-29</td>\n      <td>True</td>\n      <td>False</td>\n      <td>5.0</td>\n      <td>True</td>\n      <td>True</td>\n      <td>1.055</td>\n      <td>51.6</td>\n      <td>210029062.0</td>\n      <td>0.0</td>\n      <td>2016-01-29</td>\n      <td>0</td>\n      <td>149</td>\n    </tr>\n    <tr>\n      <th>34173</th>\n      <td>210009833</td>\n      <td>210009833</td>\n      <td>2015-09-02</td>\n      <td>C71</td>\n      <td>9440.0</td>\n      <td>3</td>\n      <td>U</td>\n      <td>G4</td>\n      <td>36.0</td>\n      <td>2</td>\n      <td>L0301</td>\n      <td>1010009833</td>\n      <td>L</td>\n      <td>5</td>\n      <td>1</td>\n      <td>W</td>\n      <td>NaN</td>\n      <td>D</td>\n      <td>True</td>\n      <td>2015-06-12</td>\n      <td>2016-01-29</td>\n      <td>True</td>\n      <td>False</td>\n      <td>5.0</td>\n      <td>True</td>\n      <td>True</td>\n      <td>1.055</td>\n      <td>51.6</td>\n      <td>210051865.0</td>\n      <td>1.0</td>\n      <td>2016-07-23</td>\n      <td>0</td>\n      <td>325</td>\n    </tr>\n    <tr>\n      <th>34174</th>\n      <td>210009833</td>\n      <td>210009833</td>\n      <td>2015-09-02</td>\n      <td>C71</td>\n      <td>9440.0</td>\n      <td>3</td>\n      <td>U</td>\n      <td>G4</td>\n      <td>36.0</td>\n      <td>2</td>\n      <td>L0301</td>\n      <td>1010009833</td>\n      <td>L</td>\n      <td>5</td>\n      <td>1</td>\n      <td>W</td>\n      <td>NaN</td>\n      <td>D</td>\n      <td>True</td>\n      <td>2015-06-12</td>\n      <td>2016-01-29</td>\n      <td>True</td>\n      <td>False</td>\n      <td>5.0</td>\n      <td>True</td>\n      <td>True</td>\n      <td>1.055</td>\n      <td>51.6</td>\n      <td>210065666.0</td>\n      <td>0.0</td>\n      <td>2016-07-30</td>\n      <td>0</td>\n      <td>332</td>\n    </tr>\n    <tr>\n      <th>34175</th>\n      <td>210009833</td>\n      <td>210009833</td>\n      <td>2015-09-02</td>\n      <td>C71</td>\n      <td>9440.0</td>\n      <td>3</td>\n      <td>U</td>\n      <td>G4</td>\n      <td>36.0</td>\n      <td>2</td>\n      <td>L0301</td>\n      <td>1010009833</td>\n      <td>L</td>\n      <td>5</td>\n      <td>1</td>\n      <td>W</td>\n      <td>NaN</td>\n      <td>D</td>\n      <td>True</td>\n      <td>2015-06-12</td>\n      <td>2016-01-29</td>\n      <td>True</td>\n      <td>False</td>\n      <td>5.0</td>\n      <td>True</td>\n      <td>True</td>\n      <td>1.055</td>\n      <td>51.6</td>\n      <td>210075277.0</td>\n      <td>4.0</td>\n      <td>NaT</td>\n      <td>0</td>\n      <td>149</td>\n    </tr>\n    <tr>\n      <th>34176</th>\n      <td>210009833</td>\n      <td>210009833</td>\n      <td>2015-09-02</td>\n      <td>C71</td>\n      <td>9440.0</td>\n      <td>3</td>\n      <td>U</td>\n      <td>G4</td>\n      <td>36.0</td>\n      <td>2</td>\n      <td>L0301</td>\n      <td>1010009833</td>\n      <td>L</td>\n      <td>5</td>\n      <td>1</td>\n      <td>W</td>\n      <td>NaN</td>\n      <td>D</td>\n      <td>True</td>\n      <td>2015-06-12</td>\n      <td>2016-01-29</td>\n      <td>True</td>\n      <td>False</td>\n      <td>5.0</td>\n      <td>True</td>\n      <td>True</td>\n      <td>1.055</td>\n      <td>51.6</td>\n      <td>210081920.0</td>\n      <td>4.0</td>\n      <td>NaT</td>\n      <td>0</td>\n      <td>149</td>\n    </tr>\n    <tr>\n      <th>34177</th>\n      <td>210009833</td>\n      <td>210009833</td>\n      <td>2015-09-02</td>\n      <td>C71</td>\n      <td>9440.0</td>\n      <td>3</td>\n      <td>U</td>\n      <td>G4</td>\n      <td>36.0</td>\n      <td>2</td>\n      <td>L0301</td>\n      <td>1010009833</td>\n      <td>L</td>\n      <td>5</td>\n      <td>1</td>\n      <td>W</td>\n      <td>NaN</td>\n      <td>D</td>\n      <td>True</td>\n      <td>2015-06-12</td>\n      <td>2016-01-29</td>\n      <td>True</td>\n      <td>False</td>\n      <td>5.0</td>\n      <td>True</td>\n      <td>True</td>\n      <td>1.055</td>\n      <td>51.6</td>\n      <td>210086200.0</td>\n      <td>18.0</td>\n      <td>NaT</td>\n      <td>0</td>\n      <td>149</td>\n    </tr>\n    <tr>\n      <th>34178</th>\n      <td>210009833</td>\n      <td>210009833</td>\n      <td>2015-09-02</td>\n      <td>C71</td>\n      <td>9440.0</td>\n      <td>3</td>\n      <td>U</td>\n      <td>G4</td>\n      <td>36.0</td>\n      <td>2</td>\n      <td>L0301</td>\n      <td>1010009833</td>\n      <td>L</td>\n      <td>5</td>\n      <td>1</td>\n      <td>W</td>\n      <td>NaN</td>\n      <td>D</td>\n      <td>True</td>\n      <td>2015-06-12</td>\n      <td>2016-01-29</td>\n      <td>True</td>\n      <td>False</td>\n      <td>5.0</td>\n      <td>True</td>\n      <td>True</td>\n      <td>1.055</td>\n      <td>51.6</td>\n      <td>210088839.0</td>\n      <td>9.0</td>\n      <td>NaT</td>\n      <td>0</td>\n      <td>149</td>\n    </tr>\n    <tr>\n      <th>34179</th>\n      <td>210009833</td>\n      <td>210009833</td>\n      <td>2015-09-02</td>\n      <td>C71</td>\n      <td>9440.0</td>\n      <td>3</td>\n      <td>U</td>\n      <td>G4</td>\n      <td>36.0</td>\n      <td>2</td>\n      <td>L0301</td>\n      <td>1010009833</td>\n      <td>L</td>\n      <td>5</td>\n      <td>1</td>\n      <td>W</td>\n      <td>NaN</td>\n      <td>D</td>\n      <td>True</td>\n      <td>NaT</td>\n      <td>2016-02-01</td>\n      <td>True</td>\n      <td>False</td>\n      <td>6.0</td>\n      <td>True</td>\n      <td>True</td>\n      <td>1.055</td>\n      <td>51.6</td>\n      <td>210032107.0</td>\n      <td>1.0</td>\n      <td>2016-02-01</td>\n      <td>0</td>\n      <td>152</td>\n    </tr>\n    <tr>\n      <th>34180</th>\n      <td>210009833</td>\n      <td>210009833</td>\n      <td>2015-09-02</td>\n      <td>C71</td>\n      <td>9440.0</td>\n      <td>3</td>\n      <td>U</td>\n      <td>G4</td>\n      <td>36.0</td>\n      <td>2</td>\n      <td>L0301</td>\n      <td>1010009833</td>\n      <td>L</td>\n      <td>5</td>\n      <td>1</td>\n      <td>W</td>\n      <td>NaN</td>\n      <td>D</td>\n      <td>True</td>\n      <td>NaT</td>\n      <td>2016-02-01</td>\n      <td>True</td>\n      <td>False</td>\n      <td>6.0</td>\n      <td>True</td>\n      <td>True</td>\n      <td>1.055</td>\n      <td>51.6</td>\n      <td>210053538.0</td>\n      <td>1.0</td>\n      <td>2016-03-07</td>\n      <td>0</td>\n      <td>187</td>\n    </tr>\n    <tr>\n      <th>34181</th>\n      <td>210009833</td>\n      <td>210009833</td>\n      <td>2015-09-02</td>\n      <td>C71</td>\n      <td>9440.0</td>\n      <td>3</td>\n      <td>U</td>\n      <td>G4</td>\n      <td>36.0</td>\n      <td>2</td>\n      <td>L0301</td>\n      <td>1010009833</td>\n      <td>L</td>\n      <td>5</td>\n      <td>1</td>\n      <td>W</td>\n      <td>NaN</td>\n      <td>D</td>\n      <td>True</td>\n      <td>2016-01-25</td>\n      <td>2016-03-28</td>\n      <td>False</td>\n      <td>False</td>\n      <td>7.0</td>\n      <td>True</td>\n      <td>True</td>\n      <td>1.055</td>\n      <td>51.6</td>\n      <td>210034078.0</td>\n      <td>1.0</td>\n      <td>2016-07-19</td>\n      <td>0</td>\n      <td>321</td>\n    </tr>\n    <tr>\n      <th>34182</th>\n      <td>210009833</td>\n      <td>210009833</td>\n      <td>2015-09-02</td>\n      <td>C71</td>\n      <td>9440.0</td>\n      <td>3</td>\n      <td>U</td>\n      <td>G4</td>\n      <td>36.0</td>\n      <td>2</td>\n      <td>L0301</td>\n      <td>1010009833</td>\n      <td>L</td>\n      <td>5</td>\n      <td>1</td>\n      <td>W</td>\n      <td>NaN</td>\n      <td>D</td>\n      <td>True</td>\n      <td>2016-02-25</td>\n      <td>2016-04-25</td>\n      <td>True</td>\n      <td>False</td>\n      <td>8.0</td>\n      <td>True</td>\n      <td>True</td>\n      <td>1.055</td>\n      <td>51.6</td>\n      <td>210035437.0</td>\n      <td>1.0</td>\n      <td>2016-04-25</td>\n      <td>0</td>\n      <td>236</td>\n    </tr>\n    <tr>\n      <th>34183</th>\n      <td>210009833</td>\n      <td>210009833</td>\n      <td>2015-09-02</td>\n      <td>C71</td>\n      <td>9440.0</td>\n      <td>3</td>\n      <td>U</td>\n      <td>G4</td>\n      <td>36.0</td>\n      <td>2</td>\n      <td>L0301</td>\n      <td>1010009833</td>\n      <td>L</td>\n      <td>5</td>\n      <td>1</td>\n      <td>W</td>\n      <td>NaN</td>\n      <td>D</td>\n      <td>True</td>\n      <td>2014-12-01</td>\n      <td>2016-06-29</td>\n      <td>False</td>\n      <td>False</td>\n      <td>9.0</td>\n      <td>True</td>\n      <td>True</td>\n      <td>1.055</td>\n      <td>51.6</td>\n      <td>210036402.0</td>\n      <td>1.0</td>\n      <td>2016-06-29</td>\n      <td>0</td>\n      <td>301</td>\n    </tr>\n    <tr>\n      <th>34184</th>\n      <td>210009833</td>\n      <td>210009833</td>\n      <td>2015-09-02</td>\n      <td>C71</td>\n      <td>9440.0</td>\n      <td>3</td>\n      <td>U</td>\n      <td>G4</td>\n      <td>36.0</td>\n      <td>2</td>\n      <td>L0301</td>\n      <td>1010009833</td>\n      <td>L</td>\n      <td>5</td>\n      <td>1</td>\n      <td>W</td>\n      <td>NaN</td>\n      <td>D</td>\n      <td>True</td>\n      <td>2016-06-04</td>\n      <td>2016-08-01</td>\n      <td>False</td>\n      <td>False</td>\n      <td>10.0</td>\n      <td>True</td>\n      <td>True</td>\n      <td>1.055</td>\n      <td>51.6</td>\n      <td>210037092.0</td>\n      <td>1.0</td>\n      <td>2016-08-01</td>\n      <td>0</td>\n      <td>334</td>\n    </tr>\n    <tr>\n      <th>34185</th>\n      <td>210009833</td>\n      <td>210009833</td>\n      <td>2015-09-02</td>\n      <td>C71</td>\n      <td>9440.0</td>\n      <td>3</td>\n      <td>U</td>\n      <td>G4</td>\n      <td>36.0</td>\n      <td>2</td>\n      <td>L0301</td>\n      <td>1010009833</td>\n      <td>L</td>\n      <td>5</td>\n      <td>1</td>\n      <td>W</td>\n      <td>NaN</td>\n      <td>D</td>\n      <td>True</td>\n      <td>2016-09-06</td>\n      <td>2016-09-06</td>\n      <td>True</td>\n      <td>False</td>\n      <td>12.0</td>\n      <td>True</td>\n      <td>True</td>\n      <td>1.055</td>\n      <td>51.6</td>\n      <td>210037599.0</td>\n      <td>4.0</td>\n      <td>2016-11-30</td>\n      <td>0</td>\n      <td>455</td>\n    </tr>\n    <tr>\n      <th>34186</th>\n      <td>210009833</td>\n      <td>210009833</td>\n      <td>2015-09-02</td>\n      <td>C71</td>\n      <td>9440.0</td>\n      <td>3</td>\n      <td>U</td>\n      <td>G4</td>\n      <td>36.0</td>\n      <td>2</td>\n      <td>L0301</td>\n      <td>1010009833</td>\n      <td>L</td>\n      <td>5</td>\n      <td>1</td>\n      <td>W</td>\n      <td>NaN</td>\n      <td>D</td>\n      <td>True</td>\n      <td>2016-02-03</td>\n      <td>2016-10-12</td>\n      <td>True</td>\n      <td>False</td>\n      <td>14.0</td>\n      <td>True</td>\n      <td>True</td>\n      <td>1.055</td>\n      <td>51.6</td>\n      <td>210037963.0</td>\n      <td>1.0</td>\n      <td>2016-10-12</td>\n      <td>0</td>\n      <td>406</td>\n    </tr>\n    <tr>\n      <th>34187</th>\n      <td>210009833</td>\n      <td>210009833</td>\n      <td>2015-09-02</td>\n      <td>C71</td>\n      <td>9440.0</td>\n      <td>3</td>\n      <td>U</td>\n      <td>G4</td>\n      <td>36.0</td>\n      <td>2</td>\n      <td>L0301</td>\n      <td>1010009833</td>\n      <td>L</td>\n      <td>5</td>\n      <td>1</td>\n      <td>W</td>\n      <td>NaN</td>\n      <td>D</td>\n      <td>True</td>\n      <td>2016-02-03</td>\n      <td>2016-10-12</td>\n      <td>True</td>\n      <td>False</td>\n      <td>14.0</td>\n      <td>True</td>\n      <td>True</td>\n      <td>1.055</td>\n      <td>51.6</td>\n      <td>210056347.0</td>\n      <td>2.0</td>\n      <td>2016-10-26</td>\n      <td>0</td>\n      <td>420</td>\n    </tr>\n    <tr>\n      <th>34188</th>\n      <td>210009833</td>\n      <td>210009833</td>\n      <td>2015-09-02</td>\n      <td>C71</td>\n      <td>9440.0</td>\n      <td>3</td>\n      <td>U</td>\n      <td>G4</td>\n      <td>36.0</td>\n      <td>2</td>\n      <td>L0301</td>\n      <td>1010009833</td>\n      <td>L</td>\n      <td>5</td>\n      <td>1</td>\n      <td>W</td>\n      <td>NaN</td>\n      <td>D</td>\n      <td>True</td>\n      <td>2016-12-01</td>\n      <td>2016-12-04</td>\n      <td>True</td>\n      <td>False</td>\n      <td>15.0</td>\n      <td>True</td>\n      <td>True</td>\n      <td>1.055</td>\n      <td>51.6</td>\n      <td>210038227.0</td>\n      <td>4.0</td>\n      <td>2016-12-04</td>\n      <td>0</td>\n      <td>459</td>\n    </tr>\n    <tr>\n      <th>34189</th>\n      <td>210009833</td>\n      <td>210009833</td>\n      <td>2015-09-02</td>\n      <td>C71</td>\n      <td>9440.0</td>\n      <td>3</td>\n      <td>U</td>\n      <td>G4</td>\n      <td>36.0</td>\n      <td>2</td>\n      <td>L0301</td>\n      <td>1010009833</td>\n      <td>L</td>\n      <td>5</td>\n      <td>1</td>\n      <td>W</td>\n      <td>NaN</td>\n      <td>D</td>\n      <td>True</td>\n      <td>2016-12-01</td>\n      <td>2016-12-04</td>\n      <td>True</td>\n      <td>False</td>\n      <td>15.0</td>\n      <td>True</td>\n      <td>True</td>\n      <td>1.055</td>\n      <td>51.6</td>\n      <td>210056479.0</td>\n      <td>2.0</td>\n      <td>2017-01-03</td>\n      <td>0</td>\n      <td>489</td>\n    </tr>\n    <tr>\n      <th>34190</th>\n      <td>210009833</td>\n      <td>210009833</td>\n      <td>2015-09-02</td>\n      <td>C71</td>\n      <td>9440.0</td>\n      <td>3</td>\n      <td>U</td>\n      <td>G4</td>\n      <td>36.0</td>\n      <td>2</td>\n      <td>L0301</td>\n      <td>1010009833</td>\n      <td>L</td>\n      <td>5</td>\n      <td>1</td>\n      <td>W</td>\n      <td>NaN</td>\n      <td>D</td>\n      <td>True</td>\n      <td>2016-12-01</td>\n      <td>2016-12-04</td>\n      <td>True</td>\n      <td>False</td>\n      <td>15.0</td>\n      <td>True</td>\n      <td>True</td>\n      <td>1.055</td>\n      <td>51.6</td>\n      <td>210068952.0</td>\n      <td>10.0</td>\n      <td>2017-01-24</td>\n      <td>0</td>\n      <td>510</td>\n    </tr>\n    <tr>\n      <th>34191</th>\n      <td>210009833</td>\n      <td>210009833</td>\n      <td>2015-09-02</td>\n      <td>C71</td>\n      <td>9440.0</td>\n      <td>3</td>\n      <td>U</td>\n      <td>G4</td>\n      <td>36.0</td>\n      <td>2</td>\n      <td>L0301</td>\n      <td>1010009833</td>\n      <td>L</td>\n      <td>5</td>\n      <td>1</td>\n      <td>W</td>\n      <td>NaN</td>\n      <td>D</td>\n      <td>True</td>\n      <td>2016-12-01</td>\n      <td>2016-12-04</td>\n      <td>True</td>\n      <td>False</td>\n      <td>15.0</td>\n      <td>True</td>\n      <td>True</td>\n      <td>1.055</td>\n      <td>51.6</td>\n      <td>210077630.0</td>\n      <td>4.0</td>\n      <td>2017-02-28</td>\n      <td>0</td>\n      <td>545</td>\n    </tr>\n    <tr>\n      <th>34192</th>\n      <td>210009833</td>\n      <td>210009833</td>\n      <td>2015-09-02</td>\n      <td>C71</td>\n      <td>9440.0</td>\n      <td>3</td>\n      <td>U</td>\n      <td>G4</td>\n      <td>36.0</td>\n      <td>2</td>\n      <td>L0301</td>\n      <td>1010009833</td>\n      <td>L</td>\n      <td>5</td>\n      <td>1</td>\n      <td>W</td>\n      <td>NaN</td>\n      <td>D</td>\n      <td>True</td>\n      <td>2016-10-23</td>\n      <td>2016-12-16</td>\n      <td>True</td>\n      <td>False</td>\n      <td>17.0</td>\n      <td>True</td>\n      <td>True</td>\n      <td>1.055</td>\n      <td>51.6</td>\n      <td>210038428.0</td>\n      <td>1.0</td>\n      <td>2016-12-16</td>\n      <td>0</td>\n      <td>471</td>\n    </tr>\n    <tr>\n      <th>34193</th>\n      <td>210009833</td>\n      <td>210009833</td>\n      <td>2015-09-02</td>\n      <td>C71</td>\n      <td>9440.0</td>\n      <td>3</td>\n      <td>U</td>\n      <td>G4</td>\n      <td>36.0</td>\n      <td>2</td>\n      <td>L0301</td>\n      <td>1010009833</td>\n      <td>L</td>\n      <td>5</td>\n      <td>1</td>\n      <td>W</td>\n      <td>NaN</td>\n      <td>D</td>\n      <td>True</td>\n      <td>2014-02-14</td>\n      <td>2016-12-16</td>\n      <td>False</td>\n      <td>False</td>\n      <td>16.0</td>\n      <td>True</td>\n      <td>True</td>\n      <td>1.055</td>\n      <td>51.6</td>\n      <td>210038583.0</td>\n      <td>6.0</td>\n      <td>2017-04-25</td>\n      <td>0</td>\n      <td>601</td>\n    </tr>\n    <tr>\n      <th>34194</th>\n      <td>210009833</td>\n      <td>210009833</td>\n      <td>2015-09-02</td>\n      <td>C71</td>\n      <td>9440.0</td>\n      <td>3</td>\n      <td>U</td>\n      <td>G4</td>\n      <td>36.0</td>\n      <td>2</td>\n      <td>L0301</td>\n      <td>1010009833</td>\n      <td>L</td>\n      <td>5</td>\n      <td>1</td>\n      <td>W</td>\n      <td>NaN</td>\n      <td>D</td>\n      <td>True</td>\n      <td>2016-07-25</td>\n      <td>2016-10-10</td>\n      <td>False</td>\n      <td>False</td>\n      <td>13.0</td>\n      <td>True</td>\n      <td>True</td>\n      <td>1.055</td>\n      <td>51.6</td>\n      <td>210016561.0</td>\n      <td>2.0</td>\n      <td>2016-10-10</td>\n      <td>0</td>\n      <td>404</td>\n    </tr>\n    <tr>\n      <th>34195</th>\n      <td>210009833</td>\n      <td>210009833</td>\n      <td>2015-09-02</td>\n      <td>C71</td>\n      <td>9440.0</td>\n      <td>3</td>\n      <td>U</td>\n      <td>G4</td>\n      <td>36.0</td>\n      <td>2</td>\n      <td>L0301</td>\n      <td>1010009833</td>\n      <td>L</td>\n      <td>5</td>\n      <td>1</td>\n      <td>W</td>\n      <td>NaN</td>\n      <td>D</td>\n      <td>True</td>\n      <td>2016-05-06</td>\n      <td>2016-12-16</td>\n      <td>True</td>\n      <td>True</td>\n      <td>18.0</td>\n      <td>True</td>\n      <td>True</td>\n      <td>1.055</td>\n      <td>51.6</td>\n      <td>210038693.0</td>\n      <td>5.0</td>\n      <td>2017-06-13</td>\n      <td>0</td>\n      <td>650</td>\n    </tr>\n    <tr>\n      <th>34196</th>\n      <td>210009833</td>\n      <td>210009833</td>\n      <td>2015-09-02</td>\n      <td>C71</td>\n      <td>9440.0</td>\n      <td>3</td>\n      <td>U</td>\n      <td>G4</td>\n      <td>36.0</td>\n      <td>2</td>\n      <td>L0301</td>\n      <td>1010009833</td>\n      <td>L</td>\n      <td>5</td>\n      <td>1</td>\n      <td>W</td>\n      <td>NaN</td>\n      <td>D</td>\n      <td>True</td>\n      <td>2016-05-06</td>\n      <td>2016-12-16</td>\n      <td>True</td>\n      <td>True</td>\n      <td>18.0</td>\n      <td>True</td>\n      <td>True</td>\n      <td>1.055</td>\n      <td>51.6</td>\n      <td>210056720.0</td>\n      <td>1.0</td>\n      <td>2017-07-11</td>\n      <td>0</td>\n      <td>678</td>\n    </tr>\n    <tr>\n      <th>34197</th>\n      <td>210009833</td>\n      <td>210009833</td>\n      <td>2015-09-02</td>\n      <td>C71</td>\n      <td>9440.0</td>\n      <td>3</td>\n      <td>U</td>\n      <td>G4</td>\n      <td>36.0</td>\n      <td>2</td>\n      <td>L0301</td>\n      <td>1010009833</td>\n      <td>L</td>\n      <td>5</td>\n      <td>1</td>\n      <td>W</td>\n      <td>NaN</td>\n      <td>D</td>\n      <td>True</td>\n      <td>2016-05-06</td>\n      <td>2016-12-16</td>\n      <td>True</td>\n      <td>True</td>\n      <td>18.0</td>\n      <td>True</td>\n      <td>True</td>\n      <td>1.055</td>\n      <td>51.6</td>\n      <td>210069109.0</td>\n      <td>3.0</td>\n      <td>2017-07-25</td>\n      <td>0</td>\n      <td>692</td>\n    </tr>\n    <tr>\n      <th>34198</th>\n      <td>210009833</td>\n      <td>210009833</td>\n      <td>2015-09-02</td>\n      <td>C71</td>\n      <td>9440.0</td>\n      <td>3</td>\n      <td>U</td>\n      <td>G4</td>\n      <td>36.0</td>\n      <td>2</td>\n      <td>L0301</td>\n      <td>1010009833</td>\n      <td>L</td>\n      <td>5</td>\n      <td>1</td>\n      <td>W</td>\n      <td>NaN</td>\n      <td>D</td>\n      <td>True</td>\n      <td>2016-11-18</td>\n      <td>2016-12-16</td>\n      <td>True</td>\n      <td>False</td>\n      <td>19.0</td>\n      <td>True</td>\n      <td>True</td>\n      <td>1.055</td>\n      <td>51.6</td>\n      <td>210038769.0</td>\n      <td>1.0</td>\n      <td>2016-12-16</td>\n      <td>0</td>\n      <td>471</td>\n    </tr>\n    <tr>\n      <th>34199</th>\n      <td>210009833</td>\n      <td>210009833</td>\n      <td>2015-09-02</td>\n      <td>C71</td>\n      <td>9440.0</td>\n      <td>3</td>\n      <td>U</td>\n      <td>G4</td>\n      <td>36.0</td>\n      <td>2</td>\n      <td>L0301</td>\n      <td>1010009833</td>\n      <td>L</td>\n      <td>5</td>\n      <td>1</td>\n      <td>W</td>\n      <td>NaN</td>\n      <td>D</td>\n      <td>True</td>\n      <td>2016-12-30</td>\n      <td>2017-01-06</td>\n      <td>False</td>\n      <td>False</td>\n      <td>20.0</td>\n      <td>True</td>\n      <td>True</td>\n      <td>1.055</td>\n      <td>51.6</td>\n      <td>210038831.0</td>\n      <td>1.0</td>\n      <td>2017-01-06</td>\n      <td>0</td>\n      <td>492</td>\n    </tr>\n    <tr>\n      <th>34200</th>\n      <td>210009833</td>\n      <td>210009833</td>\n      <td>2015-09-02</td>\n      <td>C71</td>\n      <td>9440.0</td>\n      <td>3</td>\n      <td>U</td>\n      <td>G4</td>\n      <td>36.0</td>\n      <td>2</td>\n      <td>L0301</td>\n      <td>1010009833</td>\n      <td>L</td>\n      <td>5</td>\n      <td>1</td>\n      <td>W</td>\n      <td>NaN</td>\n      <td>D</td>\n      <td>True</td>\n      <td>2016-09-01</td>\n      <td>2016-09-01</td>\n      <td>False</td>\n      <td>False</td>\n      <td>11.0</td>\n      <td>True</td>\n      <td>True</td>\n      <td>1.055</td>\n      <td>51.6</td>\n      <td>210038874.0</td>\n      <td>1.0</td>\n      <td>2016-09-01</td>\n      <td>0</td>\n      <td>365</td>\n    </tr>\n    <tr>\n      <th>34201</th>\n      <td>210009833</td>\n      <td>210009833</td>\n      <td>2015-09-02</td>\n      <td>C71</td>\n      <td>9440.0</td>\n      <td>3</td>\n      <td>U</td>\n      <td>G4</td>\n      <td>36.0</td>\n      <td>2</td>\n      <td>L0301</td>\n      <td>1010009833</td>\n      <td>L</td>\n      <td>5</td>\n      <td>1</td>\n      <td>W</td>\n      <td>NaN</td>\n      <td>D</td>\n      <td>True</td>\n      <td>2016-09-01</td>\n      <td>2016-09-01</td>\n      <td>False</td>\n      <td>False</td>\n      <td>11.0</td>\n      <td>True</td>\n      <td>True</td>\n      <td>1.055</td>\n      <td>51.6</td>\n      <td>210056805.0</td>\n      <td>1.0</td>\n      <td>2016-10-27</td>\n      <td>0</td>\n      <td>421</td>\n    </tr>\n    <tr>\n      <th>34202</th>\n      <td>210009833</td>\n      <td>210009833</td>\n      <td>2015-09-02</td>\n      <td>C71</td>\n      <td>9440.0</td>\n      <td>3</td>\n      <td>U</td>\n      <td>G4</td>\n      <td>36.0</td>\n      <td>2</td>\n      <td>L0301</td>\n      <td>1010009833</td>\n      <td>L</td>\n      <td>5</td>\n      <td>1</td>\n      <td>W</td>\n      <td>NaN</td>\n      <td>D</td>\n      <td>True</td>\n      <td>2016-09-01</td>\n      <td>2016-09-01</td>\n      <td>False</td>\n      <td>False</td>\n      <td>11.0</td>\n      <td>True</td>\n      <td>True</td>\n      <td>1.055</td>\n      <td>51.6</td>\n      <td>210069164.0</td>\n      <td>3.0</td>\n      <td>2016-11-10</td>\n      <td>0</td>\n      <td>435</td>\n    </tr>\n    <tr>\n      <th>34203</th>\n      <td>210009833</td>\n      <td>210009833</td>\n      <td>2015-09-02</td>\n      <td>C71</td>\n      <td>9440.0</td>\n      <td>3</td>\n      <td>U</td>\n      <td>G4</td>\n      <td>36.0</td>\n      <td>2</td>\n      <td>L0301</td>\n      <td>1010009833</td>\n      <td>L</td>\n      <td>5</td>\n      <td>1</td>\n      <td>W</td>\n      <td>NaN</td>\n      <td>D</td>\n      <td>True</td>\n      <td>2015-09-24</td>\n      <td>2015-10-21</td>\n      <td>False</td>\n      <td>True</td>\n      <td>2.0</td>\n      <td>False</td>\n      <td>True</td>\n      <td>1.055</td>\n      <td>51.6</td>\n      <td>210003193.0</td>\n      <td>1.0</td>\n      <td>2015-10-21</td>\n      <td>0</td>\n      <td>49</td>\n    </tr>\n    <tr>\n      <th>34204</th>\n      <td>210009833</td>\n      <td>210009833</td>\n      <td>2015-09-02</td>\n      <td>C71</td>\n      <td>9440.0</td>\n      <td>3</td>\n      <td>U</td>\n      <td>G4</td>\n      <td>36.0</td>\n      <td>2</td>\n      <td>L0301</td>\n      <td>1010009833</td>\n      <td>L</td>\n      <td>5</td>\n      <td>1</td>\n      <td>W</td>\n      <td>NaN</td>\n      <td>D</td>\n      <td>True</td>\n      <td>2015-09-24</td>\n      <td>2015-10-21</td>\n      <td>False</td>\n      <td>True</td>\n      <td>2.0</td>\n      <td>False</td>\n      <td>True</td>\n      <td>1.055</td>\n      <td>51.6</td>\n      <td>210040807.0</td>\n      <td>3.0</td>\n      <td>2015-11-18</td>\n      <td>0</td>\n      <td>77</td>\n    </tr>\n    <tr>\n      <th>34205</th>\n      <td>210009833</td>\n      <td>210009833</td>\n      <td>2015-09-02</td>\n      <td>C71</td>\n      <td>9440.0</td>\n      <td>3</td>\n      <td>U</td>\n      <td>G4</td>\n      <td>36.0</td>\n      <td>2</td>\n      <td>L0301</td>\n      <td>1010009833</td>\n      <td>L</td>\n      <td>5</td>\n      <td>1</td>\n      <td>W</td>\n      <td>NaN</td>\n      <td>D</td>\n      <td>True</td>\n      <td>2015-09-24</td>\n      <td>2015-10-21</td>\n      <td>False</td>\n      <td>True</td>\n      <td>2.0</td>\n      <td>False</td>\n      <td>True</td>\n      <td>1.055</td>\n      <td>51.6</td>\n      <td>210058264.0</td>\n      <td>4.0</td>\n      <td>2015-12-17</td>\n      <td>0</td>\n      <td>106</td>\n    </tr>\n    <tr>\n      <th>34206</th>\n      <td>210009833</td>\n      <td>210009833</td>\n      <td>2015-09-02</td>\n      <td>C71</td>\n      <td>9440.0</td>\n      <td>3</td>\n      <td>U</td>\n      <td>G4</td>\n      <td>36.0</td>\n      <td>2</td>\n      <td>L0301</td>\n      <td>1010009833</td>\n      <td>L</td>\n      <td>5</td>\n      <td>1</td>\n      <td>W</td>\n      <td>NaN</td>\n      <td>D</td>\n      <td>True</td>\n      <td>2013-08-12</td>\n      <td>2013-08-15</td>\n      <td>False</td>\n      <td>False</td>\n      <td>1.0</td>\n      <td>False</td>\n      <td>False</td>\n      <td>1.055</td>\n      <td>51.6</td>\n      <td>210003194.0</td>\n      <td>1.0</td>\n      <td>2013-08-15</td>\n      <td>0</td>\n      <td>3</td>\n    </tr>\n    <tr>\n      <th>34207</th>\n      <td>210009833</td>\n      <td>210009833</td>\n      <td>2015-09-02</td>\n      <td>C71</td>\n      <td>9440.0</td>\n      <td>3</td>\n      <td>U</td>\n      <td>G4</td>\n      <td>36.0</td>\n      <td>2</td>\n      <td>L0301</td>\n      <td>1010009833</td>\n      <td>L</td>\n      <td>5</td>\n      <td>1</td>\n      <td>W</td>\n      <td>NaN</td>\n      <td>D</td>\n      <td>True</td>\n      <td>2013-08-12</td>\n      <td>2013-08-15</td>\n      <td>False</td>\n      <td>False</td>\n      <td>1.0</td>\n      <td>False</td>\n      <td>False</td>\n      <td>1.055</td>\n      <td>51.6</td>\n      <td>210040808.0</td>\n      <td>2.0</td>\n      <td>NaT</td>\n      <td>0</td>\n      <td>3</td>\n    </tr>\n    <tr>\n      <th>34208</th>\n      <td>210009833</td>\n      <td>210009833</td>\n      <td>2015-09-02</td>\n      <td>C71</td>\n      <td>9440.0</td>\n      <td>3</td>\n      <td>U</td>\n      <td>G4</td>\n      <td>36.0</td>\n      <td>2</td>\n      <td>L0301</td>\n      <td>1010009833</td>\n      <td>L</td>\n      <td>5</td>\n      <td>1</td>\n      <td>W</td>\n      <td>NaN</td>\n      <td>D</td>\n      <td>True</td>\n      <td>2013-08-12</td>\n      <td>2013-08-15</td>\n      <td>False</td>\n      <td>False</td>\n      <td>1.0</td>\n      <td>False</td>\n      <td>False</td>\n      <td>1.055</td>\n      <td>51.6</td>\n      <td>210058265.0</td>\n      <td>4.0</td>\n      <td>NaT</td>\n      <td>0</td>\n      <td>3</td>\n    </tr>\n    <tr>\n      <th>34209</th>\n      <td>210009833</td>\n      <td>210009833</td>\n      <td>2015-09-02</td>\n      <td>C71</td>\n      <td>9440.0</td>\n      <td>3</td>\n      <td>U</td>\n      <td>G4</td>\n      <td>36.0</td>\n      <td>2</td>\n      <td>L0301</td>\n      <td>1010009833</td>\n      <td>L</td>\n      <td>5</td>\n      <td>1</td>\n      <td>W</td>\n      <td>NaN</td>\n      <td>D</td>\n      <td>True</td>\n      <td>2013-08-12</td>\n      <td>2013-08-15</td>\n      <td>False</td>\n      <td>False</td>\n      <td>1.0</td>\n      <td>False</td>\n      <td>False</td>\n      <td>1.055</td>\n      <td>51.6</td>\n      <td>210070295.0</td>\n      <td>5.0</td>\n      <td>NaT</td>\n      <td>0</td>\n      <td>3</td>\n    </tr>\n    <tr>\n      <th>34210</th>\n      <td>210009833</td>\n      <td>210009833</td>\n      <td>2015-09-02</td>\n      <td>C71</td>\n      <td>9440.0</td>\n      <td>3</td>\n      <td>U</td>\n      <td>G4</td>\n      <td>36.0</td>\n      <td>2</td>\n      <td>L0301</td>\n      <td>1010009833</td>\n      <td>L</td>\n      <td>5</td>\n      <td>1</td>\n      <td>W</td>\n      <td>NaN</td>\n      <td>D</td>\n      <td>True</td>\n      <td>2013-08-12</td>\n      <td>2013-08-15</td>\n      <td>False</td>\n      <td>False</td>\n      <td>1.0</td>\n      <td>False</td>\n      <td>False</td>\n      <td>1.055</td>\n      <td>51.6</td>\n      <td>210078576.0</td>\n      <td>6.0</td>\n      <td>NaT</td>\n      <td>0</td>\n      <td>3</td>\n    </tr>\n  </tbody>\n</table>\n</div>"
     },
     "metadata": {},
     "execution_count": 186
    }
   ],
   "source": [
    "df.loc[df.PATIENTID==210009833]"
   ]
  },
  {
   "cell_type": "code",
   "execution_count": null,
   "metadata": {},
   "outputs": [],
   "source": []
  }
 ]
}