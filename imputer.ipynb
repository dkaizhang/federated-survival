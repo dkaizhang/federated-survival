{
 "metadata": {
  "language_info": {
   "codemirror_mode": {
    "name": "ipython",
    "version": 3
   },
   "file_extension": ".py",
   "mimetype": "text/x-python",
   "name": "python",
   "nbconvert_exporter": "python",
   "pygments_lexer": "ipython3",
   "version": "3.8.7-final"
  },
  "orig_nbformat": 2,
  "kernelspec": {
   "name": "python3",
   "display_name": "Python 3.8.7 64-bit ('flenv': venv)",
   "metadata": {
    "interpreter": {
     "hash": "f1c13921e8e375de9335a0ccf3b3c47f8dbb15e8689cc78791955ed1115cd503"
    }
   }
  }
 },
 "nbformat": 4,
 "nbformat_minor": 2,
 "cells": [
  {
   "source": [
    "Takes csv file created by data notebook to drop instances, drop features if too much missing, checks and fixes formatting"
   ],
   "cell_type": "markdown",
   "metadata": {}
  },
  {
   "cell_type": "code",
   "execution_count": 230,
   "metadata": {},
   "outputs": [],
   "source": [
    "import numpy as np\n",
    "import pandas as pd\n",
    "from sklearn.impute import SimpleImputer\n",
    "\n",
    "from load import read_csv"
   ]
  },
  {
   "cell_type": "code",
   "execution_count": 231,
   "metadata": {},
   "outputs": [],
   "source": [
    "path = './Data/bt.csv'"
   ]
  },
  {
   "cell_type": "code",
   "execution_count": 232,
   "metadata": {},
   "outputs": [
    {
     "output_type": "stream",
     "name": "stdout",
     "text": [
      "47333\n"
     ]
    },
    {
     "output_type": "execute_result",
     "data": {
      "text/plain": [
       "   TUMOURID  PATIENTID DIAGNOSISDATEBEST SITE_ICD10_O2 SITE_ICD10_O2_3CHAR  \\\n",
       "0  10614165   10501771        2017-01-16          C719                 C71   \n",
       "1  10614166   10501772        2015-11-10          C712                 C71   \n",
       "2  10614166   10501772        2015-11-10          C712                 C71   \n",
       "3  10614174   10501888        2017-04-27          C713                 C71   \n",
       "4  10614177   10501946        2016-12-23          C711                 C71   \n",
       "\n",
       "   MORPH_ICD10_O2 BEHAVIOUR_ICD10_O2 T_BEST N_BEST M_BEST STAGE_BEST  \\\n",
       "0          9440.0                  3    NaN    NaN    NaN          U   \n",
       "1          9440.0                  3    NaN    NaN    NaN          U   \n",
       "2          9440.0                  3    NaN    NaN    NaN          U   \n",
       "3          9401.0                  3    NaN    NaN    NaN          U   \n",
       "4          9440.0                  3    NaN    NaN    NaN          U   \n",
       "\n",
       "   STAGE_BEST_SYSTEM GRADE  AGE  SEX CREG_CODE  LINKNUMBER  \\\n",
       "0                NaN    G4   69    1     L0401   810501771   \n",
       "1                NaN    G4   88    1     L1001   810501772   \n",
       "2                NaN    G4   88    1     L1001   810501772   \n",
       "3                NaN    G4   79    1     L1001   810501888   \n",
       "4                NaN    GX   79    2     L1001   810501946   \n",
       "\n",
       "   SCREENINGSTATUSFULL_CODE ER_STATUS  ER_SCORE PR_STATUS  PR_SCORE  \\\n",
       "0                       NaN       NaN       NaN       NaN       NaN   \n",
       "1                       NaN       NaN       NaN       NaN       NaN   \n",
       "2                       NaN       NaN       NaN       NaN       NaN   \n",
       "3                       NaN       NaN       NaN       NaN       NaN   \n",
       "4                       NaN       NaN       NaN       NaN       NaN   \n",
       "\n",
       "  HER2_STATUS CANCERCAREPLANINTENT PERFORMANCESTATUS  CNS ACE27  \\\n",
       "0         NaN                  NaN               NaN  NaN   NaN   \n",
       "1         NaN                  NaN                 9  NaN   NaN   \n",
       "2         NaN                  NaN                 9  NaN   NaN   \n",
       "3         NaN                  NaN               NaN  NaN   NaN   \n",
       "4         NaN                  NaN               NaN  NaN   NaN   \n",
       "\n",
       "   GLEASON_PRIMARY  GLEASON_SECONDARY  GLEASON_TERTIARY  GLEASON_COMBINED  \\\n",
       "0              NaN                NaN               NaN               NaN   \n",
       "1              NaN                NaN               NaN               NaN   \n",
       "2              NaN                NaN               NaN               NaN   \n",
       "3              NaN                NaN               NaN               NaN   \n",
       "4              NaN                NaN               NaN               NaN   \n",
       "\n",
       "  DATE_FIRST_SURGERY LATERALITY       QUINTILE_2015  TUMOUR_COUNT ETHNICITY  \\\n",
       "0         2017-01-16          R                   4             2         A   \n",
       "1         2015-11-10          R  1 - least deprived             2         A   \n",
       "2         2015-11-10          R  1 - least deprived             2         A   \n",
       "3         2017-04-27          R                   2             2         A   \n",
       "4                NaN          R                   2             2       NaN   \n",
       "\n",
       "  DEATHCAUSECODE_1A DEATHCAUSECODE_1B DEATHCAUSECODE_1C DEATHCAUSECODE_2  \\\n",
       "0               NaN               NaN               NaN              NaN   \n",
       "1         C719,D432               NaN               NaN              NaN   \n",
       "2         C719,D432               NaN               NaN              NaN   \n",
       "3              G231         I739,N390               NaN   I489,I518,E149   \n",
       "4              C719               NaN               NaN        I259,E119   \n",
       "\n",
       "  DEATHCAUSECODE_UNDERLYING DEATHLOCATIONCODE NEWVITALSTATUS VITALSTATUSDATE  \\\n",
       "0                       NaN               NaN              A      2019-02-06   \n",
       "1                      C719               NaN              D      2015-11-27   \n",
       "2                      C719               NaN              D      2015-11-27   \n",
       "3                      I251                 4              D      2018-01-04   \n",
       "4                       C61               NaN              D      2018-02-21   \n",
       "\n",
       "   MERGED_PATIENT_ID  SACT  MERGED_TUMOUR_ID  REGIMEN_COUNT  \\\n",
       "0                NaN   NaN               NaN            NaN   \n",
       "1         10501772.0  True        10002483.0            5.0   \n",
       "2         10501772.0  True        10004939.0            5.0   \n",
       "3                NaN   NaN               NaN            NaN   \n",
       "4                NaN   NaN               NaN            NaN   \n",
       "\n",
       "  DATE_FIRST_REGIMEN CLINICAL_TRIAL_INDICATOR CHEMO_RADIATION_INDICATOR  \\\n",
       "0                NaN                      NaN                       NaN   \n",
       "1         2015-12-23                    False                     False   \n",
       "2         2015-12-23                    False                     False   \n",
       "3                NaN                      NaN                       NaN   \n",
       "4                NaN                      NaN                       NaN   \n",
       "\n",
       "   NORMALISED_HEIGHT  NORMALISED_WEIGHT  HIGHEST_CYCLE  \n",
       "0                NaN                NaN            NaN  \n",
       "1              1.755              71.75            3.0  \n",
       "2              1.755              71.75            3.0  \n",
       "3                NaN                NaN            NaN  \n",
       "4                NaN                NaN            NaN  "
      ],
      "text/html": "<div>\n<style scoped>\n    .dataframe tbody tr th:only-of-type {\n        vertical-align: middle;\n    }\n\n    .dataframe tbody tr th {\n        vertical-align: top;\n    }\n\n    .dataframe thead th {\n        text-align: right;\n    }\n</style>\n<table border=\"1\" class=\"dataframe\">\n  <thead>\n    <tr style=\"text-align: right;\">\n      <th></th>\n      <th>TUMOURID</th>\n      <th>PATIENTID</th>\n      <th>DIAGNOSISDATEBEST</th>\n      <th>SITE_ICD10_O2</th>\n      <th>SITE_ICD10_O2_3CHAR</th>\n      <th>MORPH_ICD10_O2</th>\n      <th>BEHAVIOUR_ICD10_O2</th>\n      <th>T_BEST</th>\n      <th>N_BEST</th>\n      <th>M_BEST</th>\n      <th>STAGE_BEST</th>\n      <th>STAGE_BEST_SYSTEM</th>\n      <th>GRADE</th>\n      <th>AGE</th>\n      <th>SEX</th>\n      <th>CREG_CODE</th>\n      <th>LINKNUMBER</th>\n      <th>SCREENINGSTATUSFULL_CODE</th>\n      <th>ER_STATUS</th>\n      <th>ER_SCORE</th>\n      <th>PR_STATUS</th>\n      <th>PR_SCORE</th>\n      <th>HER2_STATUS</th>\n      <th>CANCERCAREPLANINTENT</th>\n      <th>PERFORMANCESTATUS</th>\n      <th>CNS</th>\n      <th>ACE27</th>\n      <th>GLEASON_PRIMARY</th>\n      <th>GLEASON_SECONDARY</th>\n      <th>GLEASON_TERTIARY</th>\n      <th>GLEASON_COMBINED</th>\n      <th>DATE_FIRST_SURGERY</th>\n      <th>LATERALITY</th>\n      <th>QUINTILE_2015</th>\n      <th>TUMOUR_COUNT</th>\n      <th>ETHNICITY</th>\n      <th>DEATHCAUSECODE_1A</th>\n      <th>DEATHCAUSECODE_1B</th>\n      <th>DEATHCAUSECODE_1C</th>\n      <th>DEATHCAUSECODE_2</th>\n      <th>DEATHCAUSECODE_UNDERLYING</th>\n      <th>DEATHLOCATIONCODE</th>\n      <th>NEWVITALSTATUS</th>\n      <th>VITALSTATUSDATE</th>\n      <th>MERGED_PATIENT_ID</th>\n      <th>SACT</th>\n      <th>MERGED_TUMOUR_ID</th>\n      <th>REGIMEN_COUNT</th>\n      <th>DATE_FIRST_REGIMEN</th>\n      <th>CLINICAL_TRIAL_INDICATOR</th>\n      <th>CHEMO_RADIATION_INDICATOR</th>\n      <th>NORMALISED_HEIGHT</th>\n      <th>NORMALISED_WEIGHT</th>\n      <th>HIGHEST_CYCLE</th>\n    </tr>\n  </thead>\n  <tbody>\n    <tr>\n      <th>0</th>\n      <td>10614165</td>\n      <td>10501771</td>\n      <td>2017-01-16</td>\n      <td>C719</td>\n      <td>C71</td>\n      <td>9440.0</td>\n      <td>3</td>\n      <td>NaN</td>\n      <td>NaN</td>\n      <td>NaN</td>\n      <td>U</td>\n      <td>NaN</td>\n      <td>G4</td>\n      <td>69</td>\n      <td>1</td>\n      <td>L0401</td>\n      <td>810501771</td>\n      <td>NaN</td>\n      <td>NaN</td>\n      <td>NaN</td>\n      <td>NaN</td>\n      <td>NaN</td>\n      <td>NaN</td>\n      <td>NaN</td>\n      <td>NaN</td>\n      <td>NaN</td>\n      <td>NaN</td>\n      <td>NaN</td>\n      <td>NaN</td>\n      <td>NaN</td>\n      <td>NaN</td>\n      <td>2017-01-16</td>\n      <td>R</td>\n      <td>4</td>\n      <td>2</td>\n      <td>A</td>\n      <td>NaN</td>\n      <td>NaN</td>\n      <td>NaN</td>\n      <td>NaN</td>\n      <td>NaN</td>\n      <td>NaN</td>\n      <td>A</td>\n      <td>2019-02-06</td>\n      <td>NaN</td>\n      <td>NaN</td>\n      <td>NaN</td>\n      <td>NaN</td>\n      <td>NaN</td>\n      <td>NaN</td>\n      <td>NaN</td>\n      <td>NaN</td>\n      <td>NaN</td>\n      <td>NaN</td>\n    </tr>\n    <tr>\n      <th>1</th>\n      <td>10614166</td>\n      <td>10501772</td>\n      <td>2015-11-10</td>\n      <td>C712</td>\n      <td>C71</td>\n      <td>9440.0</td>\n      <td>3</td>\n      <td>NaN</td>\n      <td>NaN</td>\n      <td>NaN</td>\n      <td>U</td>\n      <td>NaN</td>\n      <td>G4</td>\n      <td>88</td>\n      <td>1</td>\n      <td>L1001</td>\n      <td>810501772</td>\n      <td>NaN</td>\n      <td>NaN</td>\n      <td>NaN</td>\n      <td>NaN</td>\n      <td>NaN</td>\n      <td>NaN</td>\n      <td>NaN</td>\n      <td>9</td>\n      <td>NaN</td>\n      <td>NaN</td>\n      <td>NaN</td>\n      <td>NaN</td>\n      <td>NaN</td>\n      <td>NaN</td>\n      <td>2015-11-10</td>\n      <td>R</td>\n      <td>1 - least deprived</td>\n      <td>2</td>\n      <td>A</td>\n      <td>C719,D432</td>\n      <td>NaN</td>\n      <td>NaN</td>\n      <td>NaN</td>\n      <td>C719</td>\n      <td>NaN</td>\n      <td>D</td>\n      <td>2015-11-27</td>\n      <td>10501772.0</td>\n      <td>True</td>\n      <td>10002483.0</td>\n      <td>5.0</td>\n      <td>2015-12-23</td>\n      <td>False</td>\n      <td>False</td>\n      <td>1.755</td>\n      <td>71.75</td>\n      <td>3.0</td>\n    </tr>\n    <tr>\n      <th>2</th>\n      <td>10614166</td>\n      <td>10501772</td>\n      <td>2015-11-10</td>\n      <td>C712</td>\n      <td>C71</td>\n      <td>9440.0</td>\n      <td>3</td>\n      <td>NaN</td>\n      <td>NaN</td>\n      <td>NaN</td>\n      <td>U</td>\n      <td>NaN</td>\n      <td>G4</td>\n      <td>88</td>\n      <td>1</td>\n      <td>L1001</td>\n      <td>810501772</td>\n      <td>NaN</td>\n      <td>NaN</td>\n      <td>NaN</td>\n      <td>NaN</td>\n      <td>NaN</td>\n      <td>NaN</td>\n      <td>NaN</td>\n      <td>9</td>\n      <td>NaN</td>\n      <td>NaN</td>\n      <td>NaN</td>\n      <td>NaN</td>\n      <td>NaN</td>\n      <td>NaN</td>\n      <td>2015-11-10</td>\n      <td>R</td>\n      <td>1 - least deprived</td>\n      <td>2</td>\n      <td>A</td>\n      <td>C719,D432</td>\n      <td>NaN</td>\n      <td>NaN</td>\n      <td>NaN</td>\n      <td>C719</td>\n      <td>NaN</td>\n      <td>D</td>\n      <td>2015-11-27</td>\n      <td>10501772.0</td>\n      <td>True</td>\n      <td>10004939.0</td>\n      <td>5.0</td>\n      <td>2015-12-23</td>\n      <td>False</td>\n      <td>False</td>\n      <td>1.755</td>\n      <td>71.75</td>\n      <td>3.0</td>\n    </tr>\n    <tr>\n      <th>3</th>\n      <td>10614174</td>\n      <td>10501888</td>\n      <td>2017-04-27</td>\n      <td>C713</td>\n      <td>C71</td>\n      <td>9401.0</td>\n      <td>3</td>\n      <td>NaN</td>\n      <td>NaN</td>\n      <td>NaN</td>\n      <td>U</td>\n      <td>NaN</td>\n      <td>G4</td>\n      <td>79</td>\n      <td>1</td>\n      <td>L1001</td>\n      <td>810501888</td>\n      <td>NaN</td>\n      <td>NaN</td>\n      <td>NaN</td>\n      <td>NaN</td>\n      <td>NaN</td>\n      <td>NaN</td>\n      <td>NaN</td>\n      <td>NaN</td>\n      <td>NaN</td>\n      <td>NaN</td>\n      <td>NaN</td>\n      <td>NaN</td>\n      <td>NaN</td>\n      <td>NaN</td>\n      <td>2017-04-27</td>\n      <td>R</td>\n      <td>2</td>\n      <td>2</td>\n      <td>A</td>\n      <td>G231</td>\n      <td>I739,N390</td>\n      <td>NaN</td>\n      <td>I489,I518,E149</td>\n      <td>I251</td>\n      <td>4</td>\n      <td>D</td>\n      <td>2018-01-04</td>\n      <td>NaN</td>\n      <td>NaN</td>\n      <td>NaN</td>\n      <td>NaN</td>\n      <td>NaN</td>\n      <td>NaN</td>\n      <td>NaN</td>\n      <td>NaN</td>\n      <td>NaN</td>\n      <td>NaN</td>\n    </tr>\n    <tr>\n      <th>4</th>\n      <td>10614177</td>\n      <td>10501946</td>\n      <td>2016-12-23</td>\n      <td>C711</td>\n      <td>C71</td>\n      <td>9440.0</td>\n      <td>3</td>\n      <td>NaN</td>\n      <td>NaN</td>\n      <td>NaN</td>\n      <td>U</td>\n      <td>NaN</td>\n      <td>GX</td>\n      <td>79</td>\n      <td>2</td>\n      <td>L1001</td>\n      <td>810501946</td>\n      <td>NaN</td>\n      <td>NaN</td>\n      <td>NaN</td>\n      <td>NaN</td>\n      <td>NaN</td>\n      <td>NaN</td>\n      <td>NaN</td>\n      <td>NaN</td>\n      <td>NaN</td>\n      <td>NaN</td>\n      <td>NaN</td>\n      <td>NaN</td>\n      <td>NaN</td>\n      <td>NaN</td>\n      <td>NaN</td>\n      <td>R</td>\n      <td>2</td>\n      <td>2</td>\n      <td>NaN</td>\n      <td>C719</td>\n      <td>NaN</td>\n      <td>NaN</td>\n      <td>I259,E119</td>\n      <td>C61</td>\n      <td>NaN</td>\n      <td>D</td>\n      <td>2018-02-21</td>\n      <td>NaN</td>\n      <td>NaN</td>\n      <td>NaN</td>\n      <td>NaN</td>\n      <td>NaN</td>\n      <td>NaN</td>\n      <td>NaN</td>\n      <td>NaN</td>\n      <td>NaN</td>\n      <td>NaN</td>\n    </tr>\n  </tbody>\n</table>\n</div>"
     },
     "metadata": {},
     "execution_count": 232
    }
   ],
   "source": [
    "df = read_csv(path)\n",
    "print(len(df))\n",
    "pd.set_option('display.max_columns', None)\n",
    "df.head()"
   ]
  },
  {
   "cell_type": "code",
   "execution_count": 233,
   "metadata": {},
   "outputs": [],
   "source": [
    "# df.SITE_ICD10_O2_3CHAR.value_counts()\n",
    "# df['Reconstructed_3CHAR'] = df['SITE_ICD10_O2'].str[0:3]\n",
    "# df['Match'] = df['Reconstructed_3CHAR'].isin(df['SITE_ICD10_O2_3CHAR'])\n",
    "# df['Match'].value_counts()\n"
   ]
  },
  {
   "cell_type": "code",
   "execution_count": 234,
   "metadata": {},
   "outputs": [
    {
     "output_type": "stream",
     "name": "stdout",
     "text": [
      "Drop low height:  1298\nDropped:  1298\n"
     ]
    },
    {
     "output_type": "execute_result",
     "data": {
      "text/plain": [
       "array([[<AxesSubplot:title={'center':'NORMALISED_HEIGHT'}>]], dtype=object)"
      ]
     },
     "metadata": {},
     "execution_count": 234
    },
    {
     "output_type": "display_data",
     "data": {
      "text/plain": "<Figure size 432x288 with 1 Axes>",
      "image/svg+xml": "<?xml version=\"1.0\" encoding=\"utf-8\" standalone=\"no\"?>\n<!DOCTYPE svg PUBLIC \"-//W3C//DTD SVG 1.1//EN\"\n  \"http://www.w3.org/Graphics/SVG/1.1/DTD/svg11.dtd\">\n<!-- Created with matplotlib (https://matplotlib.org/) -->\n<svg height=\"263.424375pt\" version=\"1.1\" viewBox=\"0 0 381.65 263.424375\" width=\"381.65pt\" xmlns=\"http://www.w3.org/2000/svg\" xmlns:xlink=\"http://www.w3.org/1999/xlink\">\n <metadata>\n  <rdf:RDF xmlns:cc=\"http://creativecommons.org/ns#\" xmlns:dc=\"http://purl.org/dc/elements/1.1/\" xmlns:rdf=\"http://www.w3.org/1999/02/22-rdf-syntax-ns#\">\n   <cc:Work>\n    <dc:type rdf:resource=\"http://purl.org/dc/dcmitype/StillImage\"/>\n    <dc:date>2021-04-19T17:33:16.678820</dc:date>\n    <dc:format>image/svg+xml</dc:format>\n    <dc:creator>\n     <cc:Agent>\n      <dc:title>Matplotlib v3.3.4, https://matplotlib.org/</dc:title>\n     </cc:Agent>\n    </dc:creator>\n   </cc:Work>\n  </rdf:RDF>\n </metadata>\n <defs>\n  <style type=\"text/css\">*{stroke-linecap:butt;stroke-linejoin:round;}</style>\n </defs>\n <g id=\"figure_1\">\n  <g id=\"patch_1\">\n   <path d=\"M -0 263.424375 \nL 381.65 263.424375 \nL 381.65 0 \nL -0 0 \nz\n\" style=\"fill:none;\"/>\n  </g>\n  <g id=\"axes_1\">\n   <g id=\"patch_2\">\n    <path d=\"M 39.65 239.54625 \nL 374.45 239.54625 \nL 374.45 22.10625 \nL 39.65 22.10625 \nz\n\" style=\"fill:#ffffff;\"/>\n   </g>\n   <g id=\"patch_3\">\n    <path clip-path=\"url(#p485d28c473)\" d=\"M 54.868182 239.54625 \nL 85.304545 239.54625 \nL 85.304545 239.54625 \nL 54.868182 239.54625 \nz\n\" style=\"fill:#1f77b4;\"/>\n   </g>\n   <g id=\"patch_4\">\n    <path clip-path=\"url(#p485d28c473)\" d=\"M 85.304545 239.54625 \nL 115.740909 239.54625 \nL 115.740909 239.54625 \nL 85.304545 239.54625 \nz\n\" style=\"fill:#1f77b4;\"/>\n   </g>\n   <g id=\"patch_5\">\n    <path clip-path=\"url(#p485d28c473)\" d=\"M 115.740909 239.54625 \nL 146.177273 239.54625 \nL 146.177273 239.54625 \nL 115.740909 239.54625 \nz\n\" style=\"fill:#1f77b4;\"/>\n   </g>\n   <g id=\"patch_6\">\n    <path clip-path=\"url(#p485d28c473)\" d=\"M 146.177273 239.54625 \nL 176.613636 239.54625 \nL 176.613636 239.54625 \nL 146.177273 239.54625 \nz\n\" style=\"fill:#1f77b4;\"/>\n   </g>\n   <g id=\"patch_7\">\n    <path clip-path=\"url(#p485d28c473)\" d=\"M 176.613636 239.54625 \nL 207.05 239.54625 \nL 207.05 212.456922 \nL 176.613636 212.456922 \nz\n\" style=\"fill:#1f77b4;\"/>\n   </g>\n   <g id=\"patch_8\">\n    <path clip-path=\"url(#p485d28c473)\" d=\"M 207.05 239.54625 \nL 237.486364 239.54625 \nL 237.486364 212.328537 \nL 207.05 212.328537 \nz\n\" style=\"fill:#1f77b4;\"/>\n   </g>\n   <g id=\"patch_9\">\n    <path clip-path=\"url(#p485d28c473)\" d=\"M 237.486364 239.54625 \nL 267.922727 239.54625 \nL 267.922727 32.460536 \nL 237.486364 32.460536 \nz\n\" style=\"fill:#1f77b4;\"/>\n   </g>\n   <g id=\"patch_10\">\n    <path clip-path=\"url(#p485d28c473)\" d=\"M 267.922727 239.54625 \nL 298.359091 239.54625 \nL 298.359091 184.372607 \nL 267.922727 184.372607 \nz\n\" style=\"fill:#1f77b4;\"/>\n   </g>\n   <g id=\"patch_11\">\n    <path clip-path=\"url(#p485d28c473)\" d=\"M 298.359091 239.54625 \nL 328.795455 239.54625 \nL 328.795455 239.54625 \nL 298.359091 239.54625 \nz\n\" style=\"fill:#1f77b4;\"/>\n   </g>\n   <g id=\"patch_12\">\n    <path clip-path=\"url(#p485d28c473)\" d=\"M 328.795455 239.54625 \nL 359.231818 239.54625 \nL 359.231818 239.54625 \nL 328.795455 239.54625 \nz\n\" style=\"fill:#1f77b4;\"/>\n   </g>\n   <g id=\"matplotlib.axis_1\">\n    <g id=\"xtick_1\">\n     <g id=\"line2d_1\">\n      <path clip-path=\"url(#p485d28c473)\" d=\"M 54.868182 239.54625 \nL 54.868182 22.10625 \n\" style=\"fill:none;stroke:#b0b0b0;stroke-linecap:square;stroke-width:0.8;\"/>\n     </g>\n     <g id=\"line2d_2\">\n      <defs>\n       <path d=\"M 0 0 \nL 0 3.5 \n\" id=\"m0399241b16\" style=\"stroke:#000000;stroke-width:0.8;\"/>\n      </defs>\n      <g>\n       <use style=\"stroke:#000000;stroke-width:0.8;\" x=\"54.868182\" xlink:href=\"#m0399241b16\" y=\"239.54625\"/>\n      </g>\n     </g>\n     <g id=\"text_1\">\n      <!-- 0.0 -->\n      <g transform=\"translate(46.916619 254.144687)scale(0.1 -0.1)\">\n       <defs>\n        <path d=\"M 31.78125 66.40625 \nQ 24.171875 66.40625 20.328125 58.90625 \nQ 16.5 51.421875 16.5 36.375 \nQ 16.5 21.390625 20.328125 13.890625 \nQ 24.171875 6.390625 31.78125 6.390625 \nQ 39.453125 6.390625 43.28125 13.890625 \nQ 47.125 21.390625 47.125 36.375 \nQ 47.125 51.421875 43.28125 58.90625 \nQ 39.453125 66.40625 31.78125 66.40625 \nz\nM 31.78125 74.21875 \nQ 44.046875 74.21875 50.515625 64.515625 \nQ 56.984375 54.828125 56.984375 36.375 \nQ 56.984375 17.96875 50.515625 8.265625 \nQ 44.046875 -1.421875 31.78125 -1.421875 \nQ 19.53125 -1.421875 13.0625 8.265625 \nQ 6.59375 17.96875 6.59375 36.375 \nQ 6.59375 54.828125 13.0625 64.515625 \nQ 19.53125 74.21875 31.78125 74.21875 \nz\n\" id=\"DejaVuSans-48\"/>\n        <path d=\"M 10.6875 12.40625 \nL 21 12.40625 \nL 21 0 \nL 10.6875 0 \nz\n\" id=\"DejaVuSans-46\"/>\n       </defs>\n       <use xlink:href=\"#DejaVuSans-48\"/>\n       <use x=\"63.623047\" xlink:href=\"#DejaVuSans-46\"/>\n       <use x=\"95.410156\" xlink:href=\"#DejaVuSans-48\"/>\n      </g>\n     </g>\n    </g>\n    <g id=\"xtick_2\">\n     <g id=\"line2d_3\">\n      <path clip-path=\"url(#p485d28c473)\" d=\"M 115.740909 239.54625 \nL 115.740909 22.10625 \n\" style=\"fill:none;stroke:#b0b0b0;stroke-linecap:square;stroke-width:0.8;\"/>\n     </g>\n     <g id=\"line2d_4\">\n      <g>\n       <use style=\"stroke:#000000;stroke-width:0.8;\" x=\"115.740909\" xlink:href=\"#m0399241b16\" y=\"239.54625\"/>\n      </g>\n     </g>\n     <g id=\"text_2\">\n      <!-- 0.5 -->\n      <g transform=\"translate(107.789347 254.144687)scale(0.1 -0.1)\">\n       <defs>\n        <path d=\"M 10.796875 72.90625 \nL 49.515625 72.90625 \nL 49.515625 64.59375 \nL 19.828125 64.59375 \nL 19.828125 46.734375 \nQ 21.96875 47.46875 24.109375 47.828125 \nQ 26.265625 48.1875 28.421875 48.1875 \nQ 40.625 48.1875 47.75 41.5 \nQ 54.890625 34.8125 54.890625 23.390625 \nQ 54.890625 11.625 47.5625 5.09375 \nQ 40.234375 -1.421875 26.90625 -1.421875 \nQ 22.3125 -1.421875 17.546875 -0.640625 \nQ 12.796875 0.140625 7.71875 1.703125 \nL 7.71875 11.625 \nQ 12.109375 9.234375 16.796875 8.0625 \nQ 21.484375 6.890625 26.703125 6.890625 \nQ 35.15625 6.890625 40.078125 11.328125 \nQ 45.015625 15.765625 45.015625 23.390625 \nQ 45.015625 31 40.078125 35.4375 \nQ 35.15625 39.890625 26.703125 39.890625 \nQ 22.75 39.890625 18.8125 39.015625 \nQ 14.890625 38.140625 10.796875 36.28125 \nz\n\" id=\"DejaVuSans-53\"/>\n       </defs>\n       <use xlink:href=\"#DejaVuSans-48\"/>\n       <use x=\"63.623047\" xlink:href=\"#DejaVuSans-46\"/>\n       <use x=\"95.410156\" xlink:href=\"#DejaVuSans-53\"/>\n      </g>\n     </g>\n    </g>\n    <g id=\"xtick_3\">\n     <g id=\"line2d_5\">\n      <path clip-path=\"url(#p485d28c473)\" d=\"M 176.613636 239.54625 \nL 176.613636 22.10625 \n\" style=\"fill:none;stroke:#b0b0b0;stroke-linecap:square;stroke-width:0.8;\"/>\n     </g>\n     <g id=\"line2d_6\">\n      <g>\n       <use style=\"stroke:#000000;stroke-width:0.8;\" x=\"176.613636\" xlink:href=\"#m0399241b16\" y=\"239.54625\"/>\n      </g>\n     </g>\n     <g id=\"text_3\">\n      <!-- 1.0 -->\n      <g transform=\"translate(168.662074 254.144687)scale(0.1 -0.1)\">\n       <defs>\n        <path d=\"M 12.40625 8.296875 \nL 28.515625 8.296875 \nL 28.515625 63.921875 \nL 10.984375 60.40625 \nL 10.984375 69.390625 \nL 28.421875 72.90625 \nL 38.28125 72.90625 \nL 38.28125 8.296875 \nL 54.390625 8.296875 \nL 54.390625 0 \nL 12.40625 0 \nz\n\" id=\"DejaVuSans-49\"/>\n       </defs>\n       <use xlink:href=\"#DejaVuSans-49\"/>\n       <use x=\"63.623047\" xlink:href=\"#DejaVuSans-46\"/>\n       <use x=\"95.410156\" xlink:href=\"#DejaVuSans-48\"/>\n      </g>\n     </g>\n    </g>\n    <g id=\"xtick_4\">\n     <g id=\"line2d_7\">\n      <path clip-path=\"url(#p485d28c473)\" d=\"M 237.486364 239.54625 \nL 237.486364 22.10625 \n\" style=\"fill:none;stroke:#b0b0b0;stroke-linecap:square;stroke-width:0.8;\"/>\n     </g>\n     <g id=\"line2d_8\">\n      <g>\n       <use style=\"stroke:#000000;stroke-width:0.8;\" x=\"237.486364\" xlink:href=\"#m0399241b16\" y=\"239.54625\"/>\n      </g>\n     </g>\n     <g id=\"text_4\">\n      <!-- 1.5 -->\n      <g transform=\"translate(229.534801 254.144687)scale(0.1 -0.1)\">\n       <use xlink:href=\"#DejaVuSans-49\"/>\n       <use x=\"63.623047\" xlink:href=\"#DejaVuSans-46\"/>\n       <use x=\"95.410156\" xlink:href=\"#DejaVuSans-53\"/>\n      </g>\n     </g>\n    </g>\n    <g id=\"xtick_5\">\n     <g id=\"line2d_9\">\n      <path clip-path=\"url(#p485d28c473)\" d=\"M 298.359091 239.54625 \nL 298.359091 22.10625 \n\" style=\"fill:none;stroke:#b0b0b0;stroke-linecap:square;stroke-width:0.8;\"/>\n     </g>\n     <g id=\"line2d_10\">\n      <g>\n       <use style=\"stroke:#000000;stroke-width:0.8;\" x=\"298.359091\" xlink:href=\"#m0399241b16\" y=\"239.54625\"/>\n      </g>\n     </g>\n     <g id=\"text_5\">\n      <!-- 2.0 -->\n      <g transform=\"translate(290.407528 254.144687)scale(0.1 -0.1)\">\n       <defs>\n        <path d=\"M 19.1875 8.296875 \nL 53.609375 8.296875 \nL 53.609375 0 \nL 7.328125 0 \nL 7.328125 8.296875 \nQ 12.9375 14.109375 22.625 23.890625 \nQ 32.328125 33.6875 34.8125 36.53125 \nQ 39.546875 41.84375 41.421875 45.53125 \nQ 43.3125 49.21875 43.3125 52.78125 \nQ 43.3125 58.59375 39.234375 62.25 \nQ 35.15625 65.921875 28.609375 65.921875 \nQ 23.96875 65.921875 18.8125 64.3125 \nQ 13.671875 62.703125 7.8125 59.421875 \nL 7.8125 69.390625 \nQ 13.765625 71.78125 18.9375 73 \nQ 24.125 74.21875 28.421875 74.21875 \nQ 39.75 74.21875 46.484375 68.546875 \nQ 53.21875 62.890625 53.21875 53.421875 \nQ 53.21875 48.921875 51.53125 44.890625 \nQ 49.859375 40.875 45.40625 35.40625 \nQ 44.1875 33.984375 37.640625 27.21875 \nQ 31.109375 20.453125 19.1875 8.296875 \nz\n\" id=\"DejaVuSans-50\"/>\n       </defs>\n       <use xlink:href=\"#DejaVuSans-50\"/>\n       <use x=\"63.623047\" xlink:href=\"#DejaVuSans-46\"/>\n       <use x=\"95.410156\" xlink:href=\"#DejaVuSans-48\"/>\n      </g>\n     </g>\n    </g>\n    <g id=\"xtick_6\">\n     <g id=\"line2d_11\">\n      <path clip-path=\"url(#p485d28c473)\" d=\"M 359.231818 239.54625 \nL 359.231818 22.10625 \n\" style=\"fill:none;stroke:#b0b0b0;stroke-linecap:square;stroke-width:0.8;\"/>\n     </g>\n     <g id=\"line2d_12\">\n      <g>\n       <use style=\"stroke:#000000;stroke-width:0.8;\" x=\"359.231818\" xlink:href=\"#m0399241b16\" y=\"239.54625\"/>\n      </g>\n     </g>\n     <g id=\"text_6\">\n      <!-- 2.5 -->\n      <g transform=\"translate(351.280256 254.144687)scale(0.1 -0.1)\">\n       <use xlink:href=\"#DejaVuSans-50\"/>\n       <use x=\"63.623047\" xlink:href=\"#DejaVuSans-46\"/>\n       <use x=\"95.410156\" xlink:href=\"#DejaVuSans-53\"/>\n      </g>\n     </g>\n    </g>\n   </g>\n   <g id=\"matplotlib.axis_2\">\n    <g id=\"ytick_1\">\n     <g id=\"line2d_13\">\n      <path clip-path=\"url(#p485d28c473)\" d=\"M 39.65 239.54625 \nL 374.45 239.54625 \n\" style=\"fill:none;stroke:#b0b0b0;stroke-linecap:square;stroke-width:0.8;\"/>\n     </g>\n     <g id=\"line2d_14\">\n      <defs>\n       <path d=\"M 0 0 \nL -3.5 0 \n\" id=\"m8e7efd4c28\" style=\"stroke:#000000;stroke-width:0.8;\"/>\n      </defs>\n      <g>\n       <use style=\"stroke:#000000;stroke-width:0.8;\" x=\"39.65\" xlink:href=\"#m8e7efd4c28\" y=\"239.54625\"/>\n      </g>\n     </g>\n     <g id=\"text_7\">\n      <!-- 0 -->\n      <g transform=\"translate(26.2875 243.345469)scale(0.1 -0.1)\">\n       <use xlink:href=\"#DejaVuSans-48\"/>\n      </g>\n     </g>\n    </g>\n    <g id=\"ytick_2\">\n     <g id=\"line2d_15\">\n      <path clip-path=\"url(#p485d28c473)\" d=\"M 39.65 207.44989 \nL 374.45 207.44989 \n\" style=\"fill:none;stroke:#b0b0b0;stroke-linecap:square;stroke-width:0.8;\"/>\n     </g>\n     <g id=\"line2d_16\">\n      <g>\n       <use style=\"stroke:#000000;stroke-width:0.8;\" x=\"39.65\" xlink:href=\"#m8e7efd4c28\" y=\"207.44989\"/>\n      </g>\n     </g>\n     <g id=\"text_8\">\n      <!-- 1000 -->\n      <g transform=\"translate(7.2 211.249109)scale(0.1 -0.1)\">\n       <use xlink:href=\"#DejaVuSans-49\"/>\n       <use x=\"63.623047\" xlink:href=\"#DejaVuSans-48\"/>\n       <use x=\"127.246094\" xlink:href=\"#DejaVuSans-48\"/>\n       <use x=\"190.869141\" xlink:href=\"#DejaVuSans-48\"/>\n      </g>\n     </g>\n    </g>\n    <g id=\"ytick_3\">\n     <g id=\"line2d_17\">\n      <path clip-path=\"url(#p485d28c473)\" d=\"M 39.65 175.35353 \nL 374.45 175.35353 \n\" style=\"fill:none;stroke:#b0b0b0;stroke-linecap:square;stroke-width:0.8;\"/>\n     </g>\n     <g id=\"line2d_18\">\n      <g>\n       <use style=\"stroke:#000000;stroke-width:0.8;\" x=\"39.65\" xlink:href=\"#m8e7efd4c28\" y=\"175.35353\"/>\n      </g>\n     </g>\n     <g id=\"text_9\">\n      <!-- 2000 -->\n      <g transform=\"translate(7.2 179.152749)scale(0.1 -0.1)\">\n       <use xlink:href=\"#DejaVuSans-50\"/>\n       <use x=\"63.623047\" xlink:href=\"#DejaVuSans-48\"/>\n       <use x=\"127.246094\" xlink:href=\"#DejaVuSans-48\"/>\n       <use x=\"190.869141\" xlink:href=\"#DejaVuSans-48\"/>\n      </g>\n     </g>\n    </g>\n    <g id=\"ytick_4\">\n     <g id=\"line2d_19\">\n      <path clip-path=\"url(#p485d28c473)\" d=\"M 39.65 143.25717 \nL 374.45 143.25717 \n\" style=\"fill:none;stroke:#b0b0b0;stroke-linecap:square;stroke-width:0.8;\"/>\n     </g>\n     <g id=\"line2d_20\">\n      <g>\n       <use style=\"stroke:#000000;stroke-width:0.8;\" x=\"39.65\" xlink:href=\"#m8e7efd4c28\" y=\"143.25717\"/>\n      </g>\n     </g>\n     <g id=\"text_10\">\n      <!-- 3000 -->\n      <g transform=\"translate(7.2 147.056389)scale(0.1 -0.1)\">\n       <defs>\n        <path d=\"M 40.578125 39.3125 \nQ 47.65625 37.796875 51.625 33 \nQ 55.609375 28.21875 55.609375 21.1875 \nQ 55.609375 10.40625 48.1875 4.484375 \nQ 40.765625 -1.421875 27.09375 -1.421875 \nQ 22.515625 -1.421875 17.65625 -0.515625 \nQ 12.796875 0.390625 7.625 2.203125 \nL 7.625 11.71875 \nQ 11.71875 9.328125 16.59375 8.109375 \nQ 21.484375 6.890625 26.8125 6.890625 \nQ 36.078125 6.890625 40.9375 10.546875 \nQ 45.796875 14.203125 45.796875 21.1875 \nQ 45.796875 27.640625 41.28125 31.265625 \nQ 36.765625 34.90625 28.71875 34.90625 \nL 20.21875 34.90625 \nL 20.21875 43.015625 \nL 29.109375 43.015625 \nQ 36.375 43.015625 40.234375 45.921875 \nQ 44.09375 48.828125 44.09375 54.296875 \nQ 44.09375 59.90625 40.109375 62.90625 \nQ 36.140625 65.921875 28.71875 65.921875 \nQ 24.65625 65.921875 20.015625 65.03125 \nQ 15.375 64.15625 9.8125 62.3125 \nL 9.8125 71.09375 \nQ 15.4375 72.65625 20.34375 73.4375 \nQ 25.25 74.21875 29.59375 74.21875 \nQ 40.828125 74.21875 47.359375 69.109375 \nQ 53.90625 64.015625 53.90625 55.328125 \nQ 53.90625 49.265625 50.4375 45.09375 \nQ 46.96875 40.921875 40.578125 39.3125 \nz\n\" id=\"DejaVuSans-51\"/>\n       </defs>\n       <use xlink:href=\"#DejaVuSans-51\"/>\n       <use x=\"63.623047\" xlink:href=\"#DejaVuSans-48\"/>\n       <use x=\"127.246094\" xlink:href=\"#DejaVuSans-48\"/>\n       <use x=\"190.869141\" xlink:href=\"#DejaVuSans-48\"/>\n      </g>\n     </g>\n    </g>\n    <g id=\"ytick_5\">\n     <g id=\"line2d_21\">\n      <path clip-path=\"url(#p485d28c473)\" d=\"M 39.65 111.16081 \nL 374.45 111.16081 \n\" style=\"fill:none;stroke:#b0b0b0;stroke-linecap:square;stroke-width:0.8;\"/>\n     </g>\n     <g id=\"line2d_22\">\n      <g>\n       <use style=\"stroke:#000000;stroke-width:0.8;\" x=\"39.65\" xlink:href=\"#m8e7efd4c28\" y=\"111.16081\"/>\n      </g>\n     </g>\n     <g id=\"text_11\">\n      <!-- 4000 -->\n      <g transform=\"translate(7.2 114.960029)scale(0.1 -0.1)\">\n       <defs>\n        <path d=\"M 37.796875 64.3125 \nL 12.890625 25.390625 \nL 37.796875 25.390625 \nz\nM 35.203125 72.90625 \nL 47.609375 72.90625 \nL 47.609375 25.390625 \nL 58.015625 25.390625 \nL 58.015625 17.1875 \nL 47.609375 17.1875 \nL 47.609375 0 \nL 37.796875 0 \nL 37.796875 17.1875 \nL 4.890625 17.1875 \nL 4.890625 26.703125 \nz\n\" id=\"DejaVuSans-52\"/>\n       </defs>\n       <use xlink:href=\"#DejaVuSans-52\"/>\n       <use x=\"63.623047\" xlink:href=\"#DejaVuSans-48\"/>\n       <use x=\"127.246094\" xlink:href=\"#DejaVuSans-48\"/>\n       <use x=\"190.869141\" xlink:href=\"#DejaVuSans-48\"/>\n      </g>\n     </g>\n    </g>\n    <g id=\"ytick_6\">\n     <g id=\"line2d_23\">\n      <path clip-path=\"url(#p485d28c473)\" d=\"M 39.65 79.06445 \nL 374.45 79.06445 \n\" style=\"fill:none;stroke:#b0b0b0;stroke-linecap:square;stroke-width:0.8;\"/>\n     </g>\n     <g id=\"line2d_24\">\n      <g>\n       <use style=\"stroke:#000000;stroke-width:0.8;\" x=\"39.65\" xlink:href=\"#m8e7efd4c28\" y=\"79.06445\"/>\n      </g>\n     </g>\n     <g id=\"text_12\">\n      <!-- 5000 -->\n      <g transform=\"translate(7.2 82.863669)scale(0.1 -0.1)\">\n       <use xlink:href=\"#DejaVuSans-53\"/>\n       <use x=\"63.623047\" xlink:href=\"#DejaVuSans-48\"/>\n       <use x=\"127.246094\" xlink:href=\"#DejaVuSans-48\"/>\n       <use x=\"190.869141\" xlink:href=\"#DejaVuSans-48\"/>\n      </g>\n     </g>\n    </g>\n    <g id=\"ytick_7\">\n     <g id=\"line2d_25\">\n      <path clip-path=\"url(#p485d28c473)\" d=\"M 39.65 46.96809 \nL 374.45 46.96809 \n\" style=\"fill:none;stroke:#b0b0b0;stroke-linecap:square;stroke-width:0.8;\"/>\n     </g>\n     <g id=\"line2d_26\">\n      <g>\n       <use style=\"stroke:#000000;stroke-width:0.8;\" x=\"39.65\" xlink:href=\"#m8e7efd4c28\" y=\"46.96809\"/>\n      </g>\n     </g>\n     <g id=\"text_13\">\n      <!-- 6000 -->\n      <g transform=\"translate(7.2 50.767309)scale(0.1 -0.1)\">\n       <defs>\n        <path d=\"M 33.015625 40.375 \nQ 26.375 40.375 22.484375 35.828125 \nQ 18.609375 31.296875 18.609375 23.390625 \nQ 18.609375 15.53125 22.484375 10.953125 \nQ 26.375 6.390625 33.015625 6.390625 \nQ 39.65625 6.390625 43.53125 10.953125 \nQ 47.40625 15.53125 47.40625 23.390625 \nQ 47.40625 31.296875 43.53125 35.828125 \nQ 39.65625 40.375 33.015625 40.375 \nz\nM 52.59375 71.296875 \nL 52.59375 62.3125 \nQ 48.875 64.0625 45.09375 64.984375 \nQ 41.3125 65.921875 37.59375 65.921875 \nQ 27.828125 65.921875 22.671875 59.328125 \nQ 17.53125 52.734375 16.796875 39.40625 \nQ 19.671875 43.65625 24.015625 45.921875 \nQ 28.375 48.1875 33.59375 48.1875 \nQ 44.578125 48.1875 50.953125 41.515625 \nQ 57.328125 34.859375 57.328125 23.390625 \nQ 57.328125 12.15625 50.6875 5.359375 \nQ 44.046875 -1.421875 33.015625 -1.421875 \nQ 20.359375 -1.421875 13.671875 8.265625 \nQ 6.984375 17.96875 6.984375 36.375 \nQ 6.984375 53.65625 15.1875 63.9375 \nQ 23.390625 74.21875 37.203125 74.21875 \nQ 40.921875 74.21875 44.703125 73.484375 \nQ 48.484375 72.75 52.59375 71.296875 \nz\n\" id=\"DejaVuSans-54\"/>\n       </defs>\n       <use xlink:href=\"#DejaVuSans-54\"/>\n       <use x=\"63.623047\" xlink:href=\"#DejaVuSans-48\"/>\n       <use x=\"127.246094\" xlink:href=\"#DejaVuSans-48\"/>\n       <use x=\"190.869141\" xlink:href=\"#DejaVuSans-48\"/>\n      </g>\n     </g>\n    </g>\n   </g>\n   <g id=\"patch_13\">\n    <path d=\"M 39.65 239.54625 \nL 39.65 22.10625 \n\" style=\"fill:none;stroke:#000000;stroke-linecap:square;stroke-linejoin:miter;stroke-width:0.8;\"/>\n   </g>\n   <g id=\"patch_14\">\n    <path d=\"M 374.45 239.54625 \nL 374.45 22.10625 \n\" style=\"fill:none;stroke:#000000;stroke-linecap:square;stroke-linejoin:miter;stroke-width:0.8;\"/>\n   </g>\n   <g id=\"patch_15\">\n    <path d=\"M 39.65 239.54625 \nL 374.45 239.54625 \n\" style=\"fill:none;stroke:#000000;stroke-linecap:square;stroke-linejoin:miter;stroke-width:0.8;\"/>\n   </g>\n   <g id=\"patch_16\">\n    <path d=\"M 39.65 22.10625 \nL 374.45 22.10625 \n\" style=\"fill:none;stroke:#000000;stroke-linecap:square;stroke-linejoin:miter;stroke-width:0.8;\"/>\n   </g>\n   <g id=\"text_14\">\n    <!-- NORMALISED_HEIGHT -->\n    <g transform=\"translate(141.155 16.10625)scale(0.12 -0.12)\">\n     <defs>\n      <path d=\"M 9.8125 72.90625 \nL 23.09375 72.90625 \nL 55.421875 11.921875 \nL 55.421875 72.90625 \nL 64.984375 72.90625 \nL 64.984375 0 \nL 51.703125 0 \nL 19.390625 60.984375 \nL 19.390625 0 \nL 9.8125 0 \nz\n\" id=\"DejaVuSans-78\"/>\n      <path d=\"M 39.40625 66.21875 \nQ 28.65625 66.21875 22.328125 58.203125 \nQ 16.015625 50.203125 16.015625 36.375 \nQ 16.015625 22.609375 22.328125 14.59375 \nQ 28.65625 6.59375 39.40625 6.59375 \nQ 50.140625 6.59375 56.421875 14.59375 \nQ 62.703125 22.609375 62.703125 36.375 \nQ 62.703125 50.203125 56.421875 58.203125 \nQ 50.140625 66.21875 39.40625 66.21875 \nz\nM 39.40625 74.21875 \nQ 54.734375 74.21875 63.90625 63.9375 \nQ 73.09375 53.65625 73.09375 36.375 \nQ 73.09375 19.140625 63.90625 8.859375 \nQ 54.734375 -1.421875 39.40625 -1.421875 \nQ 24.03125 -1.421875 14.8125 8.828125 \nQ 5.609375 19.09375 5.609375 36.375 \nQ 5.609375 53.65625 14.8125 63.9375 \nQ 24.03125 74.21875 39.40625 74.21875 \nz\n\" id=\"DejaVuSans-79\"/>\n      <path d=\"M 44.390625 34.1875 \nQ 47.5625 33.109375 50.5625 29.59375 \nQ 53.5625 26.078125 56.59375 19.921875 \nL 66.609375 0 \nL 56 0 \nL 46.6875 18.703125 \nQ 43.0625 26.03125 39.671875 28.421875 \nQ 36.28125 30.8125 30.421875 30.8125 \nL 19.671875 30.8125 \nL 19.671875 0 \nL 9.8125 0 \nL 9.8125 72.90625 \nL 32.078125 72.90625 \nQ 44.578125 72.90625 50.734375 67.671875 \nQ 56.890625 62.453125 56.890625 51.90625 \nQ 56.890625 45.015625 53.6875 40.46875 \nQ 50.484375 35.9375 44.390625 34.1875 \nz\nM 19.671875 64.796875 \nL 19.671875 38.921875 \nL 32.078125 38.921875 \nQ 39.203125 38.921875 42.84375 42.21875 \nQ 46.484375 45.515625 46.484375 51.90625 \nQ 46.484375 58.296875 42.84375 61.546875 \nQ 39.203125 64.796875 32.078125 64.796875 \nz\n\" id=\"DejaVuSans-82\"/>\n      <path d=\"M 9.8125 72.90625 \nL 24.515625 72.90625 \nL 43.109375 23.296875 \nL 61.8125 72.90625 \nL 76.515625 72.90625 \nL 76.515625 0 \nL 66.890625 0 \nL 66.890625 64.015625 \nL 48.09375 14.015625 \nL 38.1875 14.015625 \nL 19.390625 64.015625 \nL 19.390625 0 \nL 9.8125 0 \nz\n\" id=\"DejaVuSans-77\"/>\n      <path d=\"M 34.1875 63.1875 \nL 20.796875 26.90625 \nL 47.609375 26.90625 \nz\nM 28.609375 72.90625 \nL 39.796875 72.90625 \nL 67.578125 0 \nL 57.328125 0 \nL 50.6875 18.703125 \nL 17.828125 18.703125 \nL 11.1875 0 \nL 0.78125 0 \nz\n\" id=\"DejaVuSans-65\"/>\n      <path d=\"M 9.8125 72.90625 \nL 19.671875 72.90625 \nL 19.671875 8.296875 \nL 55.171875 8.296875 \nL 55.171875 0 \nL 9.8125 0 \nz\n\" id=\"DejaVuSans-76\"/>\n      <path d=\"M 9.8125 72.90625 \nL 19.671875 72.90625 \nL 19.671875 0 \nL 9.8125 0 \nz\n\" id=\"DejaVuSans-73\"/>\n      <path d=\"M 53.515625 70.515625 \nL 53.515625 60.890625 \nQ 47.90625 63.578125 42.921875 64.890625 \nQ 37.9375 66.21875 33.296875 66.21875 \nQ 25.25 66.21875 20.875 63.09375 \nQ 16.5 59.96875 16.5 54.203125 \nQ 16.5 49.359375 19.40625 46.890625 \nQ 22.3125 44.4375 30.421875 42.921875 \nL 36.375 41.703125 \nQ 47.40625 39.59375 52.65625 34.296875 \nQ 57.90625 29 57.90625 20.125 \nQ 57.90625 9.515625 50.796875 4.046875 \nQ 43.703125 -1.421875 29.984375 -1.421875 \nQ 24.8125 -1.421875 18.96875 -0.25 \nQ 13.140625 0.921875 6.890625 3.21875 \nL 6.890625 13.375 \nQ 12.890625 10.015625 18.65625 8.296875 \nQ 24.421875 6.59375 29.984375 6.59375 \nQ 38.421875 6.59375 43.015625 9.90625 \nQ 47.609375 13.234375 47.609375 19.390625 \nQ 47.609375 24.75 44.3125 27.78125 \nQ 41.015625 30.8125 33.5 32.328125 \nL 27.484375 33.5 \nQ 16.453125 35.6875 11.515625 40.375 \nQ 6.59375 45.0625 6.59375 53.421875 \nQ 6.59375 63.09375 13.40625 68.65625 \nQ 20.21875 74.21875 32.171875 74.21875 \nQ 37.3125 74.21875 42.625 73.28125 \nQ 47.953125 72.359375 53.515625 70.515625 \nz\n\" id=\"DejaVuSans-83\"/>\n      <path d=\"M 9.8125 72.90625 \nL 55.90625 72.90625 \nL 55.90625 64.59375 \nL 19.671875 64.59375 \nL 19.671875 43.015625 \nL 54.390625 43.015625 \nL 54.390625 34.71875 \nL 19.671875 34.71875 \nL 19.671875 8.296875 \nL 56.78125 8.296875 \nL 56.78125 0 \nL 9.8125 0 \nz\n\" id=\"DejaVuSans-69\"/>\n      <path d=\"M 19.671875 64.796875 \nL 19.671875 8.109375 \nL 31.59375 8.109375 \nQ 46.6875 8.109375 53.6875 14.9375 \nQ 60.6875 21.78125 60.6875 36.53125 \nQ 60.6875 51.171875 53.6875 57.984375 \nQ 46.6875 64.796875 31.59375 64.796875 \nz\nM 9.8125 72.90625 \nL 30.078125 72.90625 \nQ 51.265625 72.90625 61.171875 64.09375 \nQ 71.09375 55.28125 71.09375 36.53125 \nQ 71.09375 17.671875 61.125 8.828125 \nQ 51.171875 0 30.078125 0 \nL 9.8125 0 \nz\n\" id=\"DejaVuSans-68\"/>\n      <path d=\"M 50.984375 -16.609375 \nL 50.984375 -23.578125 \nL -0.984375 -23.578125 \nL -0.984375 -16.609375 \nz\n\" id=\"DejaVuSans-95\"/>\n      <path d=\"M 9.8125 72.90625 \nL 19.671875 72.90625 \nL 19.671875 43.015625 \nL 55.515625 43.015625 \nL 55.515625 72.90625 \nL 65.375 72.90625 \nL 65.375 0 \nL 55.515625 0 \nL 55.515625 34.71875 \nL 19.671875 34.71875 \nL 19.671875 0 \nL 9.8125 0 \nz\n\" id=\"DejaVuSans-72\"/>\n      <path d=\"M 59.515625 10.40625 \nL 59.515625 29.984375 \nL 43.40625 29.984375 \nL 43.40625 38.09375 \nL 69.28125 38.09375 \nL 69.28125 6.78125 \nQ 63.578125 2.734375 56.6875 0.65625 \nQ 49.8125 -1.421875 42 -1.421875 \nQ 24.90625 -1.421875 15.25 8.5625 \nQ 5.609375 18.5625 5.609375 36.375 \nQ 5.609375 54.25 15.25 64.234375 \nQ 24.90625 74.21875 42 74.21875 \nQ 49.125 74.21875 55.546875 72.453125 \nQ 61.96875 70.703125 67.390625 67.28125 \nL 67.390625 56.78125 \nQ 61.921875 61.421875 55.765625 63.765625 \nQ 49.609375 66.109375 42.828125 66.109375 \nQ 29.4375 66.109375 22.71875 58.640625 \nQ 16.015625 51.171875 16.015625 36.375 \nQ 16.015625 21.625 22.71875 14.15625 \nQ 29.4375 6.6875 42.828125 6.6875 \nQ 48.046875 6.6875 52.140625 7.59375 \nQ 56.25 8.5 59.515625 10.40625 \nz\n\" id=\"DejaVuSans-71\"/>\n      <path d=\"M -0.296875 72.90625 \nL 61.375 72.90625 \nL 61.375 64.59375 \nL 35.5 64.59375 \nL 35.5 0 \nL 25.59375 0 \nL 25.59375 64.59375 \nL -0.296875 64.59375 \nz\n\" id=\"DejaVuSans-84\"/>\n     </defs>\n     <use xlink:href=\"#DejaVuSans-78\"/>\n     <use x=\"74.804688\" xlink:href=\"#DejaVuSans-79\"/>\n     <use x=\"153.515625\" xlink:href=\"#DejaVuSans-82\"/>\n     <use x=\"222.998047\" xlink:href=\"#DejaVuSans-77\"/>\n     <use x=\"309.277344\" xlink:href=\"#DejaVuSans-65\"/>\n     <use x=\"377.685547\" xlink:href=\"#DejaVuSans-76\"/>\n     <use x=\"433.398438\" xlink:href=\"#DejaVuSans-73\"/>\n     <use x=\"462.890625\" xlink:href=\"#DejaVuSans-83\"/>\n     <use x=\"526.367188\" xlink:href=\"#DejaVuSans-69\"/>\n     <use x=\"589.550781\" xlink:href=\"#DejaVuSans-68\"/>\n     <use x=\"666.552734\" xlink:href=\"#DejaVuSans-95\"/>\n     <use x=\"716.552734\" xlink:href=\"#DejaVuSans-72\"/>\n     <use x=\"791.748047\" xlink:href=\"#DejaVuSans-69\"/>\n     <use x=\"854.931641\" xlink:href=\"#DejaVuSans-73\"/>\n     <use x=\"884.423828\" xlink:href=\"#DejaVuSans-71\"/>\n     <use x=\"961.914062\" xlink:href=\"#DejaVuSans-72\"/>\n     <use x=\"1037.109375\" xlink:href=\"#DejaVuSans-84\"/>\n    </g>\n   </g>\n  </g>\n </g>\n <defs>\n  <clipPath id=\"p485d28c473\">\n   <rect height=\"217.44\" width=\"334.8\" x=\"39.65\" y=\"22.10625\"/>\n  </clipPath>\n </defs>\n</svg>\n",
      "image/png": "[encoded data removed]"
     },
     "metadata": {
      "needs_background": "light"
     }
    }
   ],
   "source": [
    "threshold = 1.0\n",
    "\n",
    "print('Drop low height: ',(df.NORMALISED_HEIGHT < threshold).sum())\n",
    "len_before = len(df)\n",
    "df = df.drop(df[df.NORMALISED_HEIGHT < threshold].index)\n",
    "len_after = len(df)\n",
    "print('Dropped: ', len_before - len_after)\n",
    "df.hist(column='NORMALISED_HEIGHT',bins=[0,0.25,0.5,0.75,1.0,1.25,1.5,1.75,2.0,2.25,2.5])\n"
   ]
  },
  {
   "cell_type": "code",
   "execution_count": 235,
   "metadata": {},
   "outputs": [
    {
     "output_type": "stream",
     "name": "stdout",
     "text": [
      "Drop low height:  1950\nDropped:  1950\n"
     ]
    },
    {
     "output_type": "execute_result",
     "data": {
      "text/plain": [
       "array([[<AxesSubplot:title={'center':'NORMALISED_WEIGHT'}>]], dtype=object)"
      ]
     },
     "metadata": {},
     "execution_count": 235
    },
    {
     "output_type": "display_data",
     "data": {
      "text/plain": "<Figure size 432x288 with 1 Axes>",
      "image/svg+xml": "<?xml version=\"1.0\" encoding=\"utf-8\" standalone=\"no\"?>\n<!DOCTYPE svg PUBLIC \"-//W3C//DTD SVG 1.1//EN\"\n  \"http://www.w3.org/Graphics/SVG/1.1/DTD/svg11.dtd\">\n<!-- Created with matplotlib (https://matplotlib.org/) -->\n<svg height=\"263.424375pt\" version=\"1.1\" viewBox=\"0 0 381.65 263.424375\" width=\"381.65pt\" xmlns=\"http://www.w3.org/2000/svg\" xmlns:xlink=\"http://www.w3.org/1999/xlink\">\n <metadata>\n  <rdf:RDF xmlns:cc=\"http://creativecommons.org/ns#\" xmlns:dc=\"http://purl.org/dc/elements/1.1/\" xmlns:rdf=\"http://www.w3.org/1999/02/22-rdf-syntax-ns#\">\n   <cc:Work>\n    <dc:type rdf:resource=\"http://purl.org/dc/dcmitype/StillImage\"/>\n    <dc:date>2021-04-19T17:33:16.980558</dc:date>\n    <dc:format>image/svg+xml</dc:format>\n    <dc:creator>\n     <cc:Agent>\n      <dc:title>Matplotlib v3.3.4, https://matplotlib.org/</dc:title>\n     </cc:Agent>\n    </dc:creator>\n   </cc:Work>\n  </rdf:RDF>\n </metadata>\n <defs>\n  <style type=\"text/css\">*{stroke-linecap:butt;stroke-linejoin:round;}</style>\n </defs>\n <g id=\"figure_1\">\n  <g id=\"patch_1\">\n   <path d=\"M -0 263.424375 \nL 381.65 263.424375 \nL 381.65 0 \nL -0 0 \nz\n\" style=\"fill:none;\"/>\n  </g>\n  <g id=\"axes_1\">\n   <g id=\"patch_2\">\n    <path d=\"M 39.65 239.54625 \nL 374.45 239.54625 \nL 374.45 22.10625 \nL 39.65 22.10625 \nz\n\" style=\"fill:#ffffff;\"/>\n   </g>\n   <g id=\"patch_3\">\n    <path clip-path=\"url(#p7a0cd78fb2)\" d=\"M 54.868182 239.54625 \nL 85.304545 239.54625 \nL 85.304545 239.54625 \nL 54.868182 239.54625 \nz\n\" style=\"fill:#1f77b4;\"/>\n   </g>\n   <g id=\"patch_4\">\n    <path clip-path=\"url(#p7a0cd78fb2)\" d=\"M 85.304545 239.54625 \nL 115.740909 239.54625 \nL 115.740909 239.54625 \nL 85.304545 239.54625 \nz\n\" style=\"fill:#1f77b4;\"/>\n   </g>\n   <g id=\"patch_5\">\n    <path clip-path=\"url(#p7a0cd78fb2)\" d=\"M 115.740909 239.54625 \nL 146.177273 239.54625 \nL 146.177273 137.878086 \nL 115.740909 137.878086 \nz\n\" style=\"fill:#1f77b4;\"/>\n   </g>\n   <g id=\"patch_6\">\n    <path clip-path=\"url(#p7a0cd78fb2)\" d=\"M 146.177273 239.54625 \nL 176.613636 239.54625 \nL 176.613636 32.460536 \nL 146.177273 32.460536 \nz\n\" style=\"fill:#1f77b4;\"/>\n   </g>\n   <g id=\"patch_7\">\n    <path clip-path=\"url(#p7a0cd78fb2)\" d=\"M 176.613636 239.54625 \nL 207.05 239.54625 \nL 207.05 129.781584 \nL 176.613636 129.781584 \nz\n\" style=\"fill:#1f77b4;\"/>\n   </g>\n   <g id=\"patch_8\">\n    <path clip-path=\"url(#p7a0cd78fb2)\" d=\"M 207.05 239.54625 \nL 237.486364 239.54625 \nL 237.486364 227.972055 \nL 207.05 227.972055 \nz\n\" style=\"fill:#1f77b4;\"/>\n   </g>\n   <g id=\"patch_9\">\n    <path clip-path=\"url(#p7a0cd78fb2)\" d=\"M 237.486364 239.54625 \nL 267.922727 239.54625 \nL 267.922727 238.133437 \nL 237.486364 238.133437 \nz\n\" style=\"fill:#1f77b4;\"/>\n   </g>\n   <g id=\"patch_10\">\n    <path clip-path=\"url(#p7a0cd78fb2)\" d=\"M 267.922727 239.54625 \nL 298.359091 239.54625 \nL 298.359091 239.437572 \nL 267.922727 239.437572 \nz\n\" style=\"fill:#1f77b4;\"/>\n   </g>\n   <g id=\"patch_11\">\n    <path clip-path=\"url(#p7a0cd78fb2)\" d=\"M 298.359091 239.54625 \nL 328.795455 239.54625 \nL 328.795455 239.54625 \nL 298.359091 239.54625 \nz\n\" style=\"fill:#1f77b4;\"/>\n   </g>\n   <g id=\"patch_12\">\n    <path clip-path=\"url(#p7a0cd78fb2)\" d=\"M 328.795455 239.54625 \nL 359.231818 239.54625 \nL 359.231818 239.54625 \nL 328.795455 239.54625 \nz\n\" style=\"fill:#1f77b4;\"/>\n   </g>\n   <g id=\"matplotlib.axis_1\">\n    <g id=\"xtick_1\">\n     <g id=\"line2d_1\">\n      <path clip-path=\"url(#p7a0cd78fb2)\" d=\"M 54.868182 239.54625 \nL 54.868182 22.10625 \n\" style=\"fill:none;stroke:#b0b0b0;stroke-linecap:square;stroke-width:0.8;\"/>\n     </g>\n     <g id=\"line2d_2\">\n      <defs>\n       <path d=\"M 0 0 \nL 0 3.5 \n\" id=\"m0a452ecff7\" style=\"stroke:#000000;stroke-width:0.8;\"/>\n      </defs>\n      <g>\n       <use style=\"stroke:#000000;stroke-width:0.8;\" x=\"54.868182\" xlink:href=\"#m0a452ecff7\" y=\"239.54625\"/>\n      </g>\n     </g>\n     <g id=\"text_1\">\n      <!-- 0 -->\n      <g transform=\"translate(51.686932 254.144687)scale(0.1 -0.1)\">\n       <defs>\n        <path d=\"M 31.78125 66.40625 \nQ 24.171875 66.40625 20.328125 58.90625 \nQ 16.5 51.421875 16.5 36.375 \nQ 16.5 21.390625 20.328125 13.890625 \nQ 24.171875 6.390625 31.78125 6.390625 \nQ 39.453125 6.390625 43.28125 13.890625 \nQ 47.125 21.390625 47.125 36.375 \nQ 47.125 51.421875 43.28125 58.90625 \nQ 39.453125 66.40625 31.78125 66.40625 \nz\nM 31.78125 74.21875 \nQ 44.046875 74.21875 50.515625 64.515625 \nQ 56.984375 54.828125 56.984375 36.375 \nQ 56.984375 17.96875 50.515625 8.265625 \nQ 44.046875 -1.421875 31.78125 -1.421875 \nQ 19.53125 -1.421875 13.0625 8.265625 \nQ 6.59375 17.96875 6.59375 36.375 \nQ 6.59375 54.828125 13.0625 64.515625 \nQ 19.53125 74.21875 31.78125 74.21875 \nz\n\" id=\"DejaVuSans-48\"/>\n       </defs>\n       <use xlink:href=\"#DejaVuSans-48\"/>\n      </g>\n     </g>\n    </g>\n    <g id=\"xtick_2\">\n     <g id=\"line2d_3\">\n      <path clip-path=\"url(#p7a0cd78fb2)\" d=\"M 92.913636 239.54625 \nL 92.913636 22.10625 \n\" style=\"fill:none;stroke:#b0b0b0;stroke-linecap:square;stroke-width:0.8;\"/>\n     </g>\n     <g id=\"line2d_4\">\n      <g>\n       <use style=\"stroke:#000000;stroke-width:0.8;\" x=\"92.913636\" xlink:href=\"#m0a452ecff7\" y=\"239.54625\"/>\n      </g>\n     </g>\n     <g id=\"text_2\">\n      <!-- 25 -->\n      <g transform=\"translate(86.551136 254.144687)scale(0.1 -0.1)\">\n       <defs>\n        <path d=\"M 19.1875 8.296875 \nL 53.609375 8.296875 \nL 53.609375 0 \nL 7.328125 0 \nL 7.328125 8.296875 \nQ 12.9375 14.109375 22.625 23.890625 \nQ 32.328125 33.6875 34.8125 36.53125 \nQ 39.546875 41.84375 41.421875 45.53125 \nQ 43.3125 49.21875 43.3125 52.78125 \nQ 43.3125 58.59375 39.234375 62.25 \nQ 35.15625 65.921875 28.609375 65.921875 \nQ 23.96875 65.921875 18.8125 64.3125 \nQ 13.671875 62.703125 7.8125 59.421875 \nL 7.8125 69.390625 \nQ 13.765625 71.78125 18.9375 73 \nQ 24.125 74.21875 28.421875 74.21875 \nQ 39.75 74.21875 46.484375 68.546875 \nQ 53.21875 62.890625 53.21875 53.421875 \nQ 53.21875 48.921875 51.53125 44.890625 \nQ 49.859375 40.875 45.40625 35.40625 \nQ 44.1875 33.984375 37.640625 27.21875 \nQ 31.109375 20.453125 19.1875 8.296875 \nz\n\" id=\"DejaVuSans-50\"/>\n        <path d=\"M 10.796875 72.90625 \nL 49.515625 72.90625 \nL 49.515625 64.59375 \nL 19.828125 64.59375 \nL 19.828125 46.734375 \nQ 21.96875 47.46875 24.109375 47.828125 \nQ 26.265625 48.1875 28.421875 48.1875 \nQ 40.625 48.1875 47.75 41.5 \nQ 54.890625 34.8125 54.890625 23.390625 \nQ 54.890625 11.625 47.5625 5.09375 \nQ 40.234375 -1.421875 26.90625 -1.421875 \nQ 22.3125 -1.421875 17.546875 -0.640625 \nQ 12.796875 0.140625 7.71875 1.703125 \nL 7.71875 11.625 \nQ 12.109375 9.234375 16.796875 8.0625 \nQ 21.484375 6.890625 26.703125 6.890625 \nQ 35.15625 6.890625 40.078125 11.328125 \nQ 45.015625 15.765625 45.015625 23.390625 \nQ 45.015625 31 40.078125 35.4375 \nQ 35.15625 39.890625 26.703125 39.890625 \nQ 22.75 39.890625 18.8125 39.015625 \nQ 14.890625 38.140625 10.796875 36.28125 \nz\n\" id=\"DejaVuSans-53\"/>\n       </defs>\n       <use xlink:href=\"#DejaVuSans-50\"/>\n       <use x=\"63.623047\" xlink:href=\"#DejaVuSans-53\"/>\n      </g>\n     </g>\n    </g>\n    <g id=\"xtick_3\">\n     <g id=\"line2d_5\">\n      <path clip-path=\"url(#p7a0cd78fb2)\" d=\"M 130.959091 239.54625 \nL 130.959091 22.10625 \n\" style=\"fill:none;stroke:#b0b0b0;stroke-linecap:square;stroke-width:0.8;\"/>\n     </g>\n     <g id=\"line2d_6\">\n      <g>\n       <use style=\"stroke:#000000;stroke-width:0.8;\" x=\"130.959091\" xlink:href=\"#m0a452ecff7\" y=\"239.54625\"/>\n      </g>\n     </g>\n     <g id=\"text_3\">\n      <!-- 50 -->\n      <g transform=\"translate(124.596591 254.144687)scale(0.1 -0.1)\">\n       <use xlink:href=\"#DejaVuSans-53\"/>\n       <use x=\"63.623047\" xlink:href=\"#DejaVuSans-48\"/>\n      </g>\n     </g>\n    </g>\n    <g id=\"xtick_4\">\n     <g id=\"line2d_7\">\n      <path clip-path=\"url(#p7a0cd78fb2)\" d=\"M 169.004545 239.54625 \nL 169.004545 22.10625 \n\" style=\"fill:none;stroke:#b0b0b0;stroke-linecap:square;stroke-width:0.8;\"/>\n     </g>\n     <g id=\"line2d_8\">\n      <g>\n       <use style=\"stroke:#000000;stroke-width:0.8;\" x=\"169.004545\" xlink:href=\"#m0a452ecff7\" y=\"239.54625\"/>\n      </g>\n     </g>\n     <g id=\"text_4\">\n      <!-- 75 -->\n      <g transform=\"translate(162.642045 254.144687)scale(0.1 -0.1)\">\n       <defs>\n        <path d=\"M 8.203125 72.90625 \nL 55.078125 72.90625 \nL 55.078125 68.703125 \nL 28.609375 0 \nL 18.3125 0 \nL 43.21875 64.59375 \nL 8.203125 64.59375 \nz\n\" id=\"DejaVuSans-55\"/>\n       </defs>\n       <use xlink:href=\"#DejaVuSans-55\"/>\n       <use x=\"63.623047\" xlink:href=\"#DejaVuSans-53\"/>\n      </g>\n     </g>\n    </g>\n    <g id=\"xtick_5\">\n     <g id=\"line2d_9\">\n      <path clip-path=\"url(#p7a0cd78fb2)\" d=\"M 207.05 239.54625 \nL 207.05 22.10625 \n\" style=\"fill:none;stroke:#b0b0b0;stroke-linecap:square;stroke-width:0.8;\"/>\n     </g>\n     <g id=\"line2d_10\">\n      <g>\n       <use style=\"stroke:#000000;stroke-width:0.8;\" x=\"207.05\" xlink:href=\"#m0a452ecff7\" y=\"239.54625\"/>\n      </g>\n     </g>\n     <g id=\"text_5\">\n      <!-- 100 -->\n      <g transform=\"translate(197.50625 254.144687)scale(0.1 -0.1)\">\n       <defs>\n        <path d=\"M 12.40625 8.296875 \nL 28.515625 8.296875 \nL 28.515625 63.921875 \nL 10.984375 60.40625 \nL 10.984375 69.390625 \nL 28.421875 72.90625 \nL 38.28125 72.90625 \nL 38.28125 8.296875 \nL 54.390625 8.296875 \nL 54.390625 0 \nL 12.40625 0 \nz\n\" id=\"DejaVuSans-49\"/>\n       </defs>\n       <use xlink:href=\"#DejaVuSans-49\"/>\n       <use x=\"63.623047\" xlink:href=\"#DejaVuSans-48\"/>\n       <use x=\"127.246094\" xlink:href=\"#DejaVuSans-48\"/>\n      </g>\n     </g>\n    </g>\n    <g id=\"xtick_6\">\n     <g id=\"line2d_11\">\n      <path clip-path=\"url(#p7a0cd78fb2)\" d=\"M 245.095455 239.54625 \nL 245.095455 22.10625 \n\" style=\"fill:none;stroke:#b0b0b0;stroke-linecap:square;stroke-width:0.8;\"/>\n     </g>\n     <g id=\"line2d_12\">\n      <g>\n       <use style=\"stroke:#000000;stroke-width:0.8;\" x=\"245.095455\" xlink:href=\"#m0a452ecff7\" y=\"239.54625\"/>\n      </g>\n     </g>\n     <g id=\"text_6\">\n      <!-- 125 -->\n      <g transform=\"translate(235.551705 254.144687)scale(0.1 -0.1)\">\n       <use xlink:href=\"#DejaVuSans-49\"/>\n       <use x=\"63.623047\" xlink:href=\"#DejaVuSans-50\"/>\n       <use x=\"127.246094\" xlink:href=\"#DejaVuSans-53\"/>\n      </g>\n     </g>\n    </g>\n    <g id=\"xtick_7\">\n     <g id=\"line2d_13\">\n      <path clip-path=\"url(#p7a0cd78fb2)\" d=\"M 283.140909 239.54625 \nL 283.140909 22.10625 \n\" style=\"fill:none;stroke:#b0b0b0;stroke-linecap:square;stroke-width:0.8;\"/>\n     </g>\n     <g id=\"line2d_14\">\n      <g>\n       <use style=\"stroke:#000000;stroke-width:0.8;\" x=\"283.140909\" xlink:href=\"#m0a452ecff7\" y=\"239.54625\"/>\n      </g>\n     </g>\n     <g id=\"text_7\">\n      <!-- 150 -->\n      <g transform=\"translate(273.597159 254.144687)scale(0.1 -0.1)\">\n       <use xlink:href=\"#DejaVuSans-49\"/>\n       <use x=\"63.623047\" xlink:href=\"#DejaVuSans-53\"/>\n       <use x=\"127.246094\" xlink:href=\"#DejaVuSans-48\"/>\n      </g>\n     </g>\n    </g>\n    <g id=\"xtick_8\">\n     <g id=\"line2d_15\">\n      <path clip-path=\"url(#p7a0cd78fb2)\" d=\"M 321.186364 239.54625 \nL 321.186364 22.10625 \n\" style=\"fill:none;stroke:#b0b0b0;stroke-linecap:square;stroke-width:0.8;\"/>\n     </g>\n     <g id=\"line2d_16\">\n      <g>\n       <use style=\"stroke:#000000;stroke-width:0.8;\" x=\"321.186364\" xlink:href=\"#m0a452ecff7\" y=\"239.54625\"/>\n      </g>\n     </g>\n     <g id=\"text_8\">\n      <!-- 175 -->\n      <g transform=\"translate(311.642614 254.144687)scale(0.1 -0.1)\">\n       <use xlink:href=\"#DejaVuSans-49\"/>\n       <use x=\"63.623047\" xlink:href=\"#DejaVuSans-55\"/>\n       <use x=\"127.246094\" xlink:href=\"#DejaVuSans-53\"/>\n      </g>\n     </g>\n    </g>\n    <g id=\"xtick_9\">\n     <g id=\"line2d_17\">\n      <path clip-path=\"url(#p7a0cd78fb2)\" d=\"M 359.231818 239.54625 \nL 359.231818 22.10625 \n\" style=\"fill:none;stroke:#b0b0b0;stroke-linecap:square;stroke-width:0.8;\"/>\n     </g>\n     <g id=\"line2d_18\">\n      <g>\n       <use style=\"stroke:#000000;stroke-width:0.8;\" x=\"359.231818\" xlink:href=\"#m0a452ecff7\" y=\"239.54625\"/>\n      </g>\n     </g>\n     <g id=\"text_9\">\n      <!-- 200 -->\n      <g transform=\"translate(349.688068 254.144687)scale(0.1 -0.1)\">\n       <use xlink:href=\"#DejaVuSans-50\"/>\n       <use x=\"63.623047\" xlink:href=\"#DejaVuSans-48\"/>\n       <use x=\"127.246094\" xlink:href=\"#DejaVuSans-48\"/>\n      </g>\n     </g>\n    </g>\n   </g>\n   <g id=\"matplotlib.axis_2\">\n    <g id=\"ytick_1\">\n     <g id=\"line2d_19\">\n      <path clip-path=\"url(#p7a0cd78fb2)\" d=\"M 39.65 239.54625 \nL 374.45 239.54625 \n\" style=\"fill:none;stroke:#b0b0b0;stroke-linecap:square;stroke-width:0.8;\"/>\n     </g>\n     <g id=\"line2d_20\">\n      <defs>\n       <path d=\"M 0 0 \nL -3.5 0 \n\" id=\"maf1d646742\" style=\"stroke:#000000;stroke-width:0.8;\"/>\n      </defs>\n      <g>\n       <use style=\"stroke:#000000;stroke-width:0.8;\" x=\"39.65\" xlink:href=\"#maf1d646742\" y=\"239.54625\"/>\n      </g>\n     </g>\n     <g id=\"text_10\">\n      <!-- 0 -->\n      <g transform=\"translate(26.2875 243.345469)scale(0.1 -0.1)\">\n       <use xlink:href=\"#DejaVuSans-48\"/>\n      </g>\n     </g>\n    </g>\n    <g id=\"ytick_2\">\n     <g id=\"line2d_21\">\n      <path clip-path=\"url(#p7a0cd78fb2)\" d=\"M 39.65 212.376778 \nL 374.45 212.376778 \n\" style=\"fill:none;stroke:#b0b0b0;stroke-linecap:square;stroke-width:0.8;\"/>\n     </g>\n     <g id=\"line2d_22\">\n      <g>\n       <use style=\"stroke:#000000;stroke-width:0.8;\" x=\"39.65\" xlink:href=\"#maf1d646742\" y=\"212.376778\"/>\n      </g>\n     </g>\n     <g id=\"text_11\">\n      <!-- 500 -->\n      <g transform=\"translate(13.5625 216.175997)scale(0.1 -0.1)\">\n       <use xlink:href=\"#DejaVuSans-53\"/>\n       <use x=\"63.623047\" xlink:href=\"#DejaVuSans-48\"/>\n       <use x=\"127.246094\" xlink:href=\"#DejaVuSans-48\"/>\n      </g>\n     </g>\n    </g>\n    <g id=\"ytick_3\">\n     <g id=\"line2d_23\">\n      <path clip-path=\"url(#p7a0cd78fb2)\" d=\"M 39.65 185.207306 \nL 374.45 185.207306 \n\" style=\"fill:none;stroke:#b0b0b0;stroke-linecap:square;stroke-width:0.8;\"/>\n     </g>\n     <g id=\"line2d_24\">\n      <g>\n       <use style=\"stroke:#000000;stroke-width:0.8;\" x=\"39.65\" xlink:href=\"#maf1d646742\" y=\"185.207306\"/>\n      </g>\n     </g>\n     <g id=\"text_12\">\n      <!-- 1000 -->\n      <g transform=\"translate(7.2 189.006525)scale(0.1 -0.1)\">\n       <use xlink:href=\"#DejaVuSans-49\"/>\n       <use x=\"63.623047\" xlink:href=\"#DejaVuSans-48\"/>\n       <use x=\"127.246094\" xlink:href=\"#DejaVuSans-48\"/>\n       <use x=\"190.869141\" xlink:href=\"#DejaVuSans-48\"/>\n      </g>\n     </g>\n    </g>\n    <g id=\"ytick_4\">\n     <g id=\"line2d_25\">\n      <path clip-path=\"url(#p7a0cd78fb2)\" d=\"M 39.65 158.037835 \nL 374.45 158.037835 \n\" style=\"fill:none;stroke:#b0b0b0;stroke-linecap:square;stroke-width:0.8;\"/>\n     </g>\n     <g id=\"line2d_26\">\n      <g>\n       <use style=\"stroke:#000000;stroke-width:0.8;\" x=\"39.65\" xlink:href=\"#maf1d646742\" y=\"158.037835\"/>\n      </g>\n     </g>\n     <g id=\"text_13\">\n      <!-- 1500 -->\n      <g transform=\"translate(7.2 161.837053)scale(0.1 -0.1)\">\n       <use xlink:href=\"#DejaVuSans-49\"/>\n       <use x=\"63.623047\" xlink:href=\"#DejaVuSans-53\"/>\n       <use x=\"127.246094\" xlink:href=\"#DejaVuSans-48\"/>\n       <use x=\"190.869141\" xlink:href=\"#DejaVuSans-48\"/>\n      </g>\n     </g>\n    </g>\n    <g id=\"ytick_5\">\n     <g id=\"line2d_27\">\n      <path clip-path=\"url(#p7a0cd78fb2)\" d=\"M 39.65 130.868363 \nL 374.45 130.868363 \n\" style=\"fill:none;stroke:#b0b0b0;stroke-linecap:square;stroke-width:0.8;\"/>\n     </g>\n     <g id=\"line2d_28\">\n      <g>\n       <use style=\"stroke:#000000;stroke-width:0.8;\" x=\"39.65\" xlink:href=\"#maf1d646742\" y=\"130.868363\"/>\n      </g>\n     </g>\n     <g id=\"text_14\">\n      <!-- 2000 -->\n      <g transform=\"translate(7.2 134.667581)scale(0.1 -0.1)\">\n       <use xlink:href=\"#DejaVuSans-50\"/>\n       <use x=\"63.623047\" xlink:href=\"#DejaVuSans-48\"/>\n       <use x=\"127.246094\" xlink:href=\"#DejaVuSans-48\"/>\n       <use x=\"190.869141\" xlink:href=\"#DejaVuSans-48\"/>\n      </g>\n     </g>\n    </g>\n    <g id=\"ytick_6\">\n     <g id=\"line2d_29\">\n      <path clip-path=\"url(#p7a0cd78fb2)\" d=\"M 39.65 103.698891 \nL 374.45 103.698891 \n\" style=\"fill:none;stroke:#b0b0b0;stroke-linecap:square;stroke-width:0.8;\"/>\n     </g>\n     <g id=\"line2d_30\">\n      <g>\n       <use style=\"stroke:#000000;stroke-width:0.8;\" x=\"39.65\" xlink:href=\"#maf1d646742\" y=\"103.698891\"/>\n      </g>\n     </g>\n     <g id=\"text_15\">\n      <!-- 2500 -->\n      <g transform=\"translate(7.2 107.49811)scale(0.1 -0.1)\">\n       <use xlink:href=\"#DejaVuSans-50\"/>\n       <use x=\"63.623047\" xlink:href=\"#DejaVuSans-53\"/>\n       <use x=\"127.246094\" xlink:href=\"#DejaVuSans-48\"/>\n       <use x=\"190.869141\" xlink:href=\"#DejaVuSans-48\"/>\n      </g>\n     </g>\n    </g>\n    <g id=\"ytick_7\">\n     <g id=\"line2d_31\">\n      <path clip-path=\"url(#p7a0cd78fb2)\" d=\"M 39.65 76.529419 \nL 374.45 76.529419 \n\" style=\"fill:none;stroke:#b0b0b0;stroke-linecap:square;stroke-width:0.8;\"/>\n     </g>\n     <g id=\"line2d_32\">\n      <g>\n       <use style=\"stroke:#000000;stroke-width:0.8;\" x=\"39.65\" xlink:href=\"#maf1d646742\" y=\"76.529419\"/>\n      </g>\n     </g>\n     <g id=\"text_16\">\n      <!-- 3000 -->\n      <g transform=\"translate(7.2 80.328638)scale(0.1 -0.1)\">\n       <defs>\n        <path d=\"M 40.578125 39.3125 \nQ 47.65625 37.796875 51.625 33 \nQ 55.609375 28.21875 55.609375 21.1875 \nQ 55.609375 10.40625 48.1875 4.484375 \nQ 40.765625 -1.421875 27.09375 -1.421875 \nQ 22.515625 -1.421875 17.65625 -0.515625 \nQ 12.796875 0.390625 7.625 2.203125 \nL 7.625 11.71875 \nQ 11.71875 9.328125 16.59375 8.109375 \nQ 21.484375 6.890625 26.8125 6.890625 \nQ 36.078125 6.890625 40.9375 10.546875 \nQ 45.796875 14.203125 45.796875 21.1875 \nQ 45.796875 27.640625 41.28125 31.265625 \nQ 36.765625 34.90625 28.71875 34.90625 \nL 20.21875 34.90625 \nL 20.21875 43.015625 \nL 29.109375 43.015625 \nQ 36.375 43.015625 40.234375 45.921875 \nQ 44.09375 48.828125 44.09375 54.296875 \nQ 44.09375 59.90625 40.109375 62.90625 \nQ 36.140625 65.921875 28.71875 65.921875 \nQ 24.65625 65.921875 20.015625 65.03125 \nQ 15.375 64.15625 9.8125 62.3125 \nL 9.8125 71.09375 \nQ 15.4375 72.65625 20.34375 73.4375 \nQ 25.25 74.21875 29.59375 74.21875 \nQ 40.828125 74.21875 47.359375 69.109375 \nQ 53.90625 64.015625 53.90625 55.328125 \nQ 53.90625 49.265625 50.4375 45.09375 \nQ 46.96875 40.921875 40.578125 39.3125 \nz\n\" id=\"DejaVuSans-51\"/>\n       </defs>\n       <use xlink:href=\"#DejaVuSans-51\"/>\n       <use x=\"63.623047\" xlink:href=\"#DejaVuSans-48\"/>\n       <use x=\"127.246094\" xlink:href=\"#DejaVuSans-48\"/>\n       <use x=\"190.869141\" xlink:href=\"#DejaVuSans-48\"/>\n      </g>\n     </g>\n    </g>\n    <g id=\"ytick_8\">\n     <g id=\"line2d_33\">\n      <path clip-path=\"url(#p7a0cd78fb2)\" d=\"M 39.65 49.359947 \nL 374.45 49.359947 \n\" style=\"fill:none;stroke:#b0b0b0;stroke-linecap:square;stroke-width:0.8;\"/>\n     </g>\n     <g id=\"line2d_34\">\n      <g>\n       <use style=\"stroke:#000000;stroke-width:0.8;\" x=\"39.65\" xlink:href=\"#maf1d646742\" y=\"49.359947\"/>\n      </g>\n     </g>\n     <g id=\"text_17\">\n      <!-- 3500 -->\n      <g transform=\"translate(7.2 53.159166)scale(0.1 -0.1)\">\n       <use xlink:href=\"#DejaVuSans-51\"/>\n       <use x=\"63.623047\" xlink:href=\"#DejaVuSans-53\"/>\n       <use x=\"127.246094\" xlink:href=\"#DejaVuSans-48\"/>\n       <use x=\"190.869141\" xlink:href=\"#DejaVuSans-48\"/>\n      </g>\n     </g>\n    </g>\n    <g id=\"ytick_9\">\n     <g id=\"line2d_35\">\n      <path clip-path=\"url(#p7a0cd78fb2)\" d=\"M 39.65 22.190475 \nL 374.45 22.190475 \n\" style=\"fill:none;stroke:#b0b0b0;stroke-linecap:square;stroke-width:0.8;\"/>\n     </g>\n     <g id=\"line2d_36\">\n      <g>\n       <use style=\"stroke:#000000;stroke-width:0.8;\" x=\"39.65\" xlink:href=\"#maf1d646742\" y=\"22.190475\"/>\n      </g>\n     </g>\n     <g id=\"text_18\">\n      <!-- 4000 -->\n      <g transform=\"translate(7.2 25.989694)scale(0.1 -0.1)\">\n       <defs>\n        <path d=\"M 37.796875 64.3125 \nL 12.890625 25.390625 \nL 37.796875 25.390625 \nz\nM 35.203125 72.90625 \nL 47.609375 72.90625 \nL 47.609375 25.390625 \nL 58.015625 25.390625 \nL 58.015625 17.1875 \nL 47.609375 17.1875 \nL 47.609375 0 \nL 37.796875 0 \nL 37.796875 17.1875 \nL 4.890625 17.1875 \nL 4.890625 26.703125 \nz\n\" id=\"DejaVuSans-52\"/>\n       </defs>\n       <use xlink:href=\"#DejaVuSans-52\"/>\n       <use x=\"63.623047\" xlink:href=\"#DejaVuSans-48\"/>\n       <use x=\"127.246094\" xlink:href=\"#DejaVuSans-48\"/>\n       <use x=\"190.869141\" xlink:href=\"#DejaVuSans-48\"/>\n      </g>\n     </g>\n    </g>\n   </g>\n   <g id=\"patch_13\">\n    <path d=\"M 39.65 239.54625 \nL 39.65 22.10625 \n\" style=\"fill:none;stroke:#000000;stroke-linecap:square;stroke-linejoin:miter;stroke-width:0.8;\"/>\n   </g>\n   <g id=\"patch_14\">\n    <path d=\"M 374.45 239.54625 \nL 374.45 22.10625 \n\" style=\"fill:none;stroke:#000000;stroke-linecap:square;stroke-linejoin:miter;stroke-width:0.8;\"/>\n   </g>\n   <g id=\"patch_15\">\n    <path d=\"M 39.65 239.54625 \nL 374.45 239.54625 \n\" style=\"fill:none;stroke:#000000;stroke-linecap:square;stroke-linejoin:miter;stroke-width:0.8;\"/>\n   </g>\n   <g id=\"patch_16\">\n    <path d=\"M 39.65 22.10625 \nL 374.45 22.10625 \n\" style=\"fill:none;stroke:#000000;stroke-linecap:square;stroke-linejoin:miter;stroke-width:0.8;\"/>\n   </g>\n   <g id=\"text_19\">\n    <!-- NORMALISED_WEIGHT -->\n    <g transform=\"translate(139.734688 16.10625)scale(0.12 -0.12)\">\n     <defs>\n      <path d=\"M 9.8125 72.90625 \nL 23.09375 72.90625 \nL 55.421875 11.921875 \nL 55.421875 72.90625 \nL 64.984375 72.90625 \nL 64.984375 0 \nL 51.703125 0 \nL 19.390625 60.984375 \nL 19.390625 0 \nL 9.8125 0 \nz\n\" id=\"DejaVuSans-78\"/>\n      <path d=\"M 39.40625 66.21875 \nQ 28.65625 66.21875 22.328125 58.203125 \nQ 16.015625 50.203125 16.015625 36.375 \nQ 16.015625 22.609375 22.328125 14.59375 \nQ 28.65625 6.59375 39.40625 6.59375 \nQ 50.140625 6.59375 56.421875 14.59375 \nQ 62.703125 22.609375 62.703125 36.375 \nQ 62.703125 50.203125 56.421875 58.203125 \nQ 50.140625 66.21875 39.40625 66.21875 \nz\nM 39.40625 74.21875 \nQ 54.734375 74.21875 63.90625 63.9375 \nQ 73.09375 53.65625 73.09375 36.375 \nQ 73.09375 19.140625 63.90625 8.859375 \nQ 54.734375 -1.421875 39.40625 -1.421875 \nQ 24.03125 -1.421875 14.8125 8.828125 \nQ 5.609375 19.09375 5.609375 36.375 \nQ 5.609375 53.65625 14.8125 63.9375 \nQ 24.03125 74.21875 39.40625 74.21875 \nz\n\" id=\"DejaVuSans-79\"/>\n      <path d=\"M 44.390625 34.1875 \nQ 47.5625 33.109375 50.5625 29.59375 \nQ 53.5625 26.078125 56.59375 19.921875 \nL 66.609375 0 \nL 56 0 \nL 46.6875 18.703125 \nQ 43.0625 26.03125 39.671875 28.421875 \nQ 36.28125 30.8125 30.421875 30.8125 \nL 19.671875 30.8125 \nL 19.671875 0 \nL 9.8125 0 \nL 9.8125 72.90625 \nL 32.078125 72.90625 \nQ 44.578125 72.90625 50.734375 67.671875 \nQ 56.890625 62.453125 56.890625 51.90625 \nQ 56.890625 45.015625 53.6875 40.46875 \nQ 50.484375 35.9375 44.390625 34.1875 \nz\nM 19.671875 64.796875 \nL 19.671875 38.921875 \nL 32.078125 38.921875 \nQ 39.203125 38.921875 42.84375 42.21875 \nQ 46.484375 45.515625 46.484375 51.90625 \nQ 46.484375 58.296875 42.84375 61.546875 \nQ 39.203125 64.796875 32.078125 64.796875 \nz\n\" id=\"DejaVuSans-82\"/>\n      <path d=\"M 9.8125 72.90625 \nL 24.515625 72.90625 \nL 43.109375 23.296875 \nL 61.8125 72.90625 \nL 76.515625 72.90625 \nL 76.515625 0 \nL 66.890625 0 \nL 66.890625 64.015625 \nL 48.09375 14.015625 \nL 38.1875 14.015625 \nL 19.390625 64.015625 \nL 19.390625 0 \nL 9.8125 0 \nz\n\" id=\"DejaVuSans-77\"/>\n      <path d=\"M 34.1875 63.1875 \nL 20.796875 26.90625 \nL 47.609375 26.90625 \nz\nM 28.609375 72.90625 \nL 39.796875 72.90625 \nL 67.578125 0 \nL 57.328125 0 \nL 50.6875 18.703125 \nL 17.828125 18.703125 \nL 11.1875 0 \nL 0.78125 0 \nz\n\" id=\"DejaVuSans-65\"/>\n      <path d=\"M 9.8125 72.90625 \nL 19.671875 72.90625 \nL 19.671875 8.296875 \nL 55.171875 8.296875 \nL 55.171875 0 \nL 9.8125 0 \nz\n\" id=\"DejaVuSans-76\"/>\n      <path d=\"M 9.8125 72.90625 \nL 19.671875 72.90625 \nL 19.671875 0 \nL 9.8125 0 \nz\n\" id=\"DejaVuSans-73\"/>\n      <path d=\"M 53.515625 70.515625 \nL 53.515625 60.890625 \nQ 47.90625 63.578125 42.921875 64.890625 \nQ 37.9375 66.21875 33.296875 66.21875 \nQ 25.25 66.21875 20.875 63.09375 \nQ 16.5 59.96875 16.5 54.203125 \nQ 16.5 49.359375 19.40625 46.890625 \nQ 22.3125 44.4375 30.421875 42.921875 \nL 36.375 41.703125 \nQ 47.40625 39.59375 52.65625 34.296875 \nQ 57.90625 29 57.90625 20.125 \nQ 57.90625 9.515625 50.796875 4.046875 \nQ 43.703125 -1.421875 29.984375 -1.421875 \nQ 24.8125 -1.421875 18.96875 -0.25 \nQ 13.140625 0.921875 6.890625 3.21875 \nL 6.890625 13.375 \nQ 12.890625 10.015625 18.65625 8.296875 \nQ 24.421875 6.59375 29.984375 6.59375 \nQ 38.421875 6.59375 43.015625 9.90625 \nQ 47.609375 13.234375 47.609375 19.390625 \nQ 47.609375 24.75 44.3125 27.78125 \nQ 41.015625 30.8125 33.5 32.328125 \nL 27.484375 33.5 \nQ 16.453125 35.6875 11.515625 40.375 \nQ 6.59375 45.0625 6.59375 53.421875 \nQ 6.59375 63.09375 13.40625 68.65625 \nQ 20.21875 74.21875 32.171875 74.21875 \nQ 37.3125 74.21875 42.625 73.28125 \nQ 47.953125 72.359375 53.515625 70.515625 \nz\n\" id=\"DejaVuSans-83\"/>\n      <path d=\"M 9.8125 72.90625 \nL 55.90625 72.90625 \nL 55.90625 64.59375 \nL 19.671875 64.59375 \nL 19.671875 43.015625 \nL 54.390625 43.015625 \nL 54.390625 34.71875 \nL 19.671875 34.71875 \nL 19.671875 8.296875 \nL 56.78125 8.296875 \nL 56.78125 0 \nL 9.8125 0 \nz\n\" id=\"DejaVuSans-69\"/>\n      <path d=\"M 19.671875 64.796875 \nL 19.671875 8.109375 \nL 31.59375 8.109375 \nQ 46.6875 8.109375 53.6875 14.9375 \nQ 60.6875 21.78125 60.6875 36.53125 \nQ 60.6875 51.171875 53.6875 57.984375 \nQ 46.6875 64.796875 31.59375 64.796875 \nz\nM 9.8125 72.90625 \nL 30.078125 72.90625 \nQ 51.265625 72.90625 61.171875 64.09375 \nQ 71.09375 55.28125 71.09375 36.53125 \nQ 71.09375 17.671875 61.125 8.828125 \nQ 51.171875 0 30.078125 0 \nL 9.8125 0 \nz\n\" id=\"DejaVuSans-68\"/>\n      <path d=\"M 50.984375 -16.609375 \nL 50.984375 -23.578125 \nL -0.984375 -23.578125 \nL -0.984375 -16.609375 \nz\n\" id=\"DejaVuSans-95\"/>\n      <path d=\"M 3.328125 72.90625 \nL 13.28125 72.90625 \nL 28.609375 11.28125 \nL 43.890625 72.90625 \nL 54.984375 72.90625 \nL 70.3125 11.28125 \nL 85.59375 72.90625 \nL 95.609375 72.90625 \nL 77.296875 0 \nL 64.890625 0 \nL 49.515625 63.28125 \nL 33.984375 0 \nL 21.578125 0 \nz\n\" id=\"DejaVuSans-87\"/>\n      <path d=\"M 59.515625 10.40625 \nL 59.515625 29.984375 \nL 43.40625 29.984375 \nL 43.40625 38.09375 \nL 69.28125 38.09375 \nL 69.28125 6.78125 \nQ 63.578125 2.734375 56.6875 0.65625 \nQ 49.8125 -1.421875 42 -1.421875 \nQ 24.90625 -1.421875 15.25 8.5625 \nQ 5.609375 18.5625 5.609375 36.375 \nQ 5.609375 54.25 15.25 64.234375 \nQ 24.90625 74.21875 42 74.21875 \nQ 49.125 74.21875 55.546875 72.453125 \nQ 61.96875 70.703125 67.390625 67.28125 \nL 67.390625 56.78125 \nQ 61.921875 61.421875 55.765625 63.765625 \nQ 49.609375 66.109375 42.828125 66.109375 \nQ 29.4375 66.109375 22.71875 58.640625 \nQ 16.015625 51.171875 16.015625 36.375 \nQ 16.015625 21.625 22.71875 14.15625 \nQ 29.4375 6.6875 42.828125 6.6875 \nQ 48.046875 6.6875 52.140625 7.59375 \nQ 56.25 8.5 59.515625 10.40625 \nz\n\" id=\"DejaVuSans-71\"/>\n      <path d=\"M 9.8125 72.90625 \nL 19.671875 72.90625 \nL 19.671875 43.015625 \nL 55.515625 43.015625 \nL 55.515625 72.90625 \nL 65.375 72.90625 \nL 65.375 0 \nL 55.515625 0 \nL 55.515625 34.71875 \nL 19.671875 34.71875 \nL 19.671875 0 \nL 9.8125 0 \nz\n\" id=\"DejaVuSans-72\"/>\n      <path d=\"M -0.296875 72.90625 \nL 61.375 72.90625 \nL 61.375 64.59375 \nL 35.5 64.59375 \nL 35.5 0 \nL 25.59375 0 \nL 25.59375 64.59375 \nL -0.296875 64.59375 \nz\n\" id=\"DejaVuSans-84\"/>\n     </defs>\n     <use xlink:href=\"#DejaVuSans-78\"/>\n     <use x=\"74.804688\" xlink:href=\"#DejaVuSans-79\"/>\n     <use x=\"153.515625\" xlink:href=\"#DejaVuSans-82\"/>\n     <use x=\"222.998047\" xlink:href=\"#DejaVuSans-77\"/>\n     <use x=\"309.277344\" xlink:href=\"#DejaVuSans-65\"/>\n     <use x=\"377.685547\" xlink:href=\"#DejaVuSans-76\"/>\n     <use x=\"433.398438\" xlink:href=\"#DejaVuSans-73\"/>\n     <use x=\"462.890625\" xlink:href=\"#DejaVuSans-83\"/>\n     <use x=\"526.367188\" xlink:href=\"#DejaVuSans-69\"/>\n     <use x=\"589.550781\" xlink:href=\"#DejaVuSans-68\"/>\n     <use x=\"666.552734\" xlink:href=\"#DejaVuSans-95\"/>\n     <use x=\"716.552734\" xlink:href=\"#DejaVuSans-87\"/>\n     <use x=\"815.429688\" xlink:href=\"#DejaVuSans-69\"/>\n     <use x=\"878.613281\" xlink:href=\"#DejaVuSans-73\"/>\n     <use x=\"908.105469\" xlink:href=\"#DejaVuSans-71\"/>\n     <use x=\"985.595703\" xlink:href=\"#DejaVuSans-72\"/>\n     <use x=\"1060.791016\" xlink:href=\"#DejaVuSans-84\"/>\n    </g>\n   </g>\n  </g>\n </g>\n <defs>\n  <clipPath id=\"p7a0cd78fb2\">\n   <rect height=\"217.44\" width=\"334.8\" x=\"39.65\" y=\"22.10625\"/>\n  </clipPath>\n </defs>\n</svg>\n",
      "image/png": "[encoded data removed]"
     },
     "metadata": {
      "needs_background": "light"
     }
    }
   ],
   "source": [
    "threshold = 40\n",
    "\n",
    "print('Drop low height: ',(df.NORMALISED_WEIGHT < threshold).sum())\n",
    "len_before = len(df)\n",
    "df = df.drop(df[df.NORMALISED_WEIGHT < threshold].index)\n",
    "len_after = len(df)\n",
    "print('Dropped: ', len_before - len_after)\n",
    "df.hist(column='NORMALISED_WEIGHT',bins=[0,20,40,60,80,100,120,140,160,180,200])"
   ]
  },
  {
   "cell_type": "code",
   "execution_count": 236,
   "metadata": {},
   "outputs": [
    {
     "output_type": "stream",
     "name": "stdout",
     "text": [
      "                     Death      No death   Total\nAlive                8118       16471      24589\nDead                 13635      5781       19416\nCensored             30         50         80\n"
     ]
    }
   ],
   "source": [
    "vital_alive = df[(df.NEWVITALSTATUS == 'A')] \n",
    "vital_dead = df[(df.NEWVITALSTATUS == 'D')]\n",
    "vital_censored = df[(df.NEWVITALSTATUS == 'X')]\n",
    "no_death = df[(df.DEATHCAUSECODE_1A.isnull()) &\n",
    "                (df.DEATHCAUSECODE_1B.isnull()) & \n",
    "                (df.DEATHCAUSECODE_1C.isnull()) &\n",
    "                (df.DEATHCAUSECODE_2.isnull()) &\n",
    "                (df.DEATHCAUSECODE_UNDERLYING.isnull()) &\n",
    "                (df.DEATHLOCATIONCODE.isnull())]  \n",
    "death = df[~df.index.isin(no_death.index)]\n",
    "\n",
    "alive_but_death = vital_alive[vital_alive.index.isin(death.index)]\n",
    "dead_but_no_death = vital_dead[vital_dead.index.isin(no_death.index)]\n",
    "censored_but_death = vital_censored[vital_censored.index.isin(death.index)]\n",
    "\n",
    "print(\"\".ljust(20), \"Death\".ljust(10), \"No death\".ljust(10), \"Total\")\n",
    "print(\"Alive\".ljust(20), str(len(alive_but_death)).ljust(10), str(len(vital_alive)-len(alive_but_death)).ljust(10), len(vital_alive))\n",
    "print(\"Dead\".ljust(20), str(len(vital_dead)-len(dead_but_no_death)).ljust(10), str(len(dead_but_no_death)).ljust(10), len(vital_dead))\n",
    "print(\"Censored\".ljust(20), str(len(censored_but_death)).ljust(10), str(len(vital_censored)-len(censored_but_death)).ljust(10), len(vital_censored))\n"
   ]
  },
  {
   "cell_type": "code",
   "execution_count": 237,
   "metadata": {},
   "outputs": [
    {
     "output_type": "stream",
     "name": "stdout",
     "text": [
      "54\nFeature                        NaNs       Pct        Drop?\nTUMOURID                       0          0%         False\nPATIENTID                      0          0%         False\nDIAGNOSISDATEBEST              0          0%         False\nSITE_ICD10_O2                  13         0%         False\nSITE_ICD10_O2_3CHAR            7          0%         False\nMORPH_ICD10_O2                 21         0%         False\nBEHAVIOUR_ICD10_O2             22         0%         False\nT_BEST                         43431      99%        True\nN_BEST                         43484      99%        True\nM_BEST                         43394      98%        True\nSTAGE_BEST                     0          0%         False\nSTAGE_BEST_SYSTEM              40499      92%        True\nGRADE                          1674       4%         False\nAGE                            0          0%         False\nSEX                            0          0%         False\nCREG_CODE                      0          0%         False\nLINKNUMBER                     0          0%         False\nSCREENINGSTATUSFULL_CODE       44000      100%       True\nER_STATUS                      44032      100%       True\nER_SCORE                       44080      100%       True\nPR_STATUS                      44054      100%       True\nPR_SCORE                       44085      100%       True\nHER2_STATUS                    44040      100%       True\nCANCERCAREPLANINTENT           33174      75%        False\nPERFORMANCESTATUS              33650      76%        False\nCNS                            39092      89%        True\nACE27                          40131      91%        True\nGLEASON_PRIMARY                44046      100%       True\nGLEASON_SECONDARY              44049      100%       True\nGLEASON_TERTIARY               44080      100%       True\nGLEASON_COMBINED               44048      100%       True\nDATE_FIRST_SURGERY             18120      41%        False\nLATERALITY                     0          0%         False\nQUINTILE_2015                  0          0%         False\nTUMOUR_COUNT                   0          0%         False\nETHNICITY                      1352       3%         False\nDEATHCAUSECODE_1A              23819      54%        False\nDEATHCAUSECODE_1B              40546      92%        True\nDEATHCAUSECODE_1C              43393      98%        True\nDEATHCAUSECODE_2               37775      86%        True\nDEATHCAUSECODE_UNDERLYING      23803      54%        False\nDEATHLOCATIONCODE              23887      54%        False\nNEWVITALSTATUS                 0          0%         False\nVITALSTATUSDATE                0          0%         False\nMERGED_PATIENT_ID              33762      77%        False\nSACT                           33762      77%        False\nMERGED_TUMOUR_ID               35918      81%        False\nREGIMEN_COUNT                  35918      81%        False\nDATE_FIRST_REGIMEN             35918      81%        False\nCLINICAL_TRIAL_INDICATOR       35918      81%        False\nCHEMO_RADIATION_INDICATOR      35918      81%        False\nNORMALISED_HEIGHT              36119      82%        False\nNORMALISED_WEIGHT              36142      82%        False\nHIGHEST_CYCLE                  35918      81%        False\n"
     ]
    }
   ],
   "source": [
    "threshold = 0.15\n",
    "thresh = round(threshold * len(df))\n",
    "print(len(df.columns))\n",
    "print(\"Feature\".ljust(30), \"NaNs\".ljust(10), \"Pct\".ljust(10), \"Drop?\")\n",
    "for k, v in df.isna().sum(axis = 0).items():\n",
    "    print(k.ljust(30), str(v).ljust(10), \"{:.0%}\".format(v/len(df)).ljust(10), v > len(df) - thresh)"
   ]
  },
  {
   "cell_type": "code",
   "execution_count": 238,
   "metadata": {},
   "outputs": [
    {
     "output_type": "stream",
     "name": "stdout",
     "text": [
      "28\n"
     ]
    }
   ],
   "source": [
    "\n",
    "df = df.dropna(axis=1, thresh=thresh)\n",
    "df = df.drop(columns=['DEATHCAUSECODE_1A','DEATHCAUSECODE_UNDERLYING','DEATHLOCATIONCODE'])\n",
    "df = df.drop(columns=['CANCERCAREPLANINTENT','PERFORMANCESTATUS'])\n",
    "df = df.drop(columns=['MERGED_PATIENT_ID','MERGED_TUMOUR_ID'])\n",
    "\n",
    "print(len(df.columns))\n"
   ]
  },
  {
   "cell_type": "code",
   "execution_count": 239,
   "metadata": {},
   "outputs": [
    {
     "output_type": "stream",
     "name": "stdout",
     "text": [
      "Feature                        NaNs       Percentage of all\n",
      "TUMOURID                       0          0%\n",
      "PATIENTID                      0          0%\n",
      "DIAGNOSISDATEBEST              0          0%\n",
      "SITE_ICD10_O2                  13         0%\n",
      "SITE_ICD10_O2_3CHAR            7          0%\n",
      "MORPH_ICD10_O2                 21         0%\n",
      "BEHAVIOUR_ICD10_O2             22         0%\n",
      "STAGE_BEST                     0          0%\n",
      "GRADE                          1674       4%\n",
      "AGE                            0          0%\n",
      "SEX                            0          0%\n",
      "CREG_CODE                      0          0%\n",
      "LINKNUMBER                     0          0%\n",
      "DATE_FIRST_SURGERY             18120      41%\n",
      "LATERALITY                     0          0%\n",
      "QUINTILE_2015                  0          0%\n",
      "TUMOUR_COUNT                   0          0%\n",
      "ETHNICITY                      1352       3%\n",
      "NEWVITALSTATUS                 0          0%\n",
      "VITALSTATUSDATE                0          0%\n",
      "SACT                           33762      77%\n",
      "REGIMEN_COUNT                  35918      81%\n",
      "DATE_FIRST_REGIMEN             35918      81%\n",
      "CLINICAL_TRIAL_INDICATOR       35918      81%\n",
      "CHEMO_RADIATION_INDICATOR      35918      81%\n",
      "NORMALISED_HEIGHT              36119      82%\n",
      "NORMALISED_WEIGHT              36142      82%\n",
      "HIGHEST_CYCLE                  35918      81%\n"
     ]
    }
   ],
   "source": [
    "print(\"Feature\".ljust(30), \"NaNs\".ljust(10), \"Percentage of all\")\n",
    "for k, v in df.isna().sum(axis = 0).items():\n",
    "    print(k.ljust(30), str(v).ljust(10), \"{:.0%}\".format(v/len(df)))"
   ]
  },
  {
   "cell_type": "code",
   "execution_count": 240,
   "metadata": {},
   "outputs": [],
   "source": [
    "df['SITE_ICD10_O2_3CHAR'] = df['SITE_ICD10_O2_3CHAR'].fillna(df['SITE_ICD10_O2'].str[0:3])\n",
    "df = df.drop(columns=['SITE_ICD10_O2'])"
   ]
  },
  {
   "cell_type": "code",
   "execution_count": 243,
   "metadata": {},
   "outputs": [
    {
     "output_type": "stream",
     "name": "stdout",
     "text": [
      "{nan, '1.0', '2.0', '1', '3.0', '3', '9', '6.0', '5', '6', '0.0', 'X', '0', '2'}\n{nan, '1.0', '2.0', '1', '3.0', '3', '9', '6.0', '5', '6', '0.0', '0', '2'}\nReplaced: 11\nBEHAVIOUR_ICD10_O2 all ints:  True\n"
     ]
    },
    {
     "output_type": "execute_result",
     "data": {
      "text/plain": [
       "{0, 1, 2, 3, 5, 6, 9}"
      ]
     },
     "metadata": {},
     "execution_count": 243
    }
   ],
   "source": [
    "column = 'BEHAVIOUR_ICD10_O2'\n",
    "markers = ['X']\n",
    "target = '1'\n",
    "\n",
    "print(set(df[column]))\n",
    "df[column], replaced  = replace(df, column, markers, target)\n",
    "print(set(df[column]))\n",
    "print(f'Replaced: {replaced}')\n",
    "\n",
    "df[column] = df[column].astype(float)\n",
    "print(f'{column} all ints: ',(df[column].fillna(-9999) % 1  == 0).all())\n",
    "\n",
    "df[column] = mean_impute(df, column).astype(int)\n",
    "set(df[column])"
   ]
  },
  {
   "cell_type": "code",
   "execution_count": 244,
   "metadata": {},
   "outputs": [
    {
     "output_type": "stream",
     "name": "stdout",
     "text": [
      "MORPH_ICD10_O2 all ints:  True\n"
     ]
    }
   ],
   "source": [
    "column = 'MORPH_ICD10_O2'\n",
    "print(f'{column} all ints: ',(df[column].fillna(-9999) % 1  == 0).all())\n",
    "df[column] = mean_impute(df, column).astype(int)\n",
    "# set(df[column])"
   ]
  },
  {
   "cell_type": "code",
   "execution_count": 245,
   "metadata": {},
   "outputs": [
    {
     "output_type": "stream",
     "name": "stdout",
     "text": [
      "U      43202\n?        372\n4         90\n1         85\n3         63\n0         48\n2         48\n1A        40\n3A        21\n1A1       16\n2B        16\n1B        15\n4A        14\n4B        13\n2A        12\n3B        10\n1A2        7\n3C         4\n2C         3\n1E         2\n1B1        1\n0A         1\n4C         1\n2A1        1\nName: STAGE_BEST, dtype: int64\n"
     ]
    }
   ],
   "source": [
    "column = 'STAGE_BEST'\n",
    "print(df[column].value_counts())\n",
    "\n",
    "keep = False\n",
    "if keep:\n",
    "    print(set(df[column]))\n",
    "    df[column] = df[column].replace({'U' : '?'})\n",
    "    print(set(df[column]))\n",
    "\n",
    "    values = list(set(df[column]))\n",
    "    replace_values = []\n",
    "\n",
    "    for v in values:\n",
    "        std_value = ''\n",
    "        for ch in v:\n",
    "            # print(ch, std_value)\n",
    "            num = ord(ch) - 48\n",
    "            if not ch.isdigit():\n",
    "                num =  num + 48 - 64 \n",
    "            std_value += str(num)\n",
    "        for _ in range(len(std_value), 3): \n",
    "            std_value += '0'\n",
    "        replace_values.append(std_value)\n",
    "\n",
    "    print(replace_values)\n",
    "\n",
    "    replace_dict = dict(zip(values, replace_values))\n",
    "\n",
    "    df[column] = df[column].replace(replace_dict)\n",
    "    print(set(df[column]))\n",
    "else:\n",
    "    df.drop(columns=column)\n"
   ]
  },
  {
   "cell_type": "code",
   "execution_count": 246,
   "metadata": {},
   "outputs": [
    {
     "output_type": "stream",
     "name": "stdout",
     "text": [
      "{nan, 'GX', 'G4', 'G1', 'G2', 'G3'}\n{'GX', 'G4', 'G1', 'G2', 'G3'}\nReplaced: 1674\n"
     ]
    }
   ],
   "source": [
    "column = 'GRADE'\n",
    "target ='GX'\n",
    "\n",
    "print(set(df[column]))\n",
    "replaced = df[column].isna().sum()\n",
    "df[column] = df[column].fillna(target)\n",
    "print(set(df[column]))\n",
    "print(f'Replaced: {replaced}')\n"
   ]
  },
  {
   "cell_type": "code",
   "execution_count": 247,
   "metadata": {},
   "outputs": [],
   "source": [
    "df['DATE_FIRST_SURGERY'] = pd.to_datetime(df['DATE_FIRST_SURGERY'])\n",
    "df['DIAGNOSISDATEBEST'] = pd.to_datetime(df['DIAGNOSISDATEBEST'])\n",
    "\n",
    "df['DAYS_TO_FIRST_SURGERY'] = (df['DATE_FIRST_SURGERY'] - df['DIAGNOSISDATEBEST']).dt.days.clip(0)\n",
    "\n",
    "column = 'DAYS_TO_FIRST_SURGERY'\n",
    "df[column] = mean_impute(df, column).astype(int)\n",
    "df = df.drop(columns='DATE_FIRST_SURGERY')\n"
   ]
  },
  {
   "cell_type": "code",
   "execution_count": 248,
   "metadata": {},
   "outputs": [
    {
     "output_type": "execute_result",
     "data": {
      "text/plain": [
       "9    22265\n",
       "R    10696\n",
       "L    10385\n",
       "M      444\n",
       "B      295\n",
       "Name: LATERALITY, dtype: int64"
      ]
     },
     "metadata": {},
     "execution_count": 248
    }
   ],
   "source": [
    "df['LATERALITY'].value_counts(dropna=False)\n"
   ]
  },
  {
   "cell_type": "code",
   "execution_count": 249,
   "metadata": {},
   "outputs": [
    {
     "output_type": "execute_result",
     "data": {
      "text/plain": [
       "2    9810\n",
       "1    9752\n",
       "3    9210\n",
       "4    7873\n",
       "5    7440\n",
       "Name: QUINTILE_2015, dtype: int64"
      ]
     },
     "metadata": {},
     "execution_count": 249
    }
   ],
   "source": [
    "# 1 - least, 5 - most deprived\n",
    "df['QUINTILE_2015'] = df['QUINTILE_2015'].replace({'1 - least deprived' : 1, '5 - most deprived': 5})\n",
    "df['QUINTILE_2015'].value_counts(dropna=False)"
   ]
  },
  {
   "cell_type": "code",
   "execution_count": 250,
   "metadata": {},
   "outputs": [
    {
     "output_type": "execute_result",
     "data": {
      "text/plain": [
       "W    38005\n",
       "U     3121\n",
       "A     1335\n",
       "B      724\n",
       "O      573\n",
       "M      240\n",
       "C       87\n",
       "Name: ETHNICITY, dtype: int64"
      ]
     },
     "metadata": {},
     "execution_count": 250
    }
   ],
   "source": [
    "# low concentration of non-white people\n",
    "df['ETHNICITY'].value_counts(dropna=False)\n",
    "replace_dict = {'A' : 'W', 'B' : 'W', 'C' : 'W',\n",
    "                'D' : 'M', 'E' : 'M', 'F' : 'M', 'G' : 'M',\n",
    "                'H' : 'A', 'J' : 'A', 'K' : 'A', 'L' : 'A',\n",
    "                'M' : 'B', 'N' : 'B', 'P' : 'B',\n",
    "                'R' : 'C',\n",
    "                'S' : 'O',\n",
    "                'X' : 'U', 'Z' : 'U', '0' : 'U', '8' : 'U'}\n",
    "df['ETHNICITY'] = df['ETHNICITY'].replace(replace_dict)\n",
    "df['ETHNICITY'].value_counts(dropna=False)\n",
    "df['ETHNICITY'] = df['ETHNICITY'].fillna('U')\n",
    "df['ETHNICITY'].value_counts(dropna=False)\n",
    "\n"
   ]
  },
  {
   "cell_type": "code",
   "execution_count": 251,
   "metadata": {},
   "outputs": [
    {
     "output_type": "execute_result",
     "data": {
      "text/plain": [
       "0"
      ]
     },
     "metadata": {},
     "execution_count": 251
    }
   ],
   "source": [
    "df['VITALSTATUSDATE'] = pd.to_datetime(df['VITALSTATUSDATE'])\n",
    "df['DAYS_SINCE_DIAGNOSIS'] = (df['VITALSTATUSDATE'] - df['DIAGNOSISDATEBEST']).dt.days\n",
    "df = df.drop(columns = 'VITALSTATUSDATE')\n",
    "(df['DAYS_SINCE_DIAGNOSIS'] < 0).sum()"
   ]
  },
  {
   "cell_type": "code",
   "execution_count": 252,
   "metadata": {},
   "outputs": [
    {
     "output_type": "stream",
     "name": "stdout",
     "text": [
      "Drop less than 0 days:  3093\n"
     ]
    }
   ],
   "source": [
    "df['DATE_FIRST_REGIMEN'] = pd.to_datetime(df['DATE_FIRST_REGIMEN'])\n",
    "df['DAYS_TO_FIRST_REGIMEN'] = (df['DATE_FIRST_REGIMEN'] - df['DIAGNOSISDATEBEST']).dt.days\n",
    "print(\"Drop less than 0 days: \",len(df[df.DAYS_TO_FIRST_REGIMEN < 0]))\n",
    "df = df.drop(df[df.DAYS_TO_FIRST_REGIMEN < 0].index)\n",
    "df = df.drop(columns = 'DATE_FIRST_REGIMEN')"
   ]
  },
  {
   "cell_type": "code",
   "execution_count": 253,
   "metadata": {},
   "outputs": [
    {
     "output_type": "execute_result",
     "data": {
      "text/plain": [
       "Empty DataFrame\n",
       "Columns: [TUMOURID, PATIENTID, DIAGNOSISDATEBEST, SITE_ICD10_O2_3CHAR, MORPH_ICD10_O2, BEHAVIOUR_ICD10_O2, STAGE_BEST, GRADE, AGE, SEX, CREG_CODE, LINKNUMBER, LATERALITY, QUINTILE_2015, TUMOUR_COUNT, ETHNICITY, NEWVITALSTATUS, SACT, REGIMEN_COUNT, CLINICAL_TRIAL_INDICATOR, CHEMO_RADIATION_INDICATOR, NORMALISED_HEIGHT, NORMALISED_WEIGHT, HIGHEST_CYCLE, DAYS_TO_FIRST_SURGERY, DAYS_SINCE_DIAGNOSIS, DAYS_TO_FIRST_REGIMEN]\n",
       "Index: []"
      ],
      "text/html": "<div>\n<style scoped>\n    .dataframe tbody tr th:only-of-type {\n        vertical-align: middle;\n    }\n\n    .dataframe tbody tr th {\n        vertical-align: top;\n    }\n\n    .dataframe thead th {\n        text-align: right;\n    }\n</style>\n<table border=\"1\" class=\"dataframe\">\n  <thead>\n    <tr style=\"text-align: right;\">\n      <th></th>\n      <th>TUMOURID</th>\n      <th>PATIENTID</th>\n      <th>DIAGNOSISDATEBEST</th>\n      <th>SITE_ICD10_O2_3CHAR</th>\n      <th>MORPH_ICD10_O2</th>\n      <th>BEHAVIOUR_ICD10_O2</th>\n      <th>STAGE_BEST</th>\n      <th>GRADE</th>\n      <th>AGE</th>\n      <th>SEX</th>\n      <th>CREG_CODE</th>\n      <th>LINKNUMBER</th>\n      <th>LATERALITY</th>\n      <th>QUINTILE_2015</th>\n      <th>TUMOUR_COUNT</th>\n      <th>ETHNICITY</th>\n      <th>NEWVITALSTATUS</th>\n      <th>SACT</th>\n      <th>REGIMEN_COUNT</th>\n      <th>CLINICAL_TRIAL_INDICATOR</th>\n      <th>CHEMO_RADIATION_INDICATOR</th>\n      <th>NORMALISED_HEIGHT</th>\n      <th>NORMALISED_WEIGHT</th>\n      <th>HIGHEST_CYCLE</th>\n      <th>DAYS_TO_FIRST_SURGERY</th>\n      <th>DAYS_SINCE_DIAGNOSIS</th>\n      <th>DAYS_TO_FIRST_REGIMEN</th>\n    </tr>\n  </thead>\n  <tbody>\n  </tbody>\n</table>\n</div>"
     },
     "metadata": {},
     "execution_count": 253
    }
   ],
   "source": [
    "df['SACT'] = df['SACT'].fillna(False)\n",
    "\n",
    "# df.loc[df.REGIMEN_COUNT.isna(), df.CLINICAL_TRIAL_INDICATOR.isna(), df.CHEMO_RADIATION_INDICATOR.isna(), df.NORMALISED_HEIGHT.isna(), df.NORMALISED_WEIGHT.isna(), df.HIGHEST_CYCLE.isna(), 'SACT'] = False\n",
    "\n",
    "# df.loc[df['REGIMEN_COUNT'].isna(), 'SACT'] = False\n",
    "df.loc[df.REGIMEN_COUNT.isna() & \n",
    "        df.CLINICAL_TRIAL_INDICATOR.isna() & \n",
    "        df.CHEMO_RADIATION_INDICATOR.isna() & \n",
    "        df.CHEMO_RADIATION_INDICATOR.isna() & \n",
    "        df.NORMALISED_HEIGHT.isna() & \n",
    "        df.NORMALISED_WEIGHT.isna() & \n",
    "        df.HIGHEST_CYCLE.isna(), \n",
    "        'SACT'] = False\n",
    "\n",
    "df[(df['SACT'] == True) & (df['REGIMEN_COUNT'].isna())]"
   ]
  },
  {
   "cell_type": "code",
   "execution_count": 254,
   "metadata": {},
   "outputs": [],
   "source": [
    "df['REGIMEN_COUNT'] = df['REGIMEN_COUNT'].fillna(0)\n",
    "df['REGIMEN_COUNT'] = df['REGIMEN_COUNT'].astype(int)\n",
    "\n",
    "df.NORMALISED_HEIGHT = df.NORMALISED_HEIGHT.fillna(0)\n",
    "\n",
    "df.NORMALISED_WEIGHT = df.NORMALISED_WEIGHT.fillna(0)\n",
    "\n",
    "df.HIGHEST_CYCLE = df.HIGHEST_CYCLE.fillna(0)\n",
    "df.HIGHEST_CYCLE = df.HIGHEST_CYCLE.astype(int)\n",
    "\n",
    "df.DAYS_TO_FIRST_REGIMEN = df.DAYS_TO_FIRST_REGIMEN.fillna(0)\n",
    "df.DAYS_TO_FIRST_REGIMEN = df.DAYS_TO_FIRST_REGIMEN.astype(int)"
   ]
  },
  {
   "cell_type": "code",
   "execution_count": 255,
   "metadata": {},
   "outputs": [],
   "source": [
    "df['CLINICAL_TRIAL_INDICATOR'] = df['CLINICAL_TRIAL_INDICATOR'].fillna(False)\n",
    "df['CHEMO_RADIATION_INDICATOR'] = df['CHEMO_RADIATION_INDICATOR'].fillna(False)"
   ]
  },
  {
   "cell_type": "code",
   "execution_count": 256,
   "metadata": {},
   "outputs": [],
   "source": [
    "df = df.drop(columns = ['TUMOURID',\t'PATIENTID'\t,'DIAGNOSISDATEBEST','LINKNUMBER'])"
   ]
  },
  {
   "cell_type": "code",
   "execution_count": 257,
   "metadata": {},
   "outputs": [],
   "source": [
    "df.to_csv('./Data/bt-impute.csv', index=False)"
   ]
  },
  {
   "cell_type": "code",
   "execution_count": 258,
   "metadata": {},
   "outputs": [
    {
     "output_type": "stream",
     "name": "stdout",
     "text": [
      "Feature                        NaNs       Percentage of all\nSITE_ICD10_O2_3CHAR            0          0%\nMORPH_ICD10_O2                 0          0%\nBEHAVIOUR_ICD10_O2             0          0%\nSTAGE_BEST                     0          0%\nGRADE                          0          0%\nAGE                            0          0%\nSEX                            0          0%\nCREG_CODE                      0          0%\nLATERALITY                     0          0%\nQUINTILE_2015                  0          0%\nTUMOUR_COUNT                   0          0%\nETHNICITY                      0          0%\nNEWVITALSTATUS                 0          0%\nSACT                           0          0%\nREGIMEN_COUNT                  0          0%\nCLINICAL_TRIAL_INDICATOR       0          0%\nCHEMO_RADIATION_INDICATOR      0          0%\nNORMALISED_HEIGHT              0          0%\nNORMALISED_WEIGHT              0          0%\nHIGHEST_CYCLE                  0          0%\nDAYS_TO_FIRST_SURGERY          0          0%\nDAYS_SINCE_DIAGNOSIS           0          0%\nDAYS_TO_FIRST_REGIMEN          0          0%\n"
     ]
    }
   ],
   "source": [
    "print(\"Feature\".ljust(30), \"NaNs\".ljust(10), \"Percentage of all\")\n",
    "for k, v in df.isna().sum(axis = 0).items():\n",
    "    print(k.ljust(30), str(v).ljust(10), \"{:.0%}\".format(v/len(df)))"
   ]
  }
 ]
}