{
 "cells": [
  {
   "cell_type": "code",
   "execution_count": 129,
   "source": [
    "import matplotlib.pyplot as plt\n",
    "import numpy as np\n",
    "import seaborn as sns\n",
    "\n",
    "from dataset import sample_by_quantiles, sample_iid\n",
    "from load import read_csv\n",
    "\n",
    "from sklearn_pandas import DataFrameMapper\n",
    "from sklearn.preprocessing import StandardScaler\n",
    "from sklearn.preprocessing import MinMaxScaler"
   ],
   "outputs": [],
   "metadata": {}
  },
  {
   "cell_type": "code",
   "execution_count": 130,
   "source": [
    "plt.rcParams.update({\n",
    "    \"text.usetex\": True,\n",
    "    \"font.family\": \"serif\",\n",
    "    \"font.serif\": [\"cm\"],\n",
    "})\n"
   ],
   "outputs": [],
   "metadata": {}
  },
  {
   "cell_type": "code",
   "execution_count": 131,
   "source": [
    "datapath = './Data/data.csv'\n",
    "data = read_csv(datapath).sample(frac=0.1)\n",
    "print(data.shape)\n",
    "data = data.drop(columns='PATIENTID')"
   ],
   "outputs": [
    {
     "output_type": "stream",
     "name": "stdout",
     "text": [
      "(4002, 42)\n"
     ]
    }
   ],
   "metadata": {}
  },
  {
   "cell_type": "code",
   "execution_count": 132,
   "source": [
    "cols_standardise = ['GRADE', 'AGE', 'QUINTILE_2015', 'NORMALISED_HEIGHT', 'NORMALISED_WEIGHT']\n",
    "cols_minmax = ['SEX', 'TUMOUR_COUNT', 'REGIMEN_COUNT']\n",
    "cols_leave = ['SACT', 'CLINICAL_TRIAL_INDICATOR', 'CHEMO_RADIATION_INDICATOR','BENIGN_BEHAVIOUR','SITE_C70', 'SITE_C71', 'SITE_C72', 'SITE_D32','SITE_D33','SITE_D35','CREG_L0201','CREG_L0301','CREG_L0401','CREG_L0801','CREG_L0901','CREG_L1001','CREG_L1201','CREG_L1701','LAT_9','LAT_B','LAT_L','LAT_M','LAT_R','ETH_A','ETH_B','ETH_C','ETH_M','ETH_O','ETH_U','ETH_W','DAYS_TO_FIRST_SURGERY']\n",
    "\n",
    "all_cols = cols_standardise + cols_minmax + cols_leave\n",
    "\n",
    "print(len(data.columns) == len(cols_standardise + cols_minmax + cols_leave) + 2)\n",
    "\n",
    "standardise = [([col], StandardScaler()) for col in cols_standardise]\n",
    "minmax = [([col], MinMaxScaler()) for col in cols_minmax]\n",
    "leave = [(col, None) for col in cols_leave]\n",
    "\n",
    "x_mapper = DataFrameMapper(standardise + minmax + leave)\n",
    "\n",
    "features = x_mapper.fit_transform(data).astype('float32')"
   ],
   "outputs": [
    {
     "output_type": "stream",
     "name": "stdout",
     "text": [
      "True\n"
     ]
    }
   ],
   "metadata": {}
  },
  {
   "cell_type": "code",
   "execution_count": 133,
   "source": [
    "labels = (data.DAYS_SINCE_DIAGNOSIS.values, data.EVENT.values)"
   ],
   "outputs": [],
   "metadata": {}
  },
  {
   "cell_type": "code",
   "execution_count": 134,
   "source": [
    "# dict_center_idxs = sample_iid(features, 4)\n",
    "dict_center_idxs = sample_by_quantiles(labels, 0, 4)"
   ],
   "outputs": [],
   "metadata": {}
  },
  {
   "cell_type": "code",
   "execution_count": 135,
   "source": [
    "def rand_jitter(applyto, arr):\n",
    "    stdev = .01 * (max(arr) - min(arr))\n",
    "    return arr + np.random.randn(len(arr)) * stdev"
   ],
   "outputs": [],
   "metadata": {}
  },
  {
   "cell_type": "code",
   "execution_count": 136,
   "source": [
    "categories = list('1234')\n",
    "fig, ax = plt.subplots(figsize=(4,5))\n",
    "colors = [\"royalblue\",'limegreen']\n",
    "dotsize = 1\n",
    "marker = 'o'\n",
    "for center, idxs in enumerate(dict_center_idxs.values()):\n",
    "    durations = labels[0][list(idxs)]\n",
    "    events = labels[1][list(idxs)]\n",
    "\n",
    "    uncensored = durations[np.where(events == 1)]\n",
    "    censored = durations[np.where(events == 0)]\n",
    "\n",
    "    width = 0.1\n",
    "    x = np.ones(len(uncensored)) * center - width/2 + (np.random.rand(len(uncensored))*width-width/2.)\n",
    "    if center == 0:\n",
    "        ax.scatter(x, uncensored, marker=marker,s=dotsize, color=colors[0], label='Uncensored')\n",
    "    else:\n",
    "        ax.scatter(x, uncensored, marker=marker,s=dotsize, color=colors[0])\n",
    "    x = np.ones(len(censored)) * center + width/2 + (np.random.rand(len(censored))*width-width/2.)\n",
    "    if center == 0:\n",
    "        ax.scatter(x, censored, marker=marker,s=dotsize, color=colors[1], label='Censored')\n",
    "    else:\n",
    "        ax.scatter(x, censored, marker=marker,s=dotsize, color=colors[1])\n",
    "    ax.legend(fontsize=14, markerscale=5)\n",
    "\n",
    "ax.set_xticks(range(len(categories)))\n",
    "ax.set_xticklabels(categories, fontsize=14)\n",
    "ax.set_yticklabels([0,500,1000,1500,2000,2500,3000], fontsize=14)\n",
    "ax.set_xlabel('Centre', fontsize=16)\n",
    "ax.set_ylabel('Event time', fontsize=16)\n",
    "plt.tight_layout()\n",
    "plt.savefig('./figs/noniid.eps', format='eps')\n"
   ],
   "outputs": [
    {
     "output_type": "stream",
     "name": "stderr",
     "text": [
      "<ipython-input-136-22581963bfd3>:28: UserWarning: FixedFormatter should only be used together with FixedLocator\n",
      "  ax.set_yticklabels([0,500,1000,1500,2000,2500,3000], fontsize=14)\n",
      "The PostScript backend does not support transparency; partially transparent artists will be rendered opaque.\n",
      "The PostScript backend does not support transparency; partially transparent artists will be rendered opaque.\n"
     ]
    },
    {
     "output_type": "display_data",
     "data": {
      "text/plain": [
       "<Figure size 288x360 with 1 Axes>"
      ],
      "image/png": "[encoded data removed]"
     },
     "metadata": {
      "needs_background": "light"
     }
    }
   ],
   "metadata": {}
  }
 ],
 "metadata": {
  "orig_nbformat": 4,
  "language_info": {
   "name": "python"
  }
 },
 "nbformat": 4,
 "nbformat_minor": 2
}