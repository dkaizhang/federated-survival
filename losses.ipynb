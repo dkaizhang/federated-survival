{
 "cells": [
  {
   "cell_type": "code",
   "execution_count": 376,
   "source": [
    "import matplotlib.pyplot as plt\n",
    "import numpy as np"
   ],
   "outputs": [],
   "metadata": {}
  },
  {
   "cell_type": "code",
   "execution_count": 377,
   "source": [
    "path = './losses'"
   ],
   "outputs": [],
   "metadata": {}
  },
  {
   "cell_type": "code",
   "execution_count": 378,
   "source": [
    "model_type = 'NNnph'\n",
    "case = 'iid'\n",
    "local_epochs = 1\n",
    "what = 'global'"
   ],
   "outputs": [],
   "metadata": {}
  },
  {
   "cell_type": "code",
   "execution_count": 379,
   "source": [
    "filename = f'{path}/{what}_val_loss_M{model_type}C{case}L{local_epochs}.npy'\n",
    "losses = np.load(filename)\n",
    "mean = losses.mean(axis=0)\n",
    "std = losses.std(axis=0)\n",
    "color=['royalblue','limegreen','purple','goldenrod']\n",
    "if what == 'local':\n",
    "    for i,m in enumerate(mean):\n",
    "        plt.plot(range(100),m, color=color[i])\n",
    "        plt.fill_between(range(100), m - std[i], m + std[i], alpha=0.5, color=color[i])\n",
    "else:\n",
    "    plt.plot(range(100),mean, color=color[0])\n",
    "    plt.fill_between(range(100), mean - std, mean + std, alpha=0.5, color=color[0])\n",
    "\n",
    "# plt.plot(mean, range(100))\n",
    "\n",
    "# plt.fill_between(range(100), mean - std, mean + std)\n",
    "\n",
    "filename = f'{path}/{what}_train_loss_M{model_type}C{case}L{local_epochs}.npy'\n",
    "losses = np.load(filename)\n",
    "\n",
    "mean = losses.mean(axis=0)\n",
    "std = losses.std(axis=0)\n",
    "color=['lightsteelblue','palegreen','plum','wheat']\n",
    "if what == 'local':\n",
    "    for i,m in enumerate(mean):\n",
    "        plt.plot(range(100),m, color[i])\n",
    "        plt.fill_between(range(100), m - std[i], m + std[i], alpha=0.5, color=color[i])\n",
    "else:\n",
    "    plt.plot(range(100),mean, color[0])\n",
    "    plt.fill_between(range(100), mean - std, mean + std, alpha=0.5, color=color[0])\n",
    "\n",
    "x1,x2,y1,y2 = plt.axis()  \n",
    "plt.axis((x1,x2,0.75,10))\n",
    "# # plt.legend(['a','b','c','d'])"
   ],
   "outputs": [
    {
     "output_type": "execute_result",
     "data": {
      "text/plain": [
       "(-4.95, 103.95, 0.75, 10.0)"
      ]
     },
     "metadata": {},
     "execution_count": 379
    },
    {
     "output_type": "display_data",
     "data": {
      "text/plain": [
       "<Figure size 432x288 with 1 Axes>"
      ],
      "image/png": "[encoded data removed]"
     },
     "metadata": {
      "needs_background": "light"
     }
    }
   ],
   "metadata": {}
  }
 ],
 "metadata": {
  "orig_nbformat": 4,
  "language_info": {
   "name": "python",
   "version": "3.8.7",
   "mimetype": "text/x-python",
   "codemirror_mode": {
    "name": "ipython",
    "version": 3
   },
   "pygments_lexer": "ipython3",
   "nbconvert_exporter": "python",
   "file_extension": ".py"
  },
  "kernelspec": {
   "name": "python3",
   "display_name": "Python 3.8.7 64-bit ('flenv': venv)"
  },
  "interpreter": {
   "hash": "f1c13921e8e375de9335a0ccf3b3c47f8dbb15e8689cc78791955ed1115cd503"
  }
 },
 "nbformat": 4,
 "nbformat_minor": 2
}