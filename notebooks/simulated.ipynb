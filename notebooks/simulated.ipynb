{
 "cells": [
  {
   "cell_type": "code",
   "execution_count": null,
   "source": [
    "import sys\n",
    "sys.path.append(\"../\")"
   ],
   "outputs": [],
   "metadata": {}
  },
  {
   "cell_type": "code",
   "execution_count": 1,
   "source": [
    "import numpy as np\n",
    "import pandas as pd\n",
    "import torch\n",
    "import warnings\n",
    "\n",
    "from model.load import read_csv\n",
    "\n",
    "from pycox import datasets\n",
    "from pycox.evaluation import EvalSurv\n",
    "\n",
    "from model.dataset import Dataset, sample_by_quantiles\n",
    "from model.fedcox import Federation\n",
    "from model.net import MLP, MLPPH, CoxPH\n",
    "from model.discretiser import Discretiser\n",
    "from model.interpolate import surv_const_pdf_df\n",
    "\n",
    "from sklearn.model_selection import KFold\n",
    "from sklearn_pandas import DataFrameMapper\n",
    "from sklearn.preprocessing import StandardScaler\n",
    "from sklearn.preprocessing import MinMaxScaler\n",
    "\n",
    "from torch.utils.data import DataLoader"
   ],
   "outputs": [],
   "metadata": {}
  },
  {
   "cell_type": "code",
   "execution_count": null,
   "source": [
    "rng = np.random.default_rng(12)\n",
    "_ = torch.manual_seed(12)"
   ],
   "outputs": [],
   "metadata": {}
  },
  {
   "cell_type": "code",
   "execution_count": 2,
   "source": [
    "df = datasets.rr_nl_nhp.read_df()"
   ],
   "outputs": [
    {
     "output_type": "stream",
     "name": "stdout",
     "text": [
      "Dataset 'rr_nl_nph' not created yet. Making dataset...\n",
      "Done\n"
     ]
    }
   ],
   "metadata": {}
  },
  {
   "cell_type": "code",
   "execution_count": 3,
   "source": [
    "df.head()"
   ],
   "outputs": [
    {
     "output_type": "execute_result",
     "data": {
      "text/html": [
       "<div>\n",
       "<style scoped>\n",
       "    .dataframe tbody tr th:only-of-type {\n",
       "        vertical-align: middle;\n",
       "    }\n",
       "\n",
       "    .dataframe tbody tr th {\n",
       "        vertical-align: top;\n",
       "    }\n",
       "\n",
       "    .dataframe thead th {\n",
       "        text-align: right;\n",
       "    }\n",
       "</style>\n",
       "<table border=\"1\" class=\"dataframe\">\n",
       "  <thead>\n",
       "    <tr style=\"text-align: right;\">\n",
       "      <th></th>\n",
       "      <th>x0</th>\n",
       "      <th>x1</th>\n",
       "      <th>x2</th>\n",
       "      <th>duration_true</th>\n",
       "      <th>event_true</th>\n",
       "      <th>censoring_true</th>\n",
       "      <th>duration</th>\n",
       "      <th>event</th>\n",
       "    </tr>\n",
       "  </thead>\n",
       "  <tbody>\n",
       "    <tr>\n",
       "      <th>0</th>\n",
       "      <td>-0.616961</td>\n",
       "      <td>0.244218</td>\n",
       "      <td>-0.124545</td>\n",
       "      <td>14.232236</td>\n",
       "      <td>1.0</td>\n",
       "      <td>0.847494</td>\n",
       "      <td>0.847494</td>\n",
       "      <td>0.0</td>\n",
       "    </tr>\n",
       "    <tr>\n",
       "      <th>1</th>\n",
       "      <td>0.570717</td>\n",
       "      <td>0.559952</td>\n",
       "      <td>-0.454815</td>\n",
       "      <td>7.670356</td>\n",
       "      <td>1.0</td>\n",
       "      <td>47.831032</td>\n",
       "      <td>7.670356</td>\n",
       "      <td>1.0</td>\n",
       "    </tr>\n",
       "    <tr>\n",
       "      <th>2</th>\n",
       "      <td>-0.447071</td>\n",
       "      <td>0.603744</td>\n",
       "      <td>0.916279</td>\n",
       "      <td>5.810155</td>\n",
       "      <td>1.0</td>\n",
       "      <td>54.283710</td>\n",
       "      <td>5.810155</td>\n",
       "      <td>1.0</td>\n",
       "    </tr>\n",
       "    <tr>\n",
       "      <th>3</th>\n",
       "      <td>0.751865</td>\n",
       "      <td>-0.284365</td>\n",
       "      <td>0.001990</td>\n",
       "      <td>5.038248</td>\n",
       "      <td>1.0</td>\n",
       "      <td>7.978237</td>\n",
       "      <td>5.038248</td>\n",
       "      <td>1.0</td>\n",
       "    </tr>\n",
       "    <tr>\n",
       "      <th>4</th>\n",
       "      <td>0.366926</td>\n",
       "      <td>0.425404</td>\n",
       "      <td>-0.259498</td>\n",
       "      <td>17.822994</td>\n",
       "      <td>1.0</td>\n",
       "      <td>34.851257</td>\n",
       "      <td>17.822994</td>\n",
       "      <td>1.0</td>\n",
       "    </tr>\n",
       "  </tbody>\n",
       "</table>\n",
       "</div>"
      ],
      "text/plain": [
       "         x0        x1        x2  duration_true  event_true  censoring_true  \\\n",
       "0 -0.616961  0.244218 -0.124545      14.232236         1.0        0.847494   \n",
       "1  0.570717  0.559952 -0.454815       7.670356         1.0       47.831032   \n",
       "2 -0.447071  0.603744  0.916279       5.810155         1.0       54.283710   \n",
       "3  0.751865 -0.284365  0.001990       5.038248         1.0        7.978237   \n",
       "4  0.366926  0.425404 -0.259498      17.822994         1.0       34.851257   \n",
       "\n",
       "    duration  event  \n",
       "0   0.847494    0.0  \n",
       "1   7.670356    1.0  \n",
       "2   5.810155    1.0  \n",
       "3   5.038248    1.0  \n",
       "4  17.822994    1.0  "
      ]
     },
     "metadata": {},
     "execution_count": 3
    }
   ],
   "metadata": {}
  },
  {
   "cell_type": "code",
   "execution_count": null,
   "source": [
    "to_max = ['GRADE','TUMOUR_COUNT','SACT','REGIMEN_COUNT','CLINICAL_TRIAL_INDICATOR','NORMALISED_HEIGHT','NORMALISED_WEIGHT','CHEMO_RADIATION_INDICATOR','DAYS_TO_FIRST_SURGERY','DAYS_SINCE_DIAGNOSIS','BENIGN_BEHAVIOUR']\n",
    "\n",
    "for m in to_max:\n",
    "    df = add_aggregate(df,what='max',target=m,groupby='PATIENTID',name=m)\n",
    "for m in to_median:\n",
    "    df = add_aggregate(df,what='median',target=m,groupby='PATIENTID',name=m)\n",
    "for m in to_min:\n",
    "    df = add_aggregate(df,what='min',target=m,groupby='PATIENTID',name=m)\n",
    "df.head()"
   ],
   "outputs": [],
   "metadata": {}
  }
 ],
 "metadata": {
  "orig_nbformat": 4,
  "language_info": {
   "name": "python",
   "version": "3.8.7",
   "mimetype": "text/x-python",
   "codemirror_mode": {
    "name": "ipython",
    "version": 3
   },
   "pygments_lexer": "ipython3",
   "nbconvert_exporter": "python",
   "file_extension": ".py"
  },
  "kernelspec": {
   "name": "python3",
   "display_name": "Python 3.8.7 64-bit ('flenv': venv)"
  },
  "interpreter": {
   "hash": "f1c13921e8e375de9335a0ccf3b3c47f8dbb15e8689cc78791955ed1115cd503"
  }
 },
 "nbformat": 4,
 "nbformat_minor": 2
}