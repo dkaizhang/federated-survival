{
 "cells": [
  {
   "cell_type": "code",
   "execution_count": 9,
   "metadata": {},
   "outputs": [],
   "source": [
    "import sys\n",
    "sys.path.append(\"../\")"
   ]
  },
  {
   "cell_type": "code",
   "execution_count": 10,
   "metadata": {},
   "outputs": [],
   "source": [
    "import matplotlib.pyplot as plt\n",
    "import numpy as np\n",
    "\n",
    "from model.dataset import sample_by_quantiles, sample_iid\n",
    "from model.load import read_csv\n",
    "\n",
    "from pycox import datasets\n",
    "\n",
    "from sklearn.compose import ColumnTransformer\n",
    "from sklearn.preprocessing import MinMaxScaler\n",
    "from sklearn.preprocessing import StandardScaler\n"
   ]
  },
  {
   "cell_type": "code",
   "execution_count": 11,
   "metadata": {},
   "outputs": [],
   "source": [
    "plt.rcParams.update({\n",
    "    \"text.usetex\": True,\n",
    "    \"font.family\": \"serif\",\n",
    "    \"font.serif\": [\"cm\"],\n",
    "})"
   ]
  },
  {
   "cell_type": "code",
   "execution_count": 12,
   "metadata": {},
   "outputs": [],
   "source": [
    "data = datasets.metabric.read_df()\n",
    "cols_standardise = []\n",
    "cols_minmax = ['x0', 'x1', 'x2', 'x3','x8']\n",
    "cols_leave = ['x4','x5','x6','x7']\n",
    "\n",
    "all_cols = cols_standardise + cols_minmax + cols_leave\n",
    "standardise = [(f'standard{i}',StandardScaler(), [col]) for i,col in enumerate(cols_standardise)]\n",
    "leave = [(f'leave{i}','passthrough',[col]) for i,col in enumerate(cols_leave)]\n",
    "minmax = [(f'minmax{i}',MinMaxScaler(),[col]) for i,col in enumerate(cols_minmax)] \n",
    "\n",
    "x_mapper = ColumnTransformer(standardise + minmax + leave) \n",
    "\n",
    "features = x_mapper.fit_transform(data).astype('float32')\n",
    "labels = (data.duration.values, data.event.values)"
   ]
  },
  {
   "cell_type": "code",
   "execution_count": 13,
   "metadata": {},
   "outputs": [],
   "source": [
    "# datapath = '../Data/data.csv'\n",
    "# data = read_csv(datapath).sample(frac=0.1)\n",
    "# print(data.shape)\n",
    "# data = data.drop(columns='PATIENTID')\n",
    "\n",
    "# cols_standardise = ['GRADE', 'AGE', 'QUINTILE_2015', 'NORMALISED_HEIGHT', 'NORMALISED_WEIGHT']\n",
    "# cols_minmax = ['SEX', 'TUMOUR_COUNT', 'REGIMEN_COUNT']\n",
    "# cols_leave = ['SACT', 'CLINICAL_TRIAL_INDICATOR', 'CHEMO_RADIATION_INDICATOR','BENIGN_BEHAVIOUR','SITE_C70', 'SITE_C71', 'SITE_C72', 'SITE_D32','SITE_D33','SITE_D35','CREG_L0201','CREG_L0301','CREG_L0401','CREG_L0801','CREG_L0901','CREG_L1001','CREG_L1201','CREG_L1701','LAT_9','LAT_B','LAT_L','LAT_M','LAT_R','ETH_A','ETH_B','ETH_C','ETH_M','ETH_O','ETH_U','ETH_W','DAYS_TO_FIRST_SURGERY']\n",
    "\n",
    "# all_cols = cols_standardise + cols_minmax + cols_leave\n",
    "\n",
    "# print(len(data.columns) == len(cols_standardise + cols_minmax + cols_leave) + 2)\n",
    "\n",
    "# standardise = [([col], StandardScaler()) for col in cols_standardise]\n",
    "# minmax = [([col], MinMaxScaler()) for col in cols_minmax]\n",
    "# leave = [(col, None) for col in cols_leave]\n",
    "\n",
    "# x_mapper = DataFrameMapper(standardise + minmax + leave)\n",
    "\n",
    "# features = x_mapper.fit_transform(data).astype('float32')\n",
    "# labels = (data.DAYS_SINCE_DIAGNOSIS.values, data.EVENT.values)"
   ]
  },
  {
   "cell_type": "code",
   "execution_count": 14,
   "metadata": {},
   "outputs": [
    {
     "name": "stdout",
     "output_type": "stream",
     "text": [
      "Available:  1904\n"
     ]
    }
   ],
   "source": [
    "# dict_center_idxs = sample_iid(features, 4)\n",
    "dict_center_idxs = sample_by_quantiles(labels, 0, 4)"
   ]
  },
  {
   "cell_type": "code",
   "execution_count": 15,
   "metadata": {},
   "outputs": [],
   "source": [
    "def rand_jitter(applyto, arr):\n",
    "    stdev = .01 * (max(arr) - min(arr))\n",
    "    return arr + np.random.randn(len(arr)) * stdev"
   ]
  },
  {
   "cell_type": "code",
   "execution_count": 16,
   "metadata": {},
   "outputs": [
    {
     "data": {
      "image/png": "[encoded data removed]",
      "text/plain": [
       "<Figure size 288x360 with 1 Axes>"
      ]
     },
     "metadata": {
      "needs_background": "light"
     },
     "output_type": "display_data"
    }
   ],
   "source": [
    "categories = list('1234')\n",
    "fig, ax = plt.subplots(figsize=(4,5))\n",
    "for axis in ['top','bottom','left','right']:\n",
    "    ax.spines[axis].set_linewidth(2)\n",
    "colors = [\"royalblue\",'limegreen']\n",
    "dotsize = 2\n",
    "marker = 'o'\n",
    "smallfont = 18\n",
    "bigfont = 20\n",
    "for center, idxs in enumerate(dict_center_idxs.values()):\n",
    "    durations = labels[0][list(idxs)]\n",
    "    events = labels[1][list(idxs)]\n",
    "\n",
    "    uncensored = durations[np.where(events == 1)]\n",
    "    censored = durations[np.where(events == 0)]\n",
    "\n",
    "    width = 0.1\n",
    "    x = np.ones(len(uncensored)) * center - width/2 + (np.random.rand(len(uncensored))*width-width/2.)\n",
    "    if center == 0:\n",
    "        ax.scatter(x, uncensored, marker=marker,s=dotsize, color=colors[0], label='Uncensored')\n",
    "    else:\n",
    "        ax.scatter(x, uncensored, marker=marker,s=dotsize, color=colors[0])\n",
    "    x = np.ones(len(censored)) * center + width/2 + (np.random.rand(len(censored))*width-width/2.)\n",
    "    if center == 0:\n",
    "        ax.scatter(x, censored, marker=marker,s=dotsize, color=colors[1], label='Censored')\n",
    "    else:\n",
    "        ax.scatter(x, censored, marker=marker,s=dotsize, color=colors[1])\n",
    "    # ax.legend(fontsize=smallfont, markerscale=5)\n",
    "\n",
    "ax.set_xticks(range(len(categories)))\n",
    "ax.set_xticklabels(categories, fontsize=smallfont)\n",
    "ax.tick_params(axis='y', labelsize=smallfont)\n",
    "# ax.set_yticklabels([0,500,1000,1500,2000,2500,3000], fontsize=14)\n",
    "ax.set_xlabel('Centre', fontsize=bigfont)\n",
    "ax.set_ylabel('Event time', fontsize=bigfont)\n",
    "ax.xaxis.set_tick_params(width=2)\n",
    "ax.yaxis.set_tick_params(width=2)\n",
    "plt.tight_layout()\n",
    "plt.savefig('../figs/noniid.eps', dpi=600, format='eps')\n"
   ]
  }
 ],
 "metadata": {
  "interpreter": {
   "hash": "12717b66a107e17dccf0f5f43a851181ab5f1b7a59e0e1e92c5a01b78b409eac"
  },
  "kernelspec": {
   "display_name": "Python 3.8.7 64-bit ('flenv': venv)",
   "name": "python3"
  },
  "language_info": {
   "codemirror_mode": {
    "name": "ipython",
    "version": 3
   },
   "file_extension": ".py",
   "mimetype": "text/x-python",
   "name": "python",
   "nbconvert_exporter": "python",
   "pygments_lexer": "ipython3",
   "version": "3.8.12"
  },
  "orig_nbformat": 4
 },
 "nbformat": 4,
 "nbformat_minor": 2
}
