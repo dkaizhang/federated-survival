{
 "cells": [
  {
   "cell_type": "code",
   "execution_count": 141,
   "metadata": {},
   "outputs": [],
   "source": [
    "import sys\n",
    "sys.path.append(\"../\")"
   ]
  },
  {
   "cell_type": "code",
   "execution_count": 142,
   "metadata": {},
   "outputs": [],
   "source": [
    "import matplotlib.pyplot as plt\n",
    "import numpy as np\n",
    "\n",
    "from matplotlib.ticker import FormatStrFormatter\n",
    "from utilities.result_utilities import get_filepath, get_filepath_additional, extract_figures, extract_stats, extract_lr"
   ]
  },
  {
   "cell_type": "code",
   "execution_count": 143,
   "metadata": {},
   "outputs": [],
   "source": [
    "plt.rcParams.update({\n",
    "    \"text.usetex\": True,\n",
    "    \"font.family\": \"serif\",\n",
    "    \"font.serif\": [\"cm\"],\n",
    "})"
   ]
  },
  {
   "cell_type": "code",
   "execution_count": 144,
   "metadata": {},
   "outputs": [
    {
     "name": "stdout",
     "output_type": "stream",
     "text": [
      "['../results-gbsg/CoxPH/training_log_MCoxPHCcentralSNoneC1L1.txt', '../results-gbsg/CoxPH/training_log_MCoxPHCiidSNoneC4L1.txt', '../results-gbsg/CoxPH/training_log_MCoxPHCiidSNoneC4L5.txt', '../results-gbsg/CoxPH/training_log_MCoxPHCiidSNoneC4L20.txt', '../results-gbsg/CoxPH/training_log_MCoxPHCiidSNoneC4L100.txt', '../results-gbsg/CoxPH/training_log_MCoxPHCnoniidS0C4L1.txt', '../results-gbsg/CoxPH/training_log_MCoxPHCnoniidS0C4L5.txt', '../results-gbsg/CoxPH/training_log_MCoxPHCnoniidS0C4L20.txt', '../results-gbsg/CoxPH/training_log_MCoxPHCnoniidS0C4L100.txt', '../results-gbsg/NNph/training_log_MNNphCcentralSNoneC1L1.txt', '../results-gbsg/NNph/training_log_MNNphCiidSNoneC4L1.txt', '../results-gbsg/NNph/training_log_MNNphCiidSNoneC4L5.txt', '../results-gbsg/NNph/training_log_MNNphCiidSNoneC4L20.txt', '../results-gbsg/NNph/training_log_MNNphCiidSNoneC4L100.txt', '../results-gbsg/NNph/training_log_MNNphCnoniidS0C4L1.txt', '../results-gbsg/NNph/training_log_MNNphCnoniidS0C4L5.txt', '../results-gbsg/NNph/training_log_MNNphCnoniidS0C4L20.txt', '../results-gbsg/NNph/training_log_MNNphCnoniidS0C4L100.txt', '../results-gbsg/NNnph/training_log_MNNnphCcentralSNoneC1L1.txt', '../results-gbsg/NNnph/training_log_MNNnphCiidSNoneC4L1.txt', '../results-gbsg/NNnph/training_log_MNNnphCiidSNoneC4L5.txt', '../results-gbsg/NNnph/training_log_MNNnphCiidSNoneC4L20.txt', '../results-gbsg/NNnph/training_log_MNNnphCiidSNoneC4L100.txt', '../results-gbsg/NNnph/training_log_MNNnphCnoniidS0C4L1.txt', '../results-gbsg/NNnph/training_log_MNNnphCnoniidS0C4L5.txt', '../results-gbsg/NNnph/training_log_MNNnphCnoniidS0C4L20.txt', '../results-gbsg/NNnph/training_log_MNNnphCnoniidS0C4L100.txt']\n"
     ]
    }
   ],
   "source": [
    "# dura = 'longest'\n",
    "dura = 'results-gbsg'\n",
    "# files = get_filepath(dura)\n",
    "files = get_filepath_additional(dura)\n",
    "print(files)\n"
   ]
  },
  {
   "cell_type": "code",
   "execution_count": null,
   "metadata": {},
   "outputs": [],
   "source": []
  },
  {
   "cell_type": "code",
   "execution_count": 145,
   "metadata": {},
   "outputs": [
    {
     "name": "stdout",
     "output_type": "stream",
     "text": [
      "0 0.1\n",
      "1 0.1\n",
      "5 0.1\n",
      "9 0.01\n",
      "10 0.1\n",
      "14 0.1\n",
      "18 0.01\n",
      "19 0.1\n",
      "23 0.01\n"
     ]
    }
   ],
   "source": [
    "lrs = extract_lr(files)\n",
    "for i, l in enumerate(lrs):\n",
    "    if i % 9 in [0,1,5]:\n",
    "        print(i, l)"
   ]
  },
  {
   "cell_type": "code",
   "execution_count": 146,
   "metadata": {},
   "outputs": [],
   "source": [
    "concordances, briers = extract_figures(files)\n",
    "for file in files:\n",
    "    with open(file, 'r') as f:\n",
    "        # print(file)\n",
    "        lines = f.read().splitlines()\n",
    "        last_line = lines[-1]\n",
    "        # print(last_line)\n",
    "        start = last_line.find('concordance: ') + len('concordance: ') \n",
    "        end = 10        \n",
    "        concordance = float(last_line[start:start+end])\n",
    "        concordances.append(concordance)\n",
    "        # print(round(concordance * 100, 2))\n",
    "        start = last_line.find('Brier: ') + len('Brier: ') \n",
    "        end = 10     \n",
    "        brier = float(last_line[start:start+end])\n",
    "        briers.append(brier)\n",
    "        # print(round(brier * 100, 2))\n"
   ]
  },
  {
   "cell_type": "code",
   "execution_count": 147,
   "metadata": {},
   "outputs": [
    {
     "name": "stdout",
     "output_type": "stream",
     "text": [
      "18.040 +- 0.5\n",
      ";\n",
      "18.090 +- 0.2\n",
      ";\n",
      "18.090 +- 0.2\n",
      ";\n",
      "18.140 +- 0.5\n",
      ";\n",
      "18.150 +- 0.3\n",
      ";\n",
      "20.430 +- 0.5\n",
      ";\n",
      "20.060 +- 0.5\n",
      ";\n",
      "20.350 +- 0.2\n",
      ";\n",
      "22.070 +- 0.3\n",
      ";\n",
      "18.200 +- 0.8\n",
      ";\n",
      "17.730 +- 0.3\n",
      ";\n",
      "17.800 +- 0.4\n",
      ";\n",
      "17.910 +- 0.8\n",
      ";\n",
      "19.840 +- 1.9\n",
      ";\n",
      "20.500 +- 0.6\n",
      ";\n",
      "20.640 +- 0.4\n",
      ";\n",
      "20.430 +- 0.2\n",
      ";\n",
      "22.310 +- 0.5\n",
      ";\n",
      "17.970 +- 0.4\n",
      ";\n",
      "18.330 +- 0.5\n",
      ";\n",
      "18.170 +- 0.6\n",
      ";\n",
      "18.690 +- 0.7\n",
      ";\n",
      "21.680 +- 1.5\n",
      ";\n",
      "23.620 +- 0.9\n",
      ";\n",
      "22.440 +- 0.8\n",
      ";\n",
      "21.740 +- 0.5\n",
      ";\n",
      "22.720 +- 1.0\n",
      ";\n"
     ]
    }
   ],
   "source": [
    "indiv_rounds, avg_rounds, std_rounds, indiv_concordances, avg_concordances, std_concordances, indiv_briers, avg_briers, std_briers = extract_stats(files)\n",
    "dec = 2\n",
    "for i in range(len(avg_concordances)):\n",
    "    # print(concs)\n",
    "    # print(f'{round(100*avg_concordances[i],dec):.1f} +- {round(100*std_concordances[i],dec):.1f}' )\n",
    "    # print(brs)\n",
    "    print(f'{round(100*avg_briers[i],dec):.3f} +- {round(100*std_briers[i],dec):.1f}' )        \n",
    "    print(';')  "
   ]
  },
  {
   "cell_type": "code",
   "execution_count": 148,
   "metadata": {},
   "outputs": [
    {
     "data": {
      "text/plain": [
       "[[0.69894879, 0.66917815, 0.64455382, 0.64157045, 0.6693161],\n",
       " [0.68661952, 0.65999238, 0.66977225, 0.66770248, 0.64082801],\n",
       " [0.65326834, 0.66596865, 0.66063911, 0.66714054, 0.67052406],\n",
       " [0.66534817, 0.68663394, 0.64435065, 0.67341664, 0.64292444],\n",
       " [0.64881514, 0.66671926, 0.64538378, 0.68321421, 0.67001229],\n",
       " [0.61215163, 0.60861124, 0.61277816, 0.62503844, 0.59625242],\n",
       " [0.63416851, 0.5669035, 0.64603499, 0.64186476, 0.6047828],\n",
       " [0.56320922, 0.50172569, 0.61047218, 0.61714916, 0.57114781],\n",
       " [0.5076037, 0.62991247, 0.66050782, 0.48203576, 0.54646023],\n",
       " [0.69853438, 0.66600712, 0.61873359, 0.6511671, 0.67514131],\n",
       " [0.68860232, 0.66979977, 0.67813051, 0.68824923, 0.64316968],\n",
       " [0.64836651, 0.67141047, 0.67514854, 0.67722245, 0.6818043],\n",
       " [0.65841961, 0.70932084, 0.65596689, 0.68220009, 0.6438928],\n",
       " [0.62248348, 0.64806122, 0.61782145, 0.68018874, 0.60692135],\n",
       " [0.62942808, 0.63775913, 0.61335446, 0.65280248, 0.53151305],\n",
       " [0.62874117, 0.56948985, 0.65528644, 0.62935303, 0.60722353],\n",
       " [0.58052625, 0.50832717, 0.54818369, 0.57629755, 0.48975049],\n",
       " [0.5166982, 0.55702703, 0.41711002, 0.55460913, 0.60283284],\n",
       " [0.69780227, 0.66094921, 0.63717078, 0.66716593, 0.66554762],\n",
       " [0.66002495, 0.66981337, 0.6763285, 0.66817128, 0.64846854],\n",
       " [0.65190135, 0.6684228, 0.6696669, 0.67653119, 0.65509004],\n",
       " [0.65977689, 0.64524746, 0.650853, 0.66991456, 0.63831819],\n",
       " [0.59577173, 0.64310415, 0.61842123, 0.63371036, 0.64780947],\n",
       " [0.57238145, 0.56995077, 0.56994852, 0.61135704, 0.55427099],\n",
       " [0.57220202, 0.58431047, 0.52677029, 0.56039516, 0.54694518],\n",
       " [0.5597293, 0.52818637, 0.48593485, 0.51447492, 0.55758593],\n",
       " [0.51157914, 0.49296153, 0.50319627, 0.56613861, 0.52536896]]"
      ]
     },
     "execution_count": 148,
     "metadata": {},
     "output_type": "execute_result"
    }
   ],
   "source": [
    "indiv_concordances"
   ]
  },
  {
   "cell_type": "code",
   "execution_count": 149,
   "metadata": {},
   "outputs": [
    {
     "data": {
      "image/png": "[encoded data removed]",
      "text/plain": [
       "<Figure size 864x504 with 6 Axes>"
      ]
     },
     "metadata": {
      "needs_background": "light"
     },
     "output_type": "display_data"
    }
   ],
   "source": [
    "fig = plt.figure(1, figsize=(12, 7))\n",
    "\n",
    "dataset = 'support'\n",
    "duras = [f'results-{dataset}',f'results-{dataset}-20',f'results-{dataset}-40',f'results-{dataset}',f'results-{dataset}-20',f'results-{dataset}-40']\n",
    "# duras = ['shorter', 'short','longest','shorter', 'short','longest']\n",
    "lab = ['(a) 10','(b) 20','(c) 40']\n",
    "for idx in range(6):\n",
    "\n",
    "    dura = duras[idx]\n",
    "    files = get_filepath(dura)\n",
    "    indiv_rounds, avg_rounds, std_rounds, indiv_concordances, avg_concordances, std_concordances, indiv_briers, avg_briers, std_briers = extract_stats(files)\n",
    "\n",
    "    if idx < 3:\n",
    "        nums = indiv_concordances\n",
    "    else:\n",
    "        nums = indiv_briers\n",
    "\n",
    "    # Create an axes instance\n",
    "    ax = fig.add_subplot(2,3,1+idx)\n",
    "    for axis in ['top','bottom','left','right']:\n",
    "        ax.spines[axis].set_linewidth(2)\n",
    "    # Create the boxplot\n",
    "    # base= 1 \n",
    "    adj = 9\n",
    "    colors = ['goldenrod','royalblue','lightsteelblue']\n",
    "    bps = []\n",
    "    for i,base in enumerate([0,1,5]):\n",
    "        gap = 3.5\n",
    "        base_pos = [1.2, 2, 2.8]\n",
    "        positions = [base_pos[0] + gap*i, base_pos[1] + gap*i, base_pos[2] + gap*i]\n",
    "        bp = ax.boxplot([nums[i] for i in [base,base+adj,base+2*adj]], whis=999, patch_artist=True, positions = positions, widths = 0.6)\n",
    "        bps.append(bp)\n",
    "        for j, box in enumerate(bp['boxes']):\n",
    "            # change outline color\n",
    "            box.set( color=colors[j], linewidth=2)\n",
    "            # change fill color\n",
    "            box.set( facecolor = colors[j] )\n",
    "\n",
    "        for j, whisker in enumerate(bp['whiskers']):\n",
    "            whisker.set(color=colors[j//2], linewidth=2)\n",
    "        for j,cap in enumerate(bp['caps']):\n",
    "            cap.set(color=colors[j//2], linewidth=2)\n",
    "\n",
    "        for median in bp['medians']:\n",
    "            median.set(color='black', linewidth=2)\n",
    "\n",
    "        for flier in bp['fliers']:\n",
    "            flier.set(marker='D', color='black', alpha=0.5)\n",
    "    if idx < 3:\n",
    "        plt.xticks([base_pos[1], base_pos[1]+gap, base_pos[1]+2*gap],['Pooled', 'IID','Non-IID'])\n",
    "    else:\n",
    "        plt.xticks([base_pos[1], base_pos[1]+gap, base_pos[1]+2*gap],['Pooled', f'IID \\n \\n {lab[idx-3]}','Non-IID'])\n",
    "    plt.tick_params(axis='x',labelsize=16, width=2)\n",
    "    plt.tick_params(axis='y',labelsize=14,width=2)\n",
    "    ax.yaxis.set_major_formatter(FormatStrFormatter('%.2f'))\n",
    "    # ax.set_xticklabels(['A', 'B', 'C'])\n",
    "    # ax.set_xticks([2, 2+4, 2+2*4])\n",
    "    if idx < 3:\n",
    "        x1,x2,y1,y2 = ax.axis()  \n",
    "        bot = 0.5\n",
    "        top = 0.65\n",
    "        ax.axis((x1,x2,bot,top))\n",
    "    else:\n",
    "        x1,x2,y1,y2 = ax.axis()  \n",
    "        bot = 0.18\n",
    "        top = 0.32\n",
    "        step = 0.04\n",
    "        ax.axis((x1,x2,bot,top))    \n",
    "        ax.set_yticks(np.arange(bot,top,step))\n",
    "    \n",
    "    if idx == 0:\n",
    "        plt.ylabel(ylabel='C-index', fontsize=16)\n",
    "    # if idx == 2:\n",
    "        # ax.legend([bps[0][\"boxes\"][0], bps[0][\"boxes\"][1], bps[0][\"boxes\"][2]],['Linear CoxPH', 'NN CoxPH', 'NN LogHaz'], loc='lower left',fontsize=14)\n",
    "    if idx == 3:\n",
    "        ax.legend([bps[0][\"boxes\"][0], bps[0][\"boxes\"][1], bps[0][\"boxes\"][2]],['Linear CoxPH', 'NN CoxPH', 'NN LogHaz'], loc='upper left',fontsize=14)\n",
    "        plt.ylabel(ylabel='Integrated Brier score', fontsize=16)\n",
    "fig.savefig(f'../figs/duration_flex_{dataset}.png', bbox_inches='tight')\n",
    "\n"
   ]
  },
  {
   "cell_type": "code",
   "execution_count": 150,
   "metadata": {},
   "outputs": [
    {
     "ename": "FileNotFoundError",
     "evalue": "[Errno 2] No such file or directory: '../shorter/CoxPH/training_log_MCoxPHCcentralSNoneC1L1.txt'",
     "output_type": "error",
     "traceback": [
      "\u001b[0;31m---------------------------------------------------------------------------\u001b[0m",
      "\u001b[0;31mFileNotFoundError\u001b[0m                         Traceback (most recent call last)",
      "\u001b[0;32m<ipython-input-150-9868e970e7f9>\u001b[0m in \u001b[0;36m<module>\u001b[0;34m\u001b[0m\n\u001b[1;32m      7\u001b[0m     \u001b[0mdura\u001b[0m \u001b[0;34m=\u001b[0m \u001b[0mduras\u001b[0m\u001b[0;34m[\u001b[0m\u001b[0midx\u001b[0m\u001b[0;34m]\u001b[0m\u001b[0;34m\u001b[0m\u001b[0;34m\u001b[0m\u001b[0m\n\u001b[1;32m      8\u001b[0m     \u001b[0mfiles\u001b[0m \u001b[0;34m=\u001b[0m \u001b[0mget_filepath\u001b[0m\u001b[0;34m(\u001b[0m\u001b[0mdura\u001b[0m\u001b[0;34m)\u001b[0m\u001b[0;34m\u001b[0m\u001b[0;34m\u001b[0m\u001b[0m\n\u001b[0;32m----> 9\u001b[0;31m     \u001b[0mindiv_rounds\u001b[0m\u001b[0;34m,\u001b[0m \u001b[0mavg_rounds\u001b[0m\u001b[0;34m,\u001b[0m \u001b[0mstd_rounds\u001b[0m\u001b[0;34m,\u001b[0m \u001b[0mindiv_concordances\u001b[0m\u001b[0;34m,\u001b[0m \u001b[0mavg_concordances\u001b[0m\u001b[0;34m,\u001b[0m \u001b[0mstd_concordances\u001b[0m\u001b[0;34m,\u001b[0m \u001b[0mindiv_briers\u001b[0m\u001b[0;34m,\u001b[0m \u001b[0mavg_briers\u001b[0m\u001b[0;34m,\u001b[0m \u001b[0mstd_briers\u001b[0m \u001b[0;34m=\u001b[0m \u001b[0mextract_stats\u001b[0m\u001b[0;34m(\u001b[0m\u001b[0mfiles\u001b[0m\u001b[0;34m)\u001b[0m\u001b[0;34m\u001b[0m\u001b[0;34m\u001b[0m\u001b[0m\n\u001b[0m\u001b[1;32m     10\u001b[0m \u001b[0;34m\u001b[0m\u001b[0m\n\u001b[1;32m     11\u001b[0m     \u001b[0;32mif\u001b[0m \u001b[0midx\u001b[0m \u001b[0;34m<\u001b[0m \u001b[0;36m3\u001b[0m\u001b[0;34m:\u001b[0m\u001b[0;34m\u001b[0m\u001b[0;34m\u001b[0m\u001b[0m\n",
      "\u001b[0;32m~/Work/PhD/FL-sim/utilities/result_utilities.py\u001b[0m in \u001b[0;36mextract_stats\u001b[0;34m(files)\u001b[0m\n\u001b[1;32m     69\u001b[0m     \u001b[0mstd_briers\u001b[0m \u001b[0;34m=\u001b[0m \u001b[0;34m[\u001b[0m\u001b[0;34m]\u001b[0m\u001b[0;34m\u001b[0m\u001b[0;34m\u001b[0m\u001b[0m\n\u001b[1;32m     70\u001b[0m     \u001b[0;32mfor\u001b[0m \u001b[0mfile\u001b[0m \u001b[0;32min\u001b[0m \u001b[0mfiles\u001b[0m\u001b[0;34m:\u001b[0m\u001b[0;34m\u001b[0m\u001b[0;34m\u001b[0m\u001b[0m\n\u001b[0;32m---> 71\u001b[0;31m         \u001b[0;32mwith\u001b[0m \u001b[0mopen\u001b[0m\u001b[0;34m(\u001b[0m\u001b[0mfile\u001b[0m\u001b[0;34m,\u001b[0m \u001b[0;34m'r'\u001b[0m\u001b[0;34m)\u001b[0m \u001b[0;32mas\u001b[0m \u001b[0mf\u001b[0m\u001b[0;34m:\u001b[0m\u001b[0;34m\u001b[0m\u001b[0;34m\u001b[0m\u001b[0m\n\u001b[0m\u001b[1;32m     72\u001b[0m             \u001b[0;31m# print(file)\u001b[0m\u001b[0;34m\u001b[0m\u001b[0;34m\u001b[0m\u001b[0;34m\u001b[0m\u001b[0m\n\u001b[1;32m     73\u001b[0m             \u001b[0mlines\u001b[0m \u001b[0;34m=\u001b[0m \u001b[0mf\u001b[0m\u001b[0;34m.\u001b[0m\u001b[0mread\u001b[0m\u001b[0;34m(\u001b[0m\u001b[0;34m)\u001b[0m\u001b[0;34m.\u001b[0m\u001b[0msplitlines\u001b[0m\u001b[0;34m(\u001b[0m\u001b[0;34m)\u001b[0m\u001b[0;34m\u001b[0m\u001b[0;34m\u001b[0m\u001b[0m\n",
      "\u001b[0;31mFileNotFoundError\u001b[0m: [Errno 2] No such file or directory: '../shorter/CoxPH/training_log_MCoxPHCcentralSNoneC1L1.txt'"
     ]
    },
    {
     "data": {
      "text/plain": [
       "<Figure size 864x504 with 0 Axes>"
      ]
     },
     "metadata": {},
     "output_type": "display_data"
    }
   ],
   "source": [
    "fig = plt.figure(1, figsize=(12, 7))\n",
    "\n",
    "duras = ['shorter', 'short','longest','shorter', 'short','longest']\n",
    "lab = ['(a)','(b)','(c)']\n",
    "for idx in range(6):\n",
    "\n",
    "    dura = duras[idx]\n",
    "    files = get_filepath(dura)\n",
    "    indiv_rounds, avg_rounds, std_rounds, indiv_concordances, avg_concordances, std_concordances, indiv_briers, avg_briers, std_briers = extract_stats(files)\n",
    "\n",
    "    if idx < 3:\n",
    "        nums = indiv_concordances\n",
    "    else:\n",
    "        nums = indiv_briers\n",
    "\n",
    "    # Create an axes instance\n",
    "    ax = fig.add_subplot(2,3,1+idx)\n",
    "    for axis in ['top','bottom','left','right']:\n",
    "        ax.spines[axis].set_linewidth(2)\n",
    "    # Create the boxplot\n",
    "    # base= 1 \n",
    "    adj = 9\n",
    "    colors = ['goldenrod','royalblue','lightsteelblue']\n",
    "    bps = []\n",
    "    for i,base in enumerate([0,1,5]):\n",
    "        gap = 3.5\n",
    "        base_pos = [1.2, 2, 2.8]\n",
    "        positions = [base_pos[0] + gap*i, base_pos[1] + gap*i, base_pos[2] + gap*i]\n",
    "        bp = ax.boxplot([nums[i] for i in [base,base+adj,base+2*adj]], whis=999, patch_artist=True, positions = positions, widths = 0.6)\n",
    "        bps.append(bp)\n",
    "        for j, box in enumerate(bp['boxes']):\n",
    "            # change outline color\n",
    "            box.set( color=colors[j], linewidth=2)\n",
    "            # change fill color\n",
    "            box.set( facecolor = colors[j] )\n",
    "\n",
    "        for j, whisker in enumerate(bp['whiskers']):\n",
    "            whisker.set(color=colors[j//2], linewidth=2)\n",
    "        for j,cap in enumerate(bp['caps']):\n",
    "            cap.set(color=colors[j//2], linewidth=2)\n",
    "\n",
    "        for median in bp['medians']:\n",
    "            median.set(color='black', linewidth=2)\n",
    "\n",
    "        for flier in bp['fliers']:\n",
    "            flier.set(marker='D', color='black', alpha=0.5)\n",
    "    if idx < 3:\n",
    "        plt.xticks([base_pos[1], base_pos[1]+gap, base_pos[1]+2*gap],['Pooled', 'IID','Non-IID'])\n",
    "    else:\n",
    "        plt.xticks([base_pos[1], base_pos[1]+gap, base_pos[1]+2*gap],['Pooled', f'IID \\n \\n {lab[idx-3]}','Non-IID'])\n",
    "    plt.tick_params(axis='x',labelsize=16, width=2)\n",
    "    plt.tick_params(axis='y',labelsize=14,width=2)\n",
    "    ax.yaxis.set_major_formatter(FormatStrFormatter('%.2f'))\n",
    "    # ax.set_xticklabels(['A', 'B', 'C'])\n",
    "    # ax.set_xticks([2, 2+4, 2+2*4])\n",
    "    if idx < 3:\n",
    "        x1,x2,y1,y2 = ax.axis()  \n",
    "        ax.axis((x1,x2,0.55,0.76))\n",
    "    else:\n",
    "        x1,x2,y1,y2 = ax.axis()  \n",
    "        ax.axis((x1,x2,0.15,0.27))    \n",
    "        ax.set_yticks(np.arange(0.15,0.27,0.04))\n",
    "    \n",
    "    if idx == 0:\n",
    "        plt.ylabel(ylabel='C-index', fontsize=16)\n",
    "    if idx == 2:\n",
    "        ax.legend([bps[0][\"boxes\"][0], bps[0][\"boxes\"][1], bps[0][\"boxes\"][2]],['Linear PH', 'NN PH', 'NN nonPH'], loc='lower left',fontsize=14)\n",
    "    if idx == 3:\n",
    "        ax.legend([bps[0][\"boxes\"][0], bps[0][\"boxes\"][1], bps[0][\"boxes\"][2]],['Linear PH', 'NN PH', 'NN nonPH'], loc='upper left',fontsize=14)\n",
    "        plt.ylabel(ylabel='Integrated Brier score', fontsize=16)\n",
    "fig.savefig('../figs/duration_flex.eps', bbox_inches='tight')\n",
    "\n"
   ]
  }
 ],
 "metadata": {
  "interpreter": {
   "hash": "12717b66a107e17dccf0f5f43a851181ab5f1b7a59e0e1e92c5a01b78b409eac"
  },
  "kernelspec": {
   "display_name": "Python 3.8.7 64-bit ('flenv': venv)",
   "name": "python3"
  },
  "language_info": {
   "codemirror_mode": {
    "name": "ipython",
    "version": 3
   },
   "file_extension": ".py",
   "mimetype": "text/x-python",
   "name": "python",
   "nbconvert_exporter": "python",
   "pygments_lexer": "ipython3",
   "version": "3.8.7"
  },
  "orig_nbformat": 4
 },
 "nbformat": 4,
 "nbformat_minor": 2
}
